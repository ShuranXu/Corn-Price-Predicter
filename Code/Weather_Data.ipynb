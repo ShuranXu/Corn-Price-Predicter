{
 "cells": [
  {
   "cell_type": "markdown",
   "metadata": {},
   "source": [
    "# Accessing NOAA's National Centers for Environmental Information (NCEI) Climate Data Online\n",
    "\n",
    "Climate Data Online provides developers access to historical climate and weather data. The API is broken into seven distinct endpoints branching off the main url `https://www.ncdc.noaa.gov/cdo-web/webservices/v2`. The following workbook will access the four below:\n",
    "\n",
    "### Datasets\n",
    "All of the CDO data are in datasets. The containing dataset must be known before attempting to access its data. Documentation on each of the datasets can be found on the following webpage: https://www.ncdc.noaa.gov/cdo-web/datasets\n",
    "\n",
    "endpoint: `datasets`\n",
    "\n",
    "### Locations\n",
    "Locations can be a specific latitude/longitude point such as a station, or a label representing a bounding area such as a city.\n",
    "endpoint: `locations`\n",
    "\n",
    "### Stations\n",
    "Stations are where the data comes from (for most datasets) and can be considered the smallest granual of location data. If the desired station is known, all of its data can quickly be viewed\n",
    "endpoint: `stations`\n",
    "\n",
    "### Data\n",
    "The data endpoint is used for actually fetching the data.\n",
    "endpoint: `data`\n",
    "-----"
   ]
  },
  {
   "cell_type": "markdown",
   "metadata": {},
   "source": [
    "**Notes**\n",
    "\n",
    "* Documentation for NOAA [Link](https://www.ncdc.noaa.gov/cdo-web/webservices/v2)\n",
    "* Corn-Producing States [Link](https://beef2live.com/story-states-produce-corn-0-107129)\n",
    "* Daily Summaries Documentation [Link](https://www1.ncdc.noaa.gov/pub/data/cdo/documentation/GHCND_documentation.pdf)\n",
    "\n",
    "\n",
    "**Date range: January 1, 2000 to December 31, 2019** "
   ]
  },
  {
   "cell_type": "code",
   "execution_count": 112,
   "metadata": {},
   "outputs": [],
   "source": [
    "from __future__ import print_function\n",
    "from ipywidgets import interact, interactive, fixed, interact_manual\n",
    "import ipywidgets as widgets\n",
    "import requests\n",
    "import pandas as pd\n",
    "import time\n",
    "import calendar\n",
    "from datetime import datetime, timedelta\n",
    "from dotenv import load_dotenv\n",
    "import os"
   ]
  },
  {
   "cell_type": "code",
   "execution_count": 22,
   "metadata": {},
   "outputs": [],
   "source": [
    "load_dotenv('keys.env')\n",
    "token = os.getenv(\"token\")"
   ]
  },
  {
   "cell_type": "markdown",
   "metadata": {},
   "source": [
    "-------\n",
    "\n",
    "The NOAA website has over 38,000 weather stations across the United States with varying levels of availability of data. As such, it is difficult to identify singular weather stations to extract. Moreover, due to the set up of the API, the data extraction needed to be done in three steps: \n",
    "\n",
    "1. Identification of the states of interest and their associated FIPS codes\n",
    "2. Identification of individual weather stations with daily weather data\n",
    "3. Extraction of weather data\n",
    "\n",
    "## Step 1: Pulling a Listing of States and Associated FIPS Codes\n",
    "\n",
    "Each State and County in the United States will have an associated Federal Information Processing System (FIPS) Code. FIPS codes will be either two to five characters in length and are used to uniquely identify geographic areas. \n",
    "\n",
    "There are over 3000 counties and county-equivalents (e.g. independent cities, parishes, boroughs) in the United States.\n",
    "\n",
    "Resource: [https://transition.fcc.gov/](https://transition.fcc.gov/oet/info/maps/census/fips/fips.txt#:~:text=FIPS%20codes%20are%20numbers%20which,to%20which%20the%20county%20belongs)\n",
    "\n",
    "\n",
    "\n",
    "\n",
    "\n"
   ]
  },
  {
   "cell_type": "code",
   "execution_count": 3,
   "metadata": {},
   "outputs": [
    {
     "data": {
      "text/plain": [
       "<Response [200]>"
      ]
     },
     "execution_count": 3,
     "metadata": {},
     "output_type": "execute_result"
    }
   ],
   "source": [
    "# Specifies state-level data in the query\n",
    "locationtype = 'locationcategoryid=ST'\n",
    "\n",
    "# API defaults to returning 24 results. To retrieve all states, limit increased to 52\n",
    "limit = '&limit=52'\n",
    "\n",
    "# Send token to website and request listing of state and FIPS Codes\n",
    "url = f'https://www.ncdc.noaa.gov/cdo-web/api/v2/locations?{locationtype}{limit}'\n",
    "headers = { 'token': token}\n",
    "response = requests.get(url,headers=headers)\n",
    "\n",
    "# Response 200 means request returned succesfully\n",
    "response"
   ]
  },
  {
   "cell_type": "code",
   "execution_count": 4,
   "metadata": {},
   "outputs": [
    {
     "data": {
      "text/html": [
       "<div>\n",
       "<style scoped>\n",
       "    .dataframe tbody tr th:only-of-type {\n",
       "        vertical-align: middle;\n",
       "    }\n",
       "\n",
       "    .dataframe tbody tr th {\n",
       "        vertical-align: top;\n",
       "    }\n",
       "\n",
       "    .dataframe thead th {\n",
       "        text-align: right;\n",
       "    }\n",
       "</style>\n",
       "<table border=\"1\" class=\"dataframe\">\n",
       "  <thead>\n",
       "    <tr style=\"text-align: right;\">\n",
       "      <th></th>\n",
       "      <th>mindate</th>\n",
       "      <th>maxdate</th>\n",
       "      <th>name</th>\n",
       "      <th>datacoverage</th>\n",
       "      <th>id</th>\n",
       "    </tr>\n",
       "  </thead>\n",
       "  <tbody>\n",
       "    <tr>\n",
       "      <th>0</th>\n",
       "      <td>1888-02-01</td>\n",
       "      <td>2020-11-20</td>\n",
       "      <td>Alabama</td>\n",
       "      <td>1</td>\n",
       "      <td>FIPS:01</td>\n",
       "    </tr>\n",
       "    <tr>\n",
       "      <th>1</th>\n",
       "      <td>1893-09-01</td>\n",
       "      <td>2020-11-20</td>\n",
       "      <td>Alaska</td>\n",
       "      <td>1</td>\n",
       "      <td>FIPS:02</td>\n",
       "    </tr>\n",
       "    <tr>\n",
       "      <th>2</th>\n",
       "      <td>1867-08-01</td>\n",
       "      <td>2020-11-20</td>\n",
       "      <td>Arizona</td>\n",
       "      <td>1</td>\n",
       "      <td>FIPS:04</td>\n",
       "    </tr>\n",
       "    <tr>\n",
       "      <th>3</th>\n",
       "      <td>1871-07-01</td>\n",
       "      <td>2020-11-20</td>\n",
       "      <td>Arkansas</td>\n",
       "      <td>1</td>\n",
       "      <td>FIPS:05</td>\n",
       "    </tr>\n",
       "    <tr>\n",
       "      <th>4</th>\n",
       "      <td>1850-10-01</td>\n",
       "      <td>2020-11-20</td>\n",
       "      <td>California</td>\n",
       "      <td>1</td>\n",
       "      <td>FIPS:06</td>\n",
       "    </tr>\n",
       "  </tbody>\n",
       "</table>\n",
       "</div>"
      ],
      "text/plain": [
       "      mindate     maxdate        name  datacoverage       id\n",
       "0  1888-02-01  2020-11-20     Alabama             1  FIPS:01\n",
       "1  1893-09-01  2020-11-20      Alaska             1  FIPS:02\n",
       "2  1867-08-01  2020-11-20     Arizona             1  FIPS:04\n",
       "3  1871-07-01  2020-11-20    Arkansas             1  FIPS:05\n",
       "4  1850-10-01  2020-11-20  California             1  FIPS:06"
      ]
     },
     "execution_count": 4,
     "metadata": {},
     "output_type": "execute_result"
    }
   ],
   "source": [
    "# Transform response into dataframe\n",
    "results = response.json()\n",
    "state_list = pd.DataFrame.from_dict(results['results'], orient='columns')\n",
    "state_list.head()"
   ]
  },
  {
   "cell_type": "code",
   "execution_count": 5,
   "metadata": {},
   "outputs": [],
   "source": [
    "# export listing of states and FIPS to csv\n",
    "state_list.to_csv('Resources/State_List.csv')"
   ]
  },
  {
   "cell_type": "code",
   "execution_count": 6,
   "metadata": {},
   "outputs": [],
   "source": [
    "def get_stateFIPS(state):\n",
    "    '''\n",
    "    Returns FIPS code from csv file\n",
    "    '''\n",
    "    df = pd.read_csv('Resources/State_List.csv')\n",
    "    return df[df['name'] == state]['id'].iloc[0]"
   ]
  },
  {
   "cell_type": "markdown",
   "metadata": {},
   "source": [
    "------\n",
    "## Step 2: Identifying Individual Weather Stations with Daily Weather Data\n",
    "\n",
    "With the returned FIPS codes, we can now pull ID codes for individual weather stations in each state.\n",
    "\n",
    "Approximately 54% of corn crops in the United States are grown in five states: Illinois, Indiana, Nebraska, Ohio, and Iowa. To get an even sampling of weather data across these states, we will pull the first 10 weather stations retrieved in each state.\n",
    "\n",
    "[Documentation on weather codes for GHCND Datasets](https://www1.ncdc.noaa.gov/pub/data/cdo/documentation/GHCND_documentation.pdf)\n",
    "\n",
    "[Corn State Rankings](https://beef2live.com/story-states-produce-corn-0-107129)"
   ]
  },
  {
   "cell_type": "code",
   "execution_count": 16,
   "metadata": {},
   "outputs": [],
   "source": [
    "corn_states = ['Illinois', 'Indiana', 'Nebraska','Ohio','Iowa']"
   ]
  },
  {
   "cell_type": "code",
   "execution_count": 22,
   "metadata": {},
   "outputs": [
    {
     "name": "stdout",
     "output_type": "stream",
     "text": [
      "Wrote: Illinois\n",
      "Wrote: Indiana\n",
      "Wrote: Nebraska\n",
      "Wrote: Ohio\n",
      "Wrote: Iowa\n",
      "complete\n"
     ]
    }
   ],
   "source": [
    "for state in corn_states:\n",
    "    # Query to retrieve information on max temperature (TMAX), min temperature (TMIN), and Precipitation (PRCP)\n",
    "    datatype = '&datatypeid=TMAX&datatypeid=TMIN&datatypeid=PRCP'\n",
    "    state_name = state\n",
    "    FIPS = get_stateFIPS(state)\n",
    "    limit = '&limit=10' # limit retrieval to first 10 weather stations\n",
    "    location = f'&locationid={FIPS}'\n",
    "    \n",
    "    # Datefield in the query specifies the station needs to have 20 years of data in this range\n",
    "    # Note: this datefield filter isn't great and you'll frequently see weather stations outside of this range\n",
    "    datefield = f'&startdate=2000-01-01&enddate=2020-01-01'\n",
    "    \n",
    "    # Send token to website and request listing of weather stations\n",
    "    url = f'https://www.ncdc.noaa.gov/cdo-web/api/v2/stations?datasetid=GHCND&{location}{datatype}{datefield}{limit}'\n",
    "    headers = { 'token': token}\n",
    "    response = requests.get(url,headers=headers)\n",
    "    \n",
    "    # transforming the data into a dataframe\n",
    "    data = response.json()['results']\n",
    "    df = pd.DataFrame.from_dict(data, orient='columns')\n",
    "    df['State'] = state_name\n",
    "    df['Location_ID'] = FIPS\n",
    "    df = df.rename(columns={'id':'Station_ID','name':'City_Name'})\n",
    "    \n",
    "    # Appending weather stations for all 5 states to one csv\n",
    "    with open(f'Resources/station_dataset.csv', 'a') as f:\n",
    "        df.to_csv(f, header=False,index=False)\n",
    "        \n",
    "    #API allows 5 requests per second\n",
    "    time.sleep(1)\n",
    "    \n",
    "    print('Wrote:',state_name)\n",
    "print('complete')"
   ]
  },
  {
   "cell_type": "code",
   "execution_count": 100,
   "metadata": {},
   "outputs": [
    {
     "data": {
      "text/html": [
       "<div>\n",
       "<style scoped>\n",
       "    .dataframe tbody tr th:only-of-type {\n",
       "        vertical-align: middle;\n",
       "    }\n",
       "\n",
       "    .dataframe tbody tr th {\n",
       "        vertical-align: top;\n",
       "    }\n",
       "\n",
       "    .dataframe thead th {\n",
       "        text-align: right;\n",
       "    }\n",
       "</style>\n",
       "<table border=\"1\" class=\"dataframe\">\n",
       "  <thead>\n",
       "    <tr style=\"text-align: right;\">\n",
       "      <th></th>\n",
       "      <th>elevation</th>\n",
       "      <th>mindate</th>\n",
       "      <th>maxdate</th>\n",
       "      <th>latitude</th>\n",
       "      <th>name</th>\n",
       "      <th>datacoverage</th>\n",
       "      <th>id</th>\n",
       "      <th>elevationUnit</th>\n",
       "      <th>longitude</th>\n",
       "      <th>State</th>\n",
       "      <th>Location_ID</th>\n",
       "    </tr>\n",
       "  </thead>\n",
       "  <tbody>\n",
       "    <tr>\n",
       "      <th>0</th>\n",
       "      <td>161.5</td>\n",
       "      <td>1893-12-01</td>\n",
       "      <td>2006-04-30</td>\n",
       "      <td>38.37770</td>\n",
       "      <td>ALBION, IL US</td>\n",
       "      <td>0.7538</td>\n",
       "      <td>GHCND:USC00110055</td>\n",
       "      <td>METERS</td>\n",
       "      <td>-88.05690</td>\n",
       "      <td>Illinois</td>\n",
       "      <td>FIPS:17</td>\n",
       "    </tr>\n",
       "    <tr>\n",
       "      <th>1</th>\n",
       "      <td>222.5</td>\n",
       "      <td>1901-01-01</td>\n",
       "      <td>2020-11-20</td>\n",
       "      <td>41.19770</td>\n",
       "      <td>ALEDO, IL US</td>\n",
       "      <td>0.9923</td>\n",
       "      <td>GHCND:USC00110072</td>\n",
       "      <td>METERS</td>\n",
       "      <td>-90.74470</td>\n",
       "      <td>Illinois</td>\n",
       "      <td>FIPS:17</td>\n",
       "    </tr>\n",
       "    <tr>\n",
       "      <th>2</th>\n",
       "      <td>123.4</td>\n",
       "      <td>1892-12-02</td>\n",
       "      <td>2020-11-20</td>\n",
       "      <td>38.86702</td>\n",
       "      <td>ALTON MELVIN PRICE LOCK AND DAM, IL US</td>\n",
       "      <td>0.5784</td>\n",
       "      <td>GHCND:USC00110137</td>\n",
       "      <td>METERS</td>\n",
       "      <td>-90.14886</td>\n",
       "      <td>Illinois</td>\n",
       "      <td>FIPS:17</td>\n",
       "    </tr>\n",
       "    <tr>\n",
       "      <th>3</th>\n",
       "      <td>233.2</td>\n",
       "      <td>2005-02-01</td>\n",
       "      <td>2020-11-20</td>\n",
       "      <td>41.12040</td>\n",
       "      <td>ALTONA, IL US</td>\n",
       "      <td>0.8515</td>\n",
       "      <td>GHCND:USC00110140</td>\n",
       "      <td>METERS</td>\n",
       "      <td>-90.16410</td>\n",
       "      <td>Illinois</td>\n",
       "      <td>FIPS:17</td>\n",
       "    </tr>\n",
       "    <tr>\n",
       "      <th>4</th>\n",
       "      <td>195.1</td>\n",
       "      <td>1895-05-05</td>\n",
       "      <td>2013-11-30</td>\n",
       "      <td>37.48130</td>\n",
       "      <td>ANNA 2 NNE, IL US</td>\n",
       "      <td>0.9854</td>\n",
       "      <td>GHCND:USC00110187</td>\n",
       "      <td>METERS</td>\n",
       "      <td>-89.23440</td>\n",
       "      <td>Illinois</td>\n",
       "      <td>FIPS:17</td>\n",
       "    </tr>\n",
       "  </tbody>\n",
       "</table>\n",
       "</div>"
      ],
      "text/plain": [
       "   elevation     mindate     maxdate  latitude  \\\n",
       "0      161.5  1893-12-01  2006-04-30  38.37770   \n",
       "1      222.5  1901-01-01  2020-11-20  41.19770   \n",
       "2      123.4  1892-12-02  2020-11-20  38.86702   \n",
       "3      233.2  2005-02-01  2020-11-20  41.12040   \n",
       "4      195.1  1895-05-05  2013-11-30  37.48130   \n",
       "\n",
       "                                     name  datacoverage                 id  \\\n",
       "0                           ALBION, IL US        0.7538  GHCND:USC00110055   \n",
       "1                            ALEDO, IL US        0.9923  GHCND:USC00110072   \n",
       "2  ALTON MELVIN PRICE LOCK AND DAM, IL US        0.5784  GHCND:USC00110137   \n",
       "3                           ALTONA, IL US        0.8515  GHCND:USC00110140   \n",
       "4                       ANNA 2 NNE, IL US        0.9854  GHCND:USC00110187   \n",
       "\n",
       "  elevationUnit  longitude     State Location_ID  \n",
       "0        METERS  -88.05690  Illinois     FIPS:17  \n",
       "1        METERS  -90.74470  Illinois     FIPS:17  \n",
       "2        METERS  -90.14886  Illinois     FIPS:17  \n",
       "3        METERS  -90.16410  Illinois     FIPS:17  \n",
       "4        METERS  -89.23440  Illinois     FIPS:17  "
      ]
     },
     "execution_count": 100,
     "metadata": {},
     "output_type": "execute_result"
    }
   ],
   "source": [
    "# Retrieving weather station list for further use\n",
    "state_df = pd.read_csv('Resources/station_dataset.csv',\n",
    "                       parse_dates=True,\n",
    "                       infer_datetime_format=True,\n",
    "                       names=['elevation','mindate','maxdate',\n",
    "                              'latitude','name','datacoverage',\n",
    "                              'id','elevationUnit','longitude',\n",
    "                              'State','Location_ID'])\n",
    "state_df.head()"
   ]
  },
  {
   "cell_type": "markdown",
   "metadata": {},
   "source": [
    "## Location and Coverage of Selected Weather Stations\n",
    "The graph below shows the location and relative data coverage of the selected weather stations in Illinois, Indiana, Nebraska, Ohio, and Iowa."
   ]
  },
  {
   "cell_type": "code",
   "execution_count": 108,
   "metadata": {},
   "outputs": [
    {
     "data": {
      "application/vnd.plotly.v1+json": {
       "config": {
        "plotlyServerURL": "https://plot.ly"
       },
       "data": [
        {
         "hovertemplate": "State=Illinois<br>datacoverage=%{marker.size}<br>latitude=%{lat}<br>longitude=%{lon}<extra></extra>",
         "lat": [
          38.3777,
          41.1977,
          38.867020000000004,
          41.1204,
          37.4813,
          42.4811,
          39.9275,
          41.78038,
          40.6632,
          42.1153
         ],
         "legendgroup": "Illinois",
         "lon": [
          -88.0569,
          -90.7447,
          -90.14886,
          -90.1641,
          -89.2344,
          -88.0994,
          -89.7964,
          -88.30925,
          -90.4447,
          -88.1639
         ],
         "marker": {
          "color": "#636efa",
          "size": [
           0.7538,
           0.9923,
           0.5784,
           0.8515,
           0.9854,
           0.7922,
           0.821,
           0.9693,
           0.9502,
           0.9153
          ],
          "sizemode": "area",
          "sizeref": 0.004441777777777778
         },
         "mode": "markers",
         "name": "Illinois",
         "showlegend": true,
         "subplot": "mapbox",
         "type": "scattermapbox"
        },
        {
         "hovertemplate": "State=Indiana<br>datacoverage=%{marker.size}<br>latitude=%{lat}<br>longitude=%{lon}<extra></extra>",
         "lat": [
          40.1117,
          41.6639,
          40.2838,
          38.8396,
          40.6683,
          39.1742,
          40.8143,
          38.0302,
          40.535,
          39.5108
         ],
         "legendgroup": "Indiana",
         "lon": [
          -85.7163,
          -85.0183,
          -87.1963,
          -86.5216,
          -84.93,
          -86.5214,
          -85.1546,
          -87.2736,
          -87.4531,
          -87.1241
         ],
         "marker": {
          "color": "#EF553B",
          "size": [
           0.9836,
           0.8583,
           0.9915,
           0.9574,
           0.9829,
           0.9728,
           0.9737,
           0.4987,
           0.9871,
           0.3455
          ],
          "sizemode": "area",
          "sizeref": 0.004441777777777778
         },
         "mode": "markers",
         "name": "Indiana",
         "showlegend": true,
         "subplot": "mapbox",
         "type": "scattermapbox"
        },
        {
         "hovertemplate": "State=Nebraska<br>datacoverage=%{marker.size}<br>latitude=%{lat}<br>longitude=%{lon}<extra></extra>",
         "lat": [
          42.4244,
          42.508,
          42.5522,
          41.6854,
          42.1103,
          42.10472,
          42.153890000000004,
          41.9338,
          41.61079,
          41.432159999999996
         ],
         "legendgroup": "Nebraska",
         "lon": [
          -103.7347,
          -103.8108,
          -99.8555,
          -98.0083,
          -102.8967,
          -102.88667,
          -103.20833,
          -103.0186,
          -99.90442,
          -100.27193
         ],
         "marker": {
          "color": "#00cc96",
          "size": [
           0.6496,
           0.11599999999999999,
           0.9748,
           0.9018,
           0.9041,
           0.7273,
           0.7462,
           0.9732,
           0.9568,
           0.878
          ],
          "sizemode": "area",
          "sizeref": 0.004441777777777778
         },
         "mode": "markers",
         "name": "Nebraska",
         "showlegend": true,
         "subplot": "mapbox",
         "type": "scattermapbox"
        },
        {
         "hovertemplate": "State=Ohio<br>datacoverage=%{marker.size}<br>latitude=%{lat}<br>longitude=%{lon}<extra></extra>",
         "lat": [
          39.3224,
          39.9916,
          40.3535,
          39.547470000000004,
          41.3831,
          41.4619,
          40.8126,
          40.268609999999995,
          39.7161,
          40.0111
         ],
         "legendgroup": "Ohio",
         "lon": [
          -82.0995,
          -81.185,
          -83.7754,
          -81.62835,
          -83.6111,
          -84.5272,
          -82.9698,
          -80.99806,
          -81.4642,
          -81.5794
         ],
         "marker": {
          "color": "#ab63fa",
          "size": [
           0.9574,
           0.9355,
           0.9685,
           0.4749,
           0.9906,
           0.9929,
           0.9791,
           0.9023,
           0.871,
           0.8219
          ],
          "sizemode": "area",
          "sizeref": 0.004441777777777778
         },
         "mode": "markers",
         "name": "Ohio",
         "showlegend": true,
         "subplot": "mapbox",
         "type": "scattermapbox"
        },
        {
         "hovertemplate": "State=Iowa<br>datacoverage=%{marker.size}<br>latitude=%{lat}<br>longitude=%{lon}<extra></extra>",
         "lat": [
          40.8821,
          41.518,
          41.0655,
          43.06626,
          40.703920000000004,
          42.7536,
          42.0208,
          41.9519,
          42.1117,
          42.0773
         ],
         "legendgroup": "Iowa",
         "lon": [
          -91.0234,
          -90.5647,
          -92.7866,
          -94.22216,
          -93.37026999999999,
          -92.8022,
          -93.7741,
          -93.5655,
          -91.2933,
          -91.3027
         ],
         "marker": {
          "color": "#FFA15A",
          "size": [
           0.9639,
           0.3063,
           0.9556,
           0.98,
           0.3352,
           0.9733,
           0.9978,
           0.9957,
           0.9723,
           0.9994
          ],
          "sizemode": "area",
          "sizeref": 0.004441777777777778
         },
         "mode": "markers",
         "name": "Iowa",
         "showlegend": true,
         "subplot": "mapbox",
         "type": "scattermapbox"
        }
       ],
       "layout": {
        "autosize": true,
        "legend": {
         "itemsizing": "constant",
         "title": {
          "text": "State"
         },
         "tracegroupgap": 0
        },
        "mapbox": {
         "bearing": 0,
         "center": {
          "lat": 39.22631861419046,
          "lon": -93.57026234717614
         },
         "domain": {
          "x": [
           0,
           1
          ],
          "y": [
           0,
           1
          ]
         },
         "pitch": 0,
         "style": "carto-positron",
         "zoom": 3.827732804676447
        },
        "template": {
         "data": {
          "bar": [
           {
            "error_x": {
             "color": "#2a3f5f"
            },
            "error_y": {
             "color": "#2a3f5f"
            },
            "marker": {
             "line": {
              "color": "#E5ECF6",
              "width": 0.5
             }
            },
            "type": "bar"
           }
          ],
          "barpolar": [
           {
            "marker": {
             "line": {
              "color": "#E5ECF6",
              "width": 0.5
             }
            },
            "type": "barpolar"
           }
          ],
          "carpet": [
           {
            "aaxis": {
             "endlinecolor": "#2a3f5f",
             "gridcolor": "white",
             "linecolor": "white",
             "minorgridcolor": "white",
             "startlinecolor": "#2a3f5f"
            },
            "baxis": {
             "endlinecolor": "#2a3f5f",
             "gridcolor": "white",
             "linecolor": "white",
             "minorgridcolor": "white",
             "startlinecolor": "#2a3f5f"
            },
            "type": "carpet"
           }
          ],
          "choropleth": [
           {
            "colorbar": {
             "outlinewidth": 0,
             "ticks": ""
            },
            "type": "choropleth"
           }
          ],
          "contour": [
           {
            "colorbar": {
             "outlinewidth": 0,
             "ticks": ""
            },
            "colorscale": [
             [
              0,
              "#0d0887"
             ],
             [
              0.1111111111111111,
              "#46039f"
             ],
             [
              0.2222222222222222,
              "#7201a8"
             ],
             [
              0.3333333333333333,
              "#9c179e"
             ],
             [
              0.4444444444444444,
              "#bd3786"
             ],
             [
              0.5555555555555556,
              "#d8576b"
             ],
             [
              0.6666666666666666,
              "#ed7953"
             ],
             [
              0.7777777777777778,
              "#fb9f3a"
             ],
             [
              0.8888888888888888,
              "#fdca26"
             ],
             [
              1,
              "#f0f921"
             ]
            ],
            "type": "contour"
           }
          ],
          "contourcarpet": [
           {
            "colorbar": {
             "outlinewidth": 0,
             "ticks": ""
            },
            "type": "contourcarpet"
           }
          ],
          "heatmap": [
           {
            "colorbar": {
             "outlinewidth": 0,
             "ticks": ""
            },
            "colorscale": [
             [
              0,
              "#0d0887"
             ],
             [
              0.1111111111111111,
              "#46039f"
             ],
             [
              0.2222222222222222,
              "#7201a8"
             ],
             [
              0.3333333333333333,
              "#9c179e"
             ],
             [
              0.4444444444444444,
              "#bd3786"
             ],
             [
              0.5555555555555556,
              "#d8576b"
             ],
             [
              0.6666666666666666,
              "#ed7953"
             ],
             [
              0.7777777777777778,
              "#fb9f3a"
             ],
             [
              0.8888888888888888,
              "#fdca26"
             ],
             [
              1,
              "#f0f921"
             ]
            ],
            "type": "heatmap"
           }
          ],
          "heatmapgl": [
           {
            "colorbar": {
             "outlinewidth": 0,
             "ticks": ""
            },
            "colorscale": [
             [
              0,
              "#0d0887"
             ],
             [
              0.1111111111111111,
              "#46039f"
             ],
             [
              0.2222222222222222,
              "#7201a8"
             ],
             [
              0.3333333333333333,
              "#9c179e"
             ],
             [
              0.4444444444444444,
              "#bd3786"
             ],
             [
              0.5555555555555556,
              "#d8576b"
             ],
             [
              0.6666666666666666,
              "#ed7953"
             ],
             [
              0.7777777777777778,
              "#fb9f3a"
             ],
             [
              0.8888888888888888,
              "#fdca26"
             ],
             [
              1,
              "#f0f921"
             ]
            ],
            "type": "heatmapgl"
           }
          ],
          "histogram": [
           {
            "marker": {
             "colorbar": {
              "outlinewidth": 0,
              "ticks": ""
             }
            },
            "type": "histogram"
           }
          ],
          "histogram2d": [
           {
            "colorbar": {
             "outlinewidth": 0,
             "ticks": ""
            },
            "colorscale": [
             [
              0,
              "#0d0887"
             ],
             [
              0.1111111111111111,
              "#46039f"
             ],
             [
              0.2222222222222222,
              "#7201a8"
             ],
             [
              0.3333333333333333,
              "#9c179e"
             ],
             [
              0.4444444444444444,
              "#bd3786"
             ],
             [
              0.5555555555555556,
              "#d8576b"
             ],
             [
              0.6666666666666666,
              "#ed7953"
             ],
             [
              0.7777777777777778,
              "#fb9f3a"
             ],
             [
              0.8888888888888888,
              "#fdca26"
             ],
             [
              1,
              "#f0f921"
             ]
            ],
            "type": "histogram2d"
           }
          ],
          "histogram2dcontour": [
           {
            "colorbar": {
             "outlinewidth": 0,
             "ticks": ""
            },
            "colorscale": [
             [
              0,
              "#0d0887"
             ],
             [
              0.1111111111111111,
              "#46039f"
             ],
             [
              0.2222222222222222,
              "#7201a8"
             ],
             [
              0.3333333333333333,
              "#9c179e"
             ],
             [
              0.4444444444444444,
              "#bd3786"
             ],
             [
              0.5555555555555556,
              "#d8576b"
             ],
             [
              0.6666666666666666,
              "#ed7953"
             ],
             [
              0.7777777777777778,
              "#fb9f3a"
             ],
             [
              0.8888888888888888,
              "#fdca26"
             ],
             [
              1,
              "#f0f921"
             ]
            ],
            "type": "histogram2dcontour"
           }
          ],
          "mesh3d": [
           {
            "colorbar": {
             "outlinewidth": 0,
             "ticks": ""
            },
            "type": "mesh3d"
           }
          ],
          "parcoords": [
           {
            "line": {
             "colorbar": {
              "outlinewidth": 0,
              "ticks": ""
             }
            },
            "type": "parcoords"
           }
          ],
          "pie": [
           {
            "automargin": true,
            "type": "pie"
           }
          ],
          "scatter": [
           {
            "marker": {
             "colorbar": {
              "outlinewidth": 0,
              "ticks": ""
             }
            },
            "type": "scatter"
           }
          ],
          "scatter3d": [
           {
            "line": {
             "colorbar": {
              "outlinewidth": 0,
              "ticks": ""
             }
            },
            "marker": {
             "colorbar": {
              "outlinewidth": 0,
              "ticks": ""
             }
            },
            "type": "scatter3d"
           }
          ],
          "scattercarpet": [
           {
            "marker": {
             "colorbar": {
              "outlinewidth": 0,
              "ticks": ""
             }
            },
            "type": "scattercarpet"
           }
          ],
          "scattergeo": [
           {
            "marker": {
             "colorbar": {
              "outlinewidth": 0,
              "ticks": ""
             }
            },
            "type": "scattergeo"
           }
          ],
          "scattergl": [
           {
            "marker": {
             "colorbar": {
              "outlinewidth": 0,
              "ticks": ""
             }
            },
            "type": "scattergl"
           }
          ],
          "scattermapbox": [
           {
            "marker": {
             "colorbar": {
              "outlinewidth": 0,
              "ticks": ""
             }
            },
            "type": "scattermapbox"
           }
          ],
          "scatterpolar": [
           {
            "marker": {
             "colorbar": {
              "outlinewidth": 0,
              "ticks": ""
             }
            },
            "type": "scatterpolar"
           }
          ],
          "scatterpolargl": [
           {
            "marker": {
             "colorbar": {
              "outlinewidth": 0,
              "ticks": ""
             }
            },
            "type": "scatterpolargl"
           }
          ],
          "scatterternary": [
           {
            "marker": {
             "colorbar": {
              "outlinewidth": 0,
              "ticks": ""
             }
            },
            "type": "scatterternary"
           }
          ],
          "surface": [
           {
            "colorbar": {
             "outlinewidth": 0,
             "ticks": ""
            },
            "colorscale": [
             [
              0,
              "#0d0887"
             ],
             [
              0.1111111111111111,
              "#46039f"
             ],
             [
              0.2222222222222222,
              "#7201a8"
             ],
             [
              0.3333333333333333,
              "#9c179e"
             ],
             [
              0.4444444444444444,
              "#bd3786"
             ],
             [
              0.5555555555555556,
              "#d8576b"
             ],
             [
              0.6666666666666666,
              "#ed7953"
             ],
             [
              0.7777777777777778,
              "#fb9f3a"
             ],
             [
              0.8888888888888888,
              "#fdca26"
             ],
             [
              1,
              "#f0f921"
             ]
            ],
            "type": "surface"
           }
          ],
          "table": [
           {
            "cells": {
             "fill": {
              "color": "#EBF0F8"
             },
             "line": {
              "color": "white"
             }
            },
            "header": {
             "fill": {
              "color": "#C8D4E3"
             },
             "line": {
              "color": "white"
             }
            },
            "type": "table"
           }
          ]
         },
         "layout": {
          "annotationdefaults": {
           "arrowcolor": "#2a3f5f",
           "arrowhead": 0,
           "arrowwidth": 1
          },
          "coloraxis": {
           "colorbar": {
            "outlinewidth": 0,
            "ticks": ""
           }
          },
          "colorscale": {
           "diverging": [
            [
             0,
             "#8e0152"
            ],
            [
             0.1,
             "#c51b7d"
            ],
            [
             0.2,
             "#de77ae"
            ],
            [
             0.3,
             "#f1b6da"
            ],
            [
             0.4,
             "#fde0ef"
            ],
            [
             0.5,
             "#f7f7f7"
            ],
            [
             0.6,
             "#e6f5d0"
            ],
            [
             0.7,
             "#b8e186"
            ],
            [
             0.8,
             "#7fbc41"
            ],
            [
             0.9,
             "#4d9221"
            ],
            [
             1,
             "#276419"
            ]
           ],
           "sequential": [
            [
             0,
             "#0d0887"
            ],
            [
             0.1111111111111111,
             "#46039f"
            ],
            [
             0.2222222222222222,
             "#7201a8"
            ],
            [
             0.3333333333333333,
             "#9c179e"
            ],
            [
             0.4444444444444444,
             "#bd3786"
            ],
            [
             0.5555555555555556,
             "#d8576b"
            ],
            [
             0.6666666666666666,
             "#ed7953"
            ],
            [
             0.7777777777777778,
             "#fb9f3a"
            ],
            [
             0.8888888888888888,
             "#fdca26"
            ],
            [
             1,
             "#f0f921"
            ]
           ],
           "sequentialminus": [
            [
             0,
             "#0d0887"
            ],
            [
             0.1111111111111111,
             "#46039f"
            ],
            [
             0.2222222222222222,
             "#7201a8"
            ],
            [
             0.3333333333333333,
             "#9c179e"
            ],
            [
             0.4444444444444444,
             "#bd3786"
            ],
            [
             0.5555555555555556,
             "#d8576b"
            ],
            [
             0.6666666666666666,
             "#ed7953"
            ],
            [
             0.7777777777777778,
             "#fb9f3a"
            ],
            [
             0.8888888888888888,
             "#fdca26"
            ],
            [
             1,
             "#f0f921"
            ]
           ]
          },
          "colorway": [
           "#636efa",
           "#EF553B",
           "#00cc96",
           "#ab63fa",
           "#FFA15A",
           "#19d3f3",
           "#FF6692",
           "#B6E880",
           "#FF97FF",
           "#FECB52"
          ],
          "font": {
           "color": "#2a3f5f"
          },
          "geo": {
           "bgcolor": "white",
           "lakecolor": "white",
           "landcolor": "#E5ECF6",
           "showlakes": true,
           "showland": true,
           "subunitcolor": "white"
          },
          "hoverlabel": {
           "align": "left"
          },
          "hovermode": "closest",
          "mapbox": {
           "style": "light"
          },
          "paper_bgcolor": "white",
          "plot_bgcolor": "#E5ECF6",
          "polar": {
           "angularaxis": {
            "gridcolor": "white",
            "linecolor": "white",
            "ticks": ""
           },
           "bgcolor": "#E5ECF6",
           "radialaxis": {
            "gridcolor": "white",
            "linecolor": "white",
            "ticks": ""
           }
          },
          "scene": {
           "xaxis": {
            "backgroundcolor": "#E5ECF6",
            "gridcolor": "white",
            "gridwidth": 2,
            "linecolor": "white",
            "showbackground": true,
            "ticks": "",
            "zerolinecolor": "white"
           },
           "yaxis": {
            "backgroundcolor": "#E5ECF6",
            "gridcolor": "white",
            "gridwidth": 2,
            "linecolor": "white",
            "showbackground": true,
            "ticks": "",
            "zerolinecolor": "white"
           },
           "zaxis": {
            "backgroundcolor": "#E5ECF6",
            "gridcolor": "white",
            "gridwidth": 2,
            "linecolor": "white",
            "showbackground": true,
            "ticks": "",
            "zerolinecolor": "white"
           }
          },
          "shapedefaults": {
           "line": {
            "color": "#2a3f5f"
           }
          },
          "ternary": {
           "aaxis": {
            "gridcolor": "white",
            "linecolor": "white",
            "ticks": ""
           },
           "baxis": {
            "gridcolor": "white",
            "linecolor": "white",
            "ticks": ""
           },
           "bgcolor": "#E5ECF6",
           "caxis": {
            "gridcolor": "white",
            "linecolor": "white",
            "ticks": ""
           }
          },
          "title": {
           "x": 0.05
          },
          "xaxis": {
           "automargin": true,
           "gridcolor": "white",
           "linecolor": "white",
           "ticks": "",
           "title": {
            "standoff": 15
           },
           "zerolinecolor": "white",
           "zerolinewidth": 2
          },
          "yaxis": {
           "automargin": true,
           "gridcolor": "white",
           "linecolor": "white",
           "ticks": "",
           "title": {
            "standoff": 15
           },
           "zerolinecolor": "white",
           "zerolinewidth": 2
          }
         }
        },
        "title": {
         "text": "Distribution of Weather Stations"
        }
       }
      },
      "image/png": "[encoded data removed]",
      "text/html": [
       "<div>\n",
       "        \n",
       "        \n",
       "            <div id=\"6f4ae01d-59e5-47ac-9431-e39a0e4fe849\" class=\"plotly-graph-div\" style=\"height:525px; width:100%;\"></div>\n",
       "            <script type=\"text/javascript\">\n",
       "                require([\"plotly\"], function(Plotly) {\n",
       "                    window.PLOTLYENV=window.PLOTLYENV || {};\n",
       "                    \n",
       "                if (document.getElementById(\"6f4ae01d-59e5-47ac-9431-e39a0e4fe849\")) {\n",
       "                    Plotly.newPlot(\n",
       "                        '6f4ae01d-59e5-47ac-9431-e39a0e4fe849',\n",
       "                        [{\"hovertemplate\": \"State=Illinois<br>datacoverage=%{marker.size}<br>latitude=%{lat}<br>longitude=%{lon}<extra></extra>\", \"lat\": [38.3777, 41.1977, 38.867020000000004, 41.1204, 37.4813, 42.4811, 39.9275, 41.78038, 40.6632, 42.1153], \"legendgroup\": \"Illinois\", \"lon\": [-88.0569, -90.7447, -90.14886, -90.1641, -89.2344, -88.0994, -89.7964, -88.30925, -90.4447, -88.1639], \"marker\": {\"color\": \"#636efa\", \"size\": [0.7538, 0.9923, 0.5784, 0.8515, 0.9854, 0.7922, 0.821, 0.9693, 0.9502, 0.9153], \"sizemode\": \"area\", \"sizeref\": 0.004441777777777778}, \"mode\": \"markers\", \"name\": \"Illinois\", \"showlegend\": true, \"subplot\": \"mapbox\", \"type\": \"scattermapbox\"}, {\"hovertemplate\": \"State=Indiana<br>datacoverage=%{marker.size}<br>latitude=%{lat}<br>longitude=%{lon}<extra></extra>\", \"lat\": [40.1117, 41.6639, 40.2838, 38.8396, 40.6683, 39.1742, 40.8143, 38.0302, 40.535, 39.5108], \"legendgroup\": \"Indiana\", \"lon\": [-85.7163, -85.0183, -87.1963, -86.5216, -84.93, -86.5214, -85.1546, -87.2736, -87.4531, -87.1241], \"marker\": {\"color\": \"#EF553B\", \"size\": [0.9836, 0.8583, 0.9915, 0.9574, 0.9829, 0.9728, 0.9737, 0.4987, 0.9871, 0.3455], \"sizemode\": \"area\", \"sizeref\": 0.004441777777777778}, \"mode\": \"markers\", \"name\": \"Indiana\", \"showlegend\": true, \"subplot\": \"mapbox\", \"type\": \"scattermapbox\"}, {\"hovertemplate\": \"State=Nebraska<br>datacoverage=%{marker.size}<br>latitude=%{lat}<br>longitude=%{lon}<extra></extra>\", \"lat\": [42.4244, 42.508, 42.5522, 41.6854, 42.1103, 42.10472, 42.153890000000004, 41.9338, 41.61079, 41.432159999999996], \"legendgroup\": \"Nebraska\", \"lon\": [-103.7347, -103.8108, -99.8555, -98.0083, -102.8967, -102.88667, -103.20833, -103.0186, -99.90442, -100.27193], \"marker\": {\"color\": \"#00cc96\", \"size\": [0.6496, 0.11599999999999999, 0.9748, 0.9018, 0.9041, 0.7273, 0.7462, 0.9732, 0.9568, 0.878], \"sizemode\": \"area\", \"sizeref\": 0.004441777777777778}, \"mode\": \"markers\", \"name\": \"Nebraska\", \"showlegend\": true, \"subplot\": \"mapbox\", \"type\": \"scattermapbox\"}, {\"hovertemplate\": \"State=Ohio<br>datacoverage=%{marker.size}<br>latitude=%{lat}<br>longitude=%{lon}<extra></extra>\", \"lat\": [39.3224, 39.9916, 40.3535, 39.547470000000004, 41.3831, 41.4619, 40.8126, 40.268609999999995, 39.7161, 40.0111], \"legendgroup\": \"Ohio\", \"lon\": [-82.0995, -81.185, -83.7754, -81.62835, -83.6111, -84.5272, -82.9698, -80.99806, -81.4642, -81.5794], \"marker\": {\"color\": \"#ab63fa\", \"size\": [0.9574, 0.9355, 0.9685, 0.4749, 0.9906, 0.9929, 0.9791, 0.9023, 0.871, 0.8219], \"sizemode\": \"area\", \"sizeref\": 0.004441777777777778}, \"mode\": \"markers\", \"name\": \"Ohio\", \"showlegend\": true, \"subplot\": \"mapbox\", \"type\": \"scattermapbox\"}, {\"hovertemplate\": \"State=Iowa<br>datacoverage=%{marker.size}<br>latitude=%{lat}<br>longitude=%{lon}<extra></extra>\", \"lat\": [40.8821, 41.518, 41.0655, 43.06626, 40.703920000000004, 42.7536, 42.0208, 41.9519, 42.1117, 42.0773], \"legendgroup\": \"Iowa\", \"lon\": [-91.0234, -90.5647, -92.7866, -94.22216, -93.37026999999999, -92.8022, -93.7741, -93.5655, -91.2933, -91.3027], \"marker\": {\"color\": \"#FFA15A\", \"size\": [0.9639, 0.3063, 0.9556, 0.98, 0.3352, 0.9733, 0.9978, 0.9957, 0.9723, 0.9994], \"sizemode\": \"area\", \"sizeref\": 0.004441777777777778}, \"mode\": \"markers\", \"name\": \"Iowa\", \"showlegend\": true, \"subplot\": \"mapbox\", \"type\": \"scattermapbox\"}],\n",
       "                        {\"legend\": {\"itemsizing\": \"constant\", \"title\": {\"text\": \"State\"}, \"tracegroupgap\": 0}, \"mapbox\": {\"center\": {\"lat\": 40.90357040000001, \"lon\": -90.44421599999995}, \"domain\": {\"x\": [0.0, 1.0], \"y\": [0.0, 1.0]}, \"style\": \"carto-positron\", \"zoom\": 4}, \"template\": {\"data\": {\"bar\": [{\"error_x\": {\"color\": \"#2a3f5f\"}, \"error_y\": {\"color\": \"#2a3f5f\"}, \"marker\": {\"line\": {\"color\": \"#E5ECF6\", \"width\": 0.5}}, \"type\": \"bar\"}], \"barpolar\": [{\"marker\": {\"line\": {\"color\": \"#E5ECF6\", \"width\": 0.5}}, \"type\": \"barpolar\"}], \"carpet\": [{\"aaxis\": {\"endlinecolor\": \"#2a3f5f\", \"gridcolor\": \"white\", \"linecolor\": \"white\", \"minorgridcolor\": \"white\", \"startlinecolor\": \"#2a3f5f\"}, \"baxis\": {\"endlinecolor\": \"#2a3f5f\", \"gridcolor\": \"white\", \"linecolor\": \"white\", \"minorgridcolor\": \"white\", \"startlinecolor\": \"#2a3f5f\"}, \"type\": \"carpet\"}], \"choropleth\": [{\"colorbar\": {\"outlinewidth\": 0, \"ticks\": \"\"}, \"type\": \"choropleth\"}], \"contour\": [{\"colorbar\": {\"outlinewidth\": 0, \"ticks\": \"\"}, \"colorscale\": [[0.0, \"#0d0887\"], [0.1111111111111111, \"#46039f\"], [0.2222222222222222, \"#7201a8\"], [0.3333333333333333, \"#9c179e\"], [0.4444444444444444, \"#bd3786\"], [0.5555555555555556, \"#d8576b\"], [0.6666666666666666, \"#ed7953\"], [0.7777777777777778, \"#fb9f3a\"], [0.8888888888888888, \"#fdca26\"], [1.0, \"#f0f921\"]], \"type\": \"contour\"}], \"contourcarpet\": [{\"colorbar\": {\"outlinewidth\": 0, \"ticks\": \"\"}, \"type\": \"contourcarpet\"}], \"heatmap\": [{\"colorbar\": {\"outlinewidth\": 0, \"ticks\": \"\"}, \"colorscale\": [[0.0, \"#0d0887\"], [0.1111111111111111, \"#46039f\"], [0.2222222222222222, \"#7201a8\"], [0.3333333333333333, \"#9c179e\"], [0.4444444444444444, \"#bd3786\"], [0.5555555555555556, \"#d8576b\"], [0.6666666666666666, \"#ed7953\"], [0.7777777777777778, \"#fb9f3a\"], [0.8888888888888888, \"#fdca26\"], [1.0, \"#f0f921\"]], \"type\": \"heatmap\"}], \"heatmapgl\": [{\"colorbar\": {\"outlinewidth\": 0, \"ticks\": \"\"}, \"colorscale\": [[0.0, \"#0d0887\"], [0.1111111111111111, \"#46039f\"], [0.2222222222222222, \"#7201a8\"], [0.3333333333333333, \"#9c179e\"], [0.4444444444444444, \"#bd3786\"], [0.5555555555555556, \"#d8576b\"], [0.6666666666666666, \"#ed7953\"], [0.7777777777777778, \"#fb9f3a\"], [0.8888888888888888, \"#fdca26\"], [1.0, \"#f0f921\"]], \"type\": \"heatmapgl\"}], \"histogram\": [{\"marker\": {\"colorbar\": {\"outlinewidth\": 0, \"ticks\": \"\"}}, \"type\": \"histogram\"}], \"histogram2d\": [{\"colorbar\": {\"outlinewidth\": 0, \"ticks\": \"\"}, \"colorscale\": [[0.0, \"#0d0887\"], [0.1111111111111111, \"#46039f\"], [0.2222222222222222, \"#7201a8\"], [0.3333333333333333, \"#9c179e\"], [0.4444444444444444, \"#bd3786\"], [0.5555555555555556, \"#d8576b\"], [0.6666666666666666, \"#ed7953\"], [0.7777777777777778, \"#fb9f3a\"], [0.8888888888888888, \"#fdca26\"], [1.0, \"#f0f921\"]], \"type\": \"histogram2d\"}], \"histogram2dcontour\": [{\"colorbar\": {\"outlinewidth\": 0, \"ticks\": \"\"}, \"colorscale\": [[0.0, \"#0d0887\"], [0.1111111111111111, \"#46039f\"], [0.2222222222222222, \"#7201a8\"], [0.3333333333333333, \"#9c179e\"], [0.4444444444444444, \"#bd3786\"], [0.5555555555555556, \"#d8576b\"], [0.6666666666666666, \"#ed7953\"], [0.7777777777777778, \"#fb9f3a\"], [0.8888888888888888, \"#fdca26\"], [1.0, \"#f0f921\"]], \"type\": \"histogram2dcontour\"}], \"mesh3d\": [{\"colorbar\": {\"outlinewidth\": 0, \"ticks\": \"\"}, \"type\": \"mesh3d\"}], \"parcoords\": [{\"line\": {\"colorbar\": {\"outlinewidth\": 0, \"ticks\": \"\"}}, \"type\": \"parcoords\"}], \"pie\": [{\"automargin\": true, \"type\": \"pie\"}], \"scatter\": [{\"marker\": {\"colorbar\": {\"outlinewidth\": 0, \"ticks\": \"\"}}, \"type\": \"scatter\"}], \"scatter3d\": [{\"line\": {\"colorbar\": {\"outlinewidth\": 0, \"ticks\": \"\"}}, \"marker\": {\"colorbar\": {\"outlinewidth\": 0, \"ticks\": \"\"}}, \"type\": \"scatter3d\"}], \"scattercarpet\": [{\"marker\": {\"colorbar\": {\"outlinewidth\": 0, \"ticks\": \"\"}}, \"type\": \"scattercarpet\"}], \"scattergeo\": [{\"marker\": {\"colorbar\": {\"outlinewidth\": 0, \"ticks\": \"\"}}, \"type\": \"scattergeo\"}], \"scattergl\": [{\"marker\": {\"colorbar\": {\"outlinewidth\": 0, \"ticks\": \"\"}}, \"type\": \"scattergl\"}], \"scattermapbox\": [{\"marker\": {\"colorbar\": {\"outlinewidth\": 0, \"ticks\": \"\"}}, \"type\": \"scattermapbox\"}], \"scatterpolar\": [{\"marker\": {\"colorbar\": {\"outlinewidth\": 0, \"ticks\": \"\"}}, \"type\": \"scatterpolar\"}], \"scatterpolargl\": [{\"marker\": {\"colorbar\": {\"outlinewidth\": 0, \"ticks\": \"\"}}, \"type\": \"scatterpolargl\"}], \"scatterternary\": [{\"marker\": {\"colorbar\": {\"outlinewidth\": 0, \"ticks\": \"\"}}, \"type\": \"scatterternary\"}], \"surface\": [{\"colorbar\": {\"outlinewidth\": 0, \"ticks\": \"\"}, \"colorscale\": [[0.0, \"#0d0887\"], [0.1111111111111111, \"#46039f\"], [0.2222222222222222, \"#7201a8\"], [0.3333333333333333, \"#9c179e\"], [0.4444444444444444, \"#bd3786\"], [0.5555555555555556, \"#d8576b\"], [0.6666666666666666, \"#ed7953\"], [0.7777777777777778, \"#fb9f3a\"], [0.8888888888888888, \"#fdca26\"], [1.0, \"#f0f921\"]], \"type\": \"surface\"}], \"table\": [{\"cells\": {\"fill\": {\"color\": \"#EBF0F8\"}, \"line\": {\"color\": \"white\"}}, \"header\": {\"fill\": {\"color\": \"#C8D4E3\"}, \"line\": {\"color\": \"white\"}}, \"type\": \"table\"}]}, \"layout\": {\"annotationdefaults\": {\"arrowcolor\": \"#2a3f5f\", \"arrowhead\": 0, \"arrowwidth\": 1}, \"coloraxis\": {\"colorbar\": {\"outlinewidth\": 0, \"ticks\": \"\"}}, \"colorscale\": {\"diverging\": [[0, \"#8e0152\"], [0.1, \"#c51b7d\"], [0.2, \"#de77ae\"], [0.3, \"#f1b6da\"], [0.4, \"#fde0ef\"], [0.5, \"#f7f7f7\"], [0.6, \"#e6f5d0\"], [0.7, \"#b8e186\"], [0.8, \"#7fbc41\"], [0.9, \"#4d9221\"], [1, \"#276419\"]], \"sequential\": [[0.0, \"#0d0887\"], [0.1111111111111111, \"#46039f\"], [0.2222222222222222, \"#7201a8\"], [0.3333333333333333, \"#9c179e\"], [0.4444444444444444, \"#bd3786\"], [0.5555555555555556, \"#d8576b\"], [0.6666666666666666, \"#ed7953\"], [0.7777777777777778, \"#fb9f3a\"], [0.8888888888888888, \"#fdca26\"], [1.0, \"#f0f921\"]], \"sequentialminus\": [[0.0, \"#0d0887\"], [0.1111111111111111, \"#46039f\"], [0.2222222222222222, \"#7201a8\"], [0.3333333333333333, \"#9c179e\"], [0.4444444444444444, \"#bd3786\"], [0.5555555555555556, \"#d8576b\"], [0.6666666666666666, \"#ed7953\"], [0.7777777777777778, \"#fb9f3a\"], [0.8888888888888888, \"#fdca26\"], [1.0, \"#f0f921\"]]}, \"colorway\": [\"#636efa\", \"#EF553B\", \"#00cc96\", \"#ab63fa\", \"#FFA15A\", \"#19d3f3\", \"#FF6692\", \"#B6E880\", \"#FF97FF\", \"#FECB52\"], \"font\": {\"color\": \"#2a3f5f\"}, \"geo\": {\"bgcolor\": \"white\", \"lakecolor\": \"white\", \"landcolor\": \"#E5ECF6\", \"showlakes\": true, \"showland\": true, \"subunitcolor\": \"white\"}, \"hoverlabel\": {\"align\": \"left\"}, \"hovermode\": \"closest\", \"mapbox\": {\"style\": \"light\"}, \"paper_bgcolor\": \"white\", \"plot_bgcolor\": \"#E5ECF6\", \"polar\": {\"angularaxis\": {\"gridcolor\": \"white\", \"linecolor\": \"white\", \"ticks\": \"\"}, \"bgcolor\": \"#E5ECF6\", \"radialaxis\": {\"gridcolor\": \"white\", \"linecolor\": \"white\", \"ticks\": \"\"}}, \"scene\": {\"xaxis\": {\"backgroundcolor\": \"#E5ECF6\", \"gridcolor\": \"white\", \"gridwidth\": 2, \"linecolor\": \"white\", \"showbackground\": true, \"ticks\": \"\", \"zerolinecolor\": \"white\"}, \"yaxis\": {\"backgroundcolor\": \"#E5ECF6\", \"gridcolor\": \"white\", \"gridwidth\": 2, \"linecolor\": \"white\", \"showbackground\": true, \"ticks\": \"\", \"zerolinecolor\": \"white\"}, \"zaxis\": {\"backgroundcolor\": \"#E5ECF6\", \"gridcolor\": \"white\", \"gridwidth\": 2, \"linecolor\": \"white\", \"showbackground\": true, \"ticks\": \"\", \"zerolinecolor\": \"white\"}}, \"shapedefaults\": {\"line\": {\"color\": \"#2a3f5f\"}}, \"ternary\": {\"aaxis\": {\"gridcolor\": \"white\", \"linecolor\": \"white\", \"ticks\": \"\"}, \"baxis\": {\"gridcolor\": \"white\", \"linecolor\": \"white\", \"ticks\": \"\"}, \"bgcolor\": \"#E5ECF6\", \"caxis\": {\"gridcolor\": \"white\", \"linecolor\": \"white\", \"ticks\": \"\"}}, \"title\": {\"x\": 0.05}, \"xaxis\": {\"automargin\": true, \"gridcolor\": \"white\", \"linecolor\": \"white\", \"ticks\": \"\", \"title\": {\"standoff\": 15}, \"zerolinecolor\": \"white\", \"zerolinewidth\": 2}, \"yaxis\": {\"automargin\": true, \"gridcolor\": \"white\", \"linecolor\": \"white\", \"ticks\": \"\", \"title\": {\"standoff\": 15}, \"zerolinecolor\": \"white\", \"zerolinewidth\": 2}}}, \"title\": {\"text\": \"Distribution of Weather Stations\"}},\n",
       "                        {\"responsive\": true}\n",
       "                    ).then(function(){\n",
       "                            \n",
       "var gd = document.getElementById('6f4ae01d-59e5-47ac-9431-e39a0e4fe849');\n",
       "var x = new MutationObserver(function (mutations, observer) {{\n",
       "        var display = window.getComputedStyle(gd).display;\n",
       "        if (!display || display === 'none') {{\n",
       "            console.log([gd, 'removed!']);\n",
       "            Plotly.purge(gd);\n",
       "            observer.disconnect();\n",
       "        }}\n",
       "}});\n",
       "\n",
       "// Listen for the removal of the full notebook cells\n",
       "var notebookContainer = gd.closest('#notebook-container');\n",
       "if (notebookContainer) {{\n",
       "    x.observe(notebookContainer, {childList: true});\n",
       "}}\n",
       "\n",
       "// Listen for the clearing of the current output cell\n",
       "var outputEl = gd.closest('.output');\n",
       "if (outputEl) {{\n",
       "    x.observe(outputEl, {childList: true});\n",
       "}}\n",
       "\n",
       "                        })\n",
       "                };\n",
       "                });\n",
       "            </script>\n",
       "        </div>"
      ]
     },
     "metadata": {},
     "output_type": "display_data"
    }
   ],
   "source": [
    "fig = px.scatter_mapbox(state_df, lat=\"latitude\", lon=\"longitude\", color=\"State\", size=\"datacoverage\",\n",
    "                  color_continuous_scale=px.colors.cyclical.IceFire, size_max=15, zoom=4,\n",
    "                  mapbox_style=\"carto-positron\", title='Distribution of Weather Stations')\n",
    "fig.show()"
   ]
  },
  {
   "cell_type": "markdown",
   "metadata": {},
   "source": [
    "-------\n",
    "## Step 3: Extracting Weather Data\n",
    "Now that we have the individual weather stations, we can now extract data from those weather stations for 20 years."
   ]
  },
  {
   "cell_type": "code",
   "execution_count": 25,
   "metadata": {},
   "outputs": [],
   "source": [
    "years = [i for i in range(2000,2020)]\n",
    "corn_states = ['Illinois', 'Indiana', 'Nebraska','Ohio','Iowa']"
   ]
  },
  {
   "cell_type": "markdown",
   "metadata": {},
   "source": [
    "The following for loop with pull 20 years of data for each of the five states. The loop will individually save the data by state and year (ex. Iowa2001.csv)"
   ]
  },
  {
   "cell_type": "code",
   "execution_count": 113,
   "metadata": {},
   "outputs": [],
   "source": [
    "for state in corn_states:\n",
    "    \n",
    "    # Query to retrieve information on max temperature (TMAX), min temperature (TMIN), and Precipitation (PRCP)\n",
    "    datatype = '&datatypeid=TMAX&datatypeid=TMIN&datatypeid=PRCP'\n",
    "    units = '&units=METRIC' #changes the data to Celsuis and Millimeters \n",
    "    offset = '&offset=1&limit=1000' # Max number of points you can retrieve is 1,000\n",
    "    \n",
    "    # Retrieving individual weather station codes\n",
    "    station_code = list(state_df[state_df['State'] == state]['id'].values)\n",
    "    \n",
    "    station_id = ''\n",
    "    \n",
    "    # joining all the station_ids for a state together in a string for the query\n",
    "    for station in station_code:\n",
    "        station_id += f'&stationid={station}'\n",
    "\n",
    "    for year in years:\n",
    "\n",
    "        counter = 1 # keeping track of the months\n",
    "        \n",
    "        # modifying the month query to obey format YYYY-MM-DD\n",
    "        for month in range(1,13):\n",
    "            if month < 10:\n",
    "                date = f'{year}-0{month}-'\n",
    "            else:\n",
    "                date = f'{year}-{month}-'\n",
    "\n",
    "            last_day = calendar.monthrange(year, month)[1]\n",
    "            \n",
    "            # Pulling data on a monthly basis to not exceed the 1,000 limit\n",
    "            datefield = f'&startdate={date}01&enddate={date}{last_day}'\n",
    "            \n",
    "            # Send token to website and request\n",
    "            url = f'https://www.ncdc.noaa.gov/cdo-web/api/v2/data?datasetid=GHCND{datatype}{units}{station_id}{datefield}{offset}'\n",
    "            headers = { 'token': token}\n",
    "            response = requests.get(url,headers=headers)\n",
    "\n",
    "            response.json()\n",
    "            \n",
    "            # Printing a results report to know where the loop is in the process.\n",
    "            print('Month Results: ',response.json()['metadata'],'Year: ',year,'Month:',counter,'State:',state)\n",
    "\n",
    "            data = response.json()['results']\n",
    "            df = pd.DataFrame.from_dict(data, orient='columns')\n",
    "            \n",
    "            # Appending all the monthly results to a csv file by state and year.\n",
    "            with open(f'Resources/weather_data/State_Annual_Data/{state}{year}.csv', 'a') as f:\n",
    "                df.to_csv(f, header=False,index=False)\n",
    "                \n",
    "            counter += 1\n",
    "            time.sleep(1)\n"
   ]
  },
  {
   "cell_type": "code",
   "execution_count": 23,
   "metadata": {},
   "outputs": [
    {
     "data": {
      "text/plain": [
       "<Response [200]>"
      ]
     },
     "execution_count": 23,
     "metadata": {},
     "output_type": "execute_result"
    }
   ],
   "source": [
    "# If the program fails, check the response.\n",
    "response"
   ]
  },
  {
   "cell_type": "markdown",
   "metadata": {},
   "source": [
    "-------\n",
    "## Data Cleaning\n",
    "The API has outputted data into csv files, which needs to be cleaned. Stations often had multiple datapoints per day, and some states did not have 10 weather stations. To approach this problem, we've decided to average the daily data for each station to produce one datapoint per state.\n",
    "\n",
    "As well, each state's 20 years of data exists in 20 separate csv files, which must be combined."
   ]
  },
  {
   "cell_type": "code",
   "execution_count": 25,
   "metadata": {},
   "outputs": [],
   "source": [
    "def clean_data(filename):\n",
    "    '''\n",
    "    Function removes duplicates, cleans data, and averages results by state and date.\n",
    "    '''\n",
    "    df = pd.read_csv(filename,names=['date','weather_type','id','drop','values'],parse_dates=True,infer_datetime_format=True)\n",
    "    \n",
    "    df = df.drop_duplicates()\n",
    "    \n",
    "    df = pd.DataFrame(df.groupby(['date','weather_type']).mean()['values'])\n",
    "    df = df.reset_index()\n",
    "\n",
    "    df = df.pivot_table(index=['date'], \n",
    "                     columns='weather_type', \n",
    "                     values='values')\n",
    "    \n",
    "    df = df.reset_index()\n",
    "    df[\"date\"] = pd.to_datetime(df[\"date\"])\n",
    "    df['date'] = df[\"date\"].dt.strftime(\"%Y-%m-%d\")\n",
    "    \n",
    "    return df"
   ]
  },
  {
   "cell_type": "code",
   "execution_count": null,
   "metadata": {},
   "outputs": [],
   "source": [
    "years = [i for i in range(2000,2020)]\n",
    "corn_states = ['Illinois', 'Indiana', 'Nebraska','Ohio','Iowa']"
   ]
  },
  {
   "cell_type": "code",
   "execution_count": 381,
   "metadata": {},
   "outputs": [],
   "source": [
    "# Combines all the years for one state into one csv file\n",
    "\n",
    "# Initialize empty dataframe\n",
    "all_years = pd.DataFrame(columns=['weather_type','date','PRCP','TMAX','TMIN'])\n",
    "\n",
    "for state in corn_states:\n",
    "    for year in years:\n",
    "        \n",
    "        # clean data for individual state/year file.\n",
    "        df = clean_data(f'Resources/weather_data/State_Annual_Data/{state}{year}.csv')\n",
    "        \n",
    "        # append clean data to dataframe\n",
    "        all_years = pd.concat([all_years,df], axis=0,ignore_index=True)\n",
    "    \n",
    "    # write the combined 20 years of data for the state to one csv\n",
    "    all_years.to_csv(f'Resources/weather_data/State_20yr_Data/{state}_20yrs.csv')\n",
    "    \n",
    "    # creates a clean df before cleaning the next state\n",
    "    all_years = pd.DataFrame(columns=['weather_type','date','PRCP','TMAX','TMIN'])\n"
   ]
  },
  {
   "cell_type": "code",
   "execution_count": 382,
   "metadata": {},
   "outputs": [],
   "source": [
    "# Cleans columns in combined files\n",
    "for state in corn_states:\n",
    "    df = pd.read_csv(f'Resources/weather_data/State_20yr_Data/{state}_20yrs.csv')\n",
    "    df = df.drop(columns=['Unnamed: 0', 'weather_type'])\n",
    "    df.to_csv(f'Resources/weather_data/State_20yr_Data/{state}_20yrs.csv')"
   ]
  },
  {
   "cell_type": "markdown",
   "metadata": {},
   "source": [
    "----------\n",
    "## Transforming Data for Analysis\n",
    "### 1. Combining State Weather Data into One File\n",
    "The data is now clean in 20 year datasets in separate csv files. We will next combine the data into one dataframe/file."
   ]
  },
  {
   "cell_type": "code",
   "execution_count": 1,
   "metadata": {},
   "outputs": [],
   "source": [
    "corn_states = ['Illinois', 'Indiana', 'Iowa', 'Nebraska','Ohio']"
   ]
  },
  {
   "cell_type": "code",
   "execution_count": 32,
   "metadata": {},
   "outputs": [],
   "source": [
    "# Initialize empty dataframe\n",
    "all_years = pd.DataFrame(columns=['date','PRCP','TMAX','TMIN'])\n",
    "all_years = all_years.set_index('date')\n",
    "\n",
    "for state in corn_states:\n",
    "    df = pd.read_csv(f'Resources/weather_data/State_20yr_Data/{state}_20yrs.csv',\n",
    "                     index_col='date',\n",
    "                     infer_datetime_format=True,\n",
    "                     parse_dates=True)\n",
    "    \n",
    "    df = df.drop(columns=['Unnamed: 0'])\n",
    "    \n",
    "    # Naming the columns according to weather type and state\n",
    "    df = df.rename(columns={'PRCP':f'PRCP_{state}','TMAX':f'TMAX_{state}','TMIN':f'TMIN_{state}'})\n",
    "    \n",
    "    all_years = pd.concat([all_years,df], axis=1, join='outer')\n",
    "\n",
    "\n",
    "all_years = all_years.drop(columns=['PRCP','TMAX','TMIN'])"
   ]
  },
  {
   "cell_type": "code",
   "execution_count": 33,
   "metadata": {},
   "outputs": [
    {
     "data": {
      "text/html": [
       "<div>\n",
       "<style scoped>\n",
       "    .dataframe tbody tr th:only-of-type {\n",
       "        vertical-align: middle;\n",
       "    }\n",
       "\n",
       "    .dataframe tbody tr th {\n",
       "        vertical-align: top;\n",
       "    }\n",
       "\n",
       "    .dataframe thead th {\n",
       "        text-align: right;\n",
       "    }\n",
       "</style>\n",
       "<table border=\"1\" class=\"dataframe\">\n",
       "  <thead>\n",
       "    <tr style=\"text-align: right;\">\n",
       "      <th></th>\n",
       "      <th>PRCP_Illinois</th>\n",
       "      <th>TMAX_Illinois</th>\n",
       "      <th>TMIN_Illinois</th>\n",
       "      <th>PRCP_Indiana</th>\n",
       "      <th>TMAX_Indiana</th>\n",
       "      <th>TMIN_Indiana</th>\n",
       "      <th>PRCP_Nebraska</th>\n",
       "      <th>TMAX_Nebraska</th>\n",
       "      <th>TMIN_Nebraska</th>\n",
       "      <th>PRCP_Ohio</th>\n",
       "      <th>TMAX_Ohio</th>\n",
       "      <th>TMIN_Ohio</th>\n",
       "      <th>PRCP_Iowa</th>\n",
       "      <th>TMAX_Iowa</th>\n",
       "      <th>TMIN_Iowa</th>\n",
       "    </tr>\n",
       "    <tr>\n",
       "      <th>date</th>\n",
       "      <th></th>\n",
       "      <th></th>\n",
       "      <th></th>\n",
       "      <th></th>\n",
       "      <th></th>\n",
       "      <th></th>\n",
       "      <th></th>\n",
       "      <th></th>\n",
       "      <th></th>\n",
       "      <th></th>\n",
       "      <th></th>\n",
       "      <th></th>\n",
       "      <th></th>\n",
       "      <th></th>\n",
       "      <th></th>\n",
       "    </tr>\n",
       "  </thead>\n",
       "  <tbody>\n",
       "    <tr>\n",
       "      <th>2000-01-01 00:00:00</th>\n",
       "      <td>0.000000</td>\n",
       "      <td>7.78</td>\n",
       "      <td>-2.340000e+00</td>\n",
       "      <td>0.00</td>\n",
       "      <td>10.6375</td>\n",
       "      <td>-3.4125</td>\n",
       "      <td>0.0000</td>\n",
       "      <td>9.757143</td>\n",
       "      <td>-5.785714</td>\n",
       "      <td>0.000000</td>\n",
       "      <td>9.1000</td>\n",
       "      <td>-5.700000</td>\n",
       "      <td>0.000000</td>\n",
       "      <td>6.94</td>\n",
       "      <td>-4.16</td>\n",
       "    </tr>\n",
       "    <tr>\n",
       "      <th>2000-01-02 00:00:00</th>\n",
       "      <td>0.166667</td>\n",
       "      <td>12.44</td>\n",
       "      <td>8.800000e-01</td>\n",
       "      <td>0.31</td>\n",
       "      <td>15.2125</td>\n",
       "      <td>1.3250</td>\n",
       "      <td>0.0375</td>\n",
       "      <td>6.312500</td>\n",
       "      <td>-7.425000</td>\n",
       "      <td>0.000000</td>\n",
       "      <td>13.6125</td>\n",
       "      <td>-0.287500</td>\n",
       "      <td>0.254545</td>\n",
       "      <td>5.50</td>\n",
       "      <td>-0.66</td>\n",
       "    </tr>\n",
       "    <tr>\n",
       "      <th>2000-01-03 00:00:00</th>\n",
       "      <td>0.000000</td>\n",
       "      <td>13.44</td>\n",
       "      <td>8.881784e-17</td>\n",
       "      <td>23.47</td>\n",
       "      <td>15.8375</td>\n",
       "      <td>5.7625</td>\n",
       "      <td>0.2875</td>\n",
       "      <td>0.975000</td>\n",
       "      <td>-10.062500</td>\n",
       "      <td>6.387500</td>\n",
       "      <td>17.0875</td>\n",
       "      <td>6.812500</td>\n",
       "      <td>0.254545</td>\n",
       "      <td>4.43</td>\n",
       "      <td>-1.72</td>\n",
       "    </tr>\n",
       "    <tr>\n",
       "      <th>2000-01-04 00:00:00</th>\n",
       "      <td>5.533333</td>\n",
       "      <td>3.00</td>\n",
       "      <td>-5.000000e+00</td>\n",
       "      <td>19.61</td>\n",
       "      <td>13.0000</td>\n",
       "      <td>-0.5625</td>\n",
       "      <td>0.1250</td>\n",
       "      <td>-2.000000</td>\n",
       "      <td>-19.100000</td>\n",
       "      <td>33.162500</td>\n",
       "      <td>14.2875</td>\n",
       "      <td>4.662500</td>\n",
       "      <td>3.140000</td>\n",
       "      <td>-1.16</td>\n",
       "      <td>-10.92</td>\n",
       "    </tr>\n",
       "    <tr>\n",
       "      <th>2000-01-05 00:00:00</th>\n",
       "      <td>0.000000</td>\n",
       "      <td>-1.10</td>\n",
       "      <td>-1.256000e+01</td>\n",
       "      <td>0.34</td>\n",
       "      <td>0.2875</td>\n",
       "      <td>-5.5000</td>\n",
       "      <td>0.0750</td>\n",
       "      <td>3.837500</td>\n",
       "      <td>-11.187500</td>\n",
       "      <td>1.157143</td>\n",
       "      <td>6.1250</td>\n",
       "      <td>-3.571429</td>\n",
       "      <td>0.000000</td>\n",
       "      <td>-4.38</td>\n",
       "      <td>-14.89</td>\n",
       "    </tr>\n",
       "  </tbody>\n",
       "</table>\n",
       "</div>"
      ],
      "text/plain": [
       "                     PRCP_Illinois  TMAX_Illinois  TMIN_Illinois  \\\n",
       "date                                                               \n",
       "2000-01-01 00:00:00       0.000000           7.78  -2.340000e+00   \n",
       "2000-01-02 00:00:00       0.166667          12.44   8.800000e-01   \n",
       "2000-01-03 00:00:00       0.000000          13.44   8.881784e-17   \n",
       "2000-01-04 00:00:00       5.533333           3.00  -5.000000e+00   \n",
       "2000-01-05 00:00:00       0.000000          -1.10  -1.256000e+01   \n",
       "\n",
       "                     PRCP_Indiana  TMAX_Indiana  TMIN_Indiana  PRCP_Nebraska  \\\n",
       "date                                                                           \n",
       "2000-01-01 00:00:00          0.00       10.6375       -3.4125         0.0000   \n",
       "2000-01-02 00:00:00          0.31       15.2125        1.3250         0.0375   \n",
       "2000-01-03 00:00:00         23.47       15.8375        5.7625         0.2875   \n",
       "2000-01-04 00:00:00         19.61       13.0000       -0.5625         0.1250   \n",
       "2000-01-05 00:00:00          0.34        0.2875       -5.5000         0.0750   \n",
       "\n",
       "                     TMAX_Nebraska  TMIN_Nebraska  PRCP_Ohio  TMAX_Ohio  \\\n",
       "date                                                                      \n",
       "2000-01-01 00:00:00       9.757143      -5.785714   0.000000     9.1000   \n",
       "2000-01-02 00:00:00       6.312500      -7.425000   0.000000    13.6125   \n",
       "2000-01-03 00:00:00       0.975000     -10.062500   6.387500    17.0875   \n",
       "2000-01-04 00:00:00      -2.000000     -19.100000  33.162500    14.2875   \n",
       "2000-01-05 00:00:00       3.837500     -11.187500   1.157143     6.1250   \n",
       "\n",
       "                     TMIN_Ohio  PRCP_Iowa  TMAX_Iowa  TMIN_Iowa  \n",
       "date                                                             \n",
       "2000-01-01 00:00:00  -5.700000   0.000000       6.94      -4.16  \n",
       "2000-01-02 00:00:00  -0.287500   0.254545       5.50      -0.66  \n",
       "2000-01-03 00:00:00   6.812500   0.254545       4.43      -1.72  \n",
       "2000-01-04 00:00:00   4.662500   3.140000      -1.16     -10.92  \n",
       "2000-01-05 00:00:00  -3.571429   0.000000      -4.38     -14.89  "
      ]
     },
     "execution_count": 33,
     "metadata": {},
     "output_type": "execute_result"
    }
   ],
   "source": [
    "all_years.head()"
   ]
  },
  {
   "cell_type": "code",
   "execution_count": 34,
   "metadata": {},
   "outputs": [],
   "source": [
    "# Outputting the combined data to a csv file to be used in analysis.\n",
    "all_years.to_csv('Resources/corn_belt_weather.csv')"
   ]
  },
  {
   "cell_type": "markdown",
   "metadata": {},
   "source": [
    "### 2. Outputting dataset with extreme weather flags\n",
    "Corn can't survive below 0 degrees or above 34 degrees. We will give the data a flag if it goes above or below this threshold"
   ]
  },
  {
   "cell_type": "code",
   "execution_count": 36,
   "metadata": {},
   "outputs": [],
   "source": [
    "all_years_w_ext = all_years.copy()"
   ]
  },
  {
   "cell_type": "code",
   "execution_count": 35,
   "metadata": {},
   "outputs": [],
   "source": [
    "corn_states = ['Illinois', 'Indiana', 'Iowa', 'Nebraska','Ohio']"
   ]
  },
  {
   "cell_type": "code",
   "execution_count": 37,
   "metadata": {},
   "outputs": [],
   "source": [
    "for state in corn_states:\n",
    "    extreme_heat = []\n",
    "    extreme_cold = []\n",
    "    \n",
    "    for i in range(len(all_years_w_ext)):\n",
    "        # If min or max temp goes above 43, flag\n",
    "        if all_years_w_ext.loc[all_years_w_ext.index[i],f'TMAX_{state}'] > 43 or all_years_w_ext.loc[all_years_w_ext.index[i],f'TMIN_{state}'] > 43:\n",
    "            extreme_heat.append(1)\n",
    "        else:\n",
    "            extreme_heat.append(0) \n",
    "\n",
    "        # If min or max temp goes below 0,flag\n",
    "        if all_years_w_ext.loc[all_years_w_ext.index[i],f'TMAX_{state}'] < 0 or all_years_w_ext.loc[all_years_w_ext.index[i],f'TMIN_{state}'] < 0:\n",
    "            extreme_cold.append(1)\n",
    "        else:\n",
    "            extreme_cold.append(0)\n",
    "            \n",
    "    # append new columns to dataset\n",
    "    all_years_w_ext[f'extreme_heat_{state}'] = extreme_heat\n",
    "    all_years_w_ext[f'extreme_cold_{state}'] = extreme_cold  "
   ]
  },
  {
   "cell_type": "code",
   "execution_count": 38,
   "metadata": {},
   "outputs": [
    {
     "data": {
      "text/html": [
       "<div>\n",
       "<style scoped>\n",
       "    .dataframe tbody tr th:only-of-type {\n",
       "        vertical-align: middle;\n",
       "    }\n",
       "\n",
       "    .dataframe tbody tr th {\n",
       "        vertical-align: top;\n",
       "    }\n",
       "\n",
       "    .dataframe thead th {\n",
       "        text-align: right;\n",
       "    }\n",
       "</style>\n",
       "<table border=\"1\" class=\"dataframe\">\n",
       "  <thead>\n",
       "    <tr style=\"text-align: right;\">\n",
       "      <th></th>\n",
       "      <th>PRCP_Illinois</th>\n",
       "      <th>TMAX_Illinois</th>\n",
       "      <th>TMIN_Illinois</th>\n",
       "      <th>PRCP_Indiana</th>\n",
       "      <th>TMAX_Indiana</th>\n",
       "      <th>TMIN_Indiana</th>\n",
       "      <th>PRCP_Nebraska</th>\n",
       "      <th>TMAX_Nebraska</th>\n",
       "      <th>TMIN_Nebraska</th>\n",
       "      <th>PRCP_Ohio</th>\n",
       "      <th>...</th>\n",
       "      <th>extreme_heat_Illinois</th>\n",
       "      <th>extreme_cold_Illinois</th>\n",
       "      <th>extreme_heat_Indiana</th>\n",
       "      <th>extreme_cold_Indiana</th>\n",
       "      <th>extreme_heat_Iowa</th>\n",
       "      <th>extreme_cold_Iowa</th>\n",
       "      <th>extreme_heat_Nebraska</th>\n",
       "      <th>extreme_cold_Nebraska</th>\n",
       "      <th>extreme_heat_Ohio</th>\n",
       "      <th>extreme_cold_Ohio</th>\n",
       "    </tr>\n",
       "    <tr>\n",
       "      <th>date</th>\n",
       "      <th></th>\n",
       "      <th></th>\n",
       "      <th></th>\n",
       "      <th></th>\n",
       "      <th></th>\n",
       "      <th></th>\n",
       "      <th></th>\n",
       "      <th></th>\n",
       "      <th></th>\n",
       "      <th></th>\n",
       "      <th></th>\n",
       "      <th></th>\n",
       "      <th></th>\n",
       "      <th></th>\n",
       "      <th></th>\n",
       "      <th></th>\n",
       "      <th></th>\n",
       "      <th></th>\n",
       "      <th></th>\n",
       "      <th></th>\n",
       "      <th></th>\n",
       "    </tr>\n",
       "  </thead>\n",
       "  <tbody>\n",
       "    <tr>\n",
       "      <th>2000-01-01 00:00:00</th>\n",
       "      <td>0.000000</td>\n",
       "      <td>7.78</td>\n",
       "      <td>-2.340000e+00</td>\n",
       "      <td>0.00</td>\n",
       "      <td>10.6375</td>\n",
       "      <td>-3.4125</td>\n",
       "      <td>0.0000</td>\n",
       "      <td>9.757143</td>\n",
       "      <td>-5.785714</td>\n",
       "      <td>0.000000</td>\n",
       "      <td>...</td>\n",
       "      <td>0</td>\n",
       "      <td>1</td>\n",
       "      <td>0</td>\n",
       "      <td>1</td>\n",
       "      <td>0</td>\n",
       "      <td>1</td>\n",
       "      <td>0</td>\n",
       "      <td>1</td>\n",
       "      <td>0</td>\n",
       "      <td>1</td>\n",
       "    </tr>\n",
       "    <tr>\n",
       "      <th>2000-01-02 00:00:00</th>\n",
       "      <td>0.166667</td>\n",
       "      <td>12.44</td>\n",
       "      <td>8.800000e-01</td>\n",
       "      <td>0.31</td>\n",
       "      <td>15.2125</td>\n",
       "      <td>1.3250</td>\n",
       "      <td>0.0375</td>\n",
       "      <td>6.312500</td>\n",
       "      <td>-7.425000</td>\n",
       "      <td>0.000000</td>\n",
       "      <td>...</td>\n",
       "      <td>0</td>\n",
       "      <td>0</td>\n",
       "      <td>0</td>\n",
       "      <td>0</td>\n",
       "      <td>0</td>\n",
       "      <td>1</td>\n",
       "      <td>0</td>\n",
       "      <td>1</td>\n",
       "      <td>0</td>\n",
       "      <td>1</td>\n",
       "    </tr>\n",
       "    <tr>\n",
       "      <th>2000-01-03 00:00:00</th>\n",
       "      <td>0.000000</td>\n",
       "      <td>13.44</td>\n",
       "      <td>8.881784e-17</td>\n",
       "      <td>23.47</td>\n",
       "      <td>15.8375</td>\n",
       "      <td>5.7625</td>\n",
       "      <td>0.2875</td>\n",
       "      <td>0.975000</td>\n",
       "      <td>-10.062500</td>\n",
       "      <td>6.387500</td>\n",
       "      <td>...</td>\n",
       "      <td>0</td>\n",
       "      <td>0</td>\n",
       "      <td>0</td>\n",
       "      <td>0</td>\n",
       "      <td>0</td>\n",
       "      <td>1</td>\n",
       "      <td>0</td>\n",
       "      <td>1</td>\n",
       "      <td>0</td>\n",
       "      <td>0</td>\n",
       "    </tr>\n",
       "    <tr>\n",
       "      <th>2000-01-04 00:00:00</th>\n",
       "      <td>5.533333</td>\n",
       "      <td>3.00</td>\n",
       "      <td>-5.000000e+00</td>\n",
       "      <td>19.61</td>\n",
       "      <td>13.0000</td>\n",
       "      <td>-0.5625</td>\n",
       "      <td>0.1250</td>\n",
       "      <td>-2.000000</td>\n",
       "      <td>-19.100000</td>\n",
       "      <td>33.162500</td>\n",
       "      <td>...</td>\n",
       "      <td>0</td>\n",
       "      <td>1</td>\n",
       "      <td>0</td>\n",
       "      <td>1</td>\n",
       "      <td>0</td>\n",
       "      <td>1</td>\n",
       "      <td>0</td>\n",
       "      <td>1</td>\n",
       "      <td>0</td>\n",
       "      <td>0</td>\n",
       "    </tr>\n",
       "    <tr>\n",
       "      <th>2000-01-05 00:00:00</th>\n",
       "      <td>0.000000</td>\n",
       "      <td>-1.10</td>\n",
       "      <td>-1.256000e+01</td>\n",
       "      <td>0.34</td>\n",
       "      <td>0.2875</td>\n",
       "      <td>-5.5000</td>\n",
       "      <td>0.0750</td>\n",
       "      <td>3.837500</td>\n",
       "      <td>-11.187500</td>\n",
       "      <td>1.157143</td>\n",
       "      <td>...</td>\n",
       "      <td>0</td>\n",
       "      <td>1</td>\n",
       "      <td>0</td>\n",
       "      <td>1</td>\n",
       "      <td>0</td>\n",
       "      <td>1</td>\n",
       "      <td>0</td>\n",
       "      <td>1</td>\n",
       "      <td>0</td>\n",
       "      <td>1</td>\n",
       "    </tr>\n",
       "  </tbody>\n",
       "</table>\n",
       "<p>5 rows × 25 columns</p>\n",
       "</div>"
      ],
      "text/plain": [
       "                     PRCP_Illinois  TMAX_Illinois  TMIN_Illinois  \\\n",
       "date                                                               \n",
       "2000-01-01 00:00:00       0.000000           7.78  -2.340000e+00   \n",
       "2000-01-02 00:00:00       0.166667          12.44   8.800000e-01   \n",
       "2000-01-03 00:00:00       0.000000          13.44   8.881784e-17   \n",
       "2000-01-04 00:00:00       5.533333           3.00  -5.000000e+00   \n",
       "2000-01-05 00:00:00       0.000000          -1.10  -1.256000e+01   \n",
       "\n",
       "                     PRCP_Indiana  TMAX_Indiana  TMIN_Indiana  PRCP_Nebraska  \\\n",
       "date                                                                           \n",
       "2000-01-01 00:00:00          0.00       10.6375       -3.4125         0.0000   \n",
       "2000-01-02 00:00:00          0.31       15.2125        1.3250         0.0375   \n",
       "2000-01-03 00:00:00         23.47       15.8375        5.7625         0.2875   \n",
       "2000-01-04 00:00:00         19.61       13.0000       -0.5625         0.1250   \n",
       "2000-01-05 00:00:00          0.34        0.2875       -5.5000         0.0750   \n",
       "\n",
       "                     TMAX_Nebraska  TMIN_Nebraska  PRCP_Ohio  ...  \\\n",
       "date                                                          ...   \n",
       "2000-01-01 00:00:00       9.757143      -5.785714   0.000000  ...   \n",
       "2000-01-02 00:00:00       6.312500      -7.425000   0.000000  ...   \n",
       "2000-01-03 00:00:00       0.975000     -10.062500   6.387500  ...   \n",
       "2000-01-04 00:00:00      -2.000000     -19.100000  33.162500  ...   \n",
       "2000-01-05 00:00:00       3.837500     -11.187500   1.157143  ...   \n",
       "\n",
       "                     extreme_heat_Illinois  extreme_cold_Illinois  \\\n",
       "date                                                                \n",
       "2000-01-01 00:00:00                      0                      1   \n",
       "2000-01-02 00:00:00                      0                      0   \n",
       "2000-01-03 00:00:00                      0                      0   \n",
       "2000-01-04 00:00:00                      0                      1   \n",
       "2000-01-05 00:00:00                      0                      1   \n",
       "\n",
       "                     extreme_heat_Indiana  extreme_cold_Indiana  \\\n",
       "date                                                              \n",
       "2000-01-01 00:00:00                     0                     1   \n",
       "2000-01-02 00:00:00                     0                     0   \n",
       "2000-01-03 00:00:00                     0                     0   \n",
       "2000-01-04 00:00:00                     0                     1   \n",
       "2000-01-05 00:00:00                     0                     1   \n",
       "\n",
       "                     extreme_heat_Iowa  extreme_cold_Iowa  \\\n",
       "date                                                        \n",
       "2000-01-01 00:00:00                  0                  1   \n",
       "2000-01-02 00:00:00                  0                  1   \n",
       "2000-01-03 00:00:00                  0                  1   \n",
       "2000-01-04 00:00:00                  0                  1   \n",
       "2000-01-05 00:00:00                  0                  1   \n",
       "\n",
       "                     extreme_heat_Nebraska  extreme_cold_Nebraska  \\\n",
       "date                                                                \n",
       "2000-01-01 00:00:00                      0                      1   \n",
       "2000-01-02 00:00:00                      0                      1   \n",
       "2000-01-03 00:00:00                      0                      1   \n",
       "2000-01-04 00:00:00                      0                      1   \n",
       "2000-01-05 00:00:00                      0                      1   \n",
       "\n",
       "                     extreme_heat_Ohio  extreme_cold_Ohio  \n",
       "date                                                       \n",
       "2000-01-01 00:00:00                  0                  1  \n",
       "2000-01-02 00:00:00                  0                  1  \n",
       "2000-01-03 00:00:00                  0                  0  \n",
       "2000-01-04 00:00:00                  0                  0  \n",
       "2000-01-05 00:00:00                  0                  1  \n",
       "\n",
       "[5 rows x 25 columns]"
      ]
     },
     "execution_count": 38,
     "metadata": {},
     "output_type": "execute_result"
    }
   ],
   "source": [
    "all_years_w_ext.head()"
   ]
  },
  {
   "cell_type": "code",
   "execution_count": null,
   "metadata": {},
   "outputs": [],
   "source": [
    "all_years_w_ext.to_csv('Resources/corn_belt_w_extremes.csv')"
   ]
  },
  {
   "cell_type": "markdown",
   "metadata": {},
   "source": [
    "### 3. Adding Year, Month, and Season Columns"
   ]
  },
  {
   "cell_type": "code",
   "execution_count": 23,
   "metadata": {},
   "outputs": [],
   "source": [
    "def add_season(df):\n",
    "    Season = []\n",
    "    \n",
    "    df.index = pd.to_datetime(df.index)\n",
    "    \n",
    "    for i in range(len(df)):\n",
    "        if df.index.month[i] in [12,1,2]:\n",
    "            Season.append('Winter')\n",
    "        elif df.index.month[i] in [3,4,5]: # March to May\n",
    "            Season.append('Spring')\n",
    "        elif df.index.month[i] in [6,7,8]: \n",
    "            Season.append('Summer')\n",
    "        else:\n",
    "            Season.append('Fall')\n",
    "            \n",
    "    \n",
    "    df['Season'] = Season\n",
    "    df['Year'] = df.index.year\n",
    "    df['Month'] = df.index.month\n",
    "    \n",
    "    return df"
   ]
  },
  {
   "cell_type": "code",
   "execution_count": 24,
   "metadata": {},
   "outputs": [],
   "source": [
    "season_df = add_season(corn_df)"
   ]
  },
  {
   "cell_type": "code",
   "execution_count": 25,
   "metadata": {},
   "outputs": [
    {
     "data": {
      "text/plain": [
       "Index(['PRCP_Illinois', 'TMAX_Illinois', 'TMIN_Illinois', 'PRCP_Indiana',\n",
       "       'TMAX_Indiana', 'TMIN_Indiana', 'PRCP_Nebraska', 'TMAX_Nebraska',\n",
       "       'TMIN_Nebraska', 'PRCP_Ohio', 'TMAX_Ohio', 'TMIN_Ohio', 'PRCP_Iowa',\n",
       "       'TMAX_Iowa', 'TMIN_Iowa', 'Season', 'Year', 'Month'],\n",
       "      dtype='object')"
      ]
     },
     "execution_count": 25,
     "metadata": {},
     "output_type": "execute_result"
    }
   ],
   "source": [
    "season_df.columns"
   ]
  },
  {
   "cell_type": "markdown",
   "metadata": {},
   "source": [
    "------\n",
    "## Analysis of Weather Data\n",
    "To analyse the data, we will plot temperature extremes together and precipitation."
   ]
  },
  {
   "cell_type": "code",
   "execution_count": 116,
   "metadata": {},
   "outputs": [],
   "source": [
    "import hvplot.pandas\n",
    "import panel as pn\n",
    "import plotly.express as px"
   ]
  },
  {
   "cell_type": "code",
   "execution_count": 117,
   "metadata": {},
   "outputs": [],
   "source": [
    "corn_df = pd.read_csv('Resources/corn_belt_weather.csv')\n",
    "corn_df = corn_df.set_index('date')"
   ]
  },
  {
   "cell_type": "code",
   "execution_count": 118,
   "metadata": {},
   "outputs": [
    {
     "data": {
      "text/html": [
       "<div>\n",
       "<style scoped>\n",
       "    .dataframe tbody tr th:only-of-type {\n",
       "        vertical-align: middle;\n",
       "    }\n",
       "\n",
       "    .dataframe tbody tr th {\n",
       "        vertical-align: top;\n",
       "    }\n",
       "\n",
       "    .dataframe thead th {\n",
       "        text-align: right;\n",
       "    }\n",
       "</style>\n",
       "<table border=\"1\" class=\"dataframe\">\n",
       "  <thead>\n",
       "    <tr style=\"text-align: right;\">\n",
       "      <th></th>\n",
       "      <th>PRCP_Illinois</th>\n",
       "      <th>TMAX_Illinois</th>\n",
       "      <th>TMIN_Illinois</th>\n",
       "      <th>PRCP_Indiana</th>\n",
       "      <th>TMAX_Indiana</th>\n",
       "      <th>TMIN_Indiana</th>\n",
       "      <th>PRCP_Nebraska</th>\n",
       "      <th>TMAX_Nebraska</th>\n",
       "      <th>TMIN_Nebraska</th>\n",
       "      <th>PRCP_Ohio</th>\n",
       "      <th>TMAX_Ohio</th>\n",
       "      <th>TMIN_Ohio</th>\n",
       "      <th>PRCP_Iowa</th>\n",
       "      <th>TMAX_Iowa</th>\n",
       "      <th>TMIN_Iowa</th>\n",
       "    </tr>\n",
       "    <tr>\n",
       "      <th>date</th>\n",
       "      <th></th>\n",
       "      <th></th>\n",
       "      <th></th>\n",
       "      <th></th>\n",
       "      <th></th>\n",
       "      <th></th>\n",
       "      <th></th>\n",
       "      <th></th>\n",
       "      <th></th>\n",
       "      <th></th>\n",
       "      <th></th>\n",
       "      <th></th>\n",
       "      <th></th>\n",
       "      <th></th>\n",
       "      <th></th>\n",
       "    </tr>\n",
       "  </thead>\n",
       "  <tbody>\n",
       "    <tr>\n",
       "      <th>2000-01-01</th>\n",
       "      <td>0.000000</td>\n",
       "      <td>7.78</td>\n",
       "      <td>-2.340000e+00</td>\n",
       "      <td>0.00</td>\n",
       "      <td>10.6375</td>\n",
       "      <td>-3.4125</td>\n",
       "      <td>0.0000</td>\n",
       "      <td>9.757143</td>\n",
       "      <td>-5.785714</td>\n",
       "      <td>0.000000</td>\n",
       "      <td>9.1000</td>\n",
       "      <td>-5.700000</td>\n",
       "      <td>0.000000</td>\n",
       "      <td>6.100000</td>\n",
       "      <td>-2.950000</td>\n",
       "    </tr>\n",
       "    <tr>\n",
       "      <th>2000-01-02</th>\n",
       "      <td>0.166667</td>\n",
       "      <td>12.44</td>\n",
       "      <td>8.800000e-01</td>\n",
       "      <td>0.31</td>\n",
       "      <td>15.2125</td>\n",
       "      <td>1.3250</td>\n",
       "      <td>0.0375</td>\n",
       "      <td>6.312500</td>\n",
       "      <td>-7.425000</td>\n",
       "      <td>0.000000</td>\n",
       "      <td>13.6125</td>\n",
       "      <td>-0.287500</td>\n",
       "      <td>0.400000</td>\n",
       "      <td>6.383333</td>\n",
       "      <td>0.183333</td>\n",
       "    </tr>\n",
       "    <tr>\n",
       "      <th>2000-01-03</th>\n",
       "      <td>0.000000</td>\n",
       "      <td>13.44</td>\n",
       "      <td>8.881784e-17</td>\n",
       "      <td>23.47</td>\n",
       "      <td>15.8375</td>\n",
       "      <td>5.7625</td>\n",
       "      <td>0.2875</td>\n",
       "      <td>0.975000</td>\n",
       "      <td>-10.062500</td>\n",
       "      <td>6.387500</td>\n",
       "      <td>17.0875</td>\n",
       "      <td>6.812500</td>\n",
       "      <td>0.214286</td>\n",
       "      <td>6.450000</td>\n",
       "      <td>-1.566667</td>\n",
       "    </tr>\n",
       "    <tr>\n",
       "      <th>2000-01-04</th>\n",
       "      <td>5.533333</td>\n",
       "      <td>3.00</td>\n",
       "      <td>-5.000000e+00</td>\n",
       "      <td>19.61</td>\n",
       "      <td>13.0000</td>\n",
       "      <td>-0.5625</td>\n",
       "      <td>0.1250</td>\n",
       "      <td>-2.000000</td>\n",
       "      <td>-19.100000</td>\n",
       "      <td>33.162500</td>\n",
       "      <td>14.2875</td>\n",
       "      <td>4.662500</td>\n",
       "      <td>4.228571</td>\n",
       "      <td>-1.200000</td>\n",
       "      <td>-10.350000</td>\n",
       "    </tr>\n",
       "    <tr>\n",
       "      <th>2000-01-05</th>\n",
       "      <td>0.000000</td>\n",
       "      <td>-1.10</td>\n",
       "      <td>-1.256000e+01</td>\n",
       "      <td>0.34</td>\n",
       "      <td>0.2875</td>\n",
       "      <td>-5.5000</td>\n",
       "      <td>0.0750</td>\n",
       "      <td>3.837500</td>\n",
       "      <td>-11.187500</td>\n",
       "      <td>1.157143</td>\n",
       "      <td>6.1250</td>\n",
       "      <td>-3.571429</td>\n",
       "      <td>0.000000</td>\n",
       "      <td>-4.066667</td>\n",
       "      <td>-15.100000</td>\n",
       "    </tr>\n",
       "  </tbody>\n",
       "</table>\n",
       "</div>"
      ],
      "text/plain": [
       "            PRCP_Illinois  TMAX_Illinois  TMIN_Illinois  PRCP_Indiana  \\\n",
       "date                                                                    \n",
       "2000-01-01       0.000000           7.78  -2.340000e+00          0.00   \n",
       "2000-01-02       0.166667          12.44   8.800000e-01          0.31   \n",
       "2000-01-03       0.000000          13.44   8.881784e-17         23.47   \n",
       "2000-01-04       5.533333           3.00  -5.000000e+00         19.61   \n",
       "2000-01-05       0.000000          -1.10  -1.256000e+01          0.34   \n",
       "\n",
       "            TMAX_Indiana  TMIN_Indiana  PRCP_Nebraska  TMAX_Nebraska  \\\n",
       "date                                                                   \n",
       "2000-01-01       10.6375       -3.4125         0.0000       9.757143   \n",
       "2000-01-02       15.2125        1.3250         0.0375       6.312500   \n",
       "2000-01-03       15.8375        5.7625         0.2875       0.975000   \n",
       "2000-01-04       13.0000       -0.5625         0.1250      -2.000000   \n",
       "2000-01-05        0.2875       -5.5000         0.0750       3.837500   \n",
       "\n",
       "            TMIN_Nebraska  PRCP_Ohio  TMAX_Ohio  TMIN_Ohio  PRCP_Iowa  \\\n",
       "date                                                                    \n",
       "2000-01-01      -5.785714   0.000000     9.1000  -5.700000   0.000000   \n",
       "2000-01-02      -7.425000   0.000000    13.6125  -0.287500   0.400000   \n",
       "2000-01-03     -10.062500   6.387500    17.0875   6.812500   0.214286   \n",
       "2000-01-04     -19.100000  33.162500    14.2875   4.662500   4.228571   \n",
       "2000-01-05     -11.187500   1.157143     6.1250  -3.571429   0.000000   \n",
       "\n",
       "            TMAX_Iowa  TMIN_Iowa  \n",
       "date                              \n",
       "2000-01-01   6.100000  -2.950000  \n",
       "2000-01-02   6.383333   0.183333  \n",
       "2000-01-03   6.450000  -1.566667  \n",
       "2000-01-04  -1.200000 -10.350000  \n",
       "2000-01-05  -4.066667 -15.100000  "
      ]
     },
     "execution_count": 118,
     "metadata": {},
     "output_type": "execute_result"
    }
   ],
   "source": [
    "corn_df.head()"
   ]
  },
  {
   "cell_type": "code",
   "execution_count": 119,
   "metadata": {},
   "outputs": [],
   "source": [
    "precip_df = corn_df[['PRCP_Illinois','PRCP_Indiana','PRCP_Nebraska','PRCP_Ohio','PRCP_Iowa']].copy()\n",
    "temp_df = corn_df[['TMIN_Illinois','TMIN_Indiana','TMIN_Nebraska',\n",
    "                   'TMIN_Ohio','TMIN_Iowa','TMAX_Illinois','TMAX_Indiana',\n",
    "                   'TMAX_Nebraska','TMAX_Ohio','TMAX_Iowa']].copy()\n"
   ]
  },
  {
   "cell_type": "code",
   "execution_count": 120,
   "metadata": {},
   "outputs": [],
   "source": [
    "precip_graph = add_season(precip_df)"
   ]
  },
  {
   "cell_type": "code",
   "execution_count": 121,
   "metadata": {},
   "outputs": [
    {
     "data": {
      "text/plain": [
       "Index(['PRCP_Illinois', 'PRCP_Indiana', 'PRCP_Nebraska', 'PRCP_Ohio',\n",
       "       'PRCP_Iowa', 'Season', 'Year', 'Month'],\n",
       "      dtype='object')"
      ]
     },
     "execution_count": 121,
     "metadata": {},
     "output_type": "execute_result"
    }
   ],
   "source": [
    "precip_graph.columns"
   ]
  },
  {
   "cell_type": "code",
   "execution_count": 122,
   "metadata": {},
   "outputs": [],
   "source": [
    "def rain_20(df, state, year):\n",
    "    \n",
    "    df = df.groupby(['Season','Year']).sum().copy()\n",
    "    \n",
    "    df[f'PRCP_{state}'].hvplot.bar(ylabel='Precipitation',\n",
    "                        width=900,\n",
    "                        height=500,\n",
    "                        rot=90,\n",
    "                color='blue',\n",
    "                title=f'Annual Precipiation over 20 Years for {state}',\n",
    "                                  alpha=0.3,\n",
    "                                 by='Year')"
   ]
  },
  {
   "cell_type": "code",
   "execution_count": 123,
   "metadata": {},
   "outputs": [
    {
     "data": {
      "application/vnd.holoviews_exec.v0+json": "",
      "text/html": [
       "<div id='19336'>\n",
       "\n",
       "\n",
       "\n",
       "\n",
       "\n",
       "  <div class=\"bk-root\" id=\"1eb5189f-ff75-4cbb-99cb-1ab44f98139a\" data-root-id=\"19336\"></div>\n",
       "</div>\n",
       "<script type=\"application/javascript\">(function(root) {\n",
       "  function embed_document(root) {\n",
       "  var docs_json = {\"cd1f9b29-2aee-4322-bea5-7d2d4c94e1e1\":{\"roots\":{\"references\":[{\"attributes\":{\"margin\":[5,5,5,5],\"name\":\"Str33654\"},\"id\":\"19338\",\"type\":\"panel.models.markup.HTML\"},{\"attributes\":{\"margin\":[5,5,5,5],\"name\":\"Str33807\"},\"id\":\"19342\",\"type\":\"panel.models.markup.HTML\"},{\"attributes\":{\"children\":[{\"id\":\"19337\"},{\"id\":\"19340\"},{\"id\":\"19343\"}],\"margin\":[0,0,0,0],\"name\":\"Column33886\"},\"id\":\"19336\",\"type\":\"Column\"},{\"attributes\":{\"margin\":[5,5,5,5],\"name\":\"Str33656\"},\"id\":\"19339\",\"type\":\"panel.models.markup.HTML\"},{\"attributes\":{\"margin\":[5,5,5,5],\"name\":\"Str33883\"},\"id\":\"19344\",\"type\":\"panel.models.markup.HTML\"},{\"attributes\":{\"client_comm_id\":\"ef5ffe5d5d0a414bbc08a29d01bf22f5\",\"comm_id\":\"26456939fa9b4191bbb2112050db98c0\",\"plot_id\":\"19336\"},\"id\":\"19345\",\"type\":\"panel.models.comm_manager.CommManager\"},{\"attributes\":{\"margin\":[5,5,5,5],\"name\":\"Str33805\"},\"id\":\"19341\",\"type\":\"panel.models.markup.HTML\"},{\"attributes\":{\"children\":[{\"id\":\"19338\"},{\"id\":\"19339\"}],\"margin\":[0,0,0,0],\"name\":\"Row33658\"},\"id\":\"19337\",\"type\":\"Row\"},{\"attributes\":{\"children\":[{\"id\":\"19341\"},{\"id\":\"19342\"}],\"margin\":[0,0,0,0],\"name\":\"Row33809\"},\"id\":\"19340\",\"type\":\"Row\"},{\"attributes\":{\"children\":[{\"id\":\"19344\"}],\"margin\":[0,0,0,0],\"name\":\"Row33885\"},\"id\":\"19343\",\"type\":\"Row\"}],\"root_ids\":[\"19336\",\"19345\"]},\"title\":\"Bokeh Application\",\"version\":\"2.0.2\"}};\n",
       "  var render_items = [{\"docid\":\"cd1f9b29-2aee-4322-bea5-7d2d4c94e1e1\",\"root_ids\":[\"19336\"],\"roots\":{\"19336\":\"1eb5189f-ff75-4cbb-99cb-1ab44f98139a\"}}];\n",
       "  root.Bokeh.embed.embed_items_notebook(docs_json, render_items);\n",
       "  }\n",
       "if (root.Bokeh !== undefined) {\n",
       "    embed_document(root);\n",
       "  } else {\n",
       "    var attempts = 0;\n",
       "    var timer = setInterval(function(root) {\n",
       "      if (root.Bokeh !== undefined) {\n",
       "        clearInterval(timer);\n",
       "        embed_document(root);\n",
       "      } else if (document.readyState == \"complete\") {\n",
       "        attempts++;\n",
       "        if (attempts > 100) {\n",
       "          clearInterval(timer);\n",
       "          console.log(\"Bokeh: ERROR: Unable to run BokehJS code because BokehJS library is missing\");\n",
       "        }\n",
       "      }\n",
       "    }, 10, root)\n",
       "  }\n",
       "})(window);</script>"
      ],
      "text/plain": [
       "Column\n",
       "    [0] Row\n",
       "        [0] Str(None)\n",
       "        [1] Str(None)\n",
       "    [1] Row\n",
       "        [0] Str(None)\n",
       "        [1] Str(None)\n",
       "    [2] Row\n",
       "        [0] Str(None)"
      ]
     },
     "execution_count": 123,
     "metadata": {
      "application/vnd.holoviews_exec.v0+json": {
       "id": "19336"
      }
     },
     "output_type": "execute_result"
    }
   ],
   "source": [
    "pn.Column(\n",
    "    pn.Row(rain_20(precip_graph,'Illinois', 2010),rain_20(precip_graph,'Iowa', 2010)),\n",
    "    pn.Row(rain_20(precip_graph,'Nebraska', 2010),rain_20(precip_graph,'Indiana', 2010)),\n",
    "    pn.Row(rain_20(precip_graph,'Ohio', 2010))\n",
    ")\n"
   ]
  },
  {
   "cell_type": "code",
   "execution_count": 124,
   "metadata": {},
   "outputs": [],
   "source": [
    "def graph_precip(df, state, year):\n",
    "    \n",
    "    df = df[df['Year'] == year].copy()\n",
    "    \n",
    "    return df.hvplot(x='Month', \n",
    "                 y=[f'PRCP_{state}'], \n",
    "                 by='Year', \n",
    "                 kind='scatter', \n",
    "                 alpha=0.2, \n",
    "                 persist=True,\n",
    "                width=500,\n",
    "                height=300,\n",
    "                title=f'Precipitation in {state} by Month in {year}',\n",
    "                ylabel='Precipitation (mm)')"
   ]
  },
  {
   "cell_type": "code",
   "execution_count": 88,
   "metadata": {},
   "outputs": [
    {
     "data": {
      "application/vnd.holoviews_exec.v0+json": "",
      "text/html": [
       "<div id='9067'>\n",
       "\n",
       "\n",
       "\n",
       "\n",
       "\n",
       "  <div class=\"bk-root\" id=\"3ae2eaa1-792d-4ead-b2aa-64b6c06e7a63\" data-root-id=\"9067\"></div>\n",
       "</div>\n",
       "<script type=\"application/javascript\">(function(root) {\n",
       "  function embed_document(root) {\n",
       "  var docs_json = {\"ce417e9e-c27c-4220-bf73-f7757c493ef7\":{\"roots\":{\"references\":[{\"attributes\":{},\"id\":\"9203\",\"type\":\"BasicTicker\"},{\"attributes\":{},\"id\":\"9325\",\"type\":\"PanTool\"},{\"attributes\":{\"fill_alpha\":{\"value\":0.2},\"fill_color\":{\"value\":\"#1f77b3\"},\"line_alpha\":{\"value\":0.2},\"line_color\":{\"value\":\"#1f77b3\"},\"size\":{\"units\":\"screen\",\"value\":5.477225575051661},\"x\":{\"field\":\"Month\"},\"y\":{\"field\":\"PRCP_Indiana\"}},\"id\":\"9463\",\"type\":\"Scatter\"},{\"attributes\":{},\"id\":\"9442\",\"type\":\"PanTool\"},{\"attributes\":{},\"id\":\"9326\",\"type\":\"WheelZoomTool\"},{\"attributes\":{\"callback\":null,\"renderers\":[{\"id\":\"9582\"}],\"tags\":[\"hv_created\"],\"tooltips\":[[\"Year\",\"@{Year}\"],[\"Month\",\"@{Month}\"],[\"PRCP_Ohio\",\"@{PRCP_Ohio}\"]]},\"id\":\"9541\",\"type\":\"HoverTool\"},{\"attributes\":{\"bottom_units\":\"screen\",\"fill_alpha\":0.5,\"fill_color\":\"lightgrey\",\"left_units\":\"screen\",\"level\":\"overlay\",\"line_alpha\":1.0,\"line_color\":\"black\",\"line_dash\":[4,4],\"line_width\":2,\"render_mode\":\"css\",\"right_units\":\"screen\",\"top_units\":\"screen\"},\"id\":\"9094\",\"type\":\"BoxAnnotation\"},{\"attributes\":{\"click_policy\":\"mute\",\"items\":[{\"id\":\"9473\"}],\"location\":[0,0],\"title\":\"Year\"},\"id\":\"9472\",\"type\":\"Legend\"},{\"attributes\":{},\"id\":\"9220\",\"type\":\"BasicTickFormatter\"},{\"attributes\":{\"align\":null,\"below\":[{\"id\":\"9433\"}],\"center\":[{\"id\":\"9436\"},{\"id\":\"9440\"}],\"left\":[{\"id\":\"9437\"}],\"margin\":null,\"min_border_bottom\":10,\"min_border_left\":10,\"min_border_right\":10,\"min_border_top\":10,\"plot_height\":300,\"plot_width\":500,\"renderers\":[{\"id\":\"9464\"}],\"right\":[{\"id\":\"9472\"}],\"sizing_mode\":\"fixed\",\"title\":{\"id\":\"9425\"},\"toolbar\":{\"id\":\"9447\"},\"x_range\":{\"id\":\"9069\"},\"x_scale\":{\"id\":\"9429\"},\"y_range\":{\"id\":\"9422\"},\"y_scale\":{\"id\":\"9431\"}},\"id\":\"9424\",\"subtype\":\"Figure\",\"type\":\"Plot\"},{\"attributes\":{\"overlay\":{\"id\":\"9329\"}},\"id\":\"9327\",\"type\":\"BoxZoomTool\"},{\"attributes\":{\"fill_alpha\":{\"value\":0.2},\"fill_color\":{\"value\":\"#1f77b3\"},\"line_alpha\":{\"value\":0.2},\"line_color\":{\"value\":\"#1f77b3\"},\"size\":{\"units\":\"screen\",\"value\":5.477225575051661},\"x\":{\"field\":\"Month\"},\"y\":{\"field\":\"PRCP_Iowa\"}},\"id\":\"9226\",\"type\":\"Scatter\"},{\"attributes\":{},\"id\":\"9573\",\"type\":\"BasicTickFormatter\"},{\"attributes\":{\"data\":{\"Month\":[1,1,1,1,1,1,1,1,1,1,1,1,1,1,1,1,1,1,1,1,1,1,1,1,1,1,1,1,1,1,1,2,2,2,2,2,2,2,2,2,2,2,2,2,2,2,2,2,2,2,2,2,2,2,2,2,2,2,2,3,3,3,3,3,3,3,3,3,3,3,3,3,3,3,3,3,3,3,3,3,3,3,3,3,3,3,3,3,3,3,4,4,4,4,4,4,4,4,4,4,4,4,4,4,4,4,4,4,4,4,4,4,4,4,4,4,4,4,4,4,5,5,5,5,5,5,5,5,5,5,5,5,5,5,5,5,5,5,5,5,5,5,5,5,5,5,5,5,5,5,5,6,6,6,6,6,6,6,6,6,6,6,6,6,6,6,6,6,6,6,6,6,6,6,6,6,6,6,6,6,6,7,7,7,7,7,7,7,7,7,7,7,7,7,7,7,7,7,7,7,7,7,7,7,7,7,7,7,7,7,7,7,8,8,8,8,8,8,8,8,8,8,8,8,8,8,8,8,8,8,8,8,8,8,8,8,8,8,8,8,8,8,8,9,9,9,9,9,9,9,9,9,9,9,9,9,9,9,9,9,9,9,9,9,9,9,9,9,9,9,9,9,9,10,10,10,10,10,10,10,10,10,10,10,10,10,10,10,10,10,10,10,10,10,10,10,10,10,10,10,10,10,10,10,11,11,11,11,11,11,11,11,11,11,11,11,11,11,11,11,11,11,11,11,11,11,11,11,11,11,11,11,11,11,12,12,12,12,12,12,12,12,12,12,12,12,12,12,12,12,12,12,12,12,12,12,12,12,12,12,12,12,12,12,12],\"PRCP_Iowa\":{\"__ndarray__\":\"VnzFV3zFxz8AAAAAAAAAAAAAAAAAAAAAAAAAAAAAAAAAAAAAAAAAAFEHdVAHdeA/Z2ZmZmZmGEAsvuIrvuL7PwAAAAAAAAAAAAAAAAAAAAAAAAAAAAAAAAAAAAAAAAAAAAAAAAAAAAAAAAAAAAAAAAAAAAAAAAAAF1/xFV/xpT8AAAAAAAAAADMzMzMzM7M/mpmZmZmZuT9mZmZmZiYRQGZmZmZm5hdAMzMzMzMzsz/NzMzMzMzuPzYzMzMzsylAUQd1UAd1AEDyFV/xFV8FQB7UQR3UQb0/F1/xFV/xtT8AAAAAAAAAAAAAAAAAAAAAAAAAAAAAAACSJEmSJEmyPwd1UAd1UAtAMzMzMzMzoz8AAAAAAAAAAF/xFV/xFd8/mZmZmZmZ6T+SJEmSJEnSP+/u7u7u7gZAbtu2bdu2HUCamZmZmZnwPwAAAAAAAAAAMzMzMzMz4T8zMzMzMzOjP3ZQB3VQB/U/dVAHdVAH5T/NzMzMzMzMPwAAAAAAAAAAAAAAAAAAAABmZmZmZmbgP33FV3zFVwhAMzMzMzMz0z/NzMzMzEwEQAAAAAAAAAAAMzMzMzMzsz8AAAAAAAAAAAAAAAAAAAAAAAAAAAAAAAAAAAAAAAAAAAAAAAAAAAAAAAAAAAAAAAAAAAAAAAAAAAAAAAAAAAAAAAAAAAAAAABRB3VQB3XgP+/u7u7u7gZA6qAO6qAO8j99xVd8xVf0PyRJkiRJkhxASZIkSZIkIkBJkiRJkiTxP5IkSZIkSS1AdlAHdVAH/T8XX/EVX/GlPwAAAAAAAAAAJkmSJEmSAEAAAAAAAAAAAAAAAAAAAAAAt23btm3bAkChDuqgDur4P5IkSZIkSbI/AAAAAAAAAABRB3VQB3XQP3vFV3zFVxJAAAAAAAAAAAAAAAAAAAAAAAAAAAAAAPg/AAAAAAAAAAAAAAAAAAAAAAAAAAAAAAAAAAAAAAAAAADiK77iK77iP1/xFV/xFSBAF1/xFV/xpT/iK77iK74KQKiDOqiDOhRANjMzMzMzD0B7xVd8xVcIQAAAAAAAAAAAkiRJkiRJwj8AAAAAAAAAAFEHdVAHddA/SpIkSZIkHUAAAAAAAAAAAB7UQR3UQb0/JkmSJEmSBEAAAAAAAAAAAAAAAAAAAAAAAAAAAAAAAAAAAAAAAAAAAAAAAAAAAAAAAAAAAAAAAABQB3VQB3USQPAVX/EVXyVAQx3UQR1UOUC+4iu+4isOQA/qoA7qoAJAAAAAAAAAAAAAAAAAAAAAAPmKr/iKrxhAZmZmZmbGJUBmZmZmZmbxP5qZmZmZmec/MzMzMzMzoz/MzMzMzMzzPwAAAAAAAAAAzczMzMwMJ0CamZmZmZkFQAAAAAAAAAAAZmZmZmZm5D8zMzMzM5M4QAAAAAAAgA9AzczMzMw8QUBmZmZmZmb3PwAAAAAAAAAAzczMzMzM2D/NzMzMzMwUQM3MzMzMzNA/AAAAAAAAAAAAAAAAAADAP///////fxdANDMzMzMzAkAAAAAAAAAAAAAAAAAAAAAAkiRJkiRJwj+amZmZmSkwQAAAAAAAAAAAAAAAAAAAAAAAAAAAAAAAADMzMzMzM+E/MzMzMzOzEkA6qIM6qIPqPzqogzqoAzdAF1/xFV/xpT+amZmZmZkZQIuv+Iqv+BJAdVAHdVAHI0AAAAAAAAAAAF/xFV/xFQtAOaiDOqiDJEDkK77iK74OQL3iK77iKyRAAAAAAAAAJ0CamZmZmZkvQMZXfMVXfC5AQR3UQR3UE0CDOqiDOqgvQAAAAAAAAAAAHtRBHdRBKUBKkiRJkqQ2QIM6qIM6qBdAHtRBHdRB/T+amZmZmZkkQHVQB3VQhzNA00Ed1EGdMEAAAAAAAAAAAHvFV3zFVzhAzczMzMxMMEBJkiRJkiTpPwAAAAAAAAAAAAAAAAAAAAAAAAAAAAAAAAAAAAAAAAAAAAAAAAAAAABQB3VQB3UUQIU6qIM6qDtAMjMzMzMzIkDqoA7qoA7yP08HdVAHdStAAAAAAAAAAAAAAAAAAAAAAL7iK77iK94/1EEd1EEdEkBJkiRJkiQTQAAAAAAAAAAAXvEVX/EVF0AXX/EVX/GlP1VVVVVVVbU/q6qqqqoqMkArvuIrvuIHQNVBHdRBnTtAWHzFV3zF9z8rvuIrvuIvQIuv+Iqv+CJAXvEVX/GVNkBRB3VQB3XwPwAAAAAAAAAAAAAAAAAAAADxFV/xFV/5P/EVX/EVX+E/7u7u7u7uHkBnZmZmZmYKQAAAAAAAAAAAmpmZmZmZ7z8yMzMzMxMsQM3MzMzMbCNAMzMzMzMz3z8AAAAAAAAAAM3MzMzMzPI/AAAAAAAAyD9oZmZmZr5BQM3MzMzMLChAmpmZmZnJOkAAAAAAAAAAAJqZmZmZGQVAMzMzMzOzL0AAAAAAAAAAAAAAAAAAAAAAAAAAAAAA/D9mZmZmZmYHQM3MzMzMzMw/ZmZmZmZm2j8AAAAAAIAQQAAAAAAAAAAAAAAAAAAAAAAAAAAAAAD8PwAAAAAAAAAAAAAAAAAAAAAAAAAAAAAAAAAAAAAAAAAAAAAAAAAAAAAAAAAAAAAAAM3MzMzMzPA/mpmZmZmRREDNzMzMzMzsP8vMzMzMjBJAAAAAAAAAAAAAAAAAAAAAAM3MzMzMTAJAAAAAAACADUAAAAAAAAAAAGZmZmZmZvY/ZmZmZmZm3j81MzMzM9MwQAAAAAAAAAAAAAAAAAAAAAAzMzMzMzMlQAAAAAAAAAAAzczMzMzMzD8AAAAAAAAAAB7UQR3UQQ1A27Zt27ZtJECamZmZmVkQQGZmZmZmJhBAMzMzMzNjOUAzMzMzMzP0PzMzMzMzQzFAmpmZmZkZA0CamZmZmVklQAAAAAAAAAAAAAAAAAAAAAAAAAAAAAAAAAAAAAAAAAAAAAAAAAAAAADNzMzMzMzQPwAAAAAAAAAAAAAAAAAAAAAAAAAAAAAAAAAAAAAAAAAAAAAAAAAAAAAAAAAAAAAAAAAAAAAAAAAAAAAAAAAAAAAAAAAAAAAAADMzMzMzM6M/MzMzMzMzsz8AAAAAAAAAAAAAAAAAAAAAAAAAAAAAAAAAAAAAAAAAAAAAAAAAAAAAAAAAAAAAAAAAAAAAAAAAAAAAAAAAAAAAAAAAAAAAAACamZmZmZkXQM3MzMzMjClAmpmZmZmZ8T+Lr/iKr/giQFd8xVd8xec/MzMzMzMzsz8AAAAAAAAAAAAAAAAAAAAAAAAAAAAAAAAAAAAAAAAAAAAAAAAAAAAAAAAAAAAAAAAAAAAAAAAAAAAAAAAAAAAAAAAAAAAAAAAAAAAAAAAAAAAAAAAAAAAAAAAAAAAAAAAAAAAAAAAAAAAAAAAAALA/zMzMzMwsIUDHV3zFV3w0QB7UQR3UQb0/AAAAAAAAAADNzMzMzMzUPwAAAAAAALA/AAAAAAAAAAAAAAAAAAAAAAAAAAAAAAAAAAAAAAAAwD9mZmZmZmYHQDMzMzMzM+U/zczMzMzMxD+amZmZmRkGQDMzMzMzM6M/AAAAAAAAAAAAAAAAAAAAAAAAAAAAAAAAZmZmZmbmE0CamZmZmZnJPzMzMzMzM6M/MzMzMzMzoz+amZmZmZkGQJqZmZmZmck/MzMzMzMzoz8zMzMzMzOzPwAAAAAAAAAAAAAAAAAAAAAAAAAAAAAAAGZmZmZmZvU/NjMzMzMzH0AzMzMzMzOzPwAAAAAAAAAAAAAAAAAAAAAAAAAAAAAPQMzMzMzMzOw/AAAAAAAAAAAAAAAAAAAAAAAAAAAAAAAAAAAAAAAA+T8AAAAAAAAAAAAAAAAAALA/MzMzMzPzEkC+4iu+4iv+PzMzMzMzM7M/AAAAAAAAAAAAAAAAAAAAAAAAAAAAAAAAzczMzMzM5j8zMzMzMzPhPw==\",\"dtype\":\"float64\",\"shape\":[365]},\"Year\":[2010,2010,2010,2010,2010,2010,2010,2010,2010,2010,2010,2010,2010,2010,2010,2010,2010,2010,2010,2010,2010,2010,2010,2010,2010,2010,2010,2010,2010,2010,2010,2010,2010,2010,2010,2010,2010,2010,2010,2010,2010,2010,2010,2010,2010,2010,2010,2010,2010,2010,2010,2010,2010,2010,2010,2010,2010,2010,2010,2010,2010,2010,2010,2010,2010,2010,2010,2010,2010,2010,2010,2010,2010,2010,2010,2010,2010,2010,2010,2010,2010,2010,2010,2010,2010,2010,2010,2010,2010,2010,2010,2010,2010,2010,2010,2010,2010,2010,2010,2010,2010,2010,2010,2010,2010,2010,2010,2010,2010,2010,2010,2010,2010,2010,2010,2010,2010,2010,2010,2010,2010,2010,2010,2010,2010,2010,2010,2010,2010,2010,2010,2010,2010,2010,2010,2010,2010,2010,2010,2010,2010,2010,2010,2010,2010,2010,2010,2010,2010,2010,2010,2010,2010,2010,2010,2010,2010,2010,2010,2010,2010,2010,2010,2010,2010,2010,2010,2010,2010,2010,2010,2010,2010,2010,2010,2010,2010,2010,2010,2010,2010,2010,2010,2010,2010,2010,2010,2010,2010,2010,2010,2010,2010,2010,2010,2010,2010,2010,2010,2010,2010,2010,2010,2010,2010,2010,2010,2010,2010,2010,2010,2010,2010,2010,2010,2010,2010,2010,2010,2010,2010,2010,2010,2010,2010,2010,2010,2010,2010,2010,2010,2010,2010,2010,2010,2010,2010,2010,2010,2010,2010,2010,2010,2010,2010,2010,2010,2010,2010,2010,2010,2010,2010,2010,2010,2010,2010,2010,2010,2010,2010,2010,2010,2010,2010,2010,2010,2010,2010,2010,2010,2010,2010,2010,2010,2010,2010,2010,2010,2010,2010,2010,2010,2010,2010,2010,2010,2010,2010,2010,2010,2010,2010,2010,2010,2010,2010,2010,2010,2010,2010,2010,2010,2010,2010,2010,2010,2010,2010,2010,2010,2010,2010,2010,2010,2010,2010,2010,2010,2010,2010,2010,2010,2010,2010,2010,2010,2010,2010,2010,2010,2010,2010,2010,2010,2010,2010,2010,2010,2010,2010,2010,2010,2010,2010,2010,2010,2010,2010,2010,2010,2010,2010,2010,2010,2010,2010,2010,2010,2010,2010,2010,2010,2010,2010]},\"selected\":{\"id\":\"9224\"},\"selection_policy\":{\"id\":\"9245\"}},\"id\":\"9223\",\"type\":\"ColumnDataSource\"},{\"attributes\":{\"fill_alpha\":{\"value\":0.2},\"fill_color\":{\"value\":\"#1f77b3\"},\"line_alpha\":{\"value\":0.2},\"line_color\":{\"value\":\"#1f77b3\"},\"size\":{\"units\":\"screen\",\"value\":5.477225575051661},\"x\":{\"field\":\"Month\"},\"y\":{\"field\":\"PRCP_Indiana\"}},\"id\":\"9462\",\"type\":\"Scatter\"},{\"attributes\":{},\"id\":\"9224\",\"type\":\"Selection\"},{\"attributes\":{\"data\":{\"Month\":[1,1,1,1,1,1,1,1,1,1,1,1,1,1,1,1,1,1,1,1,1,1,1,1,1,1,1,1,1,1,1,2,2,2,2,2,2,2,2,2,2,2,2,2,2,2,2,2,2,2,2,2,2,2,2,2,2,2,2,3,3,3,3,3,3,3,3,3,3,3,3,3,3,3,3,3,3,3,3,3,3,3,3,3,3,3,3,3,3,3,4,4,4,4,4,4,4,4,4,4,4,4,4,4,4,4,4,4,4,4,4,4,4,4,4,4,4,4,4,4,5,5,5,5,5,5,5,5,5,5,5,5,5,5,5,5,5,5,5,5,5,5,5,5,5,5,5,5,5,5,5,6,6,6,6,6,6,6,6,6,6,6,6,6,6,6,6,6,6,6,6,6,6,6,6,6,6,6,6,6,6,7,7,7,7,7,7,7,7,7,7,7,7,7,7,7,7,7,7,7,7,7,7,7,7,7,7,7,7,7,7,7,8,8,8,8,8,8,8,8,8,8,8,8,8,8,8,8,8,8,8,8,8,8,8,8,8,8,8,8,8,8,8,9,9,9,9,9,9,9,9,9,9,9,9,9,9,9,9,9,9,9,9,9,9,9,9,9,9,9,9,9,9,10,10,10,10,10,10,10,10,10,10,10,10,10,10,10,10,10,10,10,10,10,10,10,10,10,10,10,10,10,10,10,11,11,11,11,11,11,11,11,11,11,11,11,11,11,11,11,11,11,11,11,11,11,11,11,11,11,11,11,11,11,12,12,12,12,12,12,12,12,12,12,12,12,12,12,12,12,12,12,12,12,12,12,12,12,12,12,12,12,12,12,12],\"PRCP_Indiana\":{\"__ndarray__\":\"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\",\"dtype\":\"float64\",\"shape\":[365]},\"Year\":[2010,2010,2010,2010,2010,2010,2010,2010,2010,2010,2010,2010,2010,2010,2010,2010,2010,2010,2010,2010,2010,2010,2010,2010,2010,2010,2010,2010,2010,2010,2010,2010,2010,2010,2010,2010,2010,2010,2010,2010,2010,2010,2010,2010,2010,2010,2010,2010,2010,2010,2010,2010,2010,2010,2010,2010,2010,2010,2010,2010,2010,2010,2010,2010,2010,2010,2010,2010,2010,2010,2010,2010,2010,2010,2010,2010,2010,2010,2010,2010,2010,2010,2010,2010,2010,2010,2010,2010,2010,2010,2010,2010,2010,2010,2010,2010,2010,2010,2010,2010,2010,2010,2010,2010,2010,2010,2010,2010,2010,2010,2010,2010,2010,2010,2010,2010,2010,2010,2010,2010,2010,2010,2010,2010,2010,2010,2010,2010,2010,2010,2010,2010,2010,2010,2010,2010,2010,2010,2010,2010,2010,2010,2010,2010,2010,2010,2010,2010,2010,2010,2010,2010,2010,2010,2010,2010,2010,2010,2010,2010,2010,2010,2010,2010,2010,2010,2010,2010,2010,2010,2010,2010,2010,2010,2010,2010,2010,2010,2010,2010,2010,2010,2010,2010,2010,2010,2010,2010,2010,2010,2010,2010,2010,2010,2010,2010,2010,2010,2010,2010,2010,2010,2010,2010,2010,2010,2010,2010,2010,2010,2010,2010,2010,2010,2010,2010,2010,2010,2010,2010,2010,2010,2010,2010,2010,2010,2010,2010,2010,2010,2010,2010,2010,2010,2010,2010,2010,2010,2010,2010,2010,2010,2010,2010,2010,2010,2010,2010,2010,2010,2010,2010,2010,2010,2010,2010,2010,2010,2010,2010,2010,2010,2010,2010,2010,2010,2010,2010,2010,2010,2010,2010,2010,2010,2010,2010,2010,2010,2010,2010,2010,2010,2010,2010,2010,2010,2010,2010,2010,2010,2010,2010,2010,2010,2010,2010,2010,2010,2010,2010,2010,2010,2010,2010,2010,2010,2010,2010,2010,2010,2010,2010,2010,2010,2010,2010,2010,2010,2010,2010,2010,2010,2010,2010,2010,2010,2010,2010,2010,2010,2010,2010,2010,2010,2010,2010,2010,2010,2010,2010,2010,2010,2010,2010,2010,2010,2010,2010,2010,2010,2010,2010,2010,2010,2010,2010,2010,2010,2010,2010,2010,2010,2010,2010,2010]},\"selected\":{\"id\":\"9459\"},\"selection_policy\":{\"id\":\"9480\"}},\"id\":\"9458\",\"type\":\"ColumnDataSource\"},{\"attributes\":{},\"id\":\"9363\",\"type\":\"UnionRenderers\"},{\"attributes\":{\"bottom_units\":\"screen\",\"fill_alpha\":0.5,\"fill_color\":\"lightgrey\",\"left_units\":\"screen\",\"level\":\"overlay\",\"line_alpha\":1.0,\"line_color\":\"black\",\"line_dash\":[4,4],\"line_width\":2,\"render_mode\":\"css\",\"right_units\":\"screen\",\"top_units\":\"screen\"},\"id\":\"9446\",\"type\":\"BoxAnnotation\"},{\"attributes\":{},\"id\":\"9556\",\"type\":\"BasicTicker\"},{\"attributes\":{},\"id\":\"9598\",\"type\":\"UnionRenderers\"},{\"attributes\":{\"source\":{\"id\":\"9223\"}},\"id\":\"9230\",\"type\":\"CDSView\"},{\"attributes\":{},\"id\":\"9206\",\"type\":\"SaveTool\"},{\"attributes\":{\"data_source\":{\"id\":\"9223\"},\"glyph\":{\"id\":\"9226\"},\"hover_glyph\":null,\"muted_glyph\":{\"id\":\"9228\"},\"nonselection_glyph\":{\"id\":\"9227\"},\"selection_glyph\":null,\"view\":{\"id\":\"9230\"}},\"id\":\"9229\",\"type\":\"GlyphRenderer\"},{\"attributes\":{\"axis\":{\"id\":\"9551\"},\"grid_line_color\":null,\"ticker\":null},\"id\":\"9554\",\"type\":\"Grid\"},{\"attributes\":{\"axis_label\":\"Month\",\"bounds\":\"auto\",\"formatter\":{\"id\":\"9220\"},\"major_label_orientation\":\"horizontal\",\"ticker\":{\"id\":\"9199\"}},\"id\":\"9198\",\"type\":\"LinearAxis\"},{\"attributes\":{\"data\":{\"Month\":[1,1,1,1,1,1,1,1,1,1,1,1,1,1,1,1,1,1,1,1,1,1,1,1,1,1,1,1,1,1,1,2,2,2,2,2,2,2,2,2,2,2,2,2,2,2,2,2,2,2,2,2,2,2,2,2,2,2,2,3,3,3,3,3,3,3,3,3,3,3,3,3,3,3,3,3,3,3,3,3,3,3,3,3,3,3,3,3,3,3,4,4,4,4,4,4,4,4,4,4,4,4,4,4,4,4,4,4,4,4,4,4,4,4,4,4,4,4,4,4,5,5,5,5,5,5,5,5,5,5,5,5,5,5,5,5,5,5,5,5,5,5,5,5,5,5,5,5,5,5,5,6,6,6,6,6,6,6,6,6,6,6,6,6,6,6,6,6,6,6,6,6,6,6,6,6,6,6,6,6,6,7,7,7,7,7,7,7,7,7,7,7,7,7,7,7,7,7,7,7,7,7,7,7,7,7,7,7,7,7,7,7,8,8,8,8,8,8,8,8,8,8,8,8,8,8,8,8,8,8,8,8,8,8,8,8,8,8,8,8,8,8,8,9,9,9,9,9,9,9,9,9,9,9,9,9,9,9,9,9,9,9,9,9,9,9,9,9,9,9,9,9,9,10,10,10,10,10,10,10,10,10,10,10,10,10,10,10,10,10,10,10,10,10,10,10,10,10,10,10,10,10,10,10,11,11,11,11,11,11,11,11,11,11,11,11,11,11,11,11,11,11,11,11,11,11,11,11,11,11,11,11,11,11,12,12,12,12,12,12,12,12,12,12,12,12,12,12,12,12,12,12,12,12,12,12,12,12,12,12,12,12,12,12,12],\"PRCP_Ohio\":{\"__ndarray__\":\"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\",\"dtype\":\"float64\",\"shape\":[365]},\"Year\":[2010,2010,2010,2010,2010,2010,2010,2010,2010,2010,2010,2010,2010,2010,2010,2010,2010,2010,2010,2010,2010,2010,2010,2010,2010,2010,2010,2010,2010,2010,2010,2010,2010,2010,2010,2010,2010,2010,2010,2010,2010,2010,2010,2010,2010,2010,2010,2010,2010,2010,2010,2010,2010,2010,2010,2010,2010,2010,2010,2010,2010,2010,2010,2010,2010,2010,2010,2010,2010,2010,2010,2010,2010,2010,2010,2010,2010,2010,2010,2010,2010,2010,2010,2010,2010,2010,2010,2010,2010,2010,2010,2010,2010,2010,2010,2010,2010,2010,2010,2010,2010,2010,2010,2010,2010,2010,2010,2010,2010,2010,2010,2010,2010,2010,2010,2010,2010,2010,2010,2010,2010,2010,2010,2010,2010,2010,2010,2010,2010,2010,2010,2010,2010,2010,2010,2010,2010,2010,2010,2010,2010,2010,2010,2010,2010,2010,2010,2010,2010,2010,2010,2010,2010,2010,2010,2010,2010,2010,2010,2010,2010,2010,2010,2010,2010,2010,2010,2010,2010,2010,2010,2010,2010,2010,2010,2010,2010,2010,2010,2010,2010,2010,2010,2010,2010,2010,2010,2010,2010,2010,2010,2010,2010,2010,2010,2010,2010,2010,2010,2010,2010,2010,2010,2010,2010,2010,2010,2010,2010,2010,2010,2010,2010,2010,2010,2010,2010,2010,2010,2010,2010,2010,2010,2010,2010,2010,2010,2010,2010,2010,2010,2010,2010,2010,2010,2010,2010,2010,2010,2010,2010,2010,2010,2010,2010,2010,2010,2010,2010,2010,2010,2010,2010,2010,2010,2010,2010,2010,2010,2010,2010,2010,2010,2010,2010,2010,2010,2010,2010,2010,2010,2010,2010,2010,2010,2010,2010,2010,2010,2010,2010,2010,2010,2010,2010,2010,2010,2010,2010,2010,2010,2010,2010,2010,2010,2010,2010,2010,2010,2010,2010,2010,2010,2010,2010,2010,2010,2010,2010,2010,2010,2010,2010,2010,2010,2010,2010,2010,2010,2010,2010,2010,2010,2010,2010,2010,2010,2010,2010,2010,2010,2010,2010,2010,2010,2010,2010,2010,2010,2010,2010,2010,2010,2010,2010,2010,2010,2010,2010,2010,2010,2010,2010,2010,2010,2010,2010,2010,2010,2010,2010,2010,2010,2010,2010]},\"selected\":{\"id\":\"9577\"},\"selection_policy\":{\"id\":\"9598\"}},\"id\":\"9576\",\"type\":\"ColumnDataSource\"},{\"attributes\":{\"data_source\":{\"id\":\"9458\"},\"glyph\":{\"id\":\"9461\"},\"hover_glyph\":null,\"muted_glyph\":{\"id\":\"9463\"},\"nonselection_glyph\":{\"id\":\"9462\"},\"selection_glyph\":null,\"view\":{\"id\":\"9465\"}},\"id\":\"9464\",\"type\":\"GlyphRenderer\"},{\"attributes\":{\"axis_label\":\"Precipitation (mm)\",\"bounds\":\"auto\",\"formatter\":{\"id\":\"9575\"},\"major_label_orientation\":\"horizontal\",\"ticker\":{\"id\":\"9556\"}},\"id\":\"9555\",\"type\":\"LinearAxis\"},{\"attributes\":{\"end\":35.40625,\"reset_end\":35.40625,\"reset_start\":-3.21875,\"start\":-3.21875,\"tags\":[[[\"PRCP_Ohio\",\"PRCP_Ohio\",null]]]},\"id\":\"9540\",\"type\":\"Range1d\"},{\"attributes\":{\"fill_alpha\":{\"value\":0.2},\"fill_color\":{\"value\":\"#1f77b3\"},\"line_alpha\":{\"value\":0.2},\"line_color\":{\"value\":\"#1f77b3\"},\"size\":{\"units\":\"screen\",\"value\":5.477225575051661},\"x\":{\"field\":\"Month\"},\"y\":{\"field\":\"PRCP_Iowa\"}},\"id\":\"9228\",\"type\":\"Scatter\"},{\"attributes\":{},\"id\":\"9561\",\"type\":\"WheelZoomTool\"},{\"attributes\":{\"fill_alpha\":{\"value\":0.2},\"fill_color\":{\"value\":\"#1f77b3\"},\"line_alpha\":{\"value\":0.2},\"line_color\":{\"value\":\"#1f77b3\"},\"size\":{\"units\":\"screen\",\"value\":5.477225575051661},\"x\":{\"field\":\"Month\"},\"y\":{\"field\":\"PRCP_Iowa\"}},\"id\":\"9227\",\"type\":\"Scatter\"},{\"attributes\":{},\"id\":\"9577\",\"type\":\"Selection\"},{\"attributes\":{},\"id\":\"9321\",\"type\":\"BasicTicker\"},{\"attributes\":{\"click_policy\":\"mute\",\"items\":[{\"id\":\"9238\"}],\"location\":[0,0],\"title\":\"Year\"},\"id\":\"9237\",\"type\":\"Legend\"},{\"attributes\":{},\"id\":\"9338\",\"type\":\"BasicTickFormatter\"},{\"attributes\":{},\"id\":\"9324\",\"type\":\"SaveTool\"},{\"attributes\":{},\"id\":\"9459\",\"type\":\"Selection\"},{\"attributes\":{\"data_source\":{\"id\":\"9576\"},\"glyph\":{\"id\":\"9579\"},\"hover_glyph\":null,\"muted_glyph\":{\"id\":\"9581\"},\"nonselection_glyph\":{\"id\":\"9580\"},\"selection_glyph\":null,\"view\":{\"id\":\"9583\"}},\"id\":\"9582\",\"type\":\"GlyphRenderer\"},{\"attributes\":{\"fill_alpha\":{\"value\":0.2},\"fill_color\":{\"value\":\"#1f77b3\"},\"line_alpha\":{\"value\":0.2},\"line_color\":{\"value\":\"#1f77b3\"},\"size\":{\"units\":\"screen\",\"value\":5.477225575051661},\"x\":{\"field\":\"Month\"},\"y\":{\"field\":\"PRCP_Illinois\"}},\"id\":\"9109\",\"type\":\"Scatter\"},{\"attributes\":{},\"id\":\"9445\",\"type\":\"ResetTool\"},{\"attributes\":{},\"id\":\"9207\",\"type\":\"PanTool\"},{\"attributes\":{},\"id\":\"9340\",\"type\":\"BasicTickFormatter\"},{\"attributes\":{\"fill_alpha\":{\"value\":0.2},\"fill_color\":{\"value\":\"#1f77b3\"},\"line_alpha\":{\"value\":0.2},\"line_color\":{\"value\":\"#1f77b3\"},\"size\":{\"units\":\"screen\",\"value\":5.477225575051661},\"x\":{\"field\":\"Month\"},\"y\":{\"field\":\"PRCP_Ohio\"}},\"id\":\"9579\",\"type\":\"Scatter\"},{\"attributes\":{\"source\":{\"id\":\"9341\"}},\"id\":\"9348\",\"type\":\"CDSView\"},{\"attributes\":{\"align\":null,\"below\":[{\"id\":\"9316\"}],\"center\":[{\"id\":\"9319\"},{\"id\":\"9323\"}],\"left\":[{\"id\":\"9320\"}],\"margin\":null,\"min_border_bottom\":10,\"min_border_left\":10,\"min_border_right\":10,\"min_border_top\":10,\"plot_height\":300,\"plot_width\":500,\"renderers\":[{\"id\":\"9347\"}],\"right\":[{\"id\":\"9355\"}],\"sizing_mode\":\"fixed\",\"title\":{\"id\":\"9308\"},\"toolbar\":{\"id\":\"9330\"},\"x_range\":{\"id\":\"9069\"},\"x_scale\":{\"id\":\"9312\"},\"y_range\":{\"id\":\"9305\"},\"y_scale\":{\"id\":\"9314\"}},\"id\":\"9307\",\"subtype\":\"Figure\",\"type\":\"Plot\"},{\"attributes\":{\"axis_label\":\"Month\",\"bounds\":\"auto\",\"formatter\":{\"id\":\"9338\"},\"major_label_orientation\":\"horizontal\",\"ticker\":{\"id\":\"9317\"}},\"id\":\"9316\",\"type\":\"LinearAxis\"},{\"attributes\":{\"active_drag\":\"auto\",\"active_inspect\":\"auto\",\"active_multi\":null,\"active_scroll\":\"auto\",\"active_tap\":\"auto\",\"tools\":[{\"id\":\"9423\"},{\"id\":\"9441\"},{\"id\":\"9442\"},{\"id\":\"9443\"},{\"id\":\"9444\"},{\"id\":\"9445\"}]},\"id\":\"9447\",\"type\":\"Toolbar\"},{\"attributes\":{\"axis_label\":\"Precipitation (mm)\",\"bounds\":\"auto\",\"formatter\":{\"id\":\"9340\"},\"major_label_orientation\":\"horizontal\",\"ticker\":{\"id\":\"9321\"}},\"id\":\"9320\",\"type\":\"LinearAxis\"},{\"attributes\":{\"callback\":null,\"renderers\":[{\"id\":\"9347\"}],\"tags\":[\"hv_created\"],\"tooltips\":[[\"Year\",\"@{Year}\"],[\"Month\",\"@{Month}\"],[\"PRCP_Nebraska\",\"@{PRCP_Nebraska}\"]]},\"id\":\"9306\",\"type\":\"HoverTool\"},{\"attributes\":{},\"id\":\"9314\",\"type\":\"LinearScale\"},{\"attributes\":{\"axis\":{\"id\":\"9316\"},\"grid_line_color\":null,\"ticker\":null},\"id\":\"9319\",\"type\":\"Grid\"},{\"attributes\":{\"fill_alpha\":{\"value\":0.2},\"fill_color\":{\"value\":\"#1f77b3\"},\"line_alpha\":{\"value\":0.2},\"line_color\":{\"value\":\"#1f77b3\"},\"size\":{\"units\":\"screen\",\"value\":5.477225575051661},\"x\":{\"field\":\"Month\"},\"y\":{\"field\":\"PRCP_Illinois\"}},\"id\":\"9111\",\"type\":\"Scatter\"},{\"attributes\":{\"overlay\":{\"id\":\"9446\"}},\"id\":\"9444\",\"type\":\"BoxZoomTool\"},{\"attributes\":{\"bottom_units\":\"screen\",\"fill_alpha\":0.5,\"fill_color\":\"lightgrey\",\"left_units\":\"screen\",\"level\":\"overlay\",\"line_alpha\":1.0,\"line_color\":\"black\",\"line_dash\":[4,4],\"line_width\":2,\"render_mode\":\"css\",\"right_units\":\"screen\",\"top_units\":\"screen\"},\"id\":\"9564\",\"type\":\"BoxAnnotation\"},{\"attributes\":{\"text\":\"Precipitation in Indiana by Month in 2010\",\"text_color\":{\"value\":\"black\"},\"text_font_size\":{\"value\":\"12pt\"}},\"id\":\"9425\",\"type\":\"Title\"},{\"attributes\":{\"overlay\":{\"id\":\"9211\"}},\"id\":\"9209\",\"type\":\"BoxZoomTool\"},{\"attributes\":{},\"id\":\"9317\",\"type\":\"BasicTicker\"},{\"attributes\":{\"end\":33.18857142857143,\"reset_end\":33.18857142857143,\"reset_start\":-3.0171428571428573,\"start\":-3.0171428571428573,\"tags\":[[[\"PRCP_Nebraska\",\"PRCP_Nebraska\",null]]]},\"id\":\"9305\",\"type\":\"Range1d\"},{\"attributes\":{},\"id\":\"9312\",\"type\":\"LinearScale\"},{\"attributes\":{},\"id\":\"9443\",\"type\":\"WheelZoomTool\"},{\"attributes\":{},\"id\":\"9429\",\"type\":\"LinearScale\"},{\"attributes\":{},\"id\":\"9196\",\"type\":\"LinearScale\"},{\"attributes\":{\"axis\":{\"id\":\"9437\"},\"dimension\":1,\"grid_line_color\":null,\"ticker\":null},\"id\":\"9440\",\"type\":\"Grid\"},{\"attributes\":{\"click_policy\":\"mute\",\"items\":[{\"id\":\"9591\"}],\"location\":[0,0],\"title\":\"Year\"},\"id\":\"9590\",\"type\":\"Legend\"},{\"attributes\":{\"fill_alpha\":{\"value\":0.2},\"fill_color\":{\"value\":\"#1f77b3\"},\"line_alpha\":{\"value\":0.2},\"line_color\":{\"value\":\"#1f77b3\"},\"size\":{\"units\":\"screen\",\"value\":5.477225575051661},\"x\":{\"field\":\"Month\"},\"y\":{\"field\":\"PRCP_Nebraska\"}},\"id\":\"9346\",\"type\":\"Scatter\"},{\"attributes\":{},\"id\":\"9575\",\"type\":\"BasicTickFormatter\"},{\"attributes\":{\"end\":45.251250000000006,\"reset_end\":45.251250000000006,\"reset_start\":-4.1137500000000005,\"start\":-4.1137500000000005,\"tags\":[[[\"PRCP_Iowa\",\"PRCP_Iowa\",null]]]},\"id\":\"9187\",\"type\":\"Range1d\"},{\"attributes\":{},\"id\":\"9222\",\"type\":\"BasicTickFormatter\"},{\"attributes\":{\"fill_alpha\":{\"value\":0.2},\"fill_color\":{\"value\":\"#1f77b3\"},\"line_alpha\":{\"value\":0.2},\"line_color\":{\"value\":\"#1f77b3\"},\"size\":{\"units\":\"screen\",\"value\":5.477225575051661},\"x\":{\"field\":\"Month\"},\"y\":{\"field\":\"PRCP_Ohio\"}},\"id\":\"9581\",\"type\":\"Scatter\"},{\"attributes\":{},\"id\":\"9560\",\"type\":\"PanTool\"},{\"attributes\":{\"axis\":{\"id\":\"9202\"},\"dimension\":1,\"grid_line_color\":null,\"ticker\":null},\"id\":\"9205\",\"type\":\"Grid\"},{\"attributes\":{\"data_source\":{\"id\":\"9106\"},\"glyph\":{\"id\":\"9109\"},\"hover_glyph\":null,\"muted_glyph\":{\"id\":\"9111\"},\"nonselection_glyph\":{\"id\":\"9110\"},\"selection_glyph\":null,\"view\":{\"id\":\"9113\"}},\"id\":\"9112\",\"type\":\"GlyphRenderer\"},{\"attributes\":{\"label\":{\"value\":\"2010\"},\"renderers\":[{\"id\":\"9464\"}]},\"id\":\"9473\",\"type\":\"LegendItem\"},{\"attributes\":{},\"id\":\"9431\",\"type\":\"LinearScale\"},{\"attributes\":{\"end\":12.66,\"reset_end\":12.66,\"reset_start\":0.3400000000000001,\"start\":0.3400000000000001,\"tags\":[[[\"Month\",\"Month\",null]]]},\"id\":\"9069\",\"type\":\"Range1d\"},{\"attributes\":{\"axis\":{\"id\":\"9320\"},\"dimension\":1,\"grid_line_color\":null,\"ticker\":null},\"id\":\"9323\",\"type\":\"Grid\"},{\"attributes\":{\"axis_label\":\"Month\",\"bounds\":\"auto\",\"formatter\":{\"id\":\"9455\"},\"major_label_orientation\":\"horizontal\",\"ticker\":{\"id\":\"9434\"}},\"id\":\"9433\",\"type\":\"LinearAxis\"},{\"attributes\":{\"fill_alpha\":{\"value\":0.2},\"fill_color\":{\"value\":\"#1f77b3\"},\"line_alpha\":{\"value\":0.2},\"line_color\":{\"value\":\"#1f77b3\"},\"size\":{\"units\":\"screen\",\"value\":5.477225575051661},\"x\":{\"field\":\"Month\"},\"y\":{\"field\":\"PRCP_Indiana\"}},\"id\":\"9461\",\"type\":\"Scatter\"},{\"attributes\":{},\"id\":\"9434\",\"type\":\"BasicTicker\"},{\"attributes\":{\"click_policy\":\"mute\",\"items\":[{\"id\":\"9356\"}],\"location\":[0,0],\"title\":\"Year\"},\"id\":\"9355\",\"type\":\"Legend\"},{\"attributes\":{\"end\":51.13166666666666,\"reset_end\":51.13166666666666,\"reset_start\":-4.6483333333333325,\"start\":-4.6483333333333325,\"tags\":[[[\"PRCP_Illinois\",\"PRCP_Illinois\",null]]]},\"id\":\"9070\",\"type\":\"Range1d\"},{\"attributes\":{\"axis\":{\"id\":\"9433\"},\"grid_line_color\":null,\"ticker\":null},\"id\":\"9436\",\"type\":\"Grid\"},{\"attributes\":{\"source\":{\"id\":\"9576\"}},\"id\":\"9583\",\"type\":\"CDSView\"},{\"attributes\":{\"text\":\"Precipitation in Nebraska by Month in 2010\",\"text_color\":{\"value\":\"black\"},\"text_font_size\":{\"value\":\"12pt\"}},\"id\":\"9308\",\"type\":\"Title\"},{\"attributes\":{},\"id\":\"9208\",\"type\":\"WheelZoomTool\"},{\"attributes\":{\"data_source\":{\"id\":\"9341\"},\"glyph\":{\"id\":\"9344\"},\"hover_glyph\":null,\"muted_glyph\":{\"id\":\"9346\"},\"nonselection_glyph\":{\"id\":\"9345\"},\"selection_glyph\":null,\"view\":{\"id\":\"9348\"}},\"id\":\"9347\",\"type\":\"GlyphRenderer\"},{\"attributes\":{},\"id\":\"9438\",\"type\":\"BasicTicker\"},{\"attributes\":{\"axis_label\":\"Precipitation (mm)\",\"bounds\":\"auto\",\"formatter\":{\"id\":\"9457\"},\"major_label_orientation\":\"horizontal\",\"ticker\":{\"id\":\"9438\"}},\"id\":\"9437\",\"type\":\"LinearAxis\"},{\"attributes\":{},\"id\":\"9093\",\"type\":\"ResetTool\"},{\"attributes\":{\"label\":{\"value\":\"2010\"},\"renderers\":[{\"id\":\"9582\"}]},\"id\":\"9591\",\"type\":\"LegendItem\"},{\"attributes\":{\"end\":42.68,\"reset_end\":42.68,\"reset_start\":-3.88,\"start\":-3.88,\"tags\":[[[\"PRCP_Indiana\",\"PRCP_Indiana\",null]]]},\"id\":\"9422\",\"type\":\"Range1d\"},{\"attributes\":{\"fill_alpha\":{\"value\":0.2},\"fill_color\":{\"value\":\"#1f77b3\"},\"line_alpha\":{\"value\":0.2},\"line_color\":{\"value\":\"#1f77b3\"},\"size\":{\"units\":\"screen\",\"value\":5.477225575051661},\"x\":{\"field\":\"Month\"},\"y\":{\"field\":\"PRCP_Ohio\"}},\"id\":\"9580\",\"type\":\"Scatter\"},{\"attributes\":{},\"id\":\"9559\",\"type\":\"SaveTool\"},{\"attributes\":{},\"id\":\"9086\",\"type\":\"BasicTicker\"},{\"attributes\":{\"axis\":{\"id\":\"9081\"},\"grid_line_color\":null,\"ticker\":null},\"id\":\"9084\",\"type\":\"Grid\"},{\"attributes\":{\"label\":{\"value\":\"2010\"},\"renderers\":[{\"id\":\"9229\"}]},\"id\":\"9238\",\"type\":\"LegendItem\"},{\"attributes\":{},\"id\":\"9128\",\"type\":\"UnionRenderers\"},{\"attributes\":{\"align\":null,\"below\":[{\"id\":\"9198\"}],\"center\":[{\"id\":\"9201\"},{\"id\":\"9205\"}],\"left\":[{\"id\":\"9202\"}],\"margin\":null,\"min_border_bottom\":10,\"min_border_left\":10,\"min_border_right\":10,\"min_border_top\":10,\"plot_height\":300,\"plot_width\":500,\"renderers\":[{\"id\":\"9229\"}],\"right\":[{\"id\":\"9237\"}],\"sizing_mode\":\"fixed\",\"title\":{\"id\":\"9190\"},\"toolbar\":{\"id\":\"9212\"},\"x_range\":{\"id\":\"9069\"},\"x_scale\":{\"id\":\"9194\"},\"y_range\":{\"id\":\"9187\"},\"y_scale\":{\"id\":\"9196\"}},\"id\":\"9189\",\"subtype\":\"Figure\",\"type\":\"Plot\"},{\"attributes\":{\"bottom_units\":\"screen\",\"fill_alpha\":0.5,\"fill_color\":\"lightgrey\",\"left_units\":\"screen\",\"level\":\"overlay\",\"line_alpha\":1.0,\"line_color\":\"black\",\"line_dash\":[4,4],\"line_width\":2,\"render_mode\":\"css\",\"right_units\":\"screen\",\"top_units\":\"screen\"},\"id\":\"9329\",\"type\":\"BoxAnnotation\"},{\"attributes\":{},\"id\":\"9089\",\"type\":\"SaveTool\"},{\"attributes\":{\"overlay\":{\"id\":\"9094\"}},\"id\":\"9092\",\"type\":\"BoxZoomTool\"},{\"attributes\":{},\"id\":\"9441\",\"type\":\"SaveTool\"},{\"attributes\":{\"align\":null,\"below\":[{\"id\":\"9551\"}],\"center\":[{\"id\":\"9554\"},{\"id\":\"9558\"}],\"left\":[{\"id\":\"9555\"}],\"margin\":null,\"min_border_bottom\":10,\"min_border_left\":10,\"min_border_right\":10,\"min_border_top\":10,\"plot_height\":300,\"plot_width\":500,\"renderers\":[{\"id\":\"9582\"}],\"right\":[{\"id\":\"9590\"}],\"sizing_mode\":\"fixed\",\"title\":{\"id\":\"9543\"},\"toolbar\":{\"id\":\"9565\"},\"x_range\":{\"id\":\"9069\"},\"x_scale\":{\"id\":\"9547\"},\"y_range\":{\"id\":\"9540\"},\"y_scale\":{\"id\":\"9549\"}},\"id\":\"9542\",\"subtype\":\"Figure\",\"type\":\"Plot\"},{\"attributes\":{\"label\":{\"value\":\"2010\"},\"renderers\":[{\"id\":\"9347\"}]},\"id\":\"9356\",\"type\":\"LegendItem\"},{\"attributes\":{},\"id\":\"9091\",\"type\":\"WheelZoomTool\"},{\"attributes\":{\"click_policy\":\"mute\",\"items\":[{\"id\":\"9121\"}],\"location\":[0,0],\"title\":\"Year\"},\"id\":\"9120\",\"type\":\"Legend\"},{\"attributes\":{\"text\":\"Precipitation in Iowa by Month in 2010\",\"text_color\":{\"value\":\"black\"},\"text_font_size\":{\"value\":\"12pt\"}},\"id\":\"9190\",\"type\":\"Title\"},{\"attributes\":{},\"id\":\"9210\",\"type\":\"ResetTool\"},{\"attributes\":{\"axis\":{\"id\":\"9555\"},\"dimension\":1,\"grid_line_color\":null,\"ticker\":null},\"id\":\"9558\",\"type\":\"Grid\"},{\"attributes\":{\"active_drag\":\"auto\",\"active_inspect\":\"auto\",\"active_multi\":null,\"active_scroll\":\"auto\",\"active_tap\":\"auto\",\"tools\":[{\"id\":\"9071\"},{\"id\":\"9089\"},{\"id\":\"9090\"},{\"id\":\"9091\"},{\"id\":\"9092\"},{\"id\":\"9093\"}]},\"id\":\"9095\",\"type\":\"Toolbar\"},{\"attributes\":{},\"id\":\"9342\",\"type\":\"Selection\"},{\"attributes\":{\"axis_label\":\"Month\",\"bounds\":\"auto\",\"formatter\":{\"id\":\"9573\"},\"major_label_orientation\":\"horizontal\",\"ticker\":{\"id\":\"9552\"}},\"id\":\"9551\",\"type\":\"LinearAxis\"},{\"attributes\":{\"axis\":{\"id\":\"9198\"},\"grid_line_color\":null,\"ticker\":null},\"id\":\"9201\",\"type\":\"Grid\"},{\"attributes\":{\"label\":{\"value\":\"2010\"},\"renderers\":[{\"id\":\"9112\"}]},\"id\":\"9121\",\"type\":\"LegendItem\"},{\"attributes\":{},\"id\":\"9090\",\"type\":\"PanTool\"},{\"attributes\":{\"callback\":null,\"renderers\":[{\"id\":\"9229\"}],\"tags\":[\"hv_created\"],\"tooltips\":[[\"Year\",\"@{Year}\"],[\"Month\",\"@{Month}\"],[\"PRCP_Iowa\",\"@{PRCP_Iowa}\"]]},\"id\":\"9188\",\"type\":\"HoverTool\"},{\"attributes\":{\"active_drag\":\"auto\",\"active_inspect\":\"auto\",\"active_multi\":null,\"active_scroll\":\"auto\",\"active_tap\":\"auto\",\"tools\":[{\"id\":\"9541\"},{\"id\":\"9559\"},{\"id\":\"9560\"},{\"id\":\"9561\"},{\"id\":\"9562\"},{\"id\":\"9563\"}]},\"id\":\"9565\",\"type\":\"Toolbar\"},{\"attributes\":{\"fill_alpha\":{\"value\":0.2},\"fill_color\":{\"value\":\"#1f77b3\"},\"line_alpha\":{\"value\":0.2},\"line_color\":{\"value\":\"#1f77b3\"},\"size\":{\"units\":\"screen\",\"value\":5.477225575051661},\"x\":{\"field\":\"Month\"},\"y\":{\"field\":\"PRCP_Nebraska\"}},\"id\":\"9344\",\"type\":\"Scatter\"},{\"attributes\":{\"axis_label\":\"Precipitation (mm)\",\"bounds\":\"auto\",\"formatter\":{\"id\":\"9105\"},\"major_label_orientation\":\"horizontal\",\"ticker\":{\"id\":\"9086\"}},\"id\":\"9085\",\"type\":\"LinearAxis\"},{\"attributes\":{},\"id\":\"9563\",\"type\":\"ResetTool\"},{\"attributes\":{},\"id\":\"9079\",\"type\":\"LinearScale\"},{\"attributes\":{\"fill_alpha\":{\"value\":0.2},\"fill_color\":{\"value\":\"#1f77b3\"},\"line_alpha\":{\"value\":0.2},\"line_color\":{\"value\":\"#1f77b3\"},\"size\":{\"units\":\"screen\",\"value\":5.477225575051661},\"x\":{\"field\":\"Month\"},\"y\":{\"field\":\"PRCP_Nebraska\"}},\"id\":\"9345\",\"type\":\"Scatter\"},{\"attributes\":{\"children\":[{\"id\":\"9068\"},{\"id\":\"9303\"},{\"id\":\"9538\"}],\"margin\":[0,0,0,0],\"name\":\"Column20471\"},\"id\":\"9067\",\"type\":\"Column\"},{\"attributes\":{\"data\":{\"Month\":[1,1,1,1,1,1,1,1,1,1,1,1,1,1,1,1,1,1,1,1,1,1,1,1,1,1,1,1,1,1,1,2,2,2,2,2,2,2,2,2,2,2,2,2,2,2,2,2,2,2,2,2,2,2,2,2,2,2,2,3,3,3,3,3,3,3,3,3,3,3,3,3,3,3,3,3,3,3,3,3,3,3,3,3,3,3,3,3,3,3,4,4,4,4,4,4,4,4,4,4,4,4,4,4,4,4,4,4,4,4,4,4,4,4,4,4,4,4,4,4,5,5,5,5,5,5,5,5,5,5,5,5,5,5,5,5,5,5,5,5,5,5,5,5,5,5,5,5,5,5,5,6,6,6,6,6,6,6,6,6,6,6,6,6,6,6,6,6,6,6,6,6,6,6,6,6,6,6,6,6,6,7,7,7,7,7,7,7,7,7,7,7,7,7,7,7,7,7,7,7,7,7,7,7,7,7,7,7,7,7,7,7,8,8,8,8,8,8,8,8,8,8,8,8,8,8,8,8,8,8,8,8,8,8,8,8,8,8,8,8,8,8,8,9,9,9,9,9,9,9,9,9,9,9,9,9,9,9,9,9,9,9,9,9,9,9,9,9,9,9,9,9,9,10,10,10,10,10,10,10,10,10,10,10,10,10,10,10,10,10,10,10,10,10,10,10,10,10,10,10,10,10,10,10,11,11,11,11,11,11,11,11,11,11,11,11,11,11,11,11,11,11,11,11,11,11,11,11,11,11,11,11,11,11,12,12,12,12,12,12,12,12,12,12,12,12,12,12,12,12,12,12,12,12,12,12,12,12,12,12,12,12,12,12,12],\"PRCP_Nebraska\":{\"__ndarray__\":\"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\",\"dtype\":\"float64\",\"shape\":[365]},\"Year\":[2010,2010,2010,2010,2010,2010,2010,2010,2010,2010,2010,2010,2010,2010,2010,2010,2010,2010,2010,2010,2010,2010,2010,2010,2010,2010,2010,2010,2010,2010,2010,2010,2010,2010,2010,2010,2010,2010,2010,2010,2010,2010,2010,2010,2010,2010,2010,2010,2010,2010,2010,2010,2010,2010,2010,2010,2010,2010,2010,2010,2010,2010,2010,2010,2010,2010,2010,2010,2010,2010,2010,2010,2010,2010,2010,2010,2010,2010,2010,2010,2010,2010,2010,2010,2010,2010,2010,2010,2010,2010,2010,2010,2010,2010,2010,2010,2010,2010,2010,2010,2010,2010,2010,2010,2010,2010,2010,2010,2010,2010,2010,2010,2010,2010,2010,2010,2010,2010,2010,2010,2010,2010,2010,2010,2010,2010,2010,2010,2010,2010,2010,2010,2010,2010,2010,2010,2010,2010,2010,2010,2010,2010,2010,2010,2010,2010,2010,2010,2010,2010,2010,2010,2010,2010,2010,2010,2010,2010,2010,2010,2010,2010,2010,2010,2010,2010,2010,2010,2010,2010,2010,2010,2010,2010,2010,2010,2010,2010,2010,2010,2010,2010,2010,2010,2010,2010,2010,2010,2010,2010,2010,2010,2010,2010,2010,2010,2010,2010,2010,2010,2010,2010,2010,2010,2010,2010,2010,2010,2010,2010,2010,2010,2010,2010,2010,2010,2010,2010,2010,2010,2010,2010,2010,2010,2010,2010,2010,2010,2010,2010,2010,2010,2010,2010,2010,2010,2010,2010,2010,2010,2010,2010,2010,2010,2010,2010,2010,2010,2010,2010,2010,2010,2010,2010,2010,2010,2010,2010,2010,2010,2010,2010,2010,2010,2010,2010,2010,2010,2010,2010,2010,2010,2010,2010,2010,2010,2010,2010,2010,2010,2010,2010,2010,2010,2010,2010,2010,2010,2010,2010,2010,2010,2010,2010,2010,2010,2010,2010,2010,2010,2010,2010,2010,2010,2010,2010,2010,2010,2010,2010,2010,2010,2010,2010,2010,2010,2010,2010,2010,2010,2010,2010,2010,2010,2010,2010,2010,2010,2010,2010,2010,2010,2010,2010,2010,2010,2010,2010,2010,2010,2010,2010,2010,2010,2010,2010,2010,2010,2010,2010,2010,2010,2010,2010,2010,2010,2010,2010,2010,2010,2010,2010,2010,2010,2010]},\"selected\":{\"id\":\"9342\"},\"selection_policy\":{\"id\":\"9363\"}},\"id\":\"9341\",\"type\":\"ColumnDataSource\"},{\"attributes\":{\"callback\":null,\"renderers\":[{\"id\":\"9464\"}],\"tags\":[\"hv_created\"],\"tooltips\":[[\"Year\",\"@{Year}\"],[\"Month\",\"@{Month}\"],[\"PRCP_Indiana\",\"@{PRCP_Indiana}\"]]},\"id\":\"9423\",\"type\":\"HoverTool\"},{\"attributes\":{\"data\":{\"Month\":[1,1,1,1,1,1,1,1,1,1,1,1,1,1,1,1,1,1,1,1,1,1,1,1,1,1,1,1,1,1,1,2,2,2,2,2,2,2,2,2,2,2,2,2,2,2,2,2,2,2,2,2,2,2,2,2,2,2,2,3,3,3,3,3,3,3,3,3,3,3,3,3,3,3,3,3,3,3,3,3,3,3,3,3,3,3,3,3,3,3,4,4,4,4,4,4,4,4,4,4,4,4,4,4,4,4,4,4,4,4,4,4,4,4,4,4,4,4,4,4,5,5,5,5,5,5,5,5,5,5,5,5,5,5,5,5,5,5,5,5,5,5,5,5,5,5,5,5,5,5,5,6,6,6,6,6,6,6,6,6,6,6,6,6,6,6,6,6,6,6,6,6,6,6,6,6,6,6,6,6,6,7,7,7,7,7,7,7,7,7,7,7,7,7,7,7,7,7,7,7,7,7,7,7,7,7,7,7,7,7,7,7,8,8,8,8,8,8,8,8,8,8,8,8,8,8,8,8,8,8,8,8,8,8,8,8,8,8,8,8,8,8,8,9,9,9,9,9,9,9,9,9,9,9,9,9,9,9,9,9,9,9,9,9,9,9,9,9,9,9,9,9,9,10,10,10,10,10,10,10,10,10,10,10,10,10,10,10,10,10,10,10,10,10,10,10,10,10,10,10,10,10,10,10,11,11,11,11,11,11,11,11,11,11,11,11,11,11,11,11,11,11,11,11,11,11,11,11,11,11,11,11,11,11,12,12,12,12,12,12,12,12,12,12,12,12,12,12,12,12,12,12,12,12,12,12,12,12,12,12,12,12,12,12,12],\"PRCP_Illinois\":{\"__ndarray__\":\"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\",\"dtype\":\"float64\",\"shape\":[365]},\"Year\":[2010,2010,2010,2010,2010,2010,2010,2010,2010,2010,2010,2010,2010,2010,2010,2010,2010,2010,2010,2010,2010,2010,2010,2010,2010,2010,2010,2010,2010,2010,2010,2010,2010,2010,2010,2010,2010,2010,2010,2010,2010,2010,2010,2010,2010,2010,2010,2010,2010,2010,2010,2010,2010,2010,2010,2010,2010,2010,2010,2010,2010,2010,2010,2010,2010,2010,2010,2010,2010,2010,2010,2010,2010,2010,2010,2010,2010,2010,2010,2010,2010,2010,2010,2010,2010,2010,2010,2010,2010,2010,2010,2010,2010,2010,2010,2010,2010,2010,2010,2010,2010,2010,2010,2010,2010,2010,2010,2010,2010,2010,2010,2010,2010,2010,2010,2010,2010,2010,2010,2010,2010,2010,2010,2010,2010,2010,2010,2010,2010,2010,2010,2010,2010,2010,2010,2010,2010,2010,2010,2010,2010,2010,2010,2010,2010,2010,2010,2010,2010,2010,2010,2010,2010,2010,2010,2010,2010,2010,2010,2010,2010,2010,2010,2010,2010,2010,2010,2010,2010,2010,2010,2010,2010,2010,2010,2010,2010,2010,2010,2010,2010,2010,2010,2010,2010,2010,2010,2010,2010,2010,2010,2010,2010,2010,2010,2010,2010,2010,2010,2010,2010,2010,2010,2010,2010,2010,2010,2010,2010,2010,2010,2010,2010,2010,2010,2010,2010,2010,2010,2010,2010,2010,2010,2010,2010,2010,2010,2010,2010,2010,2010,2010,2010,2010,2010,2010,2010,2010,2010,2010,2010,2010,2010,2010,2010,2010,2010,2010,2010,2010,2010,2010,2010,2010,2010,2010,2010,2010,2010,2010,2010,2010,2010,2010,2010,2010,2010,2010,2010,2010,2010,2010,2010,2010,2010,2010,2010,2010,2010,2010,2010,2010,2010,2010,2010,2010,2010,2010,2010,2010,2010,2010,2010,2010,2010,2010,2010,2010,2010,2010,2010,2010,2010,2010,2010,2010,2010,2010,2010,2010,2010,2010,2010,2010,2010,2010,2010,2010,2010,2010,2010,2010,2010,2010,2010,2010,2010,2010,2010,2010,2010,2010,2010,2010,2010,2010,2010,2010,2010,2010,2010,2010,2010,2010,2010,2010,2010,2010,2010,2010,2010,2010,2010,2010,2010,2010,2010,2010,2010,2010,2010,2010,2010,2010,2010]},\"selected\":{\"id\":\"9107\"},\"selection_policy\":{\"id\":\"9128\"}},\"id\":\"9106\",\"type\":\"ColumnDataSource\"},{\"attributes\":{\"axis_label\":\"Month\",\"bounds\":\"auto\",\"formatter\":{\"id\":\"9103\"},\"major_label_orientation\":\"horizontal\",\"ticker\":{\"id\":\"9082\"}},\"id\":\"9081\",\"type\":\"LinearAxis\"},{\"attributes\":{},\"id\":\"9082\",\"type\":\"BasicTicker\"},{\"attributes\":{},\"id\":\"9105\",\"type\":\"BasicTickFormatter\"},{\"attributes\":{},\"id\":\"9194\",\"type\":\"LinearScale\"},{\"attributes\":{\"children\":[{\"id\":\"9307\"},{\"id\":\"9424\"}],\"margin\":[0,0,0,0],\"name\":\"Row20371\"},\"id\":\"9303\",\"type\":\"Row\"},{\"attributes\":{},\"id\":\"9455\",\"type\":\"BasicTickFormatter\"},{\"attributes\":{\"callback\":null,\"renderers\":[{\"id\":\"9112\"}],\"tags\":[\"hv_created\"],\"tooltips\":[[\"Year\",\"@{Year}\"],[\"Month\",\"@{Month}\"],[\"PRCP_Illinois\",\"@{PRCP_Illinois}\"]]},\"id\":\"9071\",\"type\":\"HoverTool\"},{\"attributes\":{\"source\":{\"id\":\"9106\"}},\"id\":\"9113\",\"type\":\"CDSView\"},{\"attributes\":{\"bottom_units\":\"screen\",\"fill_alpha\":0.5,\"fill_color\":\"lightgrey\",\"left_units\":\"screen\",\"level\":\"overlay\",\"line_alpha\":1.0,\"line_color\":\"black\",\"line_dash\":[4,4],\"line_width\":2,\"render_mode\":\"css\",\"right_units\":\"screen\",\"top_units\":\"screen\"},\"id\":\"9211\",\"type\":\"BoxAnnotation\"},{\"attributes\":{\"active_drag\":\"auto\",\"active_inspect\":\"auto\",\"active_multi\":null,\"active_scroll\":\"auto\",\"active_tap\":\"auto\",\"tools\":[{\"id\":\"9188\"},{\"id\":\"9206\"},{\"id\":\"9207\"},{\"id\":\"9208\"},{\"id\":\"9209\"},{\"id\":\"9210\"}]},\"id\":\"9212\",\"type\":\"Toolbar\"},{\"attributes\":{\"align\":null,\"below\":[{\"id\":\"9081\"}],\"center\":[{\"id\":\"9084\"},{\"id\":\"9088\"}],\"left\":[{\"id\":\"9085\"}],\"margin\":null,\"min_border_bottom\":10,\"min_border_left\":10,\"min_border_right\":10,\"min_border_top\":10,\"plot_height\":300,\"plot_width\":500,\"renderers\":[{\"id\":\"9112\"}],\"right\":[{\"id\":\"9120\"}],\"sizing_mode\":\"fixed\",\"title\":{\"id\":\"9073\"},\"toolbar\":{\"id\":\"9095\"},\"x_range\":{\"id\":\"9069\"},\"x_scale\":{\"id\":\"9077\"},\"y_range\":{\"id\":\"9070\"},\"y_scale\":{\"id\":\"9079\"}},\"id\":\"9072\",\"subtype\":\"Figure\",\"type\":\"Plot\"},{\"attributes\":{\"fill_alpha\":{\"value\":0.2},\"fill_color\":{\"value\":\"#1f77b3\"},\"line_alpha\":{\"value\":0.2},\"line_color\":{\"value\":\"#1f77b3\"},\"size\":{\"units\":\"screen\",\"value\":5.477225575051661},\"x\":{\"field\":\"Month\"},\"y\":{\"field\":\"PRCP_Illinois\"}},\"id\":\"9110\",\"type\":\"Scatter\"},{\"attributes\":{\"children\":[{\"id\":\"9072\"},{\"id\":\"9189\"}],\"margin\":[0,0,0,0],\"name\":\"Row20174\"},\"id\":\"9068\",\"type\":\"Row\"},{\"attributes\":{},\"id\":\"9103\",\"type\":\"BasicTickFormatter\"},{\"attributes\":{\"axis_label\":\"Precipitation (mm)\",\"bounds\":\"auto\",\"formatter\":{\"id\":\"9222\"},\"major_label_orientation\":\"horizontal\",\"ticker\":{\"id\":\"9203\"}},\"id\":\"9202\",\"type\":\"LinearAxis\"},{\"attributes\":{\"axis\":{\"id\":\"9085\"},\"dimension\":1,\"grid_line_color\":null,\"ticker\":null},\"id\":\"9088\",\"type\":\"Grid\"},{\"attributes\":{\"client_comm_id\":\"7876606b19914bd480925c38dcf07039\",\"comm_id\":\"7cdab61e9d474cd8a1727ced5a38f8af\",\"plot_id\":\"9067\"},\"id\":\"9776\",\"type\":\"panel.models.comm_manager.CommManager\"},{\"attributes\":{},\"id\":\"9549\",\"type\":\"LinearScale\"},{\"attributes\":{\"active_drag\":\"auto\",\"active_inspect\":\"auto\",\"active_multi\":null,\"active_scroll\":\"auto\",\"active_tap\":\"auto\",\"tools\":[{\"id\":\"9306\"},{\"id\":\"9324\"},{\"id\":\"9325\"},{\"id\":\"9326\"},{\"id\":\"9327\"},{\"id\":\"9328\"}]},\"id\":\"9330\",\"type\":\"Toolbar\"},{\"attributes\":{},\"id\":\"9077\",\"type\":\"LinearScale\"},{\"attributes\":{},\"id\":\"9480\",\"type\":\"UnionRenderers\"},{\"attributes\":{},\"id\":\"9552\",\"type\":\"BasicTicker\"},{\"attributes\":{},\"id\":\"9547\",\"type\":\"LinearScale\"},{\"attributes\":{},\"id\":\"9199\",\"type\":\"BasicTicker\"},{\"attributes\":{},\"id\":\"9245\",\"type\":\"UnionRenderers\"},{\"attributes\":{\"text\":\"Precipitation in Ohio by Month in 2010\",\"text_color\":{\"value\":\"black\"},\"text_font_size\":{\"value\":\"12pt\"}},\"id\":\"9543\",\"type\":\"Title\"},{\"attributes\":{},\"id\":\"9328\",\"type\":\"ResetTool\"},{\"attributes\":{\"children\":[{\"id\":\"9542\"}],\"margin\":[0,0,0,0],\"name\":\"Row20470\"},\"id\":\"9538\",\"type\":\"Row\"},{\"attributes\":{\"overlay\":{\"id\":\"9564\"}},\"id\":\"9562\",\"type\":\"BoxZoomTool\"},{\"attributes\":{},\"id\":\"9107\",\"type\":\"Selection\"},{\"attributes\":{\"source\":{\"id\":\"9458\"}},\"id\":\"9465\",\"type\":\"CDSView\"},{\"attributes\":{\"text\":\"Precipitation in Illinois by Month in 2010\",\"text_color\":{\"value\":\"black\"},\"text_font_size\":{\"value\":\"12pt\"}},\"id\":\"9073\",\"type\":\"Title\"},{\"attributes\":{},\"id\":\"9457\",\"type\":\"BasicTickFormatter\"}],\"root_ids\":[\"9067\",\"9776\"]},\"title\":\"Bokeh Application\",\"version\":\"2.0.2\"}};\n",
       "  var render_items = [{\"docid\":\"ce417e9e-c27c-4220-bf73-f7757c493ef7\",\"root_ids\":[\"9067\"],\"roots\":{\"9067\":\"3ae2eaa1-792d-4ead-b2aa-64b6c06e7a63\"}}];\n",
       "  root.Bokeh.embed.embed_items_notebook(docs_json, render_items);\n",
       "  }\n",
       "if (root.Bokeh !== undefined) {\n",
       "    embed_document(root);\n",
       "  } else {\n",
       "    var attempts = 0;\n",
       "    var timer = setInterval(function(root) {\n",
       "      if (root.Bokeh !== undefined) {\n",
       "        clearInterval(timer);\n",
       "        embed_document(root);\n",
       "      } else if (document.readyState == \"complete\") {\n",
       "        attempts++;\n",
       "        if (attempts > 100) {\n",
       "          clearInterval(timer);\n",
       "          console.log(\"Bokeh: ERROR: Unable to run BokehJS code because BokehJS library is missing\");\n",
       "        }\n",
       "      }\n",
       "    }, 10, root)\n",
       "  }\n",
       "})(window);</script>"
      ],
      "text/plain": [
       "Column\n",
       "    [0] Row\n",
       "        [0] HoloViews(NdOverlay)\n",
       "        [1] HoloViews(NdOverlay)\n",
       "    [1] Row\n",
       "        [0] HoloViews(NdOverlay)\n",
       "        [1] HoloViews(NdOverlay)\n",
       "    [2] Row\n",
       "        [0] HoloViews(NdOverlay)"
      ]
     },
     "execution_count": 88,
     "metadata": {
      "application/vnd.holoviews_exec.v0+json": {
       "id": "9067"
      }
     },
     "output_type": "execute_result"
    }
   ],
   "source": [
    "pn.Column(\n",
    "    pn.Row(graph_precip(precip_graph,'Illinois', 2010),graph_precip(precip_graph,'Iowa', 2010)),\n",
    "    pn.Row(graph_precip(precip_graph,'Nebraska', 2010),graph_precip(precip_graph,'Indiana', 2010)),\n",
    "    pn.Row(graph_precip(precip_graph,'Ohio', 2010))\n",
    ")\n"
   ]
  },
  {
   "cell_type": "code",
   "execution_count": 47,
   "metadata": {},
   "outputs": [],
   "source": [
    "temp_graph = add_season(temp_df)"
   ]
  },
  {
   "cell_type": "code",
   "execution_count": 48,
   "metadata": {},
   "outputs": [
    {
     "data": {
      "text/plain": [
       "Index(['TMIN_Illinois', 'TMIN_Indiana', 'TMIN_Nebraska', 'TMIN_Ohio',\n",
       "       'TMIN_Iowa', 'TMAX_Illinois', 'TMAX_Indiana', 'TMAX_Nebraska',\n",
       "       'TMAX_Ohio', 'TMAX_Iowa', 'Season', 'Year', 'Month'],\n",
       "      dtype='object')"
      ]
     },
     "execution_count": 48,
     "metadata": {},
     "output_type": "execute_result"
    }
   ],
   "source": [
    "temp_graph.columns"
   ]
  },
  {
   "cell_type": "code",
   "execution_count": 89,
   "metadata": {},
   "outputs": [],
   "source": [
    "# Lethal Temperature\n",
    "def lethal_temp(df,state,year):\n",
    "    \n",
    "    extremes = pd.DataFrame(temp_df.index)\n",
    "    extremes = extremes.set_index('date')\n",
    "    extremes = extremes.loc[f'{year}-01-01':f'{year}-12-31'].copy()\n",
    "    extremes['max_heat'] = [43 for i in range(len(extremes))]\n",
    "    extremes['max_cold'] = [0 for i in range(len(extremes))]\n",
    "\n",
    "    return df.loc[f'{year}-01-01':f'{year}-12-31'].hvplot.scatter(y=[f'TMIN_{state}',\n",
    "                                                         f'TMAX_{state}'],\n",
    "                                                       by='Year',\n",
    "                                                         width=500,\n",
    "                                                         height=300)* extremes.hvplot(color='green',\n",
    "                                                                                  title='Viable Growing Zone to Monthly Temperatures',\n",
    "                                                                                  ylabel='Temperature (C)',\n",
    "                                                                                      xlabel='Date',\n",
    "                                                                                  width=500,\n",
    "                                                                                  height=300)"
   ]
  },
  {
   "cell_type": "code",
   "execution_count": 91,
   "metadata": {},
   "outputs": [
    {
     "data": {
      "application/vnd.holoviews_exec.v0+json": "",
      "text/html": [
       "<div id='14549'>\n",
       "\n",
       "\n",
       "\n",
       "\n",
       "\n",
       "  <div class=\"bk-root\" id=\"c8a5da28-7b82-4d95-93be-8bed8a467930\" data-root-id=\"14549\"></div>\n",
       "</div>\n",
       "<script type=\"application/javascript\">(function(root) {\n",
       "  function embed_document(root) {\n",
       "  var docs_json = {\"ab7ef226-bce9-4a4f-a1c5-2d2d04a4ca52\":{\"roots\":{\"references\":[{\"attributes\":{\"children\":[{\"id\":\"14550\"},{\"id\":\"15961\"},{\"id\":\"17372\"}],\"margin\":[0,0,0,0],\"name\":\"Column27827\"},\"id\":\"14549\",\"type\":\"Column\"},{\"attributes\":{\"active_drag\":\"auto\",\"active_inspect\":\"auto\",\"active_multi\":null,\"active_scroll\":\"auto\",\"active_tap\":\"auto\",\"tools\":[{\"id\":\"15258\"},{\"id\":\"15279\"},{\"id\":\"15280\"},{\"id\":\"15281\"},{\"id\":\"15282\"},{\"id\":\"15283\"}]},\"id\":\"15285\",\"type\":\"Toolbar\"},{\"attributes\":{\"active_drag\":\"auto\",\"active_inspect\":\"auto\",\"active_multi\":null,\"active_scroll\":\"auto\",\"active_tap\":\"auto\",\"tools\":[{\"id\":\"14553\"},{\"id\":\"14574\"},{\"id\":\"14575\"},{\"id\":\"14576\"},{\"id\":\"14577\"},{\"id\":\"14578\"}]},\"id\":\"14580\",\"type\":\"Toolbar\"},{\"attributes\":{\"days\":[1,4,7,10,13,16,19,22,25,28]},\"id\":\"15313\",\"type\":\"DaysTicker\"},{\"attributes\":{},\"id\":\"17625\",\"type\":\"Selection\"},{\"attributes\":{\"axis\":{\"id\":\"17392\"},\"dimension\":1,\"grid_line_color\":null,\"ticker\":null},\"id\":\"17395\",\"type\":\"Grid\"},{\"attributes\":{\"line_alpha\":0.2,\"line_color\":\"green\",\"line_width\":2,\"x\":{\"field\":\"date\"},\"y\":{\"field\":\"value\"}},\"id\":\"15512\",\"type\":\"Line\"},{\"attributes\":{\"axis\":{\"id\":\"17388\"},\"grid_line_color\":null,\"ticker\":null},\"id\":\"17391\",\"type\":\"Grid\"},{\"attributes\":{},\"id\":\"14576\",\"type\":\"WheelZoomTool\"},{\"attributes\":{\"days\":[1,8,15,22]},\"id\":\"15314\",\"type\":\"DaysTicker\"},{\"attributes\":{\"label\":{\"value\":\"max_cold\"},\"renderers\":[{\"id\":\"16955\"}]},\"id\":\"16981\",\"type\":\"LegendItem\"},{\"attributes\":{\"data\":{\"Variable\":[\"max_cold\",\"max_cold\",\"max_cold\",\"max_cold\",\"max_cold\",\"max_cold\",\"max_cold\",\"max_cold\",\"max_cold\",\"max_cold\",\"max_cold\",\"max_cold\",\"max_cold\",\"max_cold\",\"max_cold\",\"max_cold\",\"max_cold\",\"max_cold\",\"max_cold\",\"max_cold\",\"max_cold\",\"max_cold\",\"max_cold\",\"max_cold\",\"max_cold\",\"max_cold\",\"max_cold\",\"max_cold\",\"max_cold\",\"max_cold\",\"max_cold\",\"max_cold\",\"max_cold\",\"max_cold\",\"max_cold\",\"max_cold\",\"max_cold\",\"max_cold\",\"max_cold\",\"max_cold\",\"max_cold\",\"max_cold\",\"max_cold\",\"max_cold\",\"max_cold\",\"max_cold\",\"max_cold\",\"max_cold\",\"max_cold\",\"max_cold\",\"max_cold\",\"max_cold\",\"max_cold\",\"max_cold\",\"max_cold\",\"max_cold\",\"max_cold\",\"max_cold\",\"max_cold\",\"max_cold\",\"max_cold\",\"max_cold\",\"max_cold\",\"max_cold\",\"max_cold\",\"max_cold\",\"max_cold\",\"max_cold\",\"max_cold\",\"max_cold\",\"max_cold\",\"max_cold\",\"max_cold\",\"max_cold\",\"max_cold\",\"max_cold\",\"max_cold\",\"max_cold\",\"max_cold\",\"max_cold\",\"max_cold\",\"max_cold\",\"max_cold\",\"max_cold\",\"max_cold\",\"max_cold\",\"max_cold\",\"max_cold\",\"max_cold\",\"max_cold\",\"max_cold\",\"max_cold\",\"max_cold\",\"max_cold\",\"max_cold\",\"max_cold\",\"max_cold\",\"max_cold\",\"max_cold\",\"max_cold\",\"max_cold\",\"max_cold\",\"max_cold\",\"max_cold\",\"max_cold\",\"max_cold\",\"max_cold\",\"max_cold\",\"max_cold\",\"max_cold\",\"max_cold\",\"max_cold\",\"max_cold\",\"max_cold\",\"max_cold\",\"max_cold\",\"max_cold\",\"max_cold\",\"max_cold\",\"max_cold\",\"max_cold\",\"max_cold\",\"max_cold\",\"max_cold\",\"max_cold\",\"max_cold\",\"max_cold\",\"max_cold\",\"max_cold\",\"max_cold\",\"max_cold\",\"max_cold\",\"max_cold\",\"max_cold\",\"max_cold\",\"max_cold\",\"max_cold\",\"max_cold\",\"max_cold\",\"max_cold\",\"max_cold\",\"max_cold\",\"max_cold\",\"max_cold\",\"max_cold\",\"max_cold\",\"max_cold\",\"max_cold\",\"max_cold\",\"max_cold\",\"max_cold\",\"max_cold\",\"max_cold\",\"max_cold\",\"max_cold\",\"max_cold\",\"max_cold\",\"max_cold\",\"max_cold\",\"max_cold\",\"max_cold\",\"max_cold\",\"max_cold\",\"max_cold\",\"max_cold\",\"max_cold\",\"max_cold\",\"max_cold\",\"max_cold\",\"max_cold\",\"max_cold\",\"max_cold\",\"max_cold\",\"max_cold\",\"max_cold\",\"max_cold\",\"max_cold\",\"max_cold\",\"max_cold\",\"max_cold\",\"max_cold\",\"max_cold\",\"max_cold\",\"max_cold\",\"max_cold\",\"max_cold\",\"max_cold\",\"max_cold\",\"max_cold\",\"max_cold\",\"max_cold\",\"max_cold\",\"max_cold\",\"max_cold\",\"max_cold\",\"max_cold\",\"max_cold\",\"max_cold\",\"max_cold\",\"max_cold\",\"max_cold\",\"max_cold\",\"max_cold\",\"max_cold\",\"max_cold\",\"max_cold\",\"max_cold\",\"max_cold\",\"max_cold\",\"max_cold\",\"max_cold\",\"max_cold\",\"max_cold\",\"max_cold\",\"max_cold\",\"max_cold\",\"max_cold\",\"max_cold\",\"max_cold\",\"max_cold\",\"max_cold\",\"max_cold\",\"max_cold\",\"max_cold\",\"max_cold\",\"max_cold\",\"max_cold\",\"max_cold\",\"max_cold\",\"max_cold\",\"max_cold\",\"max_cold\",\"max_cold\",\"max_cold\",\"max_cold\",\"max_cold\",\"max_cold\",\"max_cold\",\"max_cold\",\"max_cold\",\"max_cold\",\"max_cold\",\"max_cold\",\"max_cold\",\"max_cold\",\"max_cold\",\"max_cold\",\"max_cold\",\"max_cold\",\"max_cold\",\"max_cold\",\"max_cold\",\"max_cold\",\"max_cold\",\"max_cold\",\"max_cold\",\"max_cold\",\"max_cold\",\"max_cold\",\"max_cold\",\"max_cold\",\"max_cold\",\"max_cold\",\"max_cold\",\"max_cold\",\"max_cold\",\"max_cold\",\"max_cold\",\"max_cold\",\"max_cold\",\"max_cold\",\"max_cold\",\"max_cold\",\"max_cold\",\"max_cold\",\"max_cold\",\"max_cold\",\"max_cold\",\"max_cold\",\"max_cold\",\"max_cold\",\"max_cold\",\"max_cold\",\"max_cold\",\"max_cold\",\"max_cold\",\"max_cold\",\"max_cold\",\"max_cold\",\"max_cold\",\"max_cold\",\"max_cold\",\"max_cold\",\"max_cold\",\"max_cold\",\"max_cold\",\"max_cold\",\"max_cold\",\"max_cold\",\"max_cold\",\"max_cold\",\"max_cold\",\"max_cold\",\"max_cold\",\"max_cold\",\"max_cold\",\"max_cold\",\"max_cold\",\"max_cold\",\"max_cold\",\"max_cold\",\"max_cold\",\"max_cold\",\"max_cold\",\"max_cold\",\"max_cold\",\"max_cold\",\"max_cold\",\"max_cold\",\"max_cold\",\"max_cold\",\"max_cold\",\"max_cold\",\"max_cold\",\"max_cold\",\"max_cold\",\"max_cold\",\"max_cold\",\"max_cold\",\"max_cold\",\"max_cold\",\"max_cold\",\"max_cold\",\"max_cold\",\"max_cold\",\"max_cold\",\"max_cold\",\"max_cold\",\"max_cold\",\"max_cold\",\"max_cold\",\"max_cold\",\"max_cold\",\"max_cold\",\"max_cold\",\"max_cold\",\"max_cold\",\"max_cold\",\"max_cold\",\"max_cold\",\"max_cold\",\"max_cold\",\"max_cold\",\"max_cold\",\"max_cold\",\"max_cold\",\"max_cold\",\"max_cold\",\"max_cold\",\"max_cold\",\"max_cold\",\"max_cold\",\"max_cold\",\"max_cold\",\"max_cold\"],\"date\":{\"__ndarray__\":\"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\",\"dtype\":\"float64\",\"shape\":[365]},\"value\":[0,0,0,0,0,0,0,0,0,0,0,0,0,0,0,0,0,0,0,0,0,0,0,0,0,0,0,0,0,0,0,0,0,0,0,0,0,0,0,0,0,0,0,0,0,0,0,0,0,0,0,0,0,0,0,0,0,0,0,0,0,0,0,0,0,0,0,0,0,0,0,0,0,0,0,0,0,0,0,0,0,0,0,0,0,0,0,0,0,0,0,0,0,0,0,0,0,0,0,0,0,0,0,0,0,0,0,0,0,0,0,0,0,0,0,0,0,0,0,0,0,0,0,0,0,0,0,0,0,0,0,0,0,0,0,0,0,0,0,0,0,0,0,0,0,0,0,0,0,0,0,0,0,0,0,0,0,0,0,0,0,0,0,0,0,0,0,0,0,0,0,0,0,0,0,0,0,0,0,0,0,0,0,0,0,0,0,0,0,0,0,0,0,0,0,0,0,0,0,0,0,0,0,0,0,0,0,0,0,0,0,0,0,0,0,0,0,0,0,0,0,0,0,0,0,0,0,0,0,0,0,0,0,0,0,0,0,0,0,0,0,0,0,0,0,0,0,0,0,0,0,0,0,0,0,0,0,0,0,0,0,0,0,0,0,0,0,0,0,0,0,0,0,0,0,0,0,0,0,0,0,0,0,0,0,0,0,0,0,0,0,0,0,0,0,0,0,0,0,0,0,0,0,0,0,0,0,0,0,0,0,0,0,0,0,0,0,0,0,0,0,0,0,0,0,0,0,0,0,0,0,0,0,0,0,0,0,0,0,0,0,0,0,0,0,0,0,0,0,0,0,0,0,0,0,0,0,0,0,0,0,0,0,0,0]},\"selected\":{\"id\":\"14834\"},\"selection_policy\":{\"id\":\"14890\"}},\"id\":\"14833\",\"type\":\"ColumnDataSource\"},{\"attributes\":{\"data\":{\"Variable\":[\"max_heat\",\"max_heat\",\"max_heat\",\"max_heat\",\"max_heat\",\"max_heat\",\"max_heat\",\"max_heat\",\"max_heat\",\"max_heat\",\"max_heat\",\"max_heat\",\"max_heat\",\"max_heat\",\"max_heat\",\"max_heat\",\"max_heat\",\"max_heat\",\"max_heat\",\"max_heat\",\"max_heat\",\"max_heat\",\"max_heat\",\"max_heat\",\"max_heat\",\"max_heat\",\"max_heat\",\"max_heat\",\"max_heat\",\"max_heat\",\"max_heat\",\"max_heat\",\"max_heat\",\"max_heat\",\"max_heat\",\"max_heat\",\"max_heat\",\"max_heat\",\"max_heat\",\"max_heat\",\"max_heat\",\"max_heat\",\"max_heat\",\"max_heat\",\"max_heat\",\"max_heat\",\"max_heat\",\"max_heat\",\"max_heat\",\"max_heat\",\"max_heat\",\"max_heat\",\"max_heat\",\"max_heat\",\"max_heat\",\"max_heat\",\"max_heat\",\"max_heat\",\"max_heat\",\"max_heat\",\"max_heat\",\"max_heat\",\"max_heat\",\"max_heat\",\"max_heat\",\"max_heat\",\"max_heat\",\"max_heat\",\"max_heat\",\"max_heat\",\"max_heat\",\"max_heat\",\"max_heat\",\"max_heat\",\"max_heat\",\"max_heat\",\"max_heat\",\"max_heat\",\"max_heat\",\"max_heat\",\"max_heat\",\"max_heat\",\"max_heat\",\"max_heat\",\"max_heat\",\"max_heat\",\"max_heat\",\"max_heat\",\"max_heat\",\"max_heat\",\"max_heat\",\"max_heat\",\"max_heat\",\"max_heat\",\"max_heat\",\"max_heat\",\"max_heat\",\"max_heat\",\"max_heat\",\"max_heat\",\"max_heat\",\"max_heat\",\"max_heat\",\"max_heat\",\"max_heat\",\"max_heat\",\"max_heat\",\"max_heat\",\"max_heat\",\"max_heat\",\"max_heat\",\"max_heat\",\"max_heat\",\"max_heat\",\"max_heat\",\"max_heat\",\"max_heat\",\"max_heat\",\"max_heat\",\"max_heat\",\"max_heat\",\"max_heat\",\"max_heat\",\"max_heat\",\"max_heat\",\"max_heat\",\"max_heat\",\"max_heat\",\"max_heat\",\"max_heat\",\"max_heat\",\"max_heat\",\"max_heat\",\"max_heat\",\"max_heat\",\"max_heat\",\"max_heat\",\"max_heat\",\"max_heat\",\"max_heat\",\"max_heat\",\"max_heat\",\"max_heat\",\"max_heat\",\"max_heat\",\"max_heat\",\"max_heat\",\"max_heat\",\"max_heat\",\"max_heat\",\"max_heat\",\"max_heat\",\"max_heat\",\"max_heat\",\"max_heat\",\"max_heat\",\"max_heat\",\"max_heat\",\"max_heat\",\"max_heat\",\"max_heat\",\"max_heat\",\"max_heat\",\"max_heat\",\"max_heat\",\"max_heat\",\"max_heat\",\"max_heat\",\"max_heat\",\"max_heat\",\"max_heat\",\"max_heat\",\"max_heat\",\"max_heat\",\"max_heat\",\"max_heat\",\"max_heat\",\"max_heat\",\"max_heat\",\"max_heat\",\"max_heat\",\"max_heat\",\"max_heat\",\"max_heat\",\"max_heat\",\"max_heat\",\"max_heat\",\"max_heat\",\"max_heat\",\"max_heat\",\"max_heat\",\"max_heat\",\"max_heat\",\"max_heat\",\"max_heat\",\"max_heat\",\"max_heat\",\"max_heat\",\"max_heat\",\"max_heat\",\"max_heat\",\"max_heat\",\"max_heat\",\"max_heat\",\"max_heat\",\"max_heat\",\"max_heat\",\"max_heat\",\"max_heat\",\"max_heat\",\"max_heat\",\"max_heat\",\"max_heat\",\"max_heat\",\"max_heat\",\"max_heat\",\"max_heat\",\"max_heat\",\"max_heat\",\"max_heat\",\"max_heat\",\"max_heat\",\"max_heat\",\"max_heat\",\"max_heat\",\"max_heat\",\"max_heat\",\"max_heat\",\"max_heat\",\"max_heat\",\"max_heat\",\"max_heat\",\"max_heat\",\"max_heat\",\"max_heat\",\"max_heat\",\"max_heat\",\"max_heat\",\"max_heat\",\"max_heat\",\"max_heat\",\"max_heat\",\"max_heat\",\"max_heat\",\"max_heat\",\"max_heat\",\"max_heat\",\"max_heat\",\"max_heat\",\"max_heat\",\"max_heat\",\"max_heat\",\"max_heat\",\"max_heat\",\"max_heat\",\"max_heat\",\"max_heat\",\"max_heat\",\"max_heat\",\"max_heat\",\"max_heat\",\"max_heat\",\"max_heat\",\"max_heat\",\"max_heat\",\"max_heat\",\"max_heat\",\"max_heat\",\"max_heat\",\"max_heat\",\"max_heat\",\"max_heat\",\"max_heat\",\"max_heat\",\"max_heat\",\"max_heat\",\"max_heat\",\"max_heat\",\"max_heat\",\"max_heat\",\"max_heat\",\"max_heat\",\"max_heat\",\"max_heat\",\"max_heat\",\"max_heat\",\"max_heat\",\"max_heat\",\"max_heat\",\"max_heat\",\"max_heat\",\"max_heat\",\"max_heat\",\"max_heat\",\"max_heat\",\"max_heat\",\"max_heat\",\"max_heat\",\"max_heat\",\"max_heat\",\"max_heat\",\"max_heat\",\"max_heat\",\"max_heat\",\"max_heat\",\"max_heat\",\"max_heat\",\"max_heat\",\"max_heat\",\"max_heat\",\"max_heat\",\"max_heat\",\"max_heat\",\"max_heat\",\"max_heat\",\"max_heat\",\"max_heat\",\"max_heat\",\"max_heat\",\"max_heat\",\"max_heat\",\"max_heat\",\"max_heat\",\"max_heat\",\"max_heat\",\"max_heat\",\"max_heat\",\"max_heat\",\"max_heat\",\"max_heat\",\"max_heat\",\"max_heat\",\"max_heat\",\"max_heat\",\"max_heat\",\"max_heat\",\"max_heat\",\"max_heat\",\"max_heat\",\"max_heat\",\"max_heat\",\"max_heat\",\"max_heat\",\"max_heat\",\"max_heat\",\"max_heat\",\"max_heat\",\"max_heat\",\"max_heat\",\"max_heat\",\"max_heat\",\"max_heat\",\"max_heat\",\"max_heat\",\"max_heat\",\"max_heat\",\"max_heat\",\"max_heat\",\"max_heat\",\"max_heat\",\"max_heat\",\"max_heat\",\"max_heat\",\"max_heat\",\"max_heat\"],\"date\":{\"__ndarray__\":\"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\",\"dtype\":\"float64\",\"shape\":[365]},\"value\":[43,43,43,43,43,43,43,43,43,43,43,43,43,43,43,43,43,43,43,43,43,43,43,43,43,43,43,43,43,43,43,43,43,43,43,43,43,43,43,43,43,43,43,43,43,43,43,43,43,43,43,43,43,43,43,43,43,43,43,43,43,43,43,43,43,43,43,43,43,43,43,43,43,43,43,43,43,43,43,43,43,43,43,43,43,43,43,43,43,43,43,43,43,43,43,43,43,43,43,43,43,43,43,43,43,43,43,43,43,43,43,43,43,43,43,43,43,43,43,43,43,43,43,43,43,43,43,43,43,43,43,43,43,43,43,43,43,43,43,43,43,43,43,43,43,43,43,43,43,43,43,43,43,43,43,43,43,43,43,43,43,43,43,43,43,43,43,43,43,43,43,43,43,43,43,43,43,43,43,43,43,43,43,43,43,43,43,43,43,43,43,43,43,43,43,43,43,43,43,43,43,43,43,43,43,43,43,43,43,43,43,43,43,43,43,43,43,43,43,43,43,43,43,43,43,43,43,43,43,43,43,43,43,43,43,43,43,43,43,43,43,43,43,43,43,43,43,43,43,43,43,43,43,43,43,43,43,43,43,43,43,43,43,43,43,43,43,43,43,43,43,43,43,43,43,43,43,43,43,43,43,43,43,43,43,43,43,43,43,43,43,43,43,43,43,43,43,43,43,43,43,43,43,43,43,43,43,43,43,43,43,43,43,43,43,43,43,43,43,43,43,43,43,43,43,43,43,43,43,43,43,43,43,43,43,43,43,43,43,43,43,43,43,43,43,43,43,43,43,43,43,43,43,43,43,43,43,43,43,43,43,43,43,43,43]},\"selected\":{\"id\":\"17625\"},\"selection_policy\":{\"id\":\"17685\"}},\"id\":\"17624\",\"type\":\"ColumnDataSource\"},{\"attributes\":{},\"id\":\"15539\",\"type\":\"Selection\"},{\"attributes\":{\"text\":\"Viable Growing Zone to Monthly Temperatures\",\"text_color\":{\"value\":\"black\"},\"text_font_size\":{\"value\":\"12pt\"}},\"id\":\"16674\",\"type\":\"Title\"},{\"attributes\":{},\"id\":\"14834\",\"type\":\"Selection\"},{\"attributes\":{\"fill_color\":{\"value\":\"#1f77b3\"},\"line_color\":{\"value\":\"#1f77b3\"},\"size\":{\"units\":\"screen\",\"value\":5.477225575051661},\"x\":{\"field\":\"date\"},\"y\":{\"field\":\"value\"}},\"id\":\"17416\",\"type\":\"Scatter\"},{\"attributes\":{\"label\":{\"value\":\"max_heat\"},\"renderers\":[{\"id\":\"14808\"}]},\"id\":\"14832\",\"type\":\"LegendItem\"},{\"attributes\":{},\"id\":\"16678\",\"type\":\"LinearScale\"},{\"attributes\":{\"axis_label\":\"Date\",\"bounds\":\"auto\",\"formatter\":{\"id\":\"17410\"},\"major_label_orientation\":\"horizontal\",\"ticker\":{\"id\":\"17389\"}},\"id\":\"17388\",\"type\":\"DatetimeAxis\"},{\"attributes\":{\"fill_color\":{\"value\":\"#ff7e0e\"},\"line_color\":{\"value\":\"#ff7e0e\"},\"size\":{\"units\":\"screen\",\"value\":5.477225575051661},\"x\":{\"field\":\"date\"},\"y\":{\"field\":\"value\"}},\"id\":\"16033\",\"type\":\"Scatter\"},{\"attributes\":{\"source\":{\"id\":\"16918\"}},\"id\":\"16925\",\"type\":\"CDSView\"},{\"attributes\":{},\"id\":\"17384\",\"type\":\"LinearScale\"},{\"attributes\":{},\"id\":\"15595\",\"type\":\"UnionRenderers\"},{\"attributes\":{},\"id\":\"14562\",\"type\":\"LinearScale\"},{\"attributes\":{},\"id\":\"17386\",\"type\":\"LinearScale\"},{\"attributes\":{\"line_color\":\"green\",\"line_width\":2,\"x\":{\"field\":\"date\"},\"y\":{\"field\":\"value\"}},\"id\":\"15541\",\"type\":\"Line\"},{\"attributes\":{\"label\":{\"value\":\"max_cold\"},\"renderers\":[{\"id\":\"15544\"}]},\"id\":\"15570\",\"type\":\"LegendItem\"},{\"attributes\":{\"client_comm_id\":\"bd83e3915d1d4cd78cbdc8f0f09d8fce\",\"comm_id\":\"d1d25f31772043ffa081b6a61dcf5737\",\"plot_id\":\"14549\"},\"id\":\"18468\",\"type\":\"panel.models.comm_manager.CommManager\"},{\"attributes\":{},\"id\":\"15508\",\"type\":\"Selection\"},{\"attributes\":{\"months\":[0,6]},\"id\":\"17436\",\"type\":\"MonthsTicker\"},{\"attributes\":{\"children\":[{\"id\":\"14557\"},{\"id\":\"15262\"}],\"margin\":[0,0,0,0],\"name\":\"Row27197\"},\"id\":\"14550\",\"type\":\"Row\"},{\"attributes\":{\"align\":null,\"below\":[{\"id\":\"15977\"}],\"center\":[{\"id\":\"15980\"},{\"id\":\"15984\"}],\"left\":[{\"id\":\"15981\"}],\"margin\":null,\"min_border_bottom\":10,\"min_border_left\":10,\"min_border_right\":10,\"min_border_top\":10,\"plot_height\":300,\"plot_width\":500,\"renderers\":[{\"id\":\"16008\"},{\"id\":\"16036\"},{\"id\":\"16219\"},{\"id\":\"16250\"}],\"right\":[{\"id\":\"16028\"}],\"sizing_mode\":\"fixed\",\"title\":{\"id\":\"15969\"},\"toolbar\":{\"id\":\"15991\"},\"x_range\":{\"id\":\"14551\"},\"x_scale\":{\"id\":\"15973\"},\"y_range\":{\"id\":\"14552\"},\"y_scale\":{\"id\":\"15975\"}},\"id\":\"15968\",\"subtype\":\"Figure\",\"type\":\"Plot\"},{\"attributes\":{},\"id\":\"17393\",\"type\":\"BasicTicker\"},{\"attributes\":{},\"id\":\"15280\",\"type\":\"PanTool\"},{\"attributes\":{\"num_minor_ticks\":5,\"tickers\":[{\"id\":\"17426\"},{\"id\":\"17427\"},{\"id\":\"17428\"},{\"id\":\"17429\"},{\"id\":\"17430\"},{\"id\":\"17431\"},{\"id\":\"17432\"},{\"id\":\"17433\"},{\"id\":\"17434\"},{\"id\":\"17435\"},{\"id\":\"17436\"},{\"id\":\"17437\"}]},\"id\":\"17389\",\"type\":\"DatetimeTicker\"},{\"attributes\":{\"source\":{\"id\":\"15538\"}},\"id\":\"15545\",\"type\":\"CDSView\"},{\"attributes\":{\"line_alpha\":0.1,\"line_color\":\"green\",\"line_width\":2,\"x\":{\"field\":\"date\"},\"y\":{\"field\":\"value\"}},\"id\":\"17659\",\"type\":\"Line\"},{\"attributes\":{\"end\":49.588,\"reset_end\":49.588,\"reset_start\":-29.468,\"start\":-29.468,\"tags\":[[[\"value\",\"value\",null]]]},\"id\":\"14552\",\"type\":\"Range1d\"},{\"attributes\":{\"line_color\":\"green\",\"line_width\":2,\"x\":{\"field\":\"date\"},\"y\":{\"field\":\"value\"}},\"id\":\"14805\",\"type\":\"Line\"},{\"attributes\":{},\"id\":\"15279\",\"type\":\"SaveTool\"},{\"attributes\":{\"data\":{\"Variable\":[\"max_heat\",\"max_heat\",\"max_heat\",\"max_heat\",\"max_heat\",\"max_heat\",\"max_heat\",\"max_heat\",\"max_heat\",\"max_heat\",\"max_heat\",\"max_heat\",\"max_heat\",\"max_heat\",\"max_heat\",\"max_heat\",\"max_heat\",\"max_heat\",\"max_heat\",\"max_heat\",\"max_heat\",\"max_heat\",\"max_heat\",\"max_heat\",\"max_heat\",\"max_heat\",\"max_heat\",\"max_heat\",\"max_heat\",\"max_heat\",\"max_heat\",\"max_heat\",\"max_heat\",\"max_heat\",\"max_heat\",\"max_heat\",\"max_heat\",\"max_heat\",\"max_heat\",\"max_heat\",\"max_heat\",\"max_heat\",\"max_heat\",\"max_heat\",\"max_heat\",\"max_heat\",\"max_heat\",\"max_heat\",\"max_heat\",\"max_heat\",\"max_heat\",\"max_heat\",\"max_heat\",\"max_heat\",\"max_heat\",\"max_heat\",\"max_heat\",\"max_heat\",\"max_heat\",\"max_heat\",\"max_heat\",\"max_heat\",\"max_heat\",\"max_heat\",\"max_heat\",\"max_heat\",\"max_heat\",\"max_heat\",\"max_heat\",\"max_heat\",\"max_heat\",\"max_heat\",\"max_heat\",\"max_heat\",\"max_heat\",\"max_heat\",\"max_heat\",\"max_heat\",\"max_heat\",\"max_heat\",\"max_heat\",\"max_heat\",\"max_heat\",\"max_heat\",\"max_heat\",\"max_heat\",\"max_heat\",\"max_heat\",\"max_heat\",\"max_heat\",\"max_heat\",\"max_heat\",\"max_heat\",\"max_heat\",\"max_heat\",\"max_heat\",\"max_heat\",\"max_heat\",\"max_heat\",\"max_heat\",\"max_heat\",\"max_heat\",\"max_heat\",\"max_heat\",\"max_heat\",\"max_heat\",\"max_heat\",\"max_heat\",\"max_heat\",\"max_heat\",\"max_heat\",\"max_heat\",\"max_heat\",\"max_heat\",\"max_heat\",\"max_heat\",\"max_heat\",\"max_heat\",\"max_heat\",\"max_heat\",\"max_heat\",\"max_heat\",\"max_heat\",\"max_heat\",\"max_heat\",\"max_heat\",\"max_heat\",\"max_heat\",\"max_heat\",\"max_heat\",\"max_heat\",\"max_heat\",\"max_heat\",\"max_heat\",\"max_heat\",\"max_heat\",\"max_heat\",\"max_heat\",\"max_heat\",\"max_heat\",\"max_heat\",\"max_heat\",\"max_heat\",\"max_heat\",\"max_heat\",\"max_heat\",\"max_heat\",\"max_heat\",\"max_heat\",\"max_heat\",\"max_heat\",\"max_heat\",\"max_heat\",\"max_heat\",\"max_heat\",\"max_heat\",\"max_heat\",\"max_heat\",\"max_heat\",\"max_heat\",\"max_heat\",\"max_heat\",\"max_heat\",\"max_heat\",\"max_heat\",\"max_heat\",\"max_heat\",\"max_heat\",\"max_heat\",\"max_heat\",\"max_heat\",\"max_heat\",\"max_heat\",\"max_heat\",\"max_heat\",\"max_heat\",\"max_heat\",\"max_heat\",\"max_heat\",\"max_heat\",\"max_heat\",\"max_heat\",\"max_heat\",\"max_heat\",\"max_heat\",\"max_heat\",\"max_heat\",\"max_heat\",\"max_heat\",\"max_heat\",\"max_heat\",\"max_heat\",\"max_heat\",\"max_heat\",\"max_heat\",\"max_heat\",\"max_heat\",\"max_heat\",\"max_heat\",\"max_heat\",\"max_heat\",\"max_heat\",\"max_heat\",\"max_heat\",\"max_heat\",\"max_heat\",\"max_heat\",\"max_heat\",\"max_heat\",\"max_heat\",\"max_heat\",\"max_heat\",\"max_heat\",\"max_heat\",\"max_heat\",\"max_heat\",\"max_heat\",\"max_heat\",\"max_heat\",\"max_heat\",\"max_heat\",\"max_heat\",\"max_heat\",\"max_heat\",\"max_heat\",\"max_heat\",\"max_heat\",\"max_heat\",\"max_heat\",\"max_heat\",\"max_heat\",\"max_heat\",\"max_heat\",\"max_heat\",\"max_heat\",\"max_heat\",\"max_heat\",\"max_heat\",\"max_heat\",\"max_heat\",\"max_heat\",\"max_heat\",\"max_heat\",\"max_heat\",\"max_heat\",\"max_heat\",\"max_heat\",\"max_heat\",\"max_heat\",\"max_heat\",\"max_heat\",\"max_heat\",\"max_heat\",\"max_heat\",\"max_heat\",\"max_heat\",\"max_heat\",\"max_heat\",\"max_heat\",\"max_heat\",\"max_heat\",\"max_heat\",\"max_heat\",\"max_heat\",\"max_heat\",\"max_heat\",\"max_heat\",\"max_heat\",\"max_heat\",\"max_heat\",\"max_heat\",\"max_heat\",\"max_heat\",\"max_heat\",\"max_heat\",\"max_heat\",\"max_heat\",\"max_heat\",\"max_heat\",\"max_heat\",\"max_heat\",\"max_heat\",\"max_heat\",\"max_heat\",\"max_heat\",\"max_heat\",\"max_heat\",\"max_heat\",\"max_heat\",\"max_heat\",\"max_heat\",\"max_heat\",\"max_heat\",\"max_heat\",\"max_heat\",\"max_heat\",\"max_heat\",\"max_heat\",\"max_heat\",\"max_heat\",\"max_heat\",\"max_heat\",\"max_heat\",\"max_heat\",\"max_heat\",\"max_heat\",\"max_heat\",\"max_heat\",\"max_heat\",\"max_heat\",\"max_heat\",\"max_heat\",\"max_heat\",\"max_heat\",\"max_heat\",\"max_heat\",\"max_heat\",\"max_heat\",\"max_heat\",\"max_heat\",\"max_heat\",\"max_heat\",\"max_heat\",\"max_heat\",\"max_heat\",\"max_heat\",\"max_heat\",\"max_heat\",\"max_heat\",\"max_heat\",\"max_heat\",\"max_heat\",\"max_heat\",\"max_heat\",\"max_heat\",\"max_heat\",\"max_heat\",\"max_heat\",\"max_heat\",\"max_heat\",\"max_heat\",\"max_heat\",\"max_heat\",\"max_heat\",\"max_heat\",\"max_heat\",\"max_heat\",\"max_heat\",\"max_heat\",\"max_heat\",\"max_heat\",\"max_heat\",\"max_heat\",\"max_heat\",\"max_heat\",\"max_heat\",\"max_heat\",\"max_heat\",\"max_heat\",\"max_heat\",\"max_heat\",\"max_heat\",\"max_heat\",\"max_heat\",\"max_heat\"],\"date\":{\"__ndarray__\":\"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\",\"dtype\":\"float64\",\"shape\":[365]},\"value\":[43,43,43,43,43,43,43,43,43,43,43,43,43,43,43,43,43,43,43,43,43,43,43,43,43,43,43,43,43,43,43,43,43,43,43,43,43,43,43,43,43,43,43,43,43,43,43,43,43,43,43,43,43,43,43,43,43,43,43,43,43,43,43,43,43,43,43,43,43,43,43,43,43,43,43,43,43,43,43,43,43,43,43,43,43,43,43,43,43,43,43,43,43,43,43,43,43,43,43,43,43,43,43,43,43,43,43,43,43,43,43,43,43,43,43,43,43,43,43,43,43,43,43,43,43,43,43,43,43,43,43,43,43,43,43,43,43,43,43,43,43,43,43,43,43,43,43,43,43,43,43,43,43,43,43,43,43,43,43,43,43,43,43,43,43,43,43,43,43,43,43,43,43,43,43,43,43,43,43,43,43,43,43,43,43,43,43,43,43,43,43,43,43,43,43,43,43,43,43,43,43,43,43,43,43,43,43,43,43,43,43,43,43,43,43,43,43,43,43,43,43,43,43,43,43,43,43,43,43,43,43,43,43,43,43,43,43,43,43,43,43,43,43,43,43,43,43,43,43,43,43,43,43,43,43,43,43,43,43,43,43,43,43,43,43,43,43,43,43,43,43,43,43,43,43,43,43,43,43,43,43,43,43,43,43,43,43,43,43,43,43,43,43,43,43,43,43,43,43,43,43,43,43,43,43,43,43,43,43,43,43,43,43,43,43,43,43,43,43,43,43,43,43,43,43,43,43,43,43,43,43,43,43,43,43,43,43,43,43,43,43,43,43,43,43,43,43,43,43,43,43,43,43,43,43,43,43,43,43,43,43,43,43,43,43]},\"selected\":{\"id\":\"15508\"},\"selection_policy\":{\"id\":\"15568\"}},\"id\":\"15507\",\"type\":\"ColumnDataSource\"},{\"attributes\":{\"label\":{\"value\":\"max_heat\"},\"renderers\":[{\"id\":\"15513\"}]},\"id\":\"15537\",\"type\":\"LegendItem\"},{\"attributes\":{\"line_alpha\":0.1,\"line_color\":\"green\",\"line_width\":2,\"x\":{\"field\":\"date\"},\"y\":{\"field\":\"value\"}},\"id\":\"15511\",\"type\":\"Line\"},{\"attributes\":{\"data\":{\"Variable\":[\"max_cold\",\"max_cold\",\"max_cold\",\"max_cold\",\"max_cold\",\"max_cold\",\"max_cold\",\"max_cold\",\"max_cold\",\"max_cold\",\"max_cold\",\"max_cold\",\"max_cold\",\"max_cold\",\"max_cold\",\"max_cold\",\"max_cold\",\"max_cold\",\"max_cold\",\"max_cold\",\"max_cold\",\"max_cold\",\"max_cold\",\"max_cold\",\"max_cold\",\"max_cold\",\"max_cold\",\"max_cold\",\"max_cold\",\"max_cold\",\"max_cold\",\"max_cold\",\"max_cold\",\"max_cold\",\"max_cold\",\"max_cold\",\"max_cold\",\"max_cold\",\"max_cold\",\"max_cold\",\"max_cold\",\"max_cold\",\"max_cold\",\"max_cold\",\"max_cold\",\"max_cold\",\"max_cold\",\"max_cold\",\"max_cold\",\"max_cold\",\"max_cold\",\"max_cold\",\"max_cold\",\"max_cold\",\"max_cold\",\"max_cold\",\"max_cold\",\"max_cold\",\"max_cold\",\"max_cold\",\"max_cold\",\"max_cold\",\"max_cold\",\"max_cold\",\"max_cold\",\"max_cold\",\"max_cold\",\"max_cold\",\"max_cold\",\"max_cold\",\"max_cold\",\"max_cold\",\"max_cold\",\"max_cold\",\"max_cold\",\"max_cold\",\"max_cold\",\"max_cold\",\"max_cold\",\"max_cold\",\"max_cold\",\"max_cold\",\"max_cold\",\"max_cold\",\"max_cold\",\"max_cold\",\"max_cold\",\"max_cold\",\"max_cold\",\"max_cold\",\"max_cold\",\"max_cold\",\"max_cold\",\"max_cold\",\"max_cold\",\"max_cold\",\"max_cold\",\"max_cold\",\"max_cold\",\"max_cold\",\"max_cold\",\"max_cold\",\"max_cold\",\"max_cold\",\"max_cold\",\"max_cold\",\"max_cold\",\"max_cold\",\"max_cold\",\"max_cold\",\"max_cold\",\"max_cold\",\"max_cold\",\"max_cold\",\"max_cold\",\"max_cold\",\"max_cold\",\"max_cold\",\"max_cold\",\"max_cold\",\"max_cold\",\"max_cold\",\"max_cold\",\"max_cold\",\"max_cold\",\"max_cold\",\"max_cold\",\"max_cold\",\"max_cold\",\"max_cold\",\"max_cold\",\"max_cold\",\"max_cold\",\"max_cold\",\"max_cold\",\"max_cold\",\"max_cold\",\"max_cold\",\"max_cold\",\"max_cold\",\"max_cold\",\"max_cold\",\"max_cold\",\"max_cold\",\"max_cold\",\"max_cold\",\"max_cold\",\"max_cold\",\"max_cold\",\"max_cold\",\"max_cold\",\"max_cold\",\"max_cold\",\"max_cold\",\"max_cold\",\"max_cold\",\"max_cold\",\"max_cold\",\"max_cold\",\"max_cold\",\"max_cold\",\"max_cold\",\"max_cold\",\"max_cold\",\"max_cold\",\"max_cold\",\"max_cold\",\"max_cold\",\"max_cold\",\"max_cold\",\"max_cold\",\"max_cold\",\"max_cold\",\"max_cold\",\"max_cold\",\"max_cold\",\"max_cold\",\"max_cold\",\"max_cold\",\"max_cold\",\"max_cold\",\"max_cold\",\"max_cold\",\"max_cold\",\"max_cold\",\"max_cold\",\"max_cold\",\"max_cold\",\"max_cold\",\"max_cold\",\"max_cold\",\"max_cold\",\"max_cold\",\"max_cold\",\"max_cold\",\"max_cold\",\"max_cold\",\"max_cold\",\"max_cold\",\"max_cold\",\"max_cold\",\"max_cold\",\"max_cold\",\"max_cold\",\"max_cold\",\"max_cold\",\"max_cold\",\"max_cold\",\"max_cold\",\"max_cold\",\"max_cold\",\"max_cold\",\"max_cold\",\"max_cold\",\"max_cold\",\"max_cold\",\"max_cold\",\"max_cold\",\"max_cold\",\"max_cold\",\"max_cold\",\"max_cold\",\"max_cold\",\"max_cold\",\"max_cold\",\"max_cold\",\"max_cold\",\"max_cold\",\"max_cold\",\"max_cold\",\"max_cold\",\"max_cold\",\"max_cold\",\"max_cold\",\"max_cold\",\"max_cold\",\"max_cold\",\"max_cold\",\"max_cold\",\"max_cold\",\"max_cold\",\"max_cold\",\"max_cold\",\"max_cold\",\"max_cold\",\"max_cold\",\"max_cold\",\"max_cold\",\"max_cold\",\"max_cold\",\"max_cold\",\"max_cold\",\"max_cold\",\"max_cold\",\"max_cold\",\"max_cold\",\"max_cold\",\"max_cold\",\"max_cold\",\"max_cold\",\"max_cold\",\"max_cold\",\"max_cold\",\"max_cold\",\"max_cold\",\"max_cold\",\"max_cold\",\"max_cold\",\"max_cold\",\"max_cold\",\"max_cold\",\"max_cold\",\"max_cold\",\"max_cold\",\"max_cold\",\"max_cold\",\"max_cold\",\"max_cold\",\"max_cold\",\"max_cold\",\"max_cold\",\"max_cold\",\"max_cold\",\"max_cold\",\"max_cold\",\"max_cold\",\"max_cold\",\"max_cold\",\"max_cold\",\"max_cold\",\"max_cold\",\"max_cold\",\"max_cold\",\"max_cold\",\"max_cold\",\"max_cold\",\"max_cold\",\"max_cold\",\"max_cold\",\"max_cold\",\"max_cold\",\"max_cold\",\"max_cold\",\"max_cold\",\"max_cold\",\"max_cold\",\"max_cold\",\"max_cold\",\"max_cold\",\"max_cold\",\"max_cold\",\"max_cold\",\"max_cold\",\"max_cold\",\"max_cold\",\"max_cold\",\"max_cold\",\"max_cold\",\"max_cold\",\"max_cold\",\"max_cold\",\"max_cold\",\"max_cold\",\"max_cold\",\"max_cold\",\"max_cold\",\"max_cold\",\"max_cold\",\"max_cold\",\"max_cold\",\"max_cold\",\"max_cold\",\"max_cold\",\"max_cold\",\"max_cold\",\"max_cold\",\"max_cold\",\"max_cold\",\"max_cold\",\"max_cold\",\"max_cold\",\"max_cold\",\"max_cold\",\"max_cold\",\"max_cold\",\"max_cold\",\"max_cold\",\"max_cold\",\"max_cold\",\"max_cold\",\"max_cold\",\"max_cold\",\"max_cold\",\"max_cold\",\"max_cold\",\"max_cold\",\"max_cold\",\"max_cold\",\"max_cold\",\"max_cold\",\"max_cold\",\"max_cold\",\"max_cold\",\"max_cold\",\"max_cold\"],\"date\":{\"__ndarray__\":\"AACA53JeckIAAEBNxV5yQgAAALMXX3JCAADAGGpfckIAAIB+vF9yQgAAQOQOYHJCAAAASmFgckIAAMCvs2ByQgAAgBUGYXJCAABAe1hhckIAAADhqmFyQgAAwEb9YXJCAACArE9ickIAAEASomJyQgAAAHj0YnJCAADA3UZjckIAAIBDmWNyQgAAQKnrY3JCAAAADz5kckIAAMB0kGRyQgAAgNriZHJCAABAQDVlckIAAACmh2VyQgAAwAvaZXJCAACAcSxmckIAAEDXfmZyQgAAAD3RZnJCAADAoiNnckIAAIAIdmdyQgAAQG7IZ3JCAAAA1BpockIAAMA5bWhyQgAAgJ+/aHJCAABABRJpckIAAABrZGlyQgAAwNC2aXJCAACANglqckIAAECcW2pyQgAAAAKuanJCAADAZwBrckIAAIDNUmtyQgAAQDOla3JCAAAAmfdrckIAAMD+SWxyQgAAgGScbHJCAABAyu5sckIAAAAwQW1yQgAAwJWTbXJCAACA++VtckIAAEBhOG5yQgAAAMeKbnJCAADALN1uckIAAICSL29yQgAAQPiBb3JCAAAAXtRvckIAAMDDJnByQgAAgCl5cHJCAABAj8twckIAAAD1HXFyQgAAwFpwcXJCAACAwMJxckIAAEAmFXJyQgAAAIxncnJCAADA8blyckIAAIBXDHNyQgAAQL1ec3JCAAAAI7FzckIAAMCIA3RyQgAAgO5VdHJCAABAVKh0ckIAAAC6+nRyQgAAwB9NdXJCAACAhZ91ckIAAEDr8XVyQgAAAFFEdnJCAADAtpZ2ckIAAIAc6XZyQgAAQII7d3JCAAAA6I13ckIAAMBN4HdyQgAAgLMyeHJCAABAGYV4ckIAAAB/13hyQgAAwOQpeXJCAACASnx5ckIAAECwznlyQgAAABYhenJCAADAe3N6ckIAAIDhxXpyQgAAQEcYe3JCAAAArWp7ckIAAMASvXtyQgAAgHgPfHJCAABA3mF8ckIAAABEtHxyQgAAwKkGfXJCAACAD1l9ckIAAEB1q31yQgAAANv9fXJCAADAQFB+ckIAAICmon5yQgAAQAz1fnJCAAAAckd/ckIAAMDXmX9yQgAAgD3sf3JCAABAoz6AckIAAAAJkYByQgAAwG7jgHJCAACA1DWBckIAAEA6iIFyQgAAAKDagXJCAADABS2CckIAAIBrf4JyQgAAQNHRgnJCAAAANySDckIAAMCcdoNyQgAAgALJg3JCAABAaBuEckIAAADObYRyQgAAwDPAhHJCAACAmRKFckIAAED/ZIVyQgAAAGW3hXJCAADAygmGckIAAIAwXIZyQgAAQJauhnJCAAAA/ACHckIAAMBhU4dyQgAAgMelh3JCAABALfiHckIAAACTSohyQgAAwPiciHJCAACAXu+IckIAAEDEQYlyQgAAACqUiXJCAADAj+aJckIAAID1OIpyQgAAQFuLinJCAAAAwd2KckIAAMAmMItyQgAAgIyCi3JCAABA8tSLckIAAABYJ4xyQgAAwL15jHJCAACAI8yMckIAAECJHo1yQgAAAO9wjXJCAADAVMONckIAAIC6FY5yQgAAQCBojnJCAAAAhrqOckIAAMDrDI9yQgAAgFFfj3JCAABAt7GPckIAAAAdBJByQgAAwIJWkHJCAACA6KiQckIAAEBO+5ByQgAAALRNkXJCAADAGaCRckIAAIB/8pFyQgAAQOVEknJCAAAAS5eSckIAAMCw6ZJyQgAAgBY8k3JCAABAfI6TckIAAADi4JNyQgAAwEczlHJCAACArYWUckIAAEAT2JRyQgAAAHkqlXJCAADA3nyVckIAAIBEz5VyQgAAQKohlnJCAAAAEHSWckIAAMB1xpZyQgAAgNsYl3JCAABAQWuXckIAAACnvZdyQgAAwAwQmHJCAACAcmKYckIAAEDYtJhyQgAAAD4HmXJCAADAo1mZckIAAIAJrJlyQgAAQG/+mXJCAAAA1VCackIAAMA6o5pyQgAAgKD1mnJCAABABkibckIAAABsmptyQgAAwNHsm3JCAACANz+cckIAAECdkZxyQgAAAAPknHJCAADAaDadckIAAIDOiJ1yQgAAQDTbnXJCAAAAmi2eckIAAMD/f55yQgAAgGXSnnJCAABAyySfckIAAAAxd59yQgAAwJbJn3JCAACA/BugckIAAEBibqByQgAAAMjAoHJCAADALROhckIAAICTZaFyQgAAQPm3oXJCAAAAXwqickIAAMDEXKJyQgAAgCqvonJCAABAkAGjckIAAAD2U6NyQgAAwFumo3JCAACAwfijckIAAEAnS6RyQgAAAI2dpHJCAADA8u+kckIAAIBYQqVyQgAAQL6UpXJCAAAAJOelckIAAMCJOaZyQgAAgO+LpnJCAABAVd6mckIAAAC7MKdyQgAAwCCDp3JCAACAhtWnckIAAEDsJ6hyQgAAAFJ6qHJCAADAt8yockIAAIAdH6lyQgAAQINxqXJCAAAA6cOpckIAAMBOFqpyQgAAgLRoqnJCAABAGruqckIAAACADatyQgAAwOVfq3JCAACAS7KrckIAAECxBKxyQgAAABdXrHJCAADAfKmsckIAAIDi+6xyQgAAQEhOrXJCAAAArqCtckIAAMAT861yQgAAgHlFrnJCAABA35euckIAAABF6q5yQgAAwKo8r3JCAACAEI+vckIAAEB24a9yQgAAANwzsHJCAADAQYawckIAAICn2LByQgAAQA0rsXJCAAAAc32xckIAAMDYz7FyQgAAgD4isnJCAABApHSyckIAAAAKx7JyQgAAwG8Zs3JCAACA1WuzckIAAEA7vrNyQgAAAKEQtHJCAADABmO0ckIAAIBstbRyQgAAQNIHtXJCAAAAOFq1ckIAAMCdrLVyQgAAgAP/tXJCAABAaVG2ckIAAADPo7ZyQgAAwDT2tnJCAACAmki3ckIAAEAAm7dyQgAAAGbtt3JCAADAyz+4ckIAAIAxkrhyQgAAQJfkuHJCAAAA/Ta5ckIAAMBiiblyQgAAgMjbuXJCAABALi66ckIAAACUgLpyQgAAwPnSunJCAACAXyW7ckIAAEDFd7tyQgAAACvKu3JCAADAkBy8ckIAAID2brxyQgAAQFzBvHJCAAAAwhO9ckIAAMAnZr1yQgAAgI24vXJCAABA8wq+ckIAAABZXb5yQgAAwL6vvnJCAACAJAK/ckIAAECKVL9yQgAAAPCmv3JCAADAVfm/ckIAAIC7S8ByQgAAQCGewHJCAAAAh/DAckIAAMDsQsFyQgAAgFKVwXJCAABAuOfBckIAAAAeOsJyQgAAwIOMwnJCAACA6d7CckIAAEBPMcNyQgAAALWDw3JCAADAGtbDckIAAICAKMRyQgAAQOZ6xHJCAAAATM3EckIAAMCxH8VyQgAAgBdyxXJCAABAfcTFckIAAADjFsZyQgAAwEhpxnJCAACArrvGckIAAEAUDsdyQgAAAHpgx3JCAADA37LHckIAAIBFBchyQgAAQKtXyHJCAAAAEarIckIAAMB2/MhyQgAAgNxOyXJCAABAQqHJckIAAACo88lyQgAAwA1GynJCAACAc5jKckIAAEDZ6spyQgAAAD89y3JCAADApI/LckIAAIAK4styQgAAQHA0zHJCAAAA1obMckIAAMA72cxyQgAAgKErzXJCAABAB37NckIAAABt0M1yQgAAwNIiznJCAACAOHXOckIAAECex85yQgAAAAQaz3JCAADAaWzPckIAAIDPvs9yQgAAQDUR0HJCAAAAm2PQckIAAMAAttByQgAAgGYI0XJCAABAzFrRckIAAAAyrdFyQgAAwJf/0XJCAACA/VHSckIAAEBjpNJyQgAAAMn20nJCAADALknTckIAAICUm9NyQg==\",\"dtype\":\"float64\",\"shape\":[365]},\"value\":[0,0,0,0,0,0,0,0,0,0,0,0,0,0,0,0,0,0,0,0,0,0,0,0,0,0,0,0,0,0,0,0,0,0,0,0,0,0,0,0,0,0,0,0,0,0,0,0,0,0,0,0,0,0,0,0,0,0,0,0,0,0,0,0,0,0,0,0,0,0,0,0,0,0,0,0,0,0,0,0,0,0,0,0,0,0,0,0,0,0,0,0,0,0,0,0,0,0,0,0,0,0,0,0,0,0,0,0,0,0,0,0,0,0,0,0,0,0,0,0,0,0,0,0,0,0,0,0,0,0,0,0,0,0,0,0,0,0,0,0,0,0,0,0,0,0,0,0,0,0,0,0,0,0,0,0,0,0,0,0,0,0,0,0,0,0,0,0,0,0,0,0,0,0,0,0,0,0,0,0,0,0,0,0,0,0,0,0,0,0,0,0,0,0,0,0,0,0,0,0,0,0,0,0,0,0,0,0,0,0,0,0,0,0,0,0,0,0,0,0,0,0,0,0,0,0,0,0,0,0,0,0,0,0,0,0,0,0,0,0,0,0,0,0,0,0,0,0,0,0,0,0,0,0,0,0,0,0,0,0,0,0,0,0,0,0,0,0,0,0,0,0,0,0,0,0,0,0,0,0,0,0,0,0,0,0,0,0,0,0,0,0,0,0,0,0,0,0,0,0,0,0,0,0,0,0,0,0,0,0,0,0,0,0,0,0,0,0,0,0,0,0,0,0,0,0,0,0,0,0,0,0,0,0,0,0,0,0,0,0,0,0,0,0,0,0,0,0,0,0,0,0,0,0,0,0,0,0,0,0,0,0,0,0,0]},\"selected\":{\"id\":\"15539\"},\"selection_policy\":{\"id\":\"15595\"}},\"id\":\"15538\",\"type\":\"ColumnDataSource\"},{\"attributes\":{},\"id\":\"15982\",\"type\":\"BasicTicker\"},{\"attributes\":{\"source\":{\"id\":\"15507\"}},\"id\":\"15514\",\"type\":\"CDSView\"},{\"attributes\":{\"label\":{\"value\":\"TMAX_Indiana\"},\"renderers\":[{\"id\":\"16741\"}]},\"id\":\"16763\",\"type\":\"LegendItem\"},{\"attributes\":{\"data_source\":{\"id\":\"14802\"},\"glyph\":{\"id\":\"14805\"},\"hover_glyph\":null,\"muted_glyph\":{\"id\":\"14807\"},\"nonselection_glyph\":{\"id\":\"14806\"},\"selection_glyph\":null,\"view\":{\"id\":\"14809\"}},\"id\":\"14808\",\"type\":\"GlyphRenderer\"},{\"attributes\":{},\"id\":\"17712\",\"type\":\"UnionRenderers\"},{\"attributes\":{\"label\":{\"value\":\"max_cold\"},\"renderers\":[{\"id\":\"17661\"}]},\"id\":\"17687\",\"type\":\"LegendItem\"},{\"attributes\":{},\"id\":\"15350\",\"type\":\"UnionRenderers\"},{\"attributes\":{\"bottom_units\":\"screen\",\"fill_alpha\":0.5,\"fill_color\":\"lightgrey\",\"left_units\":\"screen\",\"level\":\"overlay\",\"line_alpha\":1.0,\"line_color\":\"black\",\"line_dash\":[4,4],\"line_width\":2,\"render_mode\":\"css\",\"right_units\":\"screen\",\"top_units\":\"screen\"},\"id\":\"15284\",\"type\":\"BoxAnnotation\"},{\"attributes\":{\"data_source\":{\"id\":\"17655\"},\"glyph\":{\"id\":\"17658\"},\"hover_glyph\":null,\"muted_glyph\":{\"id\":\"17660\"},\"nonselection_glyph\":{\"id\":\"17659\"},\"selection_glyph\":null,\"view\":{\"id\":\"17662\"}},\"id\":\"17661\",\"type\":\"GlyphRenderer\"},{\"attributes\":{\"source\":{\"id\":\"14802\"}},\"id\":\"14809\",\"type\":\"CDSView\"},{\"attributes\":{},\"id\":\"14574\",\"type\":\"SaveTool\"},{\"attributes\":{\"axis_label\":\"Temperature (C)\",\"bounds\":\"auto\",\"formatter\":{\"id\":\"17412\"},\"major_label_orientation\":\"horizontal\",\"ticker\":{\"id\":\"17393\"}},\"id\":\"17392\",\"type\":\"LinearAxis\"},{\"attributes\":{},\"id\":\"14575\",\"type\":\"PanTool\"},{\"attributes\":{\"data_source\":{\"id\":\"15507\"},\"glyph\":{\"id\":\"15510\"},\"hover_glyph\":null,\"muted_glyph\":{\"id\":\"15512\"},\"nonselection_glyph\":{\"id\":\"15511\"},\"selection_glyph\":null,\"view\":{\"id\":\"15514\"}},\"id\":\"15513\",\"type\":\"GlyphRenderer\"},{\"attributes\":{\"line_color\":\"green\",\"line_width\":2,\"x\":{\"field\":\"date\"},\"y\":{\"field\":\"value\"}},\"id\":\"15510\",\"type\":\"Line\"},{\"attributes\":{\"source\":{\"id\":\"17655\"}},\"id\":\"17662\",\"type\":\"CDSView\"},{\"attributes\":{},\"id\":\"14564\",\"type\":\"LinearScale\"},{\"attributes\":{\"line_alpha\":0.2,\"line_color\":\"green\",\"line_width\":2,\"x\":{\"field\":\"date\"},\"y\":{\"field\":\"value\"}},\"id\":\"17660\",\"type\":\"Line\"},{\"attributes\":{\"children\":[{\"id\":\"15968\"},{\"id\":\"16673\"}],\"margin\":[0,0,0,0],\"name\":\"Row27616\"},\"id\":\"15961\",\"type\":\"Row\"},{\"attributes\":{\"label\":{\"value\":\"TMAX_Iowa\"},\"renderers\":[{\"id\":\"15330\"}]},\"id\":\"15352\",\"type\":\"LegendItem\"},{\"attributes\":{\"fill_alpha\":{\"value\":0.2},\"fill_color\":{\"value\":\"#ff7e0e\"},\"line_alpha\":{\"value\":0.2},\"line_color\":{\"value\":\"#ff7e0e\"},\"size\":{\"units\":\"screen\",\"value\":5.477225575051661},\"x\":{\"field\":\"date\"},\"y\":{\"field\":\"value\"}},\"id\":\"15329\",\"type\":\"Scatter\"},{\"attributes\":{\"fill_alpha\":{\"value\":0.1},\"fill_color\":{\"value\":\"#ff7e0e\"},\"line_alpha\":{\"value\":0.1},\"line_color\":{\"value\":\"#ff7e0e\"},\"size\":{\"units\":\"screen\",\"value\":5.477225575051661},\"x\":{\"field\":\"date\"},\"y\":{\"field\":\"value\"}},\"id\":\"14623\",\"type\":\"Scatter\"},{\"attributes\":{\"data\":{\"Variable\":[\"max_heat\",\"max_heat\",\"max_heat\",\"max_heat\",\"max_heat\",\"max_heat\",\"max_heat\",\"max_heat\",\"max_heat\",\"max_heat\",\"max_heat\",\"max_heat\",\"max_heat\",\"max_heat\",\"max_heat\",\"max_heat\",\"max_heat\",\"max_heat\",\"max_heat\",\"max_heat\",\"max_heat\",\"max_heat\",\"max_heat\",\"max_heat\",\"max_heat\",\"max_heat\",\"max_heat\",\"max_heat\",\"max_heat\",\"max_heat\",\"max_heat\",\"max_heat\",\"max_heat\",\"max_heat\",\"max_heat\",\"max_heat\",\"max_heat\",\"max_heat\",\"max_heat\",\"max_heat\",\"max_heat\",\"max_heat\",\"max_heat\",\"max_heat\",\"max_heat\",\"max_heat\",\"max_heat\",\"max_heat\",\"max_heat\",\"max_heat\",\"max_heat\",\"max_heat\",\"max_heat\",\"max_heat\",\"max_heat\",\"max_heat\",\"max_heat\",\"max_heat\",\"max_heat\",\"max_heat\",\"max_heat\",\"max_heat\",\"max_heat\",\"max_heat\",\"max_heat\",\"max_heat\",\"max_heat\",\"max_heat\",\"max_heat\",\"max_heat\",\"max_heat\",\"max_heat\",\"max_heat\",\"max_heat\",\"max_heat\",\"max_heat\",\"max_heat\",\"max_heat\",\"max_heat\",\"max_heat\",\"max_heat\",\"max_heat\",\"max_heat\",\"max_heat\",\"max_heat\",\"max_heat\",\"max_heat\",\"max_heat\",\"max_heat\",\"max_heat\",\"max_heat\",\"max_heat\",\"max_heat\",\"max_heat\",\"max_heat\",\"max_heat\",\"max_heat\",\"max_heat\",\"max_heat\",\"max_heat\",\"max_heat\",\"max_heat\",\"max_heat\",\"max_heat\",\"max_heat\",\"max_heat\",\"max_heat\",\"max_heat\",\"max_heat\",\"max_heat\",\"max_heat\",\"max_heat\",\"max_heat\",\"max_heat\",\"max_heat\",\"max_heat\",\"max_heat\",\"max_heat\",\"max_heat\",\"max_heat\",\"max_heat\",\"max_heat\",\"max_heat\",\"max_heat\",\"max_heat\",\"max_heat\",\"max_heat\",\"max_heat\",\"max_heat\",\"max_heat\",\"max_heat\",\"max_heat\",\"max_heat\",\"max_heat\",\"max_heat\",\"max_heat\",\"max_heat\",\"max_heat\",\"max_heat\",\"max_heat\",\"max_heat\",\"max_heat\",\"max_heat\",\"max_heat\",\"max_heat\",\"max_heat\",\"max_heat\",\"max_heat\",\"max_heat\",\"max_heat\",\"max_heat\",\"max_heat\",\"max_heat\",\"max_heat\",\"max_heat\",\"max_heat\",\"max_heat\",\"max_heat\",\"max_heat\",\"max_heat\",\"max_heat\",\"max_heat\",\"max_heat\",\"max_heat\",\"max_heat\",\"max_heat\",\"max_heat\",\"max_heat\",\"max_heat\",\"max_heat\",\"max_heat\",\"max_heat\",\"max_heat\",\"max_heat\",\"max_heat\",\"max_heat\",\"max_heat\",\"max_heat\",\"max_heat\",\"max_heat\",\"max_heat\",\"max_heat\",\"max_heat\",\"max_heat\",\"max_heat\",\"max_heat\",\"max_heat\",\"max_heat\",\"max_heat\",\"max_heat\",\"max_heat\",\"max_heat\",\"max_heat\",\"max_heat\",\"max_heat\",\"max_heat\",\"max_heat\",\"max_heat\",\"max_heat\",\"max_heat\",\"max_heat\",\"max_heat\",\"max_heat\",\"max_heat\",\"max_heat\",\"max_heat\",\"max_heat\",\"max_heat\",\"max_heat\",\"max_heat\",\"max_heat\",\"max_heat\",\"max_heat\",\"max_heat\",\"max_heat\",\"max_heat\",\"max_heat\",\"max_heat\",\"max_heat\",\"max_heat\",\"max_heat\",\"max_heat\",\"max_heat\",\"max_heat\",\"max_heat\",\"max_heat\",\"max_heat\",\"max_heat\",\"max_heat\",\"max_heat\",\"max_heat\",\"max_heat\",\"max_heat\",\"max_heat\",\"max_heat\",\"max_heat\",\"max_heat\",\"max_heat\",\"max_heat\",\"max_heat\",\"max_heat\",\"max_heat\",\"max_heat\",\"max_heat\",\"max_heat\",\"max_heat\",\"max_heat\",\"max_heat\",\"max_heat\",\"max_heat\",\"max_heat\",\"max_heat\",\"max_heat\",\"max_heat\",\"max_heat\",\"max_heat\",\"max_heat\",\"max_heat\",\"max_heat\",\"max_heat\",\"max_heat\",\"max_heat\",\"max_heat\",\"max_heat\",\"max_heat\",\"max_heat\",\"max_heat\",\"max_heat\",\"max_heat\",\"max_heat\",\"max_heat\",\"max_heat\",\"max_heat\",\"max_heat\",\"max_heat\",\"max_heat\",\"max_heat\",\"max_heat\",\"max_heat\",\"max_heat\",\"max_heat\",\"max_heat\",\"max_heat\",\"max_heat\",\"max_heat\",\"max_heat\",\"max_heat\",\"max_heat\",\"max_heat\",\"max_heat\",\"max_heat\",\"max_heat\",\"max_heat\",\"max_heat\",\"max_heat\",\"max_heat\",\"max_heat\",\"max_heat\",\"max_heat\",\"max_heat\",\"max_heat\",\"max_heat\",\"max_heat\",\"max_heat\",\"max_heat\",\"max_heat\",\"max_heat\",\"max_heat\",\"max_heat\",\"max_heat\",\"max_heat\",\"max_heat\",\"max_heat\",\"max_heat\",\"max_heat\",\"max_heat\",\"max_heat\",\"max_heat\",\"max_heat\",\"max_heat\",\"max_heat\",\"max_heat\",\"max_heat\",\"max_heat\",\"max_heat\",\"max_heat\",\"max_heat\",\"max_heat\",\"max_heat\",\"max_heat\",\"max_heat\",\"max_heat\",\"max_heat\",\"max_heat\",\"max_heat\",\"max_heat\",\"max_heat\",\"max_heat\",\"max_heat\",\"max_heat\",\"max_heat\",\"max_heat\",\"max_heat\",\"max_heat\",\"max_heat\",\"max_heat\",\"max_heat\",\"max_heat\",\"max_heat\",\"max_heat\",\"max_heat\",\"max_heat\",\"max_heat\",\"max_heat\",\"max_heat\",\"max_heat\",\"max_heat\",\"max_heat\",\"max_heat\",\"max_heat\",\"max_heat\",\"max_heat\",\"max_heat\",\"max_heat\",\"max_heat\"],\"date\":{\"__ndarray__\":\"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\",\"dtype\":\"float64\",\"shape\":[365]},\"value\":[43,43,43,43,43,43,43,43,43,43,43,43,43,43,43,43,43,43,43,43,43,43,43,43,43,43,43,43,43,43,43,43,43,43,43,43,43,43,43,43,43,43,43,43,43,43,43,43,43,43,43,43,43,43,43,43,43,43,43,43,43,43,43,43,43,43,43,43,43,43,43,43,43,43,43,43,43,43,43,43,43,43,43,43,43,43,43,43,43,43,43,43,43,43,43,43,43,43,43,43,43,43,43,43,43,43,43,43,43,43,43,43,43,43,43,43,43,43,43,43,43,43,43,43,43,43,43,43,43,43,43,43,43,43,43,43,43,43,43,43,43,43,43,43,43,43,43,43,43,43,43,43,43,43,43,43,43,43,43,43,43,43,43,43,43,43,43,43,43,43,43,43,43,43,43,43,43,43,43,43,43,43,43,43,43,43,43,43,43,43,43,43,43,43,43,43,43,43,43,43,43,43,43,43,43,43,43,43,43,43,43,43,43,43,43,43,43,43,43,43,43,43,43,43,43,43,43,43,43,43,43,43,43,43,43,43,43,43,43,43,43,43,43,43,43,43,43,43,43,43,43,43,43,43,43,43,43,43,43,43,43,43,43,43,43,43,43,43,43,43,43,43,43,43,43,43,43,43,43,43,43,43,43,43,43,43,43,43,43,43,43,43,43,43,43,43,43,43,43,43,43,43,43,43,43,43,43,43,43,43,43,43,43,43,43,43,43,43,43,43,43,43,43,43,43,43,43,43,43,43,43,43,43,43,43,43,43,43,43,43,43,43,43,43,43,43,43,43,43,43,43,43,43,43,43,43,43,43,43,43,43,43,43,43,43]},\"selected\":{\"id\":\"14803\"},\"selection_policy\":{\"id\":\"14863\"}},\"id\":\"14802\",\"type\":\"ColumnDataSource\"},{\"attributes\":{\"mantissas\":[1,2,5],\"max_interval\":500.0,\"num_minor_ticks\":0},\"id\":\"16015\",\"type\":\"AdaptiveTicker\"},{\"attributes\":{},\"id\":\"15987\",\"type\":\"WheelZoomTool\"},{\"attributes\":{},\"id\":\"15295\",\"type\":\"BasicTickFormatter\"},{\"attributes\":{\"axis\":{\"id\":\"14566\"},\"grid_line_color\":null,\"ticker\":null},\"id\":\"14569\",\"type\":\"Grid\"},{\"attributes\":{\"fill_color\":{\"value\":\"#1f77b3\"},\"line_color\":{\"value\":\"#1f77b3\"},\"size\":{\"units\":\"screen\",\"value\":5.477225575051661},\"x\":{\"field\":\"date\"},\"y\":{\"field\":\"value\"}},\"id\":\"15299\",\"type\":\"Scatter\"},{\"attributes\":{\"data\":{\"Variable\":[\"TMAX_Nebraska\",\"TMAX_Nebraska\",\"TMAX_Nebraska\",\"TMAX_Nebraska\",\"TMAX_Nebraska\",\"TMAX_Nebraska\",\"TMAX_Nebraska\",\"TMAX_Nebraska\",\"TMAX_Nebraska\",\"TMAX_Nebraska\",\"TMAX_Nebraska\",\"TMAX_Nebraska\",\"TMAX_Nebraska\",\"TMAX_Nebraska\",\"TMAX_Nebraska\",\"TMAX_Nebraska\",\"TMAX_Nebraska\",\"TMAX_Nebraska\",\"TMAX_Nebraska\",\"TMAX_Nebraska\",\"TMAX_Nebraska\",\"TMAX_Nebraska\",\"TMAX_Nebraska\",\"TMAX_Nebraska\",\"TMAX_Nebraska\",\"TMAX_Nebraska\",\"TMAX_Nebraska\",\"TMAX_Nebraska\",\"TMAX_Nebraska\",\"TMAX_Nebraska\",\"TMAX_Nebraska\",\"TMAX_Nebraska\",\"TMAX_Nebraska\",\"TMAX_Nebraska\",\"TMAX_Nebraska\",\"TMAX_Nebraska\",\"TMAX_Nebraska\",\"TMAX_Nebraska\",\"TMAX_Nebraska\",\"TMAX_Nebraska\",\"TMAX_Nebraska\",\"TMAX_Nebraska\",\"TMAX_Nebraska\",\"TMAX_Nebraska\",\"TMAX_Nebraska\",\"TMAX_Nebraska\",\"TMAX_Nebraska\",\"TMAX_Nebraska\",\"TMAX_Nebraska\",\"TMAX_Nebraska\",\"TMAX_Nebraska\",\"TMAX_Nebraska\",\"TMAX_Nebraska\",\"TMAX_Nebraska\",\"TMAX_Nebraska\",\"TMAX_Nebraska\",\"TMAX_Nebraska\",\"TMAX_Nebraska\",\"TMAX_Nebraska\",\"TMAX_Nebraska\",\"TMAX_Nebraska\",\"TMAX_Nebraska\",\"TMAX_Nebraska\",\"TMAX_Nebraska\",\"TMAX_Nebraska\",\"TMAX_Nebraska\",\"TMAX_Nebraska\",\"TMAX_Nebraska\",\"TMAX_Nebraska\",\"TMAX_Nebraska\",\"TMAX_Nebraska\",\"TMAX_Nebraska\",\"TMAX_Nebraska\",\"TMAX_Nebraska\",\"TMAX_Nebraska\",\"TMAX_Nebraska\",\"TMAX_Nebraska\",\"TMAX_Nebraska\",\"TMAX_Nebraska\",\"TMAX_Nebraska\",\"TMAX_Nebraska\",\"TMAX_Nebraska\",\"TMAX_Nebraska\",\"TMAX_Nebraska\",\"TMAX_Nebraska\",\"TMAX_Nebraska\",\"TMAX_Nebraska\",\"TMAX_Nebraska\",\"TMAX_Nebraska\",\"TMAX_Nebraska\",\"TMAX_Nebraska\",\"TMAX_Nebraska\",\"TMAX_Nebraska\",\"TMAX_Nebraska\",\"TMAX_Nebraska\",\"TMAX_Nebraska\",\"TMAX_Nebraska\",\"TMAX_Nebraska\",\"TMAX_Nebraska\",\"TMAX_Nebraska\",\"TMAX_Nebraska\",\"TMAX_Nebraska\",\"TMAX_Nebraska\",\"TMAX_Nebraska\",\"TMAX_Nebraska\",\"TMAX_Nebraska\",\"TMAX_Nebraska\",\"TMAX_Nebraska\",\"TMAX_Nebraska\",\"TMAX_Nebraska\",\"TMAX_Nebraska\",\"TMAX_Nebraska\",\"TMAX_Nebraska\",\"TMAX_Nebraska\",\"TMAX_Nebraska\",\"TMAX_Nebraska\",\"TMAX_Nebraska\",\"TMAX_Nebraska\",\"TMAX_Nebraska\",\"TMAX_Nebraska\",\"TMAX_Nebraska\",\"TMAX_Nebraska\",\"TMAX_Nebraska\",\"TMAX_Nebraska\",\"TMAX_Nebraska\",\"TMAX_Nebraska\",\"TMAX_Nebraska\",\"TMAX_Nebraska\",\"TMAX_Nebraska\",\"TMAX_Nebraska\",\"TMAX_Nebraska\",\"TMAX_Nebraska\",\"TMAX_Nebraska\",\"TMAX_Nebraska\",\"TMAX_Nebraska\",\"TMAX_Nebraska\",\"TMAX_Nebraska\",\"TMAX_Nebraska\",\"TMAX_Nebraska\",\"TMAX_Nebraska\",\"TMAX_Nebraska\",\"TMAX_Nebraska\",\"TMAX_Nebraska\",\"TMAX_Nebraska\",\"TMAX_Nebraska\",\"TMAX_Nebraska\",\"TMAX_Nebraska\",\"TMAX_Nebraska\",\"TMAX_Nebraska\",\"TMAX_Nebraska\",\"TMAX_Nebraska\",\"TMAX_Nebraska\",\"TMAX_Nebraska\",\"TMAX_Nebraska\",\"TMAX_Nebraska\",\"TMAX_Nebraska\",\"TMAX_Nebraska\",\"TMAX_Nebraska\",\"TMAX_Nebraska\",\"TMAX_Nebraska\",\"TMAX_Nebraska\",\"TMAX_Nebraska\",\"TMAX_Nebraska\",\"TMAX_Nebraska\",\"TMAX_Nebraska\",\"TMAX_Nebraska\",\"TMAX_Nebraska\",\"TMAX_Nebraska\",\"TMAX_Nebraska\",\"TMAX_Nebraska\",\"TMAX_Nebraska\",\"TMAX_Nebraska\",\"TMAX_Nebraska\",\"TMAX_Nebraska\",\"TMAX_Nebraska\",\"TMAX_Nebraska\",\"TMAX_Nebraska\",\"TMAX_Nebraska\",\"TMAX_Nebraska\",\"TMAX_Nebraska\",\"TMAX_Nebraska\",\"TMAX_Nebraska\",\"TMAX_Nebraska\",\"TMAX_Nebraska\",\"TMAX_Nebraska\",\"TMAX_Nebraska\",\"TMAX_Nebraska\",\"TMAX_Nebraska\",\"TMAX_Nebraska\",\"TMAX_Nebraska\",\"TMAX_Nebraska\",\"TMAX_Nebraska\",\"TMAX_Nebraska\",\"TMAX_Nebraska\",\"TMAX_Nebraska\",\"TMAX_Nebraska\",\"TMAX_Nebraska\",\"TMAX_Nebraska\",\"TMAX_Nebraska\",\"TMAX_Nebraska\",\"TMAX_Nebraska\",\"TMAX_Nebraska\",\"TMAX_Nebraska\",\"TMAX_Nebraska\",\"TMAX_Nebraska\",\"TMAX_Nebraska\",\"TMAX_Nebraska\",\"TMAX_Nebraska\",\"TMAX_Nebraska\",\"TMAX_Nebraska\",\"TMAX_Nebraska\",\"TMAX_Nebraska\",\"TMAX_Nebraska\",\"TMAX_Nebraska\",\"TMAX_Nebraska\",\"TMAX_Nebraska\",\"TMAX_Nebraska\",\"TMAX_Nebraska\",\"TMAX_Nebraska\",\"TMAX_Nebraska\",\"TMAX_Nebraska\",\"TMAX_Nebraska\",\"TMAX_Nebraska\",\"TMAX_Nebraska\",\"TMAX_Nebraska\",\"TMAX_Nebraska\",\"TMAX_Nebraska\",\"TMAX_Nebraska\",\"TMAX_Nebraska\",\"TMAX_Nebraska\",\"TMAX_Nebraska\",\"TMAX_Nebraska\",\"TMAX_Nebraska\",\"TMAX_Nebraska\",\"TMAX_Nebraska\",\"TMAX_Nebraska\",\"TMAX_Nebraska\",\"TMAX_Nebraska\",\"TMAX_Nebraska\",\"TMAX_Nebraska\",\"TMAX_Nebraska\",\"TMAX_Nebraska\",\"TMAX_Nebraska\",\"TMAX_Nebraska\",\"TMAX_Nebraska\",\"TMAX_Nebraska\",\"TMAX_Nebraska\",\"TMAX_Nebraska\",\"TMAX_Nebraska\",\"TMAX_Nebraska\",\"TMAX_Nebraska\",\"TMAX_Nebraska\",\"TMAX_Nebraska\",\"TMAX_Nebraska\",\"TMAX_Nebraska\",\"TMAX_Nebraska\",\"TMAX_Nebraska\",\"TMAX_Nebraska\",\"TMAX_Nebraska\",\"TMAX_Nebraska\",\"TMAX_Nebraska\",\"TMAX_Nebraska\",\"TMAX_Nebraska\",\"TMAX_Nebraska\",\"TMAX_Nebraska\",\"TMAX_Nebraska\",\"TMAX_Nebraska\",\"TMAX_Nebraska\",\"TMAX_Nebraska\",\"TMAX_Nebraska\",\"TMAX_Nebraska\",\"TMAX_Nebraska\",\"TMAX_Nebraska\",\"TMAX_Nebraska\",\"TMAX_Nebraska\",\"TMAX_Nebraska\",\"TMAX_Nebraska\",\"TMAX_Nebraska\",\"TMAX_Nebraska\",\"TMAX_Nebraska\",\"TMAX_Nebraska\",\"TMAX_Nebraska\",\"TMAX_Nebraska\",\"TMAX_Nebraska\",\"TMAX_Nebraska\",\"TMAX_Nebraska\",\"TMAX_Nebraska\",\"TMAX_Nebraska\",\"TMAX_Nebraska\",\"TMAX_Nebraska\",\"TMAX_Nebraska\",\"TMAX_Nebraska\",\"TMAX_Nebraska\",\"TMAX_Nebraska\",\"TMAX_Nebraska\",\"TMAX_Nebraska\",\"TMAX_Nebraska\",\"TMAX_Nebraska\",\"TMAX_Nebraska\",\"TMAX_Nebraska\",\"TMAX_Nebraska\",\"TMAX_Nebraska\",\"TMAX_Nebraska\",\"TMAX_Nebraska\",\"TMAX_Nebraska\",\"TMAX_Nebraska\",\"TMAX_Nebraska\",\"TMAX_Nebraska\",\"TMAX_Nebraska\",\"TMAX_Nebraska\",\"TMAX_Nebraska\",\"TMAX_Nebraska\",\"TMAX_Nebraska\",\"TMAX_Nebraska\",\"TMAX_Nebraska\",\"TMAX_Nebraska\",\"TMAX_Nebraska\",\"TMAX_Nebraska\",\"TMAX_Nebraska\",\"TMAX_Nebraska\",\"TMAX_Nebraska\",\"TMAX_Nebraska\",\"TMAX_Nebraska\",\"TMAX_Nebraska\",\"TMAX_Nebraska\",\"TMAX_Nebraska\",\"TMAX_Nebraska\",\"TMAX_Nebraska\",\"TMAX_Nebraska\",\"TMAX_Nebraska\",\"TMAX_Nebraska\",\"TMAX_Nebraska\",\"TMAX_Nebraska\",\"TMAX_Nebraska\",\"TMAX_Nebraska\",\"TMAX_Nebraska\",\"TMAX_Nebraska\",\"TMAX_Nebraska\",\"TMAX_Nebraska\",\"TMAX_Nebraska\",\"TMAX_Nebraska\",\"TMAX_Nebraska\",\"TMAX_Nebraska\",\"TMAX_Nebraska\",\"TMAX_Nebraska\",\"TMAX_Nebraska\",\"TMAX_Nebraska\",\"TMAX_Nebraska\",\"TMAX_Nebraska\",\"TMAX_Nebraska\",\"TMAX_Nebraska\",\"TMAX_Nebraska\",\"TMAX_Nebraska\",\"TMAX_Nebraska\",\"TMAX_Nebraska\",\"TMAX_Nebraska\",\"TMAX_Nebraska\",\"TMAX_Nebraska\",\"TMAX_Nebraska\",\"TMAX_Nebraska\",\"TMAX_Nebraska\",\"TMAX_Nebraska\",\"TMAX_Nebraska\",\"TMAX_Nebraska\",\"TMAX_Nebraska\"],\"date\":{\"__ndarray__\":\"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\",\"dtype\":\"float64\",\"shape\":[365]},\"value\":{\"__ndarray__\":\"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\",\"dtype\":\"float64\",\"shape\":[365]}},\"selected\":{\"id\":\"16031\"},\"selection_policy\":{\"id\":\"16079\"}},\"id\":\"16030\",\"type\":\"ColumnDataSource\"},{\"attributes\":{},\"id\":\"16274\",\"type\":\"UnionRenderers\"},{\"attributes\":{\"overlay\":{\"id\":\"15284\"}},\"id\":\"15282\",\"type\":\"BoxZoomTool\"},{\"attributes\":{},\"id\":\"15986\",\"type\":\"PanTool\"},{\"attributes\":{\"source\":{\"id\":\"16030\"}},\"id\":\"16037\",\"type\":\"CDSView\"},{\"attributes\":{\"label\":{\"value\":\"TMIN_Nebraska\"},\"renderers\":[{\"id\":\"16008\"}]},\"id\":\"16029\",\"type\":\"LegendItem\"},{\"attributes\":{\"axis\":{\"id\":\"14570\"},\"dimension\":1,\"grid_line_color\":null,\"ticker\":null},\"id\":\"14573\",\"type\":\"Grid\"},{\"attributes\":{\"base\":60,\"mantissas\":[1,2,5,10,15,20,30],\"max_interval\":1800000.0,\"min_interval\":1000.0,\"num_minor_ticks\":0},\"id\":\"16016\",\"type\":\"AdaptiveTicker\"},{\"attributes\":{\"children\":[{\"id\":\"17379\"}],\"margin\":[0,0,0,0],\"name\":\"Row27826\"},\"id\":\"17372\",\"type\":\"Row\"},{\"attributes\":{\"days\":[1,2,3,4,5,6,7,8,9,10,11,12,13,14,15,16,17,18,19,20,21,22,23,24,25,26,27,28,29,30,31]},\"id\":\"16018\",\"type\":\"DaysTicker\"},{\"attributes\":{},\"id\":\"16784\",\"type\":\"UnionRenderers\"},{\"attributes\":{\"axis_label\":\"Date\",\"bounds\":\"auto\",\"formatter\":{\"id\":\"16704\"},\"major_label_orientation\":\"horizontal\",\"ticker\":{\"id\":\"16683\"}},\"id\":\"16682\",\"type\":\"DatetimeAxis\"},{\"attributes\":{\"label\":{\"value\":\"TMAX_Nebraska\"},\"renderers\":[{\"id\":\"16036\"}]},\"id\":\"16058\",\"type\":\"LegendItem\"},{\"attributes\":{\"days\":[1,4,7,10,13,16,19,22,25,28]},\"id\":\"16019\",\"type\":\"DaysTicker\"},{\"attributes\":{\"text\":\"Viable Growing Zone to Monthly Temperatures\",\"text_color\":{\"value\":\"black\"},\"text_font_size\":{\"value\":\"12pt\"}},\"id\":\"15969\",\"type\":\"Title\"},{\"attributes\":{\"click_policy\":\"mute\",\"items\":[{\"id\":\"15323\"},{\"id\":\"15352\"},{\"id\":\"15537\"},{\"id\":\"15570\"}],\"location\":[0,0]},\"id\":\"15322\",\"type\":\"Legend\"},{\"attributes\":{\"click_policy\":\"mute\",\"items\":[{\"id\":\"16029\"},{\"id\":\"16058\"},{\"id\":\"16243\"},{\"id\":\"16276\"}],\"location\":[0,0]},\"id\":\"16028\",\"type\":\"Legend\"},{\"attributes\":{\"overlay\":{\"id\":\"14579\"}},\"id\":\"14577\",\"type\":\"BoxZoomTool\"},{\"attributes\":{},\"id\":\"14588\",\"type\":\"DatetimeTickFormatter\"},{\"attributes\":{},\"id\":\"15281\",\"type\":\"WheelZoomTool\"},{\"attributes\":{\"num_minor_ticks\":5,\"tickers\":[{\"id\":\"16720\"},{\"id\":\"16721\"},{\"id\":\"16722\"},{\"id\":\"16723\"},{\"id\":\"16724\"},{\"id\":\"16725\"},{\"id\":\"16726\"},{\"id\":\"16727\"},{\"id\":\"16728\"},{\"id\":\"16729\"},{\"id\":\"16730\"},{\"id\":\"16731\"}]},\"id\":\"16683\",\"type\":\"DatetimeTicker\"},{\"attributes\":{\"source\":{\"id\":\"14619\"}},\"id\":\"14626\",\"type\":\"CDSView\"},{\"attributes\":{\"source\":{\"id\":\"16244\"}},\"id\":\"16251\",\"type\":\"CDSView\"},{\"attributes\":{\"mantissas\":[1,2,5],\"max_interval\":500.0,\"num_minor_ticks\":0},\"id\":\"15309\",\"type\":\"AdaptiveTicker\"},{\"attributes\":{\"callback\":null,\"formatters\":{\"@{date}\":\"datetime\"},\"renderers\":[{\"id\":\"15302\"},{\"id\":\"15330\"},{\"id\":\"15513\"},{\"id\":\"15544\"}],\"tags\":[\"hv_created\"],\"tooltips\":[[\"Variable\",\"@{Variable}\"],[\"date\",\"@{date}{%F %T}\"],[\"value\",\"@{value}\"]]},\"id\":\"15258\",\"type\":\"HoverTool\"},{\"attributes\":{\"data_source\":{\"id\":\"14619\"},\"glyph\":{\"id\":\"14622\"},\"hover_glyph\":null,\"muted_glyph\":{\"id\":\"14624\"},\"nonselection_glyph\":{\"id\":\"14623\"},\"selection_glyph\":null,\"view\":{\"id\":\"14626\"}},\"id\":\"14625\",\"type\":\"GlyphRenderer\"},{\"attributes\":{\"fill_alpha\":{\"value\":0.2},\"fill_color\":{\"value\":\"#ff7e0e\"},\"line_alpha\":{\"value\":0.2},\"line_color\":{\"value\":\"#ff7e0e\"},\"size\":{\"units\":\"screen\",\"value\":5.477225575051661},\"x\":{\"field\":\"date\"},\"y\":{\"field\":\"value\"}},\"id\":\"16035\",\"type\":\"Scatter\"},{\"attributes\":{\"months\":[0,6]},\"id\":\"16025\",\"type\":\"MonthsTicker\"},{\"attributes\":{\"axis\":{\"id\":\"16682\"},\"grid_line_color\":null,\"ticker\":null},\"id\":\"16685\",\"type\":\"Grid\"},{\"attributes\":{\"data\":{\"Variable\":[\"TMAX_Illinois\",\"TMAX_Illinois\",\"TMAX_Illinois\",\"TMAX_Illinois\",\"TMAX_Illinois\",\"TMAX_Illinois\",\"TMAX_Illinois\",\"TMAX_Illinois\",\"TMAX_Illinois\",\"TMAX_Illinois\",\"TMAX_Illinois\",\"TMAX_Illinois\",\"TMAX_Illinois\",\"TMAX_Illinois\",\"TMAX_Illinois\",\"TMAX_Illinois\",\"TMAX_Illinois\",\"TMAX_Illinois\",\"TMAX_Illinois\",\"TMAX_Illinois\",\"TMAX_Illinois\",\"TMAX_Illinois\",\"TMAX_Illinois\",\"TMAX_Illinois\",\"TMAX_Illinois\",\"TMAX_Illinois\",\"TMAX_Illinois\",\"TMAX_Illinois\",\"TMAX_Illinois\",\"TMAX_Illinois\",\"TMAX_Illinois\",\"TMAX_Illinois\",\"TMAX_Illinois\",\"TMAX_Illinois\",\"TMAX_Illinois\",\"TMAX_Illinois\",\"TMAX_Illinois\",\"TMAX_Illinois\",\"TMAX_Illinois\",\"TMAX_Illinois\",\"TMAX_Illinois\",\"TMAX_Illinois\",\"TMAX_Illinois\",\"TMAX_Illinois\",\"TMAX_Illinois\",\"TMAX_Illinois\",\"TMAX_Illinois\",\"TMAX_Illinois\",\"TMAX_Illinois\",\"TMAX_Illinois\",\"TMAX_Illinois\",\"TMAX_Illinois\",\"TMAX_Illinois\",\"TMAX_Illinois\",\"TMAX_Illinois\",\"TMAX_Illinois\",\"TMAX_Illinois\",\"TMAX_Illinois\",\"TMAX_Illinois\",\"TMAX_Illinois\",\"TMAX_Illinois\",\"TMAX_Illinois\",\"TMAX_Illinois\",\"TMAX_Illinois\",\"TMAX_Illinois\",\"TMAX_Illinois\",\"TMAX_Illinois\",\"TMAX_Illinois\",\"TMAX_Illinois\",\"TMAX_Illinois\",\"TMAX_Illinois\",\"TMAX_Illinois\",\"TMAX_Illinois\",\"TMAX_Illinois\",\"TMAX_Illinois\",\"TMAX_Illinois\",\"TMAX_Illinois\",\"TMAX_Illinois\",\"TMAX_Illinois\",\"TMAX_Illinois\",\"TMAX_Illinois\",\"TMAX_Illinois\",\"TMAX_Illinois\",\"TMAX_Illinois\",\"TMAX_Illinois\",\"TMAX_Illinois\",\"TMAX_Illinois\",\"TMAX_Illinois\",\"TMAX_Illinois\",\"TMAX_Illinois\",\"TMAX_Illinois\",\"TMAX_Illinois\",\"TMAX_Illinois\",\"TMAX_Illinois\",\"TMAX_Illinois\",\"TMAX_Illinois\",\"TMAX_Illinois\",\"TMAX_Illinois\",\"TMAX_Illinois\",\"TMAX_Illinois\",\"TMAX_Illinois\",\"TMAX_Illinois\",\"TMAX_Illinois\",\"TMAX_Illinois\",\"TMAX_Illinois\",\"TMAX_Illinois\",\"TMAX_Illinois\",\"TMAX_Illinois\",\"TMAX_Illinois\",\"TMAX_Illinois\",\"TMAX_Illinois\",\"TMAX_Illinois\",\"TMAX_Illinois\",\"TMAX_Illinois\",\"TMAX_Illinois\",\"TMAX_Illinois\",\"TMAX_Illinois\",\"TMAX_Illinois\",\"TMAX_Illinois\",\"TMAX_Illinois\",\"TMAX_Illinois\",\"TMAX_Illinois\",\"TMAX_Illinois\",\"TMAX_Illinois\",\"TMAX_Illinois\",\"TMAX_Illinois\",\"TMAX_Illinois\",\"TMAX_Illinois\",\"TMAX_Illinois\",\"TMAX_Illinois\",\"TMAX_Illinois\",\"TMAX_Illinois\",\"TMAX_Illinois\",\"TMAX_Illinois\",\"TMAX_Illinois\",\"TMAX_Illinois\",\"TMAX_Illinois\",\"TMAX_Illinois\",\"TMAX_Illinois\",\"TMAX_Illinois\",\"TMAX_Illinois\",\"TMAX_Illinois\",\"TMAX_Illinois\",\"TMAX_Illinois\",\"TMAX_Illinois\",\"TMAX_Illinois\",\"TMAX_Illinois\",\"TMAX_Illinois\",\"TMAX_Illinois\",\"TMAX_Illinois\",\"TMAX_Illinois\",\"TMAX_Illinois\",\"TMAX_Illinois\",\"TMAX_Illinois\",\"TMAX_Illinois\",\"TMAX_Illinois\",\"TMAX_Illinois\",\"TMAX_Illinois\",\"TMAX_Illinois\",\"TMAX_Illinois\",\"TMAX_Illinois\",\"TMAX_Illinois\",\"TMAX_Illinois\",\"TMAX_Illinois\",\"TMAX_Illinois\",\"TMAX_Illinois\",\"TMAX_Illinois\",\"TMAX_Illinois\",\"TMAX_Illinois\",\"TMAX_Illinois\",\"TMAX_Illinois\",\"TMAX_Illinois\",\"TMAX_Illinois\",\"TMAX_Illinois\",\"TMAX_Illinois\",\"TMAX_Illinois\",\"TMAX_Illinois\",\"TMAX_Illinois\",\"TMAX_Illinois\",\"TMAX_Illinois\",\"TMAX_Illinois\",\"TMAX_Illinois\",\"TMAX_Illinois\",\"TMAX_Illinois\",\"TMAX_Illinois\",\"TMAX_Illinois\",\"TMAX_Illinois\",\"TMAX_Illinois\",\"TMAX_Illinois\",\"TMAX_Illinois\",\"TMAX_Illinois\",\"TMAX_Illinois\",\"TMAX_Illinois\",\"TMAX_Illinois\",\"TMAX_Illinois\",\"TMAX_Illinois\",\"TMAX_Illinois\",\"TMAX_Illinois\",\"TMAX_Illinois\",\"TMAX_Illinois\",\"TMAX_Illinois\",\"TMAX_Illinois\",\"TMAX_Illinois\",\"TMAX_Illinois\",\"TMAX_Illinois\",\"TMAX_Illinois\",\"TMAX_Illinois\",\"TMAX_Illinois\",\"TMAX_Illinois\",\"TMAX_Illinois\",\"TMAX_Illinois\",\"TMAX_Illinois\",\"TMAX_Illinois\",\"TMAX_Illinois\",\"TMAX_Illinois\",\"TMAX_Illinois\",\"TMAX_Illinois\",\"TMAX_Illinois\",\"TMAX_Illinois\",\"TMAX_Illinois\",\"TMAX_Illinois\",\"TMAX_Illinois\",\"TMAX_Illinois\",\"TMAX_Illinois\",\"TMAX_Illinois\",\"TMAX_Illinois\",\"TMAX_Illinois\",\"TMAX_Illinois\",\"TMAX_Illinois\",\"TMAX_Illinois\",\"TMAX_Illinois\",\"TMAX_Illinois\",\"TMAX_Illinois\",\"TMAX_Illinois\",\"TMAX_Illinois\",\"TMAX_Illinois\",\"TMAX_Illinois\",\"TMAX_Illinois\",\"TMAX_Illinois\",\"TMAX_Illinois\",\"TMAX_Illinois\",\"TMAX_Illinois\",\"TMAX_Illinois\",\"TMAX_Illinois\",\"TMAX_Illinois\",\"TMAX_Illinois\",\"TMAX_Illinois\",\"TMAX_Illinois\",\"TMAX_Illinois\",\"TMAX_Illinois\",\"TMAX_Illinois\",\"TMAX_Illinois\",\"TMAX_Illinois\",\"TMAX_Illinois\",\"TMAX_Illinois\",\"TMAX_Illinois\",\"TMAX_Illinois\",\"TMAX_Illinois\",\"TMAX_Illinois\",\"TMAX_Illinois\",\"TMAX_Illinois\",\"TMAX_Illinois\",\"TMAX_Illinois\",\"TMAX_Illinois\",\"TMAX_Illinois\",\"TMAX_Illinois\",\"TMAX_Illinois\",\"TMAX_Illinois\",\"TMAX_Illinois\",\"TMAX_Illinois\",\"TMAX_Illinois\",\"TMAX_Illinois\",\"TMAX_Illinois\",\"TMAX_Illinois\",\"TMAX_Illinois\",\"TMAX_Illinois\",\"TMAX_Illinois\",\"TMAX_Illinois\",\"TMAX_Illinois\",\"TMAX_Illinois\",\"TMAX_Illinois\",\"TMAX_Illinois\",\"TMAX_Illinois\",\"TMAX_Illinois\",\"TMAX_Illinois\",\"TMAX_Illinois\",\"TMAX_Illinois\",\"TMAX_Illinois\",\"TMAX_Illinois\",\"TMAX_Illinois\",\"TMAX_Illinois\",\"TMAX_Illinois\",\"TMAX_Illinois\",\"TMAX_Illinois\",\"TMAX_Illinois\",\"TMAX_Illinois\",\"TMAX_Illinois\",\"TMAX_Illinois\",\"TMAX_Illinois\",\"TMAX_Illinois\",\"TMAX_Illinois\",\"TMAX_Illinois\",\"TMAX_Illinois\",\"TMAX_Illinois\",\"TMAX_Illinois\",\"TMAX_Illinois\",\"TMAX_Illinois\",\"TMAX_Illinois\",\"TMAX_Illinois\",\"TMAX_Illinois\",\"TMAX_Illinois\",\"TMAX_Illinois\",\"TMAX_Illinois\",\"TMAX_Illinois\",\"TMAX_Illinois\",\"TMAX_Illinois\",\"TMAX_Illinois\",\"TMAX_Illinois\",\"TMAX_Illinois\",\"TMAX_Illinois\",\"TMAX_Illinois\",\"TMAX_Illinois\",\"TMAX_Illinois\",\"TMAX_Illinois\",\"TMAX_Illinois\",\"TMAX_Illinois\",\"TMAX_Illinois\",\"TMAX_Illinois\",\"TMAX_Illinois\",\"TMAX_Illinois\",\"TMAX_Illinois\",\"TMAX_Illinois\",\"TMAX_Illinois\",\"TMAX_Illinois\",\"TMAX_Illinois\",\"TMAX_Illinois\",\"TMAX_Illinois\",\"TMAX_Illinois\",\"TMAX_Illinois\",\"TMAX_Illinois\",\"TMAX_Illinois\",\"TMAX_Illinois\",\"TMAX_Illinois\",\"TMAX_Illinois\",\"TMAX_Illinois\",\"TMAX_Illinois\",\"TMAX_Illinois\",\"TMAX_Illinois\",\"TMAX_Illinois\",\"TMAX_Illinois\",\"TMAX_Illinois\",\"TMAX_Illinois\",\"TMAX_Illinois\",\"TMAX_Illinois\",\"TMAX_Illinois\",\"TMAX_Illinois\",\"TMAX_Illinois\",\"TMAX_Illinois\",\"TMAX_Illinois\",\"TMAX_Illinois\",\"TMAX_Illinois\",\"TMAX_Illinois\",\"TMAX_Illinois\",\"TMAX_Illinois\",\"TMAX_Illinois\"],\"date\":{\"__ndarray__\":\"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\",\"dtype\":\"float64\",\"shape\":[365]},\"value\":{\"__ndarray__\":\"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\",\"dtype\":\"float64\",\"shape\":[365]}},\"selected\":{\"id\":\"14620\"},\"selection_policy\":{\"id\":\"14668\"}},\"id\":\"14619\",\"type\":\"ColumnDataSource\"},{\"attributes\":{\"data_source\":{\"id\":\"16030\"},\"glyph\":{\"id\":\"16033\"},\"hover_glyph\":null,\"muted_glyph\":{\"id\":\"16035\"},\"nonselection_glyph\":{\"id\":\"16034\"},\"selection_glyph\":null,\"view\":{\"id\":\"16037\"}},\"id\":\"16036\",\"type\":\"GlyphRenderer\"},{\"attributes\":{},\"id\":\"16706\",\"type\":\"BasicTickFormatter\"},{\"attributes\":{\"months\":[0,4,8]},\"id\":\"16024\",\"type\":\"MonthsTicker\"},{\"attributes\":{},\"id\":\"15985\",\"type\":\"SaveTool\"},{\"attributes\":{\"fill_color\":{\"value\":\"#ff7e0e\"},\"line_color\":{\"value\":\"#ff7e0e\"},\"size\":{\"units\":\"screen\",\"value\":5.477225575051661},\"x\":{\"field\":\"date\"},\"y\":{\"field\":\"value\"}},\"id\":\"14622\",\"type\":\"Scatter\"},{\"attributes\":{\"align\":null,\"below\":[{\"id\":\"14566\"}],\"center\":[{\"id\":\"14569\"},{\"id\":\"14573\"}],\"left\":[{\"id\":\"14570\"}],\"margin\":null,\"min_border_bottom\":10,\"min_border_left\":10,\"min_border_right\":10,\"min_border_top\":10,\"plot_height\":300,\"plot_width\":500,\"renderers\":[{\"id\":\"14597\"},{\"id\":\"14625\"},{\"id\":\"14808\"},{\"id\":\"14839\"}],\"right\":[{\"id\":\"14617\"}],\"sizing_mode\":\"fixed\",\"title\":{\"id\":\"14558\"},\"toolbar\":{\"id\":\"14580\"},\"x_range\":{\"id\":\"14551\"},\"x_scale\":{\"id\":\"14562\"},\"y_range\":{\"id\":\"14552\"},\"y_scale\":{\"id\":\"14564\"}},\"id\":\"14557\",\"subtype\":\"Figure\",\"type\":\"Plot\"},{\"attributes\":{},\"id\":\"15283\",\"type\":\"ResetTool\"},{\"attributes\":{},\"id\":\"16680\",\"type\":\"LinearScale\"},{\"attributes\":{},\"id\":\"14620\",\"type\":\"Selection\"},{\"attributes\":{\"days\":[1,15]},\"id\":\"16021\",\"type\":\"DaysTicker\"},{\"attributes\":{\"fill_alpha\":{\"value\":0.2},\"fill_color\":{\"value\":\"#1f77b3\"},\"line_alpha\":{\"value\":0.2},\"line_color\":{\"value\":\"#1f77b3\"},\"size\":{\"units\":\"screen\",\"value\":5.477225575051661},\"x\":{\"field\":\"date\"},\"y\":{\"field\":\"value\"}},\"id\":\"16712\",\"type\":\"Scatter\"},{\"attributes\":{\"bottom_units\":\"screen\",\"fill_alpha\":0.5,\"fill_color\":\"lightgrey\",\"left_units\":\"screen\",\"level\":\"overlay\",\"line_alpha\":1.0,\"line_color\":\"black\",\"line_dash\":[4,4],\"line_width\":2,\"render_mode\":\"css\",\"right_units\":\"screen\",\"top_units\":\"screen\"},\"id\":\"14579\",\"type\":\"BoxAnnotation\"},{\"attributes\":{},\"id\":\"16761\",\"type\":\"UnionRenderers\"},{\"attributes\":{},\"id\":\"16245\",\"type\":\"Selection\"},{\"attributes\":{\"overlay\":{\"id\":\"15990\"}},\"id\":\"15988\",\"type\":\"BoxZoomTool\"},{\"attributes\":{\"base\":24,\"mantissas\":[1,2,4,6,8,12],\"max_interval\":43200000.0,\"min_interval\":3600000.0,\"num_minor_ticks\":0},\"id\":\"16017\",\"type\":\"AdaptiveTicker\"},{\"attributes\":{},\"id\":\"14590\",\"type\":\"BasicTickFormatter\"},{\"attributes\":{},\"id\":\"15325\",\"type\":\"Selection\"},{\"attributes\":{\"axis\":{\"id\":\"16686\"},\"dimension\":1,\"grid_line_color\":null,\"ticker\":null},\"id\":\"16689\",\"type\":\"Grid\"},{\"attributes\":{\"data_source\":{\"id\":\"16002\"},\"glyph\":{\"id\":\"16005\"},\"hover_glyph\":null,\"muted_glyph\":{\"id\":\"16007\"},\"nonselection_glyph\":{\"id\":\"16006\"},\"selection_glyph\":null,\"view\":{\"id\":\"16009\"}},\"id\":\"16008\",\"type\":\"GlyphRenderer\"},{\"attributes\":{\"data\":{\"Variable\":[\"TMIN_Indiana\",\"TMIN_Indiana\",\"TMIN_Indiana\",\"TMIN_Indiana\",\"TMIN_Indiana\",\"TMIN_Indiana\",\"TMIN_Indiana\",\"TMIN_Indiana\",\"TMIN_Indiana\",\"TMIN_Indiana\",\"TMIN_Indiana\",\"TMIN_Indiana\",\"TMIN_Indiana\",\"TMIN_Indiana\",\"TMIN_Indiana\",\"TMIN_Indiana\",\"TMIN_Indiana\",\"TMIN_Indiana\",\"TMIN_Indiana\",\"TMIN_Indiana\",\"TMIN_Indiana\",\"TMIN_Indiana\",\"TMIN_Indiana\",\"TMIN_Indiana\",\"TMIN_Indiana\",\"TMIN_Indiana\",\"TMIN_Indiana\",\"TMIN_Indiana\",\"TMIN_Indiana\",\"TMIN_Indiana\",\"TMIN_Indiana\",\"TMIN_Indiana\",\"TMIN_Indiana\",\"TMIN_Indiana\",\"TMIN_Indiana\",\"TMIN_Indiana\",\"TMIN_Indiana\",\"TMIN_Indiana\",\"TMIN_Indiana\",\"TMIN_Indiana\",\"TMIN_Indiana\",\"TMIN_Indiana\",\"TMIN_Indiana\",\"TMIN_Indiana\",\"TMIN_Indiana\",\"TMIN_Indiana\",\"TMIN_Indiana\",\"TMIN_Indiana\",\"TMIN_Indiana\",\"TMIN_Indiana\",\"TMIN_Indiana\",\"TMIN_Indiana\",\"TMIN_Indiana\",\"TMIN_Indiana\",\"TMIN_Indiana\",\"TMIN_Indiana\",\"TMIN_Indiana\",\"TMIN_Indiana\",\"TMIN_Indiana\",\"TMIN_Indiana\",\"TMIN_Indiana\",\"TMIN_Indiana\",\"TMIN_Indiana\",\"TMIN_Indiana\",\"TMIN_Indiana\",\"TMIN_Indiana\",\"TMIN_Indiana\",\"TMIN_Indiana\",\"TMIN_Indiana\",\"TMIN_Indiana\",\"TMIN_Indiana\",\"TMIN_Indiana\",\"TMIN_Indiana\",\"TMIN_Indiana\",\"TMIN_Indiana\",\"TMIN_Indiana\",\"TMIN_Indiana\",\"TMIN_Indiana\",\"TMIN_Indiana\",\"TMIN_Indiana\",\"TMIN_Indiana\",\"TMIN_Indiana\",\"TMIN_Indiana\",\"TMIN_Indiana\",\"TMIN_Indiana\",\"TMIN_Indiana\",\"TMIN_Indiana\",\"TMIN_Indiana\",\"TMIN_Indiana\",\"TMIN_Indiana\",\"TMIN_Indiana\",\"TMIN_Indiana\",\"TMIN_Indiana\",\"TMIN_Indiana\",\"TMIN_Indiana\",\"TMIN_Indiana\",\"TMIN_Indiana\",\"TMIN_Indiana\",\"TMIN_Indiana\",\"TMIN_Indiana\",\"TMIN_Indiana\",\"TMIN_Indiana\",\"TMIN_Indiana\",\"TMIN_Indiana\",\"TMIN_Indiana\",\"TMIN_Indiana\",\"TMIN_Indiana\",\"TMIN_Indiana\",\"TMIN_Indiana\",\"TMIN_Indiana\",\"TMIN_Indiana\",\"TMIN_Indiana\",\"TMIN_Indiana\",\"TMIN_Indiana\",\"TMIN_Indiana\",\"TMIN_Indiana\",\"TMIN_Indiana\",\"TMIN_Indiana\",\"TMIN_Indiana\",\"TMIN_Indiana\",\"TMIN_Indiana\",\"TMIN_Indiana\",\"TMIN_Indiana\",\"TMIN_Indiana\",\"TMIN_Indiana\",\"TMIN_Indiana\",\"TMIN_Indiana\",\"TMIN_Indiana\",\"TMIN_Indiana\",\"TMIN_Indiana\",\"TMIN_Indiana\",\"TMIN_Indiana\",\"TMIN_Indiana\",\"TMIN_Indiana\",\"TMIN_Indiana\",\"TMIN_Indiana\",\"TMIN_Indiana\",\"TMIN_Indiana\",\"TMIN_Indiana\",\"TMIN_Indiana\",\"TMIN_Indiana\",\"TMIN_Indiana\",\"TMIN_Indiana\",\"TMIN_Indiana\",\"TMIN_Indiana\",\"TMIN_Indiana\",\"TMIN_Indiana\",\"TMIN_Indiana\",\"TMIN_Indiana\",\"TMIN_Indiana\",\"TMIN_Indiana\",\"TMIN_Indiana\",\"TMIN_Indiana\",\"TMIN_Indiana\",\"TMIN_Indiana\",\"TMIN_Indiana\",\"TMIN_Indiana\",\"TMIN_Indiana\",\"TMIN_Indiana\",\"TMIN_Indiana\",\"TMIN_Indiana\",\"TMIN_Indiana\",\"TMIN_Indiana\",\"TMIN_Indiana\",\"TMIN_Indiana\",\"TMIN_Indiana\",\"TMIN_Indiana\",\"TMIN_Indiana\",\"TMIN_Indiana\",\"TMIN_Indiana\",\"TMIN_Indiana\",\"TMIN_Indiana\",\"TMIN_Indiana\",\"TMIN_Indiana\",\"TMIN_Indiana\",\"TMIN_Indiana\",\"TMIN_Indiana\",\"TMIN_Indiana\",\"TMIN_Indiana\",\"TMIN_Indiana\",\"TMIN_Indiana\",\"TMIN_Indiana\",\"TMIN_Indiana\",\"TMIN_Indiana\",\"TMIN_Indiana\",\"TMIN_Indiana\",\"TMIN_Indiana\",\"TMIN_Indiana\",\"TMIN_Indiana\",\"TMIN_Indiana\",\"TMIN_Indiana\",\"TMIN_Indiana\",\"TMIN_Indiana\",\"TMIN_Indiana\",\"TMIN_Indiana\",\"TMIN_Indiana\",\"TMIN_Indiana\",\"TMIN_Indiana\",\"TMIN_Indiana\",\"TMIN_Indiana\",\"TMIN_Indiana\",\"TMIN_Indiana\",\"TMIN_Indiana\",\"TMIN_Indiana\",\"TMIN_Indiana\",\"TMIN_Indiana\",\"TMIN_Indiana\",\"TMIN_Indiana\",\"TMIN_Indiana\",\"TMIN_Indiana\",\"TMIN_Indiana\",\"TMIN_Indiana\",\"TMIN_Indiana\",\"TMIN_Indiana\",\"TMIN_Indiana\",\"TMIN_Indiana\",\"TMIN_Indiana\",\"TMIN_Indiana\",\"TMIN_Indiana\",\"TMIN_Indiana\",\"TMIN_Indiana\",\"TMIN_Indiana\",\"TMIN_Indiana\",\"TMIN_Indiana\",\"TMIN_Indiana\",\"TMIN_Indiana\",\"TMIN_Indiana\",\"TMIN_Indiana\",\"TMIN_Indiana\",\"TMIN_Indiana\",\"TMIN_Indiana\",\"TMIN_Indiana\",\"TMIN_Indiana\",\"TMIN_Indiana\",\"TMIN_Indiana\",\"TMIN_Indiana\",\"TMIN_Indiana\",\"TMIN_Indiana\",\"TMIN_Indiana\",\"TMIN_Indiana\",\"TMIN_Indiana\",\"TMIN_Indiana\",\"TMIN_Indiana\",\"TMIN_Indiana\",\"TMIN_Indiana\",\"TMIN_Indiana\",\"TMIN_Indiana\",\"TMIN_Indiana\",\"TMIN_Indiana\",\"TMIN_Indiana\",\"TMIN_Indiana\",\"TMIN_Indiana\",\"TMIN_Indiana\",\"TMIN_Indiana\",\"TMIN_Indiana\",\"TMIN_Indiana\",\"TMIN_Indiana\",\"TMIN_Indiana\",\"TMIN_Indiana\",\"TMIN_Indiana\",\"TMIN_Indiana\",\"TMIN_Indiana\",\"TMIN_Indiana\",\"TMIN_Indiana\",\"TMIN_Indiana\",\"TMIN_Indiana\",\"TMIN_Indiana\",\"TMIN_Indiana\",\"TMIN_Indiana\",\"TMIN_Indiana\",\"TMIN_Indiana\",\"TMIN_Indiana\",\"TMIN_Indiana\",\"TMIN_Indiana\",\"TMIN_Indiana\",\"TMIN_Indiana\",\"TMIN_Indiana\",\"TMIN_Indiana\",\"TMIN_Indiana\",\"TMIN_Indiana\",\"TMIN_Indiana\",\"TMIN_Indiana\",\"TMIN_Indiana\",\"TMIN_Indiana\",\"TMIN_Indiana\",\"TMIN_Indiana\",\"TMIN_Indiana\",\"TMIN_Indiana\",\"TMIN_Indiana\",\"TMIN_Indiana\",\"TMIN_Indiana\",\"TMIN_Indiana\",\"TMIN_Indiana\",\"TMIN_Indiana\",\"TMIN_Indiana\",\"TMIN_Indiana\",\"TMIN_Indiana\",\"TMIN_Indiana\",\"TMIN_Indiana\",\"TMIN_Indiana\",\"TMIN_Indiana\",\"TMIN_Indiana\",\"TMIN_Indiana\",\"TMIN_Indiana\",\"TMIN_Indiana\",\"TMIN_Indiana\",\"TMIN_Indiana\",\"TMIN_Indiana\",\"TMIN_Indiana\",\"TMIN_Indiana\",\"TMIN_Indiana\",\"TMIN_Indiana\",\"TMIN_Indiana\",\"TMIN_Indiana\",\"TMIN_Indiana\",\"TMIN_Indiana\",\"TMIN_Indiana\",\"TMIN_Indiana\",\"TMIN_Indiana\",\"TMIN_Indiana\",\"TMIN_Indiana\",\"TMIN_Indiana\",\"TMIN_Indiana\",\"TMIN_Indiana\",\"TMIN_Indiana\",\"TMIN_Indiana\",\"TMIN_Indiana\",\"TMIN_Indiana\",\"TMIN_Indiana\",\"TMIN_Indiana\",\"TMIN_Indiana\",\"TMIN_Indiana\",\"TMIN_Indiana\",\"TMIN_Indiana\",\"TMIN_Indiana\",\"TMIN_Indiana\",\"TMIN_Indiana\",\"TMIN_Indiana\",\"TMIN_Indiana\",\"TMIN_Indiana\",\"TMIN_Indiana\",\"TMIN_Indiana\",\"TMIN_Indiana\",\"TMIN_Indiana\",\"TMIN_Indiana\",\"TMIN_Indiana\",\"TMIN_Indiana\",\"TMIN_Indiana\",\"TMIN_Indiana\",\"TMIN_Indiana\",\"TMIN_Indiana\",\"TMIN_Indiana\",\"TMIN_Indiana\",\"TMIN_Indiana\",\"TMIN_Indiana\",\"TMIN_Indiana\",\"TMIN_Indiana\",\"TMIN_Indiana\",\"TMIN_Indiana\",\"TMIN_Indiana\",\"TMIN_Indiana\",\"TMIN_Indiana\",\"TMIN_Indiana\",\"TMIN_Indiana\",\"TMIN_Indiana\"],\"date\":{\"__ndarray__\":\"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\",\"dtype\":\"float64\",\"shape\":[365]},\"value\":{\"__ndarray__\":\"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\",\"dtype\":\"float64\",\"shape\":[365]}},\"selected\":{\"id\":\"16708\"},\"selection_policy\":{\"id\":\"16761\"}},\"id\":\"16707\",\"type\":\"ColumnDataSource\"},{\"attributes\":{},\"id\":\"16003\",\"type\":\"Selection\"},{\"attributes\":{},\"id\":\"16687\",\"type\":\"BasicTicker\"},{\"attributes\":{\"days\":[1,8,15,22]},\"id\":\"16020\",\"type\":\"DaysTicker\"},{\"attributes\":{\"axis\":{\"id\":\"15271\"},\"grid_line_color\":null,\"ticker\":null},\"id\":\"15274\",\"type\":\"Grid\"},{\"attributes\":{\"callback\":null,\"formatters\":{\"@{date}\":\"datetime\"},\"renderers\":[{\"id\":\"16008\"},{\"id\":\"16036\"},{\"id\":\"16219\"},{\"id\":\"16250\"}],\"tags\":[\"hv_created\"],\"tooltips\":[[\"Variable\",\"@{Variable}\"],[\"date\",\"@{date}{%F %T}\"],[\"value\",\"@{value}\"]]},\"id\":\"15964\",\"type\":\"HoverTool\"},{\"attributes\":{\"source\":{\"id\":\"16002\"}},\"id\":\"16009\",\"type\":\"CDSView\"},{\"attributes\":{},\"id\":\"14645\",\"type\":\"UnionRenderers\"},{\"attributes\":{\"axis_label\":\"Temperature (C)\",\"bounds\":\"auto\",\"formatter\":{\"id\":\"16706\"},\"major_label_orientation\":\"horizontal\",\"ticker\":{\"id\":\"16687\"}},\"id\":\"16686\",\"type\":\"LinearAxis\"},{\"attributes\":{},\"id\":\"16301\",\"type\":\"UnionRenderers\"},{\"attributes\":{\"fill_alpha\":{\"value\":0.1},\"fill_color\":{\"value\":\"#1f77b3\"},\"line_alpha\":{\"value\":0.1},\"line_color\":{\"value\":\"#1f77b3\"},\"size\":{\"units\":\"screen\",\"value\":5.477225575051661},\"x\":{\"field\":\"date\"},\"y\":{\"field\":\"value\"}},\"id\":\"16006\",\"type\":\"Scatter\"},{\"attributes\":{\"days\":[1,15]},\"id\":\"15315\",\"type\":\"DaysTicker\"},{\"attributes\":{\"active_drag\":\"auto\",\"active_inspect\":\"auto\",\"active_multi\":null,\"active_scroll\":\"auto\",\"active_tap\":\"auto\",\"tools\":[{\"id\":\"15964\"},{\"id\":\"15985\"},{\"id\":\"15986\"},{\"id\":\"15987\"},{\"id\":\"15988\"},{\"id\":\"15989\"}]},\"id\":\"15991\",\"type\":\"Toolbar\"},{\"attributes\":{\"num_minor_ticks\":5,\"tickers\":[{\"id\":\"15309\"},{\"id\":\"15310\"},{\"id\":\"15311\"},{\"id\":\"15312\"},{\"id\":\"15313\"},{\"id\":\"15314\"},{\"id\":\"15315\"},{\"id\":\"15316\"},{\"id\":\"15317\"},{\"id\":\"15318\"},{\"id\":\"15319\"},{\"id\":\"15320\"}]},\"id\":\"15272\",\"type\":\"DatetimeTicker\"},{\"attributes\":{},\"id\":\"15989\",\"type\":\"ResetTool\"},{\"attributes\":{},\"id\":\"14578\",\"type\":\"ResetTool\"},{\"attributes\":{\"fill_color\":{\"value\":\"#1f77b3\"},\"line_color\":{\"value\":\"#1f77b3\"},\"size\":{\"units\":\"screen\",\"value\":5.477225575051661},\"x\":{\"field\":\"date\"},\"y\":{\"field\":\"value\"}},\"id\":\"16005\",\"type\":\"Scatter\"},{\"attributes\":{\"days\":[1,15]},\"id\":\"16726\",\"type\":\"DaysTicker\"},{\"attributes\":{\"axis_label\":\"Temperature (C)\",\"bounds\":\"auto\",\"formatter\":{\"id\":\"15295\"},\"major_label_orientation\":\"horizontal\",\"ticker\":{\"id\":\"15276\"}},\"id\":\"15275\",\"type\":\"LinearAxis\"},{\"attributes\":{\"bottom_units\":\"screen\",\"fill_alpha\":0.5,\"fill_color\":\"lightgrey\",\"left_units\":\"screen\",\"level\":\"overlay\",\"line_alpha\":1.0,\"line_color\":\"black\",\"line_dash\":[4,4],\"line_width\":2,\"render_mode\":\"css\",\"right_units\":\"screen\",\"top_units\":\"screen\"},\"id\":\"15990\",\"type\":\"BoxAnnotation\"},{\"attributes\":{\"fill_alpha\":{\"value\":0.1},\"fill_color\":{\"value\":\"#ff7e0e\"},\"line_alpha\":{\"value\":0.1},\"line_color\":{\"value\":\"#ff7e0e\"},\"size\":{\"units\":\"screen\",\"value\":5.477225575051661},\"x\":{\"field\":\"date\"},\"y\":{\"field\":\"value\"}},\"id\":\"16034\",\"type\":\"Scatter\"},{\"attributes\":{},\"id\":\"14668\",\"type\":\"UnionRenderers\"},{\"attributes\":{},\"id\":\"16079\",\"type\":\"UnionRenderers\"},{\"attributes\":{},\"id\":\"15297\",\"type\":\"Selection\"},{\"attributes\":{},\"id\":\"15276\",\"type\":\"BasicTicker\"},{\"attributes\":{\"data\":{\"Variable\":[\"TMIN_Nebraska\",\"TMIN_Nebraska\",\"TMIN_Nebraska\",\"TMIN_Nebraska\",\"TMIN_Nebraska\",\"TMIN_Nebraska\",\"TMIN_Nebraska\",\"TMIN_Nebraska\",\"TMIN_Nebraska\",\"TMIN_Nebraska\",\"TMIN_Nebraska\",\"TMIN_Nebraska\",\"TMIN_Nebraska\",\"TMIN_Nebraska\",\"TMIN_Nebraska\",\"TMIN_Nebraska\",\"TMIN_Nebraska\",\"TMIN_Nebraska\",\"TMIN_Nebraska\",\"TMIN_Nebraska\",\"TMIN_Nebraska\",\"TMIN_Nebraska\",\"TMIN_Nebraska\",\"TMIN_Nebraska\",\"TMIN_Nebraska\",\"TMIN_Nebraska\",\"TMIN_Nebraska\",\"TMIN_Nebraska\",\"TMIN_Nebraska\",\"TMIN_Nebraska\",\"TMIN_Nebraska\",\"TMIN_Nebraska\",\"TMIN_Nebraska\",\"TMIN_Nebraska\",\"TMIN_Nebraska\",\"TMIN_Nebraska\",\"TMIN_Nebraska\",\"TMIN_Nebraska\",\"TMIN_Nebraska\",\"TMIN_Nebraska\",\"TMIN_Nebraska\",\"TMIN_Nebraska\",\"TMIN_Nebraska\",\"TMIN_Nebraska\",\"TMIN_Nebraska\",\"TMIN_Nebraska\",\"TMIN_Nebraska\",\"TMIN_Nebraska\",\"TMIN_Nebraska\",\"TMIN_Nebraska\",\"TMIN_Nebraska\",\"TMIN_Nebraska\",\"TMIN_Nebraska\",\"TMIN_Nebraska\",\"TMIN_Nebraska\",\"TMIN_Nebraska\",\"TMIN_Nebraska\",\"TMIN_Nebraska\",\"TMIN_Nebraska\",\"TMIN_Nebraska\",\"TMIN_Nebraska\",\"TMIN_Nebraska\",\"TMIN_Nebraska\",\"TMIN_Nebraska\",\"TMIN_Nebraska\",\"TMIN_Nebraska\",\"TMIN_Nebraska\",\"TMIN_Nebraska\",\"TMIN_Nebraska\",\"TMIN_Nebraska\",\"TMIN_Nebraska\",\"TMIN_Nebraska\",\"TMIN_Nebraska\",\"TMIN_Nebraska\",\"TMIN_Nebraska\",\"TMIN_Nebraska\",\"TMIN_Nebraska\",\"TMIN_Nebraska\",\"TMIN_Nebraska\",\"TMIN_Nebraska\",\"TMIN_Nebraska\",\"TMIN_Nebraska\",\"TMIN_Nebraska\",\"TMIN_Nebraska\",\"TMIN_Nebraska\",\"TMIN_Nebraska\",\"TMIN_Nebraska\",\"TMIN_Nebraska\",\"TMIN_Nebraska\",\"TMIN_Nebraska\",\"TMIN_Nebraska\",\"TMIN_Nebraska\",\"TMIN_Nebraska\",\"TMIN_Nebraska\",\"TMIN_Nebraska\",\"TMIN_Nebraska\",\"TMIN_Nebraska\",\"TMIN_Nebraska\",\"TMIN_Nebraska\",\"TMIN_Nebraska\",\"TMIN_Nebraska\",\"TMIN_Nebraska\",\"TMIN_Nebraska\",\"TMIN_Nebraska\",\"TMIN_Nebraska\",\"TMIN_Nebraska\",\"TMIN_Nebraska\",\"TMIN_Nebraska\",\"TMIN_Nebraska\",\"TMIN_Nebraska\",\"TMIN_Nebraska\",\"TMIN_Nebraska\",\"TMIN_Nebraska\",\"TMIN_Nebraska\",\"TMIN_Nebraska\",\"TMIN_Nebraska\",\"TMIN_Nebraska\",\"TMIN_Nebraska\",\"TMIN_Nebraska\",\"TMIN_Nebraska\",\"TMIN_Nebraska\",\"TMIN_Nebraska\",\"TMIN_Nebraska\",\"TMIN_Nebraska\",\"TMIN_Nebraska\",\"TMIN_Nebraska\",\"TMIN_Nebraska\",\"TMIN_Nebraska\",\"TMIN_Nebraska\",\"TMIN_Nebraska\",\"TMIN_Nebraska\",\"TMIN_Nebraska\",\"TMIN_Nebraska\",\"TMIN_Nebraska\",\"TMIN_Nebraska\",\"TMIN_Nebraska\",\"TMIN_Nebraska\",\"TMIN_Nebraska\",\"TMIN_Nebraska\",\"TMIN_Nebraska\",\"TMIN_Nebraska\",\"TMIN_Nebraska\",\"TMIN_Nebraska\",\"TMIN_Nebraska\",\"TMIN_Nebraska\",\"TMIN_Nebraska\",\"TMIN_Nebraska\",\"TMIN_Nebraska\",\"TMIN_Nebraska\",\"TMIN_Nebraska\",\"TMIN_Nebraska\",\"TMIN_Nebraska\",\"TMIN_Nebraska\",\"TMIN_Nebraska\",\"TMIN_Nebraska\",\"TMIN_Nebraska\",\"TMIN_Nebraska\",\"TMIN_Nebraska\",\"TMIN_Nebraska\",\"TMIN_Nebraska\",\"TMIN_Nebraska\",\"TMIN_Nebraska\",\"TMIN_Nebraska\",\"TMIN_Nebraska\",\"TMIN_Nebraska\",\"TMIN_Nebraska\",\"TMIN_Nebraska\",\"TMIN_Nebraska\",\"TMIN_Nebraska\",\"TMIN_Nebraska\",\"TMIN_Nebraska\",\"TMIN_Nebraska\",\"TMIN_Nebraska\",\"TMIN_Nebraska\",\"TMIN_Nebraska\",\"TMIN_Nebraska\",\"TMIN_Nebraska\",\"TMIN_Nebraska\",\"TMIN_Nebraska\",\"TMIN_Nebraska\",\"TMIN_Nebraska\",\"TMIN_Nebraska\",\"TMIN_Nebraska\",\"TMIN_Nebraska\",\"TMIN_Nebraska\",\"TMIN_Nebraska\",\"TMIN_Nebraska\",\"TMIN_Nebraska\",\"TMIN_Nebraska\",\"TMIN_Nebraska\",\"TMIN_Nebraska\",\"TMIN_Nebraska\",\"TMIN_Nebraska\",\"TMIN_Nebraska\",\"TMIN_Nebraska\",\"TMIN_Nebraska\",\"TMIN_Nebraska\",\"TMIN_Nebraska\",\"TMIN_Nebraska\",\"TMIN_Nebraska\",\"TMIN_Nebraska\",\"TMIN_Nebraska\",\"TMIN_Nebraska\",\"TMIN_Nebraska\",\"TMIN_Nebraska\",\"TMIN_Nebraska\",\"TMIN_Nebraska\",\"TMIN_Nebraska\",\"TMIN_Nebraska\",\"TMIN_Nebraska\",\"TMIN_Nebraska\",\"TMIN_Nebraska\",\"TMIN_Nebraska\",\"TMIN_Nebraska\",\"TMIN_Nebraska\",\"TMIN_Nebraska\",\"TMIN_Nebraska\",\"TMIN_Nebraska\",\"TMIN_Nebraska\",\"TMIN_Nebraska\",\"TMIN_Nebraska\",\"TMIN_Nebraska\",\"TMIN_Nebraska\",\"TMIN_Nebraska\",\"TMIN_Nebraska\",\"TMIN_Nebraska\",\"TMIN_Nebraska\",\"TMIN_Nebraska\",\"TMIN_Nebraska\",\"TMIN_Nebraska\",\"TMIN_Nebraska\",\"TMIN_Nebraska\",\"TMIN_Nebraska\",\"TMIN_Nebraska\",\"TMIN_Nebraska\",\"TMIN_Nebraska\",\"TMIN_Nebraska\",\"TMIN_Nebraska\",\"TMIN_Nebraska\",\"TMIN_Nebraska\",\"TMIN_Nebraska\",\"TMIN_Nebraska\",\"TMIN_Nebraska\",\"TMIN_Nebraska\",\"TMIN_Nebraska\",\"TMIN_Nebraska\",\"TMIN_Nebraska\",\"TMIN_Nebraska\",\"TMIN_Nebraska\",\"TMIN_Nebraska\",\"TMIN_Nebraska\",\"TMIN_Nebraska\",\"TMIN_Nebraska\",\"TMIN_Nebraska\",\"TMIN_Nebraska\",\"TMIN_Nebraska\",\"TMIN_Nebraska\",\"TMIN_Nebraska\",\"TMIN_Nebraska\",\"TMIN_Nebraska\",\"TMIN_Nebraska\",\"TMIN_Nebraska\",\"TMIN_Nebraska\",\"TMIN_Nebraska\",\"TMIN_Nebraska\",\"TMIN_Nebraska\",\"TMIN_Nebraska\",\"TMIN_Nebraska\",\"TMIN_Nebraska\",\"TMIN_Nebraska\",\"TMIN_Nebraska\",\"TMIN_Nebraska\",\"TMIN_Nebraska\",\"TMIN_Nebraska\",\"TMIN_Nebraska\",\"TMIN_Nebraska\",\"TMIN_Nebraska\",\"TMIN_Nebraska\",\"TMIN_Nebraska\",\"TMIN_Nebraska\",\"TMIN_Nebraska\",\"TMIN_Nebraska\",\"TMIN_Nebraska\",\"TMIN_Nebraska\",\"TMIN_Nebraska\",\"TMIN_Nebraska\",\"TMIN_Nebraska\",\"TMIN_Nebraska\",\"TMIN_Nebraska\",\"TMIN_Nebraska\",\"TMIN_Nebraska\",\"TMIN_Nebraska\",\"TMIN_Nebraska\",\"TMIN_Nebraska\",\"TMIN_Nebraska\",\"TMIN_Nebraska\",\"TMIN_Nebraska\",\"TMIN_Nebraska\",\"TMIN_Nebraska\",\"TMIN_Nebraska\",\"TMIN_Nebraska\",\"TMIN_Nebraska\",\"TMIN_Nebraska\",\"TMIN_Nebraska\",\"TMIN_Nebraska\",\"TMIN_Nebraska\",\"TMIN_Nebraska\",\"TMIN_Nebraska\",\"TMIN_Nebraska\",\"TMIN_Nebraska\",\"TMIN_Nebraska\",\"TMIN_Nebraska\",\"TMIN_Nebraska\",\"TMIN_Nebraska\",\"TMIN_Nebraska\",\"TMIN_Nebraska\",\"TMIN_Nebraska\",\"TMIN_Nebraska\",\"TMIN_Nebraska\",\"TMIN_Nebraska\",\"TMIN_Nebraska\",\"TMIN_Nebraska\",\"TMIN_Nebraska\",\"TMIN_Nebraska\",\"TMIN_Nebraska\",\"TMIN_Nebraska\",\"TMIN_Nebraska\",\"TMIN_Nebraska\",\"TMIN_Nebraska\",\"TMIN_Nebraska\",\"TMIN_Nebraska\",\"TMIN_Nebraska\",\"TMIN_Nebraska\",\"TMIN_Nebraska\",\"TMIN_Nebraska\",\"TMIN_Nebraska\",\"TMIN_Nebraska\",\"TMIN_Nebraska\",\"TMIN_Nebraska\",\"TMIN_Nebraska\",\"TMIN_Nebraska\",\"TMIN_Nebraska\",\"TMIN_Nebraska\",\"TMIN_Nebraska\",\"TMIN_Nebraska\",\"TMIN_Nebraska\",\"TMIN_Nebraska\",\"TMIN_Nebraska\",\"TMIN_Nebraska\",\"TMIN_Nebraska\",\"TMIN_Nebraska\",\"TMIN_Nebraska\",\"TMIN_Nebraska\",\"TMIN_Nebraska\",\"TMIN_Nebraska\",\"TMIN_Nebraska\",\"TMIN_Nebraska\",\"TMIN_Nebraska\",\"TMIN_Nebraska\",\"TMIN_Nebraska\",\"TMIN_Nebraska\",\"TMIN_Nebraska\",\"TMIN_Nebraska\",\"TMIN_Nebraska\",\"TMIN_Nebraska\"],\"date\":{\"__ndarray__\":\"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\",\"dtype\":\"float64\",\"shape\":[365]},\"value\":{\"__ndarray__\":\"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\",\"dtype\":\"float64\",\"shape\":[365]}},\"selected\":{\"id\":\"16003\"},\"selection_policy\":{\"id\":\"16056\"}},\"id\":\"16002\",\"type\":\"ColumnDataSource\"},{\"attributes\":{\"data\":{\"Variable\":[\"TMAX_Iowa\",\"TMAX_Iowa\",\"TMAX_Iowa\",\"TMAX_Iowa\",\"TMAX_Iowa\",\"TMAX_Iowa\",\"TMAX_Iowa\",\"TMAX_Iowa\",\"TMAX_Iowa\",\"TMAX_Iowa\",\"TMAX_Iowa\",\"TMAX_Iowa\",\"TMAX_Iowa\",\"TMAX_Iowa\",\"TMAX_Iowa\",\"TMAX_Iowa\",\"TMAX_Iowa\",\"TMAX_Iowa\",\"TMAX_Iowa\",\"TMAX_Iowa\",\"TMAX_Iowa\",\"TMAX_Iowa\",\"TMAX_Iowa\",\"TMAX_Iowa\",\"TMAX_Iowa\",\"TMAX_Iowa\",\"TMAX_Iowa\",\"TMAX_Iowa\",\"TMAX_Iowa\",\"TMAX_Iowa\",\"TMAX_Iowa\",\"TMAX_Iowa\",\"TMAX_Iowa\",\"TMAX_Iowa\",\"TMAX_Iowa\",\"TMAX_Iowa\",\"TMAX_Iowa\",\"TMAX_Iowa\",\"TMAX_Iowa\",\"TMAX_Iowa\",\"TMAX_Iowa\",\"TMAX_Iowa\",\"TMAX_Iowa\",\"TMAX_Iowa\",\"TMAX_Iowa\",\"TMAX_Iowa\",\"TMAX_Iowa\",\"TMAX_Iowa\",\"TMAX_Iowa\",\"TMAX_Iowa\",\"TMAX_Iowa\",\"TMAX_Iowa\",\"TMAX_Iowa\",\"TMAX_Iowa\",\"TMAX_Iowa\",\"TMAX_Iowa\",\"TMAX_Iowa\",\"TMAX_Iowa\",\"TMAX_Iowa\",\"TMAX_Iowa\",\"TMAX_Iowa\",\"TMAX_Iowa\",\"TMAX_Iowa\",\"TMAX_Iowa\",\"TMAX_Iowa\",\"TMAX_Iowa\",\"TMAX_Iowa\",\"TMAX_Iowa\",\"TMAX_Iowa\",\"TMAX_Iowa\",\"TMAX_Iowa\",\"TMAX_Iowa\",\"TMAX_Iowa\",\"TMAX_Iowa\",\"TMAX_Iowa\",\"TMAX_Iowa\",\"TMAX_Iowa\",\"TMAX_Iowa\",\"TMAX_Iowa\",\"TMAX_Iowa\",\"TMAX_Iowa\",\"TMAX_Iowa\",\"TMAX_Iowa\",\"TMAX_Iowa\",\"TMAX_Iowa\",\"TMAX_Iowa\",\"TMAX_Iowa\",\"TMAX_Iowa\",\"TMAX_Iowa\",\"TMAX_Iowa\",\"TMAX_Iowa\",\"TMAX_Iowa\",\"TMAX_Iowa\",\"TMAX_Iowa\",\"TMAX_Iowa\",\"TMAX_Iowa\",\"TMAX_Iowa\",\"TMAX_Iowa\",\"TMAX_Iowa\",\"TMAX_Iowa\",\"TMAX_Iowa\",\"TMAX_Iowa\",\"TMAX_Iowa\",\"TMAX_Iowa\",\"TMAX_Iowa\",\"TMAX_Iowa\",\"TMAX_Iowa\",\"TMAX_Iowa\",\"TMAX_Iowa\",\"TMAX_Iowa\",\"TMAX_Iowa\",\"TMAX_Iowa\",\"TMAX_Iowa\",\"TMAX_Iowa\",\"TMAX_Iowa\",\"TMAX_Iowa\",\"TMAX_Iowa\",\"TMAX_Iowa\",\"TMAX_Iowa\",\"TMAX_Iowa\",\"TMAX_Iowa\",\"TMAX_Iowa\",\"TMAX_Iowa\",\"TMAX_Iowa\",\"TMAX_Iowa\",\"TMAX_Iowa\",\"TMAX_Iowa\",\"TMAX_Iowa\",\"TMAX_Iowa\",\"TMAX_Iowa\",\"TMAX_Iowa\",\"TMAX_Iowa\",\"TMAX_Iowa\",\"TMAX_Iowa\",\"TMAX_Iowa\",\"TMAX_Iowa\",\"TMAX_Iowa\",\"TMAX_Iowa\",\"TMAX_Iowa\",\"TMAX_Iowa\",\"TMAX_Iowa\",\"TMAX_Iowa\",\"TMAX_Iowa\",\"TMAX_Iowa\",\"TMAX_Iowa\",\"TMAX_Iowa\",\"TMAX_Iowa\",\"TMAX_Iowa\",\"TMAX_Iowa\",\"TMAX_Iowa\",\"TMAX_Iowa\",\"TMAX_Iowa\",\"TMAX_Iowa\",\"TMAX_Iowa\",\"TMAX_Iowa\",\"TMAX_Iowa\",\"TMAX_Iowa\",\"TMAX_Iowa\",\"TMAX_Iowa\",\"TMAX_Iowa\",\"TMAX_Iowa\",\"TMAX_Iowa\",\"TMAX_Iowa\",\"TMAX_Iowa\",\"TMAX_Iowa\",\"TMAX_Iowa\",\"TMAX_Iowa\",\"TMAX_Iowa\",\"TMAX_Iowa\",\"TMAX_Iowa\",\"TMAX_Iowa\",\"TMAX_Iowa\",\"TMAX_Iowa\",\"TMAX_Iowa\",\"TMAX_Iowa\",\"TMAX_Iowa\",\"TMAX_Iowa\",\"TMAX_Iowa\",\"TMAX_Iowa\",\"TMAX_Iowa\",\"TMAX_Iowa\",\"TMAX_Iowa\",\"TMAX_Iowa\",\"TMAX_Iowa\",\"TMAX_Iowa\",\"TMAX_Iowa\",\"TMAX_Iowa\",\"TMAX_Iowa\",\"TMAX_Iowa\",\"TMAX_Iowa\",\"TMAX_Iowa\",\"TMAX_Iowa\",\"TMAX_Iowa\",\"TMAX_Iowa\",\"TMAX_Iowa\",\"TMAX_Iowa\",\"TMAX_Iowa\",\"TMAX_Iowa\",\"TMAX_Iowa\",\"TMAX_Iowa\",\"TMAX_Iowa\",\"TMAX_Iowa\",\"TMAX_Iowa\",\"TMAX_Iowa\",\"TMAX_Iowa\",\"TMAX_Iowa\",\"TMAX_Iowa\",\"TMAX_Iowa\",\"TMAX_Iowa\",\"TMAX_Iowa\",\"TMAX_Iowa\",\"TMAX_Iowa\",\"TMAX_Iowa\",\"TMAX_Iowa\",\"TMAX_Iowa\",\"TMAX_Iowa\",\"TMAX_Iowa\",\"TMAX_Iowa\",\"TMAX_Iowa\",\"TMAX_Iowa\",\"TMAX_Iowa\",\"TMAX_Iowa\",\"TMAX_Iowa\",\"TMAX_Iowa\",\"TMAX_Iowa\",\"TMAX_Iowa\",\"TMAX_Iowa\",\"TMAX_Iowa\",\"TMAX_Iowa\",\"TMAX_Iowa\",\"TMAX_Iowa\",\"TMAX_Iowa\",\"TMAX_Iowa\",\"TMAX_Iowa\",\"TMAX_Iowa\",\"TMAX_Iowa\",\"TMAX_Iowa\",\"TMAX_Iowa\",\"TMAX_Iowa\",\"TMAX_Iowa\",\"TMAX_Iowa\",\"TMAX_Iowa\",\"TMAX_Iowa\",\"TMAX_Iowa\",\"TMAX_Iowa\",\"TMAX_Iowa\",\"TMAX_Iowa\",\"TMAX_Iowa\",\"TMAX_Iowa\",\"TMAX_Iowa\",\"TMAX_Iowa\",\"TMAX_Iowa\",\"TMAX_Iowa\",\"TMAX_Iowa\",\"TMAX_Iowa\",\"TMAX_Iowa\",\"TMAX_Iowa\",\"TMAX_Iowa\",\"TMAX_Iowa\",\"TMAX_Iowa\",\"TMAX_Iowa\",\"TMAX_Iowa\",\"TMAX_Iowa\",\"TMAX_Iowa\",\"TMAX_Iowa\",\"TMAX_Iowa\",\"TMAX_Iowa\",\"TMAX_Iowa\",\"TMAX_Iowa\",\"TMAX_Iowa\",\"TMAX_Iowa\",\"TMAX_Iowa\",\"TMAX_Iowa\",\"TMAX_Iowa\",\"TMAX_Iowa\",\"TMAX_Iowa\",\"TMAX_Iowa\",\"TMAX_Iowa\",\"TMAX_Iowa\",\"TMAX_Iowa\",\"TMAX_Iowa\",\"TMAX_Iowa\",\"TMAX_Iowa\",\"TMAX_Iowa\",\"TMAX_Iowa\",\"TMAX_Iowa\",\"TMAX_Iowa\",\"TMAX_Iowa\",\"TMAX_Iowa\",\"TMAX_Iowa\",\"TMAX_Iowa\",\"TMAX_Iowa\",\"TMAX_Iowa\",\"TMAX_Iowa\",\"TMAX_Iowa\",\"TMAX_Iowa\",\"TMAX_Iowa\",\"TMAX_Iowa\",\"TMAX_Iowa\",\"TMAX_Iowa\",\"TMAX_Iowa\",\"TMAX_Iowa\",\"TMAX_Iowa\",\"TMAX_Iowa\",\"TMAX_Iowa\",\"TMAX_Iowa\",\"TMAX_Iowa\",\"TMAX_Iowa\",\"TMAX_Iowa\",\"TMAX_Iowa\",\"TMAX_Iowa\",\"TMAX_Iowa\",\"TMAX_Iowa\",\"TMAX_Iowa\",\"TMAX_Iowa\",\"TMAX_Iowa\",\"TMAX_Iowa\",\"TMAX_Iowa\",\"TMAX_Iowa\",\"TMAX_Iowa\",\"TMAX_Iowa\",\"TMAX_Iowa\",\"TMAX_Iowa\",\"TMAX_Iowa\",\"TMAX_Iowa\",\"TMAX_Iowa\",\"TMAX_Iowa\",\"TMAX_Iowa\",\"TMAX_Iowa\",\"TMAX_Iowa\",\"TMAX_Iowa\",\"TMAX_Iowa\",\"TMAX_Iowa\",\"TMAX_Iowa\",\"TMAX_Iowa\",\"TMAX_Iowa\",\"TMAX_Iowa\",\"TMAX_Iowa\",\"TMAX_Iowa\",\"TMAX_Iowa\",\"TMAX_Iowa\",\"TMAX_Iowa\",\"TMAX_Iowa\",\"TMAX_Iowa\",\"TMAX_Iowa\",\"TMAX_Iowa\",\"TMAX_Iowa\",\"TMAX_Iowa\",\"TMAX_Iowa\",\"TMAX_Iowa\",\"TMAX_Iowa\",\"TMAX_Iowa\",\"TMAX_Iowa\",\"TMAX_Iowa\",\"TMAX_Iowa\",\"TMAX_Iowa\",\"TMAX_Iowa\",\"TMAX_Iowa\",\"TMAX_Iowa\",\"TMAX_Iowa\",\"TMAX_Iowa\",\"TMAX_Iowa\",\"TMAX_Iowa\",\"TMAX_Iowa\",\"TMAX_Iowa\"],\"date\":{\"__ndarray__\":\"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\",\"dtype\":\"float64\",\"shape\":[365]},\"value\":{\"__ndarray__\":\"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\",\"dtype\":\"float64\",\"shape\":[365]}},\"selected\":{\"id\":\"15325\"},\"selection_policy\":{\"id\":\"15373\"}},\"id\":\"15324\",\"type\":\"ColumnDataSource\"},{\"attributes\":{\"fill_alpha\":{\"value\":0.2},\"fill_color\":{\"value\":\"#1f77b3\"},\"line_alpha\":{\"value\":0.2},\"line_color\":{\"value\":\"#1f77b3\"},\"size\":{\"units\":\"screen\",\"value\":5.477225575051661},\"x\":{\"field\":\"date\"},\"y\":{\"field\":\"value\"}},\"id\":\"16007\",\"type\":\"Scatter\"},{\"attributes\":{\"data_source\":{\"id\":\"14833\"},\"glyph\":{\"id\":\"14836\"},\"hover_glyph\":null,\"muted_glyph\":{\"id\":\"14838\"},\"nonselection_glyph\":{\"id\":\"14837\"},\"selection_glyph\":null,\"view\":{\"id\":\"14840\"}},\"id\":\"14839\",\"type\":\"GlyphRenderer\"},{\"attributes\":{},\"id\":\"17442\",\"type\":\"Selection\"},{\"attributes\":{\"months\":[0,1,2,3,4,5,6,7,8,9,10,11]},\"id\":\"17433\",\"type\":\"MonthsTicker\"},{\"attributes\":{},\"id\":\"15975\",\"type\":\"LinearScale\"},{\"attributes\":{},\"id\":\"17437\",\"type\":\"YearsTicker\"},{\"attributes\":{\"end\":1295640576000.0,\"reset_end\":1295640576000.0,\"reset_start\":1260417024000.0,\"start\":1260417024000.0,\"tags\":[[[\"date\",\"date\",null]]]},\"id\":\"14551\",\"type\":\"Range1d\"},{\"attributes\":{\"days\":[1,2,3,4,5,6,7,8,9,10,11,12,13,14,15,16,17,18,19,20,21,22,23,24,25,26,27,28,29,30,31]},\"id\":\"15312\",\"type\":\"DaysTicker\"},{\"attributes\":{\"label\":{\"value\":\"TMAX_Illinois\"},\"renderers\":[{\"id\":\"14625\"}]},\"id\":\"14647\",\"type\":\"LegendItem\"},{\"attributes\":{\"fill_alpha\":{\"value\":0.1},\"fill_color\":{\"value\":\"#ff7e0e\"},\"line_alpha\":{\"value\":0.1},\"line_color\":{\"value\":\"#ff7e0e\"},\"size\":{\"units\":\"screen\",\"value\":5.477225575051661},\"x\":{\"field\":\"date\"},\"y\":{\"field\":\"value\"}},\"id\":\"16739\",\"type\":\"Scatter\"},{\"attributes\":{\"fill_alpha\":{\"value\":0.2},\"fill_color\":{\"value\":\"#ff7e0e\"},\"line_alpha\":{\"value\":0.2},\"line_color\":{\"value\":\"#ff7e0e\"},\"size\":{\"units\":\"screen\",\"value\":5.477225575051661},\"x\":{\"field\":\"date\"},\"y\":{\"field\":\"value\"}},\"id\":\"17446\",\"type\":\"Scatter\"},{\"attributes\":{\"days\":[1,8,15,22]},\"id\":\"14609\",\"type\":\"DaysTicker\"},{\"attributes\":{},\"id\":\"14890\",\"type\":\"UnionRenderers\"},{\"attributes\":{\"callback\":null,\"formatters\":{\"@{date}\":\"datetime\"},\"renderers\":[{\"id\":\"17419\"},{\"id\":\"17447\"},{\"id\":\"17630\"},{\"id\":\"17661\"}],\"tags\":[\"hv_created\"],\"tooltips\":[[\"Variable\",\"@{Variable}\"],[\"date\",\"@{date}{%F %T}\"],[\"value\",\"@{value}\"]]},\"id\":\"17375\",\"type\":\"HoverTool\"},{\"attributes\":{\"fill_alpha\":{\"value\":0.1},\"fill_color\":{\"value\":\"#ff7e0e\"},\"line_alpha\":{\"value\":0.1},\"line_color\":{\"value\":\"#ff7e0e\"},\"size\":{\"units\":\"screen\",\"value\":5.477225575051661},\"x\":{\"field\":\"date\"},\"y\":{\"field\":\"value\"}},\"id\":\"17445\",\"type\":\"Scatter\"},{\"attributes\":{\"days\":[1,2,3,4,5,6,7,8,9,10,11,12,13,14,15,16,17,18,19,20,21,22,23,24,25,26,27,28,29,30,31]},\"id\":\"16723\",\"type\":\"DaysTicker\"},{\"attributes\":{\"data\":{\"Variable\":[\"max_cold\",\"max_cold\",\"max_cold\",\"max_cold\",\"max_cold\",\"max_cold\",\"max_cold\",\"max_cold\",\"max_cold\",\"max_cold\",\"max_cold\",\"max_cold\",\"max_cold\",\"max_cold\",\"max_cold\",\"max_cold\",\"max_cold\",\"max_cold\",\"max_cold\",\"max_cold\",\"max_cold\",\"max_cold\",\"max_cold\",\"max_cold\",\"max_cold\",\"max_cold\",\"max_cold\",\"max_cold\",\"max_cold\",\"max_cold\",\"max_cold\",\"max_cold\",\"max_cold\",\"max_cold\",\"max_cold\",\"max_cold\",\"max_cold\",\"max_cold\",\"max_cold\",\"max_cold\",\"max_cold\",\"max_cold\",\"max_cold\",\"max_cold\",\"max_cold\",\"max_cold\",\"max_cold\",\"max_cold\",\"max_cold\",\"max_cold\",\"max_cold\",\"max_cold\",\"max_cold\",\"max_cold\",\"max_cold\",\"max_cold\",\"max_cold\",\"max_cold\",\"max_cold\",\"max_cold\",\"max_cold\",\"max_cold\",\"max_cold\",\"max_cold\",\"max_cold\",\"max_cold\",\"max_cold\",\"max_cold\",\"max_cold\",\"max_cold\",\"max_cold\",\"max_cold\",\"max_cold\",\"max_cold\",\"max_cold\",\"max_cold\",\"max_cold\",\"max_cold\",\"max_cold\",\"max_cold\",\"max_cold\",\"max_cold\",\"max_cold\",\"max_cold\",\"max_cold\",\"max_cold\",\"max_cold\",\"max_cold\",\"max_cold\",\"max_cold\",\"max_cold\",\"max_cold\",\"max_cold\",\"max_cold\",\"max_cold\",\"max_cold\",\"max_cold\",\"max_cold\",\"max_cold\",\"max_cold\",\"max_cold\",\"max_cold\",\"max_cold\",\"max_cold\",\"max_cold\",\"max_cold\",\"max_cold\",\"max_cold\",\"max_cold\",\"max_cold\",\"max_cold\",\"max_cold\",\"max_cold\",\"max_cold\",\"max_cold\",\"max_cold\",\"max_cold\",\"max_cold\",\"max_cold\",\"max_cold\",\"max_cold\",\"max_cold\",\"max_cold\",\"max_cold\",\"max_cold\",\"max_cold\",\"max_cold\",\"max_cold\",\"max_cold\",\"max_cold\",\"max_cold\",\"max_cold\",\"max_cold\",\"max_cold\",\"max_cold\",\"max_cold\",\"max_cold\",\"max_cold\",\"max_cold\",\"max_cold\",\"max_cold\",\"max_cold\",\"max_cold\",\"max_cold\",\"max_cold\",\"max_cold\",\"max_cold\",\"max_cold\",\"max_cold\",\"max_cold\",\"max_cold\",\"max_cold\",\"max_cold\",\"max_cold\",\"max_cold\",\"max_cold\",\"max_cold\",\"max_cold\",\"max_cold\",\"max_cold\",\"max_cold\",\"max_cold\",\"max_cold\",\"max_cold\",\"max_cold\",\"max_cold\",\"max_cold\",\"max_cold\",\"max_cold\",\"max_cold\",\"max_cold\",\"max_cold\",\"max_cold\",\"max_cold\",\"max_cold\",\"max_cold\",\"max_cold\",\"max_cold\",\"max_cold\",\"max_cold\",\"max_cold\",\"max_cold\",\"max_cold\",\"max_cold\",\"max_cold\",\"max_cold\",\"max_cold\",\"max_cold\",\"max_cold\",\"max_cold\",\"max_cold\",\"max_cold\",\"max_cold\",\"max_cold\",\"max_cold\",\"max_cold\",\"max_cold\",\"max_cold\",\"max_cold\",\"max_cold\",\"max_cold\",\"max_cold\",\"max_cold\",\"max_cold\",\"max_cold\",\"max_cold\",\"max_cold\",\"max_cold\",\"max_cold\",\"max_cold\",\"max_cold\",\"max_cold\",\"max_cold\",\"max_cold\",\"max_cold\",\"max_cold\",\"max_cold\",\"max_cold\",\"max_cold\",\"max_cold\",\"max_cold\",\"max_cold\",\"max_cold\",\"max_cold\",\"max_cold\",\"max_cold\",\"max_cold\",\"max_cold\",\"max_cold\",\"max_cold\",\"max_cold\",\"max_cold\",\"max_cold\",\"max_cold\",\"max_cold\",\"max_cold\",\"max_cold\",\"max_cold\",\"max_cold\",\"max_cold\",\"max_cold\",\"max_cold\",\"max_cold\",\"max_cold\",\"max_cold\",\"max_cold\",\"max_cold\",\"max_cold\",\"max_cold\",\"max_cold\",\"max_cold\",\"max_cold\",\"max_cold\",\"max_cold\",\"max_cold\",\"max_cold\",\"max_cold\",\"max_cold\",\"max_cold\",\"max_cold\",\"max_cold\",\"max_cold\",\"max_cold\",\"max_cold\",\"max_cold\",\"max_cold\",\"max_cold\",\"max_cold\",\"max_cold\",\"max_cold\",\"max_cold\",\"max_cold\",\"max_cold\",\"max_cold\",\"max_cold\",\"max_cold\",\"max_cold\",\"max_cold\",\"max_cold\",\"max_cold\",\"max_cold\",\"max_cold\",\"max_cold\",\"max_cold\",\"max_cold\",\"max_cold\",\"max_cold\",\"max_cold\",\"max_cold\",\"max_cold\",\"max_cold\",\"max_cold\",\"max_cold\",\"max_cold\",\"max_cold\",\"max_cold\",\"max_cold\",\"max_cold\",\"max_cold\",\"max_cold\",\"max_cold\",\"max_cold\",\"max_cold\",\"max_cold\",\"max_cold\",\"max_cold\",\"max_cold\",\"max_cold\",\"max_cold\",\"max_cold\",\"max_cold\",\"max_cold\",\"max_cold\",\"max_cold\",\"max_cold\",\"max_cold\",\"max_cold\",\"max_cold\",\"max_cold\",\"max_cold\",\"max_cold\",\"max_cold\",\"max_cold\",\"max_cold\",\"max_cold\",\"max_cold\",\"max_cold\",\"max_cold\",\"max_cold\",\"max_cold\",\"max_cold\",\"max_cold\",\"max_cold\",\"max_cold\",\"max_cold\",\"max_cold\",\"max_cold\",\"max_cold\",\"max_cold\",\"max_cold\",\"max_cold\",\"max_cold\",\"max_cold\",\"max_cold\",\"max_cold\",\"max_cold\",\"max_cold\",\"max_cold\",\"max_cold\",\"max_cold\",\"max_cold\",\"max_cold\",\"max_cold\",\"max_cold\",\"max_cold\",\"max_cold\",\"max_cold\",\"max_cold\",\"max_cold\",\"max_cold\",\"max_cold\",\"max_cold\",\"max_cold\",\"max_cold\",\"max_cold\"],\"date\":{\"__ndarray__\":\"AACA53JeckIAAEBNxV5yQgAAALMXX3JCAADAGGpfckIAAIB+vF9yQgAAQOQOYHJCAAAASmFgckIAAMCvs2ByQgAAgBUGYXJCAABAe1hhckIAAADhqmFyQgAAwEb9YXJCAACArE9ickIAAEASomJyQgAAAHj0YnJCAADA3UZjckIAAIBDmWNyQgAAQKnrY3JCAAAADz5kckIAAMB0kGRyQgAAgNriZHJCAABAQDVlckIAAACmh2VyQgAAwAvaZXJCAACAcSxmckIAAEDXfmZyQgAAAD3RZnJCAADAoiNnckIAAIAIdmdyQgAAQG7IZ3JCAAAA1BpockIAAMA5bWhyQgAAgJ+/aHJCAABABRJpckIAAABrZGlyQgAAwNC2aXJCAACANglqckIAAECcW2pyQgAAAAKuanJCAADAZwBrckIAAIDNUmtyQgAAQDOla3JCAAAAmfdrckIAAMD+SWxyQgAAgGScbHJCAABAyu5sckIAAAAwQW1yQgAAwJWTbXJCAACA++VtckIAAEBhOG5yQgAAAMeKbnJCAADALN1uckIAAICSL29yQgAAQPiBb3JCAAAAXtRvckIAAMDDJnByQgAAgCl5cHJCAABAj8twckIAAAD1HXFyQgAAwFpwcXJCAACAwMJxckIAAEAmFXJyQgAAAIxncnJCAADA8blyckIAAIBXDHNyQgAAQL1ec3JCAAAAI7FzckIAAMCIA3RyQgAAgO5VdHJCAABAVKh0ckIAAAC6+nRyQgAAwB9NdXJCAACAhZ91ckIAAEDr8XVyQgAAAFFEdnJCAADAtpZ2ckIAAIAc6XZyQgAAQII7d3JCAAAA6I13ckIAAMBN4HdyQgAAgLMyeHJCAABAGYV4ckIAAAB/13hyQgAAwOQpeXJCAACASnx5ckIAAECwznlyQgAAABYhenJCAADAe3N6ckIAAIDhxXpyQgAAQEcYe3JCAAAArWp7ckIAAMASvXtyQgAAgHgPfHJCAABA3mF8ckIAAABEtHxyQgAAwKkGfXJCAACAD1l9ckIAAEB1q31yQgAAANv9fXJCAADAQFB+ckIAAICmon5yQgAAQAz1fnJCAAAAckd/ckIAAMDXmX9yQgAAgD3sf3JCAABAoz6AckIAAAAJkYByQgAAwG7jgHJCAACA1DWBckIAAEA6iIFyQgAAAKDagXJCAADABS2CckIAAIBrf4JyQgAAQNHRgnJCAAAANySDckIAAMCcdoNyQgAAgALJg3JCAABAaBuEckIAAADObYRyQgAAwDPAhHJCAACAmRKFckIAAED/ZIVyQgAAAGW3hXJCAADAygmGckIAAIAwXIZyQgAAQJauhnJCAAAA/ACHckIAAMBhU4dyQgAAgMelh3JCAABALfiHckIAAACTSohyQgAAwPiciHJCAACAXu+IckIAAEDEQYlyQgAAACqUiXJCAADAj+aJckIAAID1OIpyQgAAQFuLinJCAAAAwd2KckIAAMAmMItyQgAAgIyCi3JCAABA8tSLckIAAABYJ4xyQgAAwL15jHJCAACAI8yMckIAAECJHo1yQgAAAO9wjXJCAADAVMONckIAAIC6FY5yQgAAQCBojnJCAAAAhrqOckIAAMDrDI9yQgAAgFFfj3JCAABAt7GPckIAAAAdBJByQgAAwIJWkHJCAACA6KiQckIAAEBO+5ByQgAAALRNkXJCAADAGaCRckIAAIB/8pFyQgAAQOVEknJCAAAAS5eSckIAAMCw6ZJyQgAAgBY8k3JCAABAfI6TckIAAADi4JNyQgAAwEczlHJCAACArYWUckIAAEAT2JRyQgAAAHkqlXJCAADA3nyVckIAAIBEz5VyQgAAQKohlnJCAAAAEHSWckIAAMB1xpZyQgAAgNsYl3JCAABAQWuXckIAAACnvZdyQgAAwAwQmHJCAACAcmKYckIAAEDYtJhyQgAAAD4HmXJCAADAo1mZckIAAIAJrJlyQgAAQG/+mXJCAAAA1VCackIAAMA6o5pyQgAAgKD1mnJCAABABkibckIAAABsmptyQgAAwNHsm3JCAACANz+cckIAAECdkZxyQgAAAAPknHJCAADAaDadckIAAIDOiJ1yQgAAQDTbnXJCAAAAmi2eckIAAMD/f55yQgAAgGXSnnJCAABAyySfckIAAAAxd59yQgAAwJbJn3JCAACA/BugckIAAEBibqByQgAAAMjAoHJCAADALROhckIAAICTZaFyQgAAQPm3oXJCAAAAXwqickIAAMDEXKJyQgAAgCqvonJCAABAkAGjckIAAAD2U6NyQgAAwFumo3JCAACAwfijckIAAEAnS6RyQgAAAI2dpHJCAADA8u+kckIAAIBYQqVyQgAAQL6UpXJCAAAAJOelckIAAMCJOaZyQgAAgO+LpnJCAABAVd6mckIAAAC7MKdyQgAAwCCDp3JCAACAhtWnckIAAEDsJ6hyQgAAAFJ6qHJCAADAt8yockIAAIAdH6lyQgAAQINxqXJCAAAA6cOpckIAAMBOFqpyQgAAgLRoqnJCAABAGruqckIAAACADatyQgAAwOVfq3JCAACAS7KrckIAAECxBKxyQgAAABdXrHJCAADAfKmsckIAAIDi+6xyQgAAQEhOrXJCAAAArqCtckIAAMAT861yQgAAgHlFrnJCAABA35euckIAAABF6q5yQgAAwKo8r3JCAACAEI+vckIAAEB24a9yQgAAANwzsHJCAADAQYawckIAAICn2LByQgAAQA0rsXJCAAAAc32xckIAAMDYz7FyQgAAgD4isnJCAABApHSyckIAAAAKx7JyQgAAwG8Zs3JCAACA1WuzckIAAEA7vrNyQgAAAKEQtHJCAADABmO0ckIAAIBstbRyQgAAQNIHtXJCAAAAOFq1ckIAAMCdrLVyQgAAgAP/tXJCAABAaVG2ckIAAADPo7ZyQgAAwDT2tnJCAACAmki3ckIAAEAAm7dyQgAAAGbtt3JCAADAyz+4ckIAAIAxkrhyQgAAQJfkuHJCAAAA/Ta5ckIAAMBiiblyQgAAgMjbuXJCAABALi66ckIAAACUgLpyQgAAwPnSunJCAACAXyW7ckIAAEDFd7tyQgAAACvKu3JCAADAkBy8ckIAAID2brxyQgAAQFzBvHJCAAAAwhO9ckIAAMAnZr1yQgAAgI24vXJCAABA8wq+ckIAAABZXb5yQgAAwL6vvnJCAACAJAK/ckIAAECKVL9yQgAAAPCmv3JCAADAVfm/ckIAAIC7S8ByQgAAQCGewHJCAAAAh/DAckIAAMDsQsFyQgAAgFKVwXJCAABAuOfBckIAAAAeOsJyQgAAwIOMwnJCAACA6d7CckIAAEBPMcNyQgAAALWDw3JCAADAGtbDckIAAICAKMRyQgAAQOZ6xHJCAAAATM3EckIAAMCxH8VyQgAAgBdyxXJCAABAfcTFckIAAADjFsZyQgAAwEhpxnJCAACArrvGckIAAEAUDsdyQgAAAHpgx3JCAADA37LHckIAAIBFBchyQgAAQKtXyHJCAAAAEarIckIAAMB2/MhyQgAAgNxOyXJCAABAQqHJckIAAACo88lyQgAAwA1GynJCAACAc5jKckIAAEDZ6spyQgAAAD89y3JCAADApI/LckIAAIAK4styQgAAQHA0zHJCAAAA1obMckIAAMA72cxyQgAAgKErzXJCAABAB37NckIAAABt0M1yQgAAwNIiznJCAACAOHXOckIAAECex85yQgAAAAQaz3JCAADAaWzPckIAAIDPvs9yQgAAQDUR0HJCAAAAm2PQckIAAMAAttByQgAAgGYI0XJCAABAzFrRckIAAAAyrdFyQgAAwJf/0XJCAACA/VHSckIAAEBjpNJyQgAAAMn20nJCAADALknTckIAAICUm9NyQg==\",\"dtype\":\"float64\",\"shape\":[365]},\"value\":[0,0,0,0,0,0,0,0,0,0,0,0,0,0,0,0,0,0,0,0,0,0,0,0,0,0,0,0,0,0,0,0,0,0,0,0,0,0,0,0,0,0,0,0,0,0,0,0,0,0,0,0,0,0,0,0,0,0,0,0,0,0,0,0,0,0,0,0,0,0,0,0,0,0,0,0,0,0,0,0,0,0,0,0,0,0,0,0,0,0,0,0,0,0,0,0,0,0,0,0,0,0,0,0,0,0,0,0,0,0,0,0,0,0,0,0,0,0,0,0,0,0,0,0,0,0,0,0,0,0,0,0,0,0,0,0,0,0,0,0,0,0,0,0,0,0,0,0,0,0,0,0,0,0,0,0,0,0,0,0,0,0,0,0,0,0,0,0,0,0,0,0,0,0,0,0,0,0,0,0,0,0,0,0,0,0,0,0,0,0,0,0,0,0,0,0,0,0,0,0,0,0,0,0,0,0,0,0,0,0,0,0,0,0,0,0,0,0,0,0,0,0,0,0,0,0,0,0,0,0,0,0,0,0,0,0,0,0,0,0,0,0,0,0,0,0,0,0,0,0,0,0,0,0,0,0,0,0,0,0,0,0,0,0,0,0,0,0,0,0,0,0,0,0,0,0,0,0,0,0,0,0,0,0,0,0,0,0,0,0,0,0,0,0,0,0,0,0,0,0,0,0,0,0,0,0,0,0,0,0,0,0,0,0,0,0,0,0,0,0,0,0,0,0,0,0,0,0,0,0,0,0,0,0,0,0,0,0,0,0,0,0,0,0,0,0,0,0,0,0,0,0,0,0,0,0,0,0,0,0,0,0,0,0,0]},\"selected\":{\"id\":\"17656\"},\"selection_policy\":{\"id\":\"17712\"}},\"id\":\"17655\",\"type\":\"ColumnDataSource\"},{\"attributes\":{\"months\":[0,2,4,6,8,10]},\"id\":\"17434\",\"type\":\"MonthsTicker\"},{\"attributes\":{\"data_source\":{\"id\":\"15538\"},\"glyph\":{\"id\":\"15541\"},\"hover_glyph\":null,\"muted_glyph\":{\"id\":\"15543\"},\"nonselection_glyph\":{\"id\":\"15542\"},\"selection_glyph\":null,\"view\":{\"id\":\"15545\"}},\"id\":\"15544\",\"type\":\"GlyphRenderer\"},{\"attributes\":{\"data\":{\"Variable\":[\"TMAX_Ohio\",\"TMAX_Ohio\",\"TMAX_Ohio\",\"TMAX_Ohio\",\"TMAX_Ohio\",\"TMAX_Ohio\",\"TMAX_Ohio\",\"TMAX_Ohio\",\"TMAX_Ohio\",\"TMAX_Ohio\",\"TMAX_Ohio\",\"TMAX_Ohio\",\"TMAX_Ohio\",\"TMAX_Ohio\",\"TMAX_Ohio\",\"TMAX_Ohio\",\"TMAX_Ohio\",\"TMAX_Ohio\",\"TMAX_Ohio\",\"TMAX_Ohio\",\"TMAX_Ohio\",\"TMAX_Ohio\",\"TMAX_Ohio\",\"TMAX_Ohio\",\"TMAX_Ohio\",\"TMAX_Ohio\",\"TMAX_Ohio\",\"TMAX_Ohio\",\"TMAX_Ohio\",\"TMAX_Ohio\",\"TMAX_Ohio\",\"TMAX_Ohio\",\"TMAX_Ohio\",\"TMAX_Ohio\",\"TMAX_Ohio\",\"TMAX_Ohio\",\"TMAX_Ohio\",\"TMAX_Ohio\",\"TMAX_Ohio\",\"TMAX_Ohio\",\"TMAX_Ohio\",\"TMAX_Ohio\",\"TMAX_Ohio\",\"TMAX_Ohio\",\"TMAX_Ohio\",\"TMAX_Ohio\",\"TMAX_Ohio\",\"TMAX_Ohio\",\"TMAX_Ohio\",\"TMAX_Ohio\",\"TMAX_Ohio\",\"TMAX_Ohio\",\"TMAX_Ohio\",\"TMAX_Ohio\",\"TMAX_Ohio\",\"TMAX_Ohio\",\"TMAX_Ohio\",\"TMAX_Ohio\",\"TMAX_Ohio\",\"TMAX_Ohio\",\"TMAX_Ohio\",\"TMAX_Ohio\",\"TMAX_Ohio\",\"TMAX_Ohio\",\"TMAX_Ohio\",\"TMAX_Ohio\",\"TMAX_Ohio\",\"TMAX_Ohio\",\"TMAX_Ohio\",\"TMAX_Ohio\",\"TMAX_Ohio\",\"TMAX_Ohio\",\"TMAX_Ohio\",\"TMAX_Ohio\",\"TMAX_Ohio\",\"TMAX_Ohio\",\"TMAX_Ohio\",\"TMAX_Ohio\",\"TMAX_Ohio\",\"TMAX_Ohio\",\"TMAX_Ohio\",\"TMAX_Ohio\",\"TMAX_Ohio\",\"TMAX_Ohio\",\"TMAX_Ohio\",\"TMAX_Ohio\",\"TMAX_Ohio\",\"TMAX_Ohio\",\"TMAX_Ohio\",\"TMAX_Ohio\",\"TMAX_Ohio\",\"TMAX_Ohio\",\"TMAX_Ohio\",\"TMAX_Ohio\",\"TMAX_Ohio\",\"TMAX_Ohio\",\"TMAX_Ohio\",\"TMAX_Ohio\",\"TMAX_Ohio\",\"TMAX_Ohio\",\"TMAX_Ohio\",\"TMAX_Ohio\",\"TMAX_Ohio\",\"TMAX_Ohio\",\"TMAX_Ohio\",\"TMAX_Ohio\",\"TMAX_Ohio\",\"TMAX_Ohio\",\"TMAX_Ohio\",\"TMAX_Ohio\",\"TMAX_Ohio\",\"TMAX_Ohio\",\"TMAX_Ohio\",\"TMAX_Ohio\",\"TMAX_Ohio\",\"TMAX_Ohio\",\"TMAX_Ohio\",\"TMAX_Ohio\",\"TMAX_Ohio\",\"TMAX_Ohio\",\"TMAX_Ohio\",\"TMAX_Ohio\",\"TMAX_Ohio\",\"TMAX_Ohio\",\"TMAX_Ohio\",\"TMAX_Ohio\",\"TMAX_Ohio\",\"TMAX_Ohio\",\"TMAX_Ohio\",\"TMAX_Ohio\",\"TMAX_Ohio\",\"TMAX_Ohio\",\"TMAX_Ohio\",\"TMAX_Ohio\",\"TMAX_Ohio\",\"TMAX_Ohio\",\"TMAX_Ohio\",\"TMAX_Ohio\",\"TMAX_Ohio\",\"TMAX_Ohio\",\"TMAX_Ohio\",\"TMAX_Ohio\",\"TMAX_Ohio\",\"TMAX_Ohio\",\"TMAX_Ohio\",\"TMAX_Ohio\",\"TMAX_Ohio\",\"TMAX_Ohio\",\"TMAX_Ohio\",\"TMAX_Ohio\",\"TMAX_Ohio\",\"TMAX_Ohio\",\"TMAX_Ohio\",\"TMAX_Ohio\",\"TMAX_Ohio\",\"TMAX_Ohio\",\"TMAX_Ohio\",\"TMAX_Ohio\",\"TMAX_Ohio\",\"TMAX_Ohio\",\"TMAX_Ohio\",\"TMAX_Ohio\",\"TMAX_Ohio\",\"TMAX_Ohio\",\"TMAX_Ohio\",\"TMAX_Ohio\",\"TMAX_Ohio\",\"TMAX_Ohio\",\"TMAX_Ohio\",\"TMAX_Ohio\",\"TMAX_Ohio\",\"TMAX_Ohio\",\"TMAX_Ohio\",\"TMAX_Ohio\",\"TMAX_Ohio\",\"TMAX_Ohio\",\"TMAX_Ohio\",\"TMAX_Ohio\",\"TMAX_Ohio\",\"TMAX_Ohio\",\"TMAX_Ohio\",\"TMAX_Ohio\",\"TMAX_Ohio\",\"TMAX_Ohio\",\"TMAX_Ohio\",\"TMAX_Ohio\",\"TMAX_Ohio\",\"TMAX_Ohio\",\"TMAX_Ohio\",\"TMAX_Ohio\",\"TMAX_Ohio\",\"TMAX_Ohio\",\"TMAX_Ohio\",\"TMAX_Ohio\",\"TMAX_Ohio\",\"TMAX_Ohio\",\"TMAX_Ohio\",\"TMAX_Ohio\",\"TMAX_Ohio\",\"TMAX_Ohio\",\"TMAX_Ohio\",\"TMAX_Ohio\",\"TMAX_Ohio\",\"TMAX_Ohio\",\"TMAX_Ohio\",\"TMAX_Ohio\",\"TMAX_Ohio\",\"TMAX_Ohio\",\"TMAX_Ohio\",\"TMAX_Ohio\",\"TMAX_Ohio\",\"TMAX_Ohio\",\"TMAX_Ohio\",\"TMAX_Ohio\",\"TMAX_Ohio\",\"TMAX_Ohio\",\"TMAX_Ohio\",\"TMAX_Ohio\",\"TMAX_Ohio\",\"TMAX_Ohio\",\"TMAX_Ohio\",\"TMAX_Ohio\",\"TMAX_Ohio\",\"TMAX_Ohio\",\"TMAX_Ohio\",\"TMAX_Ohio\",\"TMAX_Ohio\",\"TMAX_Ohio\",\"TMAX_Ohio\",\"TMAX_Ohio\",\"TMAX_Ohio\",\"TMAX_Ohio\",\"TMAX_Ohio\",\"TMAX_Ohio\",\"TMAX_Ohio\",\"TMAX_Ohio\",\"TMAX_Ohio\",\"TMAX_Ohio\",\"TMAX_Ohio\",\"TMAX_Ohio\",\"TMAX_Ohio\",\"TMAX_Ohio\",\"TMAX_Ohio\",\"TMAX_Ohio\",\"TMAX_Ohio\",\"TMAX_Ohio\",\"TMAX_Ohio\",\"TMAX_Ohio\",\"TMAX_Ohio\",\"TMAX_Ohio\",\"TMAX_Ohio\",\"TMAX_Ohio\",\"TMAX_Ohio\",\"TMAX_Ohio\",\"TMAX_Ohio\",\"TMAX_Ohio\",\"TMAX_Ohio\",\"TMAX_Ohio\",\"TMAX_Ohio\",\"TMAX_Ohio\",\"TMAX_Ohio\",\"TMAX_Ohio\",\"TMAX_Ohio\",\"TMAX_Ohio\",\"TMAX_Ohio\",\"TMAX_Ohio\",\"TMAX_Ohio\",\"TMAX_Ohio\",\"TMAX_Ohio\",\"TMAX_Ohio\",\"TMAX_Ohio\",\"TMAX_Ohio\",\"TMAX_Ohio\",\"TMAX_Ohio\",\"TMAX_Ohio\",\"TMAX_Ohio\",\"TMAX_Ohio\",\"TMAX_Ohio\",\"TMAX_Ohio\",\"TMAX_Ohio\",\"TMAX_Ohio\",\"TMAX_Ohio\",\"TMAX_Ohio\",\"TMAX_Ohio\",\"TMAX_Ohio\",\"TMAX_Ohio\",\"TMAX_Ohio\",\"TMAX_Ohio\",\"TMAX_Ohio\",\"TMAX_Ohio\",\"TMAX_Ohio\",\"TMAX_Ohio\",\"TMAX_Ohio\",\"TMAX_Ohio\",\"TMAX_Ohio\",\"TMAX_Ohio\",\"TMAX_Ohio\",\"TMAX_Ohio\",\"TMAX_Ohio\",\"TMAX_Ohio\",\"TMAX_Ohio\",\"TMAX_Ohio\",\"TMAX_Ohio\",\"TMAX_Ohio\",\"TMAX_Ohio\",\"TMAX_Ohio\",\"TMAX_Ohio\",\"TMAX_Ohio\",\"TMAX_Ohio\",\"TMAX_Ohio\",\"TMAX_Ohio\",\"TMAX_Ohio\",\"TMAX_Ohio\",\"TMAX_Ohio\",\"TMAX_Ohio\",\"TMAX_Ohio\",\"TMAX_Ohio\",\"TMAX_Ohio\",\"TMAX_Ohio\",\"TMAX_Ohio\",\"TMAX_Ohio\",\"TMAX_Ohio\",\"TMAX_Ohio\",\"TMAX_Ohio\",\"TMAX_Ohio\",\"TMAX_Ohio\",\"TMAX_Ohio\",\"TMAX_Ohio\",\"TMAX_Ohio\",\"TMAX_Ohio\",\"TMAX_Ohio\",\"TMAX_Ohio\",\"TMAX_Ohio\",\"TMAX_Ohio\",\"TMAX_Ohio\",\"TMAX_Ohio\",\"TMAX_Ohio\",\"TMAX_Ohio\",\"TMAX_Ohio\",\"TMAX_Ohio\",\"TMAX_Ohio\",\"TMAX_Ohio\",\"TMAX_Ohio\",\"TMAX_Ohio\",\"TMAX_Ohio\",\"TMAX_Ohio\",\"TMAX_Ohio\",\"TMAX_Ohio\",\"TMAX_Ohio\",\"TMAX_Ohio\",\"TMAX_Ohio\",\"TMAX_Ohio\",\"TMAX_Ohio\",\"TMAX_Ohio\",\"TMAX_Ohio\",\"TMAX_Ohio\",\"TMAX_Ohio\",\"TMAX_Ohio\",\"TMAX_Ohio\",\"TMAX_Ohio\",\"TMAX_Ohio\",\"TMAX_Ohio\",\"TMAX_Ohio\",\"TMAX_Ohio\",\"TMAX_Ohio\"],\"date\":{\"__ndarray__\":\"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\",\"dtype\":\"float64\",\"shape\":[365]},\"value\":{\"__ndarray__\":\"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\",\"dtype\":\"float64\",\"shape\":[365]}},\"selected\":{\"id\":\"17442\"},\"selection_policy\":{\"id\":\"17490\"}},\"id\":\"17441\",\"type\":\"ColumnDataSource\"},{\"attributes\":{\"data\":{\"Variable\":[\"TMIN_Ohio\",\"TMIN_Ohio\",\"TMIN_Ohio\",\"TMIN_Ohio\",\"TMIN_Ohio\",\"TMIN_Ohio\",\"TMIN_Ohio\",\"TMIN_Ohio\",\"TMIN_Ohio\",\"TMIN_Ohio\",\"TMIN_Ohio\",\"TMIN_Ohio\",\"TMIN_Ohio\",\"TMIN_Ohio\",\"TMIN_Ohio\",\"TMIN_Ohio\",\"TMIN_Ohio\",\"TMIN_Ohio\",\"TMIN_Ohio\",\"TMIN_Ohio\",\"TMIN_Ohio\",\"TMIN_Ohio\",\"TMIN_Ohio\",\"TMIN_Ohio\",\"TMIN_Ohio\",\"TMIN_Ohio\",\"TMIN_Ohio\",\"TMIN_Ohio\",\"TMIN_Ohio\",\"TMIN_Ohio\",\"TMIN_Ohio\",\"TMIN_Ohio\",\"TMIN_Ohio\",\"TMIN_Ohio\",\"TMIN_Ohio\",\"TMIN_Ohio\",\"TMIN_Ohio\",\"TMIN_Ohio\",\"TMIN_Ohio\",\"TMIN_Ohio\",\"TMIN_Ohio\",\"TMIN_Ohio\",\"TMIN_Ohio\",\"TMIN_Ohio\",\"TMIN_Ohio\",\"TMIN_Ohio\",\"TMIN_Ohio\",\"TMIN_Ohio\",\"TMIN_Ohio\",\"TMIN_Ohio\",\"TMIN_Ohio\",\"TMIN_Ohio\",\"TMIN_Ohio\",\"TMIN_Ohio\",\"TMIN_Ohio\",\"TMIN_Ohio\",\"TMIN_Ohio\",\"TMIN_Ohio\",\"TMIN_Ohio\",\"TMIN_Ohio\",\"TMIN_Ohio\",\"TMIN_Ohio\",\"TMIN_Ohio\",\"TMIN_Ohio\",\"TMIN_Ohio\",\"TMIN_Ohio\",\"TMIN_Ohio\",\"TMIN_Ohio\",\"TMIN_Ohio\",\"TMIN_Ohio\",\"TMIN_Ohio\",\"TMIN_Ohio\",\"TMIN_Ohio\",\"TMIN_Ohio\",\"TMIN_Ohio\",\"TMIN_Ohio\",\"TMIN_Ohio\",\"TMIN_Ohio\",\"TMIN_Ohio\",\"TMIN_Ohio\",\"TMIN_Ohio\",\"TMIN_Ohio\",\"TMIN_Ohio\",\"TMIN_Ohio\",\"TMIN_Ohio\",\"TMIN_Ohio\",\"TMIN_Ohio\",\"TMIN_Ohio\",\"TMIN_Ohio\",\"TMIN_Ohio\",\"TMIN_Ohio\",\"TMIN_Ohio\",\"TMIN_Ohio\",\"TMIN_Ohio\",\"TMIN_Ohio\",\"TMIN_Ohio\",\"TMIN_Ohio\",\"TMIN_Ohio\",\"TMIN_Ohio\",\"TMIN_Ohio\",\"TMIN_Ohio\",\"TMIN_Ohio\",\"TMIN_Ohio\",\"TMIN_Ohio\",\"TMIN_Ohio\",\"TMIN_Ohio\",\"TMIN_Ohio\",\"TMIN_Ohio\",\"TMIN_Ohio\",\"TMIN_Ohio\",\"TMIN_Ohio\",\"TMIN_Ohio\",\"TMIN_Ohio\",\"TMIN_Ohio\",\"TMIN_Ohio\",\"TMIN_Ohio\",\"TMIN_Ohio\",\"TMIN_Ohio\",\"TMIN_Ohio\",\"TMIN_Ohio\",\"TMIN_Ohio\",\"TMIN_Ohio\",\"TMIN_Ohio\",\"TMIN_Ohio\",\"TMIN_Ohio\",\"TMIN_Ohio\",\"TMIN_Ohio\",\"TMIN_Ohio\",\"TMIN_Ohio\",\"TMIN_Ohio\",\"TMIN_Ohio\",\"TMIN_Ohio\",\"TMIN_Ohio\",\"TMIN_Ohio\",\"TMIN_Ohio\",\"TMIN_Ohio\",\"TMIN_Ohio\",\"TMIN_Ohio\",\"TMIN_Ohio\",\"TMIN_Ohio\",\"TMIN_Ohio\",\"TMIN_Ohio\",\"TMIN_Ohio\",\"TMIN_Ohio\",\"TMIN_Ohio\",\"TMIN_Ohio\",\"TMIN_Ohio\",\"TMIN_Ohio\",\"TMIN_Ohio\",\"TMIN_Ohio\",\"TMIN_Ohio\",\"TMIN_Ohio\",\"TMIN_Ohio\",\"TMIN_Ohio\",\"TMIN_Ohio\",\"TMIN_Ohio\",\"TMIN_Ohio\",\"TMIN_Ohio\",\"TMIN_Ohio\",\"TMIN_Ohio\",\"TMIN_Ohio\",\"TMIN_Ohio\",\"TMIN_Ohio\",\"TMIN_Ohio\",\"TMIN_Ohio\",\"TMIN_Ohio\",\"TMIN_Ohio\",\"TMIN_Ohio\",\"TMIN_Ohio\",\"TMIN_Ohio\",\"TMIN_Ohio\",\"TMIN_Ohio\",\"TMIN_Ohio\",\"TMIN_Ohio\",\"TMIN_Ohio\",\"TMIN_Ohio\",\"TMIN_Ohio\",\"TMIN_Ohio\",\"TMIN_Ohio\",\"TMIN_Ohio\",\"TMIN_Ohio\",\"TMIN_Ohio\",\"TMIN_Ohio\",\"TMIN_Ohio\",\"TMIN_Ohio\",\"TMIN_Ohio\",\"TMIN_Ohio\",\"TMIN_Ohio\",\"TMIN_Ohio\",\"TMIN_Ohio\",\"TMIN_Ohio\",\"TMIN_Ohio\",\"TMIN_Ohio\",\"TMIN_Ohio\",\"TMIN_Ohio\",\"TMIN_Ohio\",\"TMIN_Ohio\",\"TMIN_Ohio\",\"TMIN_Ohio\",\"TMIN_Ohio\",\"TMIN_Ohio\",\"TMIN_Ohio\",\"TMIN_Ohio\",\"TMIN_Ohio\",\"TMIN_Ohio\",\"TMIN_Ohio\",\"TMIN_Ohio\",\"TMIN_Ohio\",\"TMIN_Ohio\",\"TMIN_Ohio\",\"TMIN_Ohio\",\"TMIN_Ohio\",\"TMIN_Ohio\",\"TMIN_Ohio\",\"TMIN_Ohio\",\"TMIN_Ohio\",\"TMIN_Ohio\",\"TMIN_Ohio\",\"TMIN_Ohio\",\"TMIN_Ohio\",\"TMIN_Ohio\",\"TMIN_Ohio\",\"TMIN_Ohio\",\"TMIN_Ohio\",\"TMIN_Ohio\",\"TMIN_Ohio\",\"TMIN_Ohio\",\"TMIN_Ohio\",\"TMIN_Ohio\",\"TMIN_Ohio\",\"TMIN_Ohio\",\"TMIN_Ohio\",\"TMIN_Ohio\",\"TMIN_Ohio\",\"TMIN_Ohio\",\"TMIN_Ohio\",\"TMIN_Ohio\",\"TMIN_Ohio\",\"TMIN_Ohio\",\"TMIN_Ohio\",\"TMIN_Ohio\",\"TMIN_Ohio\",\"TMIN_Ohio\",\"TMIN_Ohio\",\"TMIN_Ohio\",\"TMIN_Ohio\",\"TMIN_Ohio\",\"TMIN_Ohio\",\"TMIN_Ohio\",\"TMIN_Ohio\",\"TMIN_Ohio\",\"TMIN_Ohio\",\"TMIN_Ohio\",\"TMIN_Ohio\",\"TMIN_Ohio\",\"TMIN_Ohio\",\"TMIN_Ohio\",\"TMIN_Ohio\",\"TMIN_Ohio\",\"TMIN_Ohio\",\"TMIN_Ohio\",\"TMIN_Ohio\",\"TMIN_Ohio\",\"TMIN_Ohio\",\"TMIN_Ohio\",\"TMIN_Ohio\",\"TMIN_Ohio\",\"TMIN_Ohio\",\"TMIN_Ohio\",\"TMIN_Ohio\",\"TMIN_Ohio\",\"TMIN_Ohio\",\"TMIN_Ohio\",\"TMIN_Ohio\",\"TMIN_Ohio\",\"TMIN_Ohio\",\"TMIN_Ohio\",\"TMIN_Ohio\",\"TMIN_Ohio\",\"TMIN_Ohio\",\"TMIN_Ohio\",\"TMIN_Ohio\",\"TMIN_Ohio\",\"TMIN_Ohio\",\"TMIN_Ohio\",\"TMIN_Ohio\",\"TMIN_Ohio\",\"TMIN_Ohio\",\"TMIN_Ohio\",\"TMIN_Ohio\",\"TMIN_Ohio\",\"TMIN_Ohio\",\"TMIN_Ohio\",\"TMIN_Ohio\",\"TMIN_Ohio\",\"TMIN_Ohio\",\"TMIN_Ohio\",\"TMIN_Ohio\",\"TMIN_Ohio\",\"TMIN_Ohio\",\"TMIN_Ohio\",\"TMIN_Ohio\",\"TMIN_Ohio\",\"TMIN_Ohio\",\"TMIN_Ohio\",\"TMIN_Ohio\",\"TMIN_Ohio\",\"TMIN_Ohio\",\"TMIN_Ohio\",\"TMIN_Ohio\",\"TMIN_Ohio\",\"TMIN_Ohio\",\"TMIN_Ohio\",\"TMIN_Ohio\",\"TMIN_Ohio\",\"TMIN_Ohio\",\"TMIN_Ohio\",\"TMIN_Ohio\",\"TMIN_Ohio\",\"TMIN_Ohio\",\"TMIN_Ohio\",\"TMIN_Ohio\",\"TMIN_Ohio\",\"TMIN_Ohio\",\"TMIN_Ohio\",\"TMIN_Ohio\",\"TMIN_Ohio\",\"TMIN_Ohio\",\"TMIN_Ohio\",\"TMIN_Ohio\",\"TMIN_Ohio\",\"TMIN_Ohio\",\"TMIN_Ohio\",\"TMIN_Ohio\",\"TMIN_Ohio\",\"TMIN_Ohio\",\"TMIN_Ohio\",\"TMIN_Ohio\",\"TMIN_Ohio\",\"TMIN_Ohio\",\"TMIN_Ohio\",\"TMIN_Ohio\",\"TMIN_Ohio\",\"TMIN_Ohio\",\"TMIN_Ohio\",\"TMIN_Ohio\",\"TMIN_Ohio\",\"TMIN_Ohio\",\"TMIN_Ohio\",\"TMIN_Ohio\",\"TMIN_Ohio\",\"TMIN_Ohio\",\"TMIN_Ohio\",\"TMIN_Ohio\",\"TMIN_Ohio\",\"TMIN_Ohio\",\"TMIN_Ohio\",\"TMIN_Ohio\",\"TMIN_Ohio\",\"TMIN_Ohio\",\"TMIN_Ohio\",\"TMIN_Ohio\",\"TMIN_Ohio\",\"TMIN_Ohio\",\"TMIN_Ohio\"],\"date\":{\"__ndarray__\":\"AACA53JeckIAAEBNxV5yQgAAALMXX3JCAADAGGpfckIAAIB+vF9yQgAAQOQOYHJCAAAASmFgckIAAMCvs2ByQgAAgBUGYXJCAABAe1hhckIAAADhqmFyQgAAwEb9YXJCAACArE9ickIAAEASomJyQgAAAHj0YnJCAADA3UZjckIAAIBDmWNyQgAAQKnrY3JCAAAADz5kckIAAMB0kGRyQgAAgNriZHJCAABAQDVlckIAAACmh2VyQgAAwAvaZXJCAACAcSxmckIAAEDXfmZyQgAAAD3RZnJCAADAoiNnckIAAIAIdmdyQgAAQG7IZ3JCAAAA1BpockIAAMA5bWhyQgAAgJ+/aHJCAABABRJpckIAAABrZGlyQgAAwNC2aXJCAACANglqckIAAECcW2pyQgAAAAKuanJCAADAZwBrckIAAIDNUmtyQgAAQDOla3JCAAAAmfdrckIAAMD+SWxyQgAAgGScbHJCAABAyu5sckIAAAAwQW1yQgAAwJWTbXJCAACA++VtckIAAEBhOG5yQgAAAMeKbnJCAADALN1uckIAAICSL29yQgAAQPiBb3JCAAAAXtRvckIAAMDDJnByQgAAgCl5cHJCAABAj8twckIAAAD1HXFyQgAAwFpwcXJCAACAwMJxckIAAEAmFXJyQgAAAIxncnJCAADA8blyckIAAIBXDHNyQgAAQL1ec3JCAAAAI7FzckIAAMCIA3RyQgAAgO5VdHJCAABAVKh0ckIAAAC6+nRyQgAAwB9NdXJCAACAhZ91ckIAAEDr8XVyQgAAAFFEdnJCAADAtpZ2ckIAAIAc6XZyQgAAQII7d3JCAAAA6I13ckIAAMBN4HdyQgAAgLMyeHJCAABAGYV4ckIAAAB/13hyQgAAwOQpeXJCAACASnx5ckIAAECwznlyQgAAABYhenJCAADAe3N6ckIAAIDhxXpyQgAAQEcYe3JCAAAArWp7ckIAAMASvXtyQgAAgHgPfHJCAABA3mF8ckIAAABEtHxyQgAAwKkGfXJCAACAD1l9ckIAAEB1q31yQgAAANv9fXJCAADAQFB+ckIAAICmon5yQgAAQAz1fnJCAAAAckd/ckIAAMDXmX9yQgAAgD3sf3JCAABAoz6AckIAAAAJkYByQgAAwG7jgHJCAACA1DWBckIAAEA6iIFyQgAAAKDagXJCAADABS2CckIAAIBrf4JyQgAAQNHRgnJCAAAANySDckIAAMCcdoNyQgAAgALJg3JCAABAaBuEckIAAADObYRyQgAAwDPAhHJCAACAmRKFckIAAED/ZIVyQgAAAGW3hXJCAADAygmGckIAAIAwXIZyQgAAQJauhnJCAAAA/ACHckIAAMBhU4dyQgAAgMelh3JCAABALfiHckIAAACTSohyQgAAwPiciHJCAACAXu+IckIAAEDEQYlyQgAAACqUiXJCAADAj+aJckIAAID1OIpyQgAAQFuLinJCAAAAwd2KckIAAMAmMItyQgAAgIyCi3JCAABA8tSLckIAAABYJ4xyQgAAwL15jHJCAACAI8yMckIAAECJHo1yQgAAAO9wjXJCAADAVMONckIAAIC6FY5yQgAAQCBojnJCAAAAhrqOckIAAMDrDI9yQgAAgFFfj3JCAABAt7GPckIAAAAdBJByQgAAwIJWkHJCAACA6KiQckIAAEBO+5ByQgAAALRNkXJCAADAGaCRckIAAIB/8pFyQgAAQOVEknJCAAAAS5eSckIAAMCw6ZJyQgAAgBY8k3JCAABAfI6TckIAAADi4JNyQgAAwEczlHJCAACArYWUckIAAEAT2JRyQgAAAHkqlXJCAADA3nyVckIAAIBEz5VyQgAAQKohlnJCAAAAEHSWckIAAMB1xpZyQgAAgNsYl3JCAABAQWuXckIAAACnvZdyQgAAwAwQmHJCAACAcmKYckIAAEDYtJhyQgAAAD4HmXJCAADAo1mZckIAAIAJrJlyQgAAQG/+mXJCAAAA1VCackIAAMA6o5pyQgAAgKD1mnJCAABABkibckIAAABsmptyQgAAwNHsm3JCAACANz+cckIAAECdkZxyQgAAAAPknHJCAADAaDadckIAAIDOiJ1yQgAAQDTbnXJCAAAAmi2eckIAAMD/f55yQgAAgGXSnnJCAABAyySfckIAAAAxd59yQgAAwJbJn3JCAACA/BugckIAAEBibqByQgAAAMjAoHJCAADALROhckIAAICTZaFyQgAAQPm3oXJCAAAAXwqickIAAMDEXKJyQgAAgCqvonJCAABAkAGjckIAAAD2U6NyQgAAwFumo3JCAACAwfijckIAAEAnS6RyQgAAAI2dpHJCAADA8u+kckIAAIBYQqVyQgAAQL6UpXJCAAAAJOelckIAAMCJOaZyQgAAgO+LpnJCAABAVd6mckIAAAC7MKdyQgAAwCCDp3JCAACAhtWnckIAAEDsJ6hyQgAAAFJ6qHJCAADAt8yockIAAIAdH6lyQgAAQINxqXJCAAAA6cOpckIAAMBOFqpyQgAAgLRoqnJCAABAGruqckIAAACADatyQgAAwOVfq3JCAACAS7KrckIAAECxBKxyQgAAABdXrHJCAADAfKmsckIAAIDi+6xyQgAAQEhOrXJCAAAArqCtckIAAMAT861yQgAAgHlFrnJCAABA35euckIAAABF6q5yQgAAwKo8r3JCAACAEI+vckIAAEB24a9yQgAAANwzsHJCAADAQYawckIAAICn2LByQgAAQA0rsXJCAAAAc32xckIAAMDYz7FyQgAAgD4isnJCAABApHSyckIAAAAKx7JyQgAAwG8Zs3JCAACA1WuzckIAAEA7vrNyQgAAAKEQtHJCAADABmO0ckIAAIBstbRyQgAAQNIHtXJCAAAAOFq1ckIAAMCdrLVyQgAAgAP/tXJCAABAaVG2ckIAAADPo7ZyQgAAwDT2tnJCAACAmki3ckIAAEAAm7dyQgAAAGbtt3JCAADAyz+4ckIAAIAxkrhyQgAAQJfkuHJCAAAA/Ta5ckIAAMBiiblyQgAAgMjbuXJCAABALi66ckIAAACUgLpyQgAAwPnSunJCAACAXyW7ckIAAEDFd7tyQgAAACvKu3JCAADAkBy8ckIAAID2brxyQgAAQFzBvHJCAAAAwhO9ckIAAMAnZr1yQgAAgI24vXJCAABA8wq+ckIAAABZXb5yQgAAwL6vvnJCAACAJAK/ckIAAECKVL9yQgAAAPCmv3JCAADAVfm/ckIAAIC7S8ByQgAAQCGewHJCAAAAh/DAckIAAMDsQsFyQgAAgFKVwXJCAABAuOfBckIAAAAeOsJyQgAAwIOMwnJCAACA6d7CckIAAEBPMcNyQgAAALWDw3JCAADAGtbDckIAAICAKMRyQgAAQOZ6xHJCAAAATM3EckIAAMCxH8VyQgAAgBdyxXJCAABAfcTFckIAAADjFsZyQgAAwEhpxnJCAACArrvGckIAAEAUDsdyQgAAAHpgx3JCAADA37LHckIAAIBFBchyQgAAQKtXyHJCAAAAEarIckIAAMB2/MhyQgAAgNxOyXJCAABAQqHJckIAAACo88lyQgAAwA1GynJCAACAc5jKckIAAEDZ6spyQgAAAD89y3JCAADApI/LckIAAIAK4styQgAAQHA0zHJCAAAA1obMckIAAMA72cxyQgAAgKErzXJCAABAB37NckIAAABt0M1yQgAAwNIiznJCAACAOHXOckIAAECex85yQgAAAAQaz3JCAADAaWzPckIAAIDPvs9yQgAAQDUR0HJCAAAAm2PQckIAAMAAttByQgAAgGYI0XJCAABAzFrRckIAAAAyrdFyQgAAwJf/0XJCAACA/VHSckIAAEBjpNJyQgAAAMn20nJCAADALknTckIAAICUm9NyQg==\",\"dtype\":\"float64\",\"shape\":[365]},\"value\":{\"__ndarray__\":\"mpmZmZkZGsD//////98owAAAAAAAwC/A//////9/K8CZmZmZmXkhwJqZmZmZmR/ANTMzMzOzHcAAAAAAAAApwGZmZmZmpifAZmZmZmbWMcAyMzMzM7MvwDMzMzMzUyPAzszMzMwsKMD//////98jwDMzMzMz8xXAMzMzMzMzyz8AAAAAAADcv8zMzMzMzPm/ZmZmZmZmAsA2MzMzM3MZwJqZmZmZmRfAzczMzMzM7L8zMzMzMzP2P87MzMzMzAhAVHzFV3zF/z8yMzMzMzMVwE8HdVAHdR7AZmZmZmZmHsBg8RVf8RUswB7UQR3UQSnAtm3btm3bLcBmZmZmZsYrwP//////fyPAmpmZmZmZCsAzMzMzMzMYwM3MzMzMzBHASZIkSZIkE8CamZmZmRkqwJqZmZmZuTDAMzMzMzNTK8CamZmZmdkowJqZmZmZ2SPAAAAAAABgIcBmZmZmZoYgwDMzMzMzEyDAAAAAAADgLMAzMzMzMxMiwJqZmZmZWRXAmpmZmZkZDsCamZmZmVkiwM3MzMzMLCTAzszMzMzMFsAAAAAAAACwP83MzMzMzOi/ZmZmZmbmC8BnZmZmZiYawM3MzMzMzBbAZmZmZmZmDsAAAAAAAIACwGZmZmZmZuS/AAAAAAAAFMAAAAAAAIAKwM3MzMzMDBzANTMzMzNzHcBmZmZmZqYfwMnMzMzMDB/AmpmZmZkZFcBmZmZmZmYIwGZmZmZmZug/ZmZmZmYmEEAzMzMzM3MYQP//////fx1AAAAAAACACEAAAAAAAIAEQGZmZmZm5gFAZ2ZmZmZm1r8yMzMzMzPrv5qZmZmZmck/zczMzMzM/D8AAAAAAAD/PzMzMzMz8xBAZmZmZmZmAkAAAAAAAADkvwAAAAAAAOg/zczMzMxMB8AzMzMzM7MRwGdmZmZmZuq/MzMzMzMzE0CZmZmZmZnlv2ZmZmZmZuS/AAAAAAAACEAAAAAAAKAiQAEAAAAAACVAmpmZmZkZD0AAAAAAAIAdQJqZmZmZuS1AMzMzMzMTL0AzMzMzMzMnQAAAAAAAgANAz8zMzMzM+7/NzMzMzMzuPzMzMzMz8xJAMzMzMzNzGkBnZmZmZuYXQGZmZmZmZhpAmpmZmZk5JkCamZmZmRkJQDAzMzMzM8M/NDMzMzMzw7+amZmZmZkAQJqZmZmZmQVAMzMzMzOzDEAzMzMzM3MTQAAAAAAAAB5AmpmZmZlZJ0BmZmZmZkYkQJqZmZmZmQtAMzMzMzMz278AAAAAAADxP2dmZmZmphVAZmZmZmYmKUCamZmZmfkuQGVmZmZmZi9AZmZmZmZmJkCamZmZmfkkQM3MzMzM7CZAZmZmZmamIUAAAAAAAIAhQJMkSZIkSQZAMzMzMzMz3z9mZmZmZmYQQM3MzMzMrCBAZmZmZmYmJECamZmZmTkqQJqZmZmZeSJAzszMzMwsJ0AzMzMzM1MoQGZmZmZmJilAAAAAAADAJ0DNzMzMzAwiQAAAAAAAoCdAzczMzMyML0DNzMzMzOwrQM3MzMzMrC5AzczMzMzsL0BmZmZmZoYwQMvMzMzM3DBAmpmZmZm5MUAsvuIrvmIxQN7d3d3dHTBA1kEd1EEdM0DUQR3UQZ0xQC2+4iu+4jBA////////MECv+Iqv+IoxQC2+4iu+YjNASZIkSZIkM0DUQR3UQR0oQLdt27Zt2yNA1EEd1EEdKECDOqiDOqgtQBdf8RVf8S9AHdRBHdRBMkDiK77iKz40QNZBHdRBHTNAVnzFV3zFM0ChDuqgDuozQJMkSZIkSS9AmpmZmZmZL0D///////8wQFEHdVAHdTFAr/iKr/iKMUAWX/EVX/EyQII6qIM6qDNAJUmSJEkSNEDbtm3btm0wQEmSJEmSJDFAUAd1UAf1MkBCHdRBHVQ0QL/iK77iqzBAr/iKr/iKJkDHV3zFV3wkQAZ1UAd1UCRAtm3btm3bJkAzMzMzMzMuQJIkSZIkyTFA4yu+4is+NEAYX/EVX3EzQII6qIM6KDRA1kEd1EEdNUDFV3zFV/wwQL7iK77iKzFAHdRBHdRBMkCSJEmSJEkzQOIrvuIrPjJAAAAAAACAM0DNzMzMzEw0QA/qoA7qIDNAHtRBHdTBM0ChDuqgDuozQII6qIM6qDRAB3VQB3VQNECJr/iKr/gyQHVQB3VQBzVASpIkSZIkNkDNzMzMzEw2QOqgDuqgDjBAMzMzMzMzMEB1UAd1UAcyQMdXfMVXfDRAxld8xVd8LUBf8RVf8ZUwQPEVX/EVXzBAmpmZmZkpMUDNzMzMzNwzQGZmZmZmdjVAmpmZmZnJNECamZmZmdkxQDMzMzMzsyxAZmZmZmZmL0AAAAAAAKAxQM3MzMzMLDNAMzMzMzPjNUDNzMzMzJw1QGZmZmZmFjRAZmZmZmbmNECamZmZmTk2QJqZmZmZCTNAMzMzMzOTLUAzMzMzM9MvQGZmZmZmZjBAzczMzMw8MUBmZmZmZlYyQM3MzMzM7DNAAAAAAADQMECamZmZmZkwQAAAAAAAQDBAAAAAAABAKkCamZmZmRkmQAAAAAAAYCZAzczMzMysKkAzMzMzM/MwQAAAAAAAADJAZmZmZmZWMkAzMzMzMzMyQGZmZmZmVjJAF1/xFV/xKEB9xVd8xVccQPqKr/iKryNA4iu+4iu+KECogzqogzopQDuogzqogyBAQh3UQR3UHUBmZmZmZqYfQDMzMzMzsylAAAAAAADgJ0AAAAAAACAlQAAAAAAAQCNAmpmZmZlZKkCbmZmZmRkqQAAAAAAA4CNAZmZmZmbGJkAzMzMzM5MoQJqZmZmZ+ShAZmZmZmZmLkAAAAAAADAwQAAAAAAAcDFAAAAAAAAAKECZmZmZmRkhQM3MzMzMLCNAZmZmZmamJkDMzMzMzGwgQGZmZmZmJiJAZ2ZmZmbGIEAzMzMzM7MYQAAAAAAAABZAzczMzMzMG0A2MzMzM7MaQAAAAAAAQBlAAAAAAAAAHEAAAAAAAIARQM3MzMzMzBZAmpmZmZl5IkAAAAAAAEAlQDMzMzMz0yNAmpmZmZmZF0AAAAAAAIAbQDYzMzMzsxpAMjMzMzMzAEDNzMzMzMwGQDMzMzMzMxFAAQAAAACACUAzMzMzMzMAQDQzMzMzMwxAZ2ZmZmZm0r+amZmZmZnwP2dmZmZmZiBAMzMzMzMTK0AzMzMzMxMsQGZmZmZmZiBAmpmZmZmZGkDNzMzMzMwRQDEzMzMzM9e/AAAAAAAA4D8AAAAAAAAEwAAAAAAAgAPAmpmZmZmZCsCamZmZmZn4v5qZmZmZmfA/zczMzMzMDMBmZmZmZuYSwJqZmZmZGQTAMTMzMzMz779mZmZmZmbavzEzMzMzM8M/LjMzMzMzsz8AAAAAAADkP5qZmZmZmQFAzczMzMxMAsBmZmZmZmb3v5qZmZmZmQVANDMzMzMz07/NzMzMzMwBwDMzMzMzswHAMzMzMzMz1z8AAAAAAEARQGZmZmZmhiBAzczMzMzMEcAAAAAAAAD8v83MzMzMzBHAzczMzMzMEcCamZmZmZkcwM3MzMzMzBjAAAAAAAAA6L9nZmZmZuYCwGZmZmZmJhDAzczMzMxMDMDLzMzMzIwSwAAAAAAAgBTAmpmZmZlZHMBmZmZmZuYiwGZmZmZmpibAMzMzMzMTJsAAAAAAAIAhwJqZmZmZGRDAzczMzMzMC8BmZmZmZmYlwGZmZmZmRi7AmpmZmZl5LcCamZmZmXkswDMzMzMzUyLAMzMzMzOzJMABAAAAAIAqwGZmZmZmhibAAAAAAACAIcAAAAAAAIARwDMzMzMzsw/AZmZmZmbmDMDOzMzMzMwYwAAAAAAAwBrAZmZmZmamH8CamZmZmRklwGZmZmZmpiDAyszMzMzMFsBf8RVf8RX3Pw==\",\"dtype\":\"float64\",\"shape\":[365]}},\"selected\":{\"id\":\"17414\"},\"selection_policy\":{\"id\":\"17467\"}},\"id\":\"17413\",\"type\":\"ColumnDataSource\"},{\"attributes\":{},\"id\":\"14863\",\"type\":\"UnionRenderers\"},{\"attributes\":{},\"id\":\"15373\",\"type\":\"UnionRenderers\"},{\"attributes\":{\"line_alpha\":0.2,\"line_color\":\"green\",\"line_width\":2,\"x\":{\"field\":\"date\"},\"y\":{\"field\":\"value\"}},\"id\":\"15543\",\"type\":\"Line\"},{\"attributes\":{},\"id\":\"15973\",\"type\":\"LinearScale\"},{\"attributes\":{\"months\":[0,2,4,6,8,10]},\"id\":\"15317\",\"type\":\"MonthsTicker\"},{\"attributes\":{\"data_source\":{\"id\":\"17413\"},\"glyph\":{\"id\":\"17416\"},\"hover_glyph\":null,\"muted_glyph\":{\"id\":\"17418\"},\"nonselection_glyph\":{\"id\":\"17417\"},\"selection_glyph\":null,\"view\":{\"id\":\"17420\"}},\"id\":\"17419\",\"type\":\"GlyphRenderer\"},{\"attributes\":{\"source\":{\"id\":\"17413\"}},\"id\":\"17420\",\"type\":\"CDSView\"},{\"attributes\":{\"days\":[1,4,7,10,13,16,19,22,25,28]},\"id\":\"14608\",\"type\":\"DaysTicker\"},{\"attributes\":{},\"id\":\"16001\",\"type\":\"BasicTickFormatter\"},{\"attributes\":{},\"id\":\"16704\",\"type\":\"DatetimeTickFormatter\"},{\"attributes\":{\"days\":[1,15]},\"id\":\"14610\",\"type\":\"DaysTicker\"},{\"attributes\":{\"months\":[0,1,2,3,4,5,6,7,8,9,10,11]},\"id\":\"16727\",\"type\":\"MonthsTicker\"},{\"attributes\":{\"months\":[0,4,8]},\"id\":\"17435\",\"type\":\"MonthsTicker\"},{\"attributes\":{\"source\":{\"id\":\"16707\"}},\"id\":\"16714\",\"type\":\"CDSView\"},{\"attributes\":{\"months\":[0,2,4,6,8,10]},\"id\":\"16023\",\"type\":\"MonthsTicker\"},{\"attributes\":{\"fill_alpha\":{\"value\":0.2},\"fill_color\":{\"value\":\"#1f77b3\"},\"line_alpha\":{\"value\":0.2},\"line_color\":{\"value\":\"#1f77b3\"},\"size\":{\"units\":\"screen\",\"value\":5.477225575051661},\"x\":{\"field\":\"date\"},\"y\":{\"field\":\"value\"}},\"id\":\"17418\",\"type\":\"Scatter\"},{\"attributes\":{},\"id\":\"17490\",\"type\":\"UnionRenderers\"},{\"attributes\":{\"source\":{\"id\":\"14833\"}},\"id\":\"14840\",\"type\":\"CDSView\"},{\"attributes\":{\"mantissas\":[1,2,5],\"max_interval\":500.0,\"num_minor_ticks\":0},\"id\":\"16720\",\"type\":\"AdaptiveTicker\"},{\"attributes\":{\"line_alpha\":0.2,\"line_color\":\"green\",\"line_width\":2,\"x\":{\"field\":\"date\"},\"y\":{\"field\":\"value\"}},\"id\":\"16249\",\"type\":\"Line\"},{\"attributes\":{\"days\":[1,8,15,22]},\"id\":\"16725\",\"type\":\"DaysTicker\"},{\"attributes\":{\"data_source\":{\"id\":\"16244\"},\"glyph\":{\"id\":\"16247\"},\"hover_glyph\":null,\"muted_glyph\":{\"id\":\"16249\"},\"nonselection_glyph\":{\"id\":\"16248\"},\"selection_glyph\":null,\"view\":{\"id\":\"16251\"}},\"id\":\"16250\",\"type\":\"GlyphRenderer\"},{\"attributes\":{\"line_alpha\":0.1,\"line_color\":\"green\",\"line_width\":2,\"x\":{\"field\":\"date\"},\"y\":{\"field\":\"value\"}},\"id\":\"16248\",\"type\":\"Line\"},{\"attributes\":{\"label\":{\"value\":\"TMIN_Indiana\"},\"renderers\":[{\"id\":\"16713\"}]},\"id\":\"16734\",\"type\":\"LegendItem\"},{\"attributes\":{},\"id\":\"15568\",\"type\":\"UnionRenderers\"},{\"attributes\":{\"months\":[0,2,4,6,8,10]},\"id\":\"16728\",\"type\":\"MonthsTicker\"},{\"attributes\":{},\"id\":\"16056\",\"type\":\"UnionRenderers\"},{\"attributes\":{\"base\":60,\"mantissas\":[1,2,5,10,15,20,30],\"max_interval\":1800000.0,\"min_interval\":1000.0,\"num_minor_ticks\":0},\"id\":\"16721\",\"type\":\"AdaptiveTicker\"},{\"attributes\":{},\"id\":\"15293\",\"type\":\"DatetimeTickFormatter\"},{\"attributes\":{\"click_policy\":\"mute\",\"items\":[{\"id\":\"17440\"},{\"id\":\"17469\"},{\"id\":\"17654\"},{\"id\":\"17687\"}],\"location\":[0,0]},\"id\":\"17439\",\"type\":\"Legend\"},{\"attributes\":{\"base\":60,\"mantissas\":[1,2,5,10,15,20,30],\"max_interval\":1800000.0,\"min_interval\":1000.0,\"num_minor_ticks\":0},\"id\":\"17427\",\"type\":\"AdaptiveTicker\"},{\"attributes\":{\"fill_color\":{\"value\":\"#ff7e0e\"},\"line_color\":{\"value\":\"#ff7e0e\"},\"size\":{\"units\":\"screen\",\"value\":5.477225575051661},\"x\":{\"field\":\"date\"},\"y\":{\"field\":\"value\"}},\"id\":\"17444\",\"type\":\"Scatter\"},{\"attributes\":{\"base\":24,\"mantissas\":[1,2,4,6,8,12],\"max_interval\":43200000.0,\"min_interval\":3600000.0,\"num_minor_ticks\":0},\"id\":\"15311\",\"type\":\"AdaptiveTicker\"},{\"attributes\":{\"label\":{\"value\":\"TMIN_Ohio\"},\"renderers\":[{\"id\":\"17419\"}]},\"id\":\"17440\",\"type\":\"LegendItem\"},{\"attributes\":{},\"id\":\"17656\",\"type\":\"Selection\"},{\"attributes\":{\"base\":24,\"mantissas\":[1,2,4,6,8,12],\"max_interval\":43200000.0,\"min_interval\":3600000.0,\"num_minor_ticks\":0},\"id\":\"16722\",\"type\":\"AdaptiveTicker\"},{\"attributes\":{\"line_color\":\"green\",\"line_width\":2,\"x\":{\"field\":\"date\"},\"y\":{\"field\":\"value\"}},\"id\":\"17658\",\"type\":\"Line\"},{\"attributes\":{\"axis\":{\"id\":\"15275\"},\"dimension\":1,\"grid_line_color\":null,\"ticker\":null},\"id\":\"15278\",\"type\":\"Grid\"},{\"attributes\":{\"fill_alpha\":{\"value\":0.2},\"fill_color\":{\"value\":\"#ff7e0e\"},\"line_alpha\":{\"value\":0.2},\"line_color\":{\"value\":\"#ff7e0e\"},\"size\":{\"units\":\"screen\",\"value\":5.477225575051661},\"x\":{\"field\":\"date\"},\"y\":{\"field\":\"value\"}},\"id\":\"14624\",\"type\":\"Scatter\"},{\"attributes\":{\"base\":24,\"mantissas\":[1,2,4,6,8,12],\"max_interval\":43200000.0,\"min_interval\":3600000.0,\"num_minor_ticks\":0},\"id\":\"17428\",\"type\":\"AdaptiveTicker\"},{\"attributes\":{\"data\":{\"Variable\":[\"TMAX_Indiana\",\"TMAX_Indiana\",\"TMAX_Indiana\",\"TMAX_Indiana\",\"TMAX_Indiana\",\"TMAX_Indiana\",\"TMAX_Indiana\",\"TMAX_Indiana\",\"TMAX_Indiana\",\"TMAX_Indiana\",\"TMAX_Indiana\",\"TMAX_Indiana\",\"TMAX_Indiana\",\"TMAX_Indiana\",\"TMAX_Indiana\",\"TMAX_Indiana\",\"TMAX_Indiana\",\"TMAX_Indiana\",\"TMAX_Indiana\",\"TMAX_Indiana\",\"TMAX_Indiana\",\"TMAX_Indiana\",\"TMAX_Indiana\",\"TMAX_Indiana\",\"TMAX_Indiana\",\"TMAX_Indiana\",\"TMAX_Indiana\",\"TMAX_Indiana\",\"TMAX_Indiana\",\"TMAX_Indiana\",\"TMAX_Indiana\",\"TMAX_Indiana\",\"TMAX_Indiana\",\"TMAX_Indiana\",\"TMAX_Indiana\",\"TMAX_Indiana\",\"TMAX_Indiana\",\"TMAX_Indiana\",\"TMAX_Indiana\",\"TMAX_Indiana\",\"TMAX_Indiana\",\"TMAX_Indiana\",\"TMAX_Indiana\",\"TMAX_Indiana\",\"TMAX_Indiana\",\"TMAX_Indiana\",\"TMAX_Indiana\",\"TMAX_Indiana\",\"TMAX_Indiana\",\"TMAX_Indiana\",\"TMAX_Indiana\",\"TMAX_Indiana\",\"TMAX_Indiana\",\"TMAX_Indiana\",\"TMAX_Indiana\",\"TMAX_Indiana\",\"TMAX_Indiana\",\"TMAX_Indiana\",\"TMAX_Indiana\",\"TMAX_Indiana\",\"TMAX_Indiana\",\"TMAX_Indiana\",\"TMAX_Indiana\",\"TMAX_Indiana\",\"TMAX_Indiana\",\"TMAX_Indiana\",\"TMAX_Indiana\",\"TMAX_Indiana\",\"TMAX_Indiana\",\"TMAX_Indiana\",\"TMAX_Indiana\",\"TMAX_Indiana\",\"TMAX_Indiana\",\"TMAX_Indiana\",\"TMAX_Indiana\",\"TMAX_Indiana\",\"TMAX_Indiana\",\"TMAX_Indiana\",\"TMAX_Indiana\",\"TMAX_Indiana\",\"TMAX_Indiana\",\"TMAX_Indiana\",\"TMAX_Indiana\",\"TMAX_Indiana\",\"TMAX_Indiana\",\"TMAX_Indiana\",\"TMAX_Indiana\",\"TMAX_Indiana\",\"TMAX_Indiana\",\"TMAX_Indiana\",\"TMAX_Indiana\",\"TMAX_Indiana\",\"TMAX_Indiana\",\"TMAX_Indiana\",\"TMAX_Indiana\",\"TMAX_Indiana\",\"TMAX_Indiana\",\"TMAX_Indiana\",\"TMAX_Indiana\",\"TMAX_Indiana\",\"TMAX_Indiana\",\"TMAX_Indiana\",\"TMAX_Indiana\",\"TMAX_Indiana\",\"TMAX_Indiana\",\"TMAX_Indiana\",\"TMAX_Indiana\",\"TMAX_Indiana\",\"TMAX_Indiana\",\"TMAX_Indiana\",\"TMAX_Indiana\",\"TMAX_Indiana\",\"TMAX_Indiana\",\"TMAX_Indiana\",\"TMAX_Indiana\",\"TMAX_Indiana\",\"TMAX_Indiana\",\"TMAX_Indiana\",\"TMAX_Indiana\",\"TMAX_Indiana\",\"TMAX_Indiana\",\"TMAX_Indiana\",\"TMAX_Indiana\",\"TMAX_Indiana\",\"TMAX_Indiana\",\"TMAX_Indiana\",\"TMAX_Indiana\",\"TMAX_Indiana\",\"TMAX_Indiana\",\"TMAX_Indiana\",\"TMAX_Indiana\",\"TMAX_Indiana\",\"TMAX_Indiana\",\"TMAX_Indiana\",\"TMAX_Indiana\",\"TMAX_Indiana\",\"TMAX_Indiana\",\"TMAX_Indiana\",\"TMAX_Indiana\",\"TMAX_Indiana\",\"TMAX_Indiana\",\"TMAX_Indiana\",\"TMAX_Indiana\",\"TMAX_Indiana\",\"TMAX_Indiana\",\"TMAX_Indiana\",\"TMAX_Indiana\",\"TMAX_Indiana\",\"TMAX_Indiana\",\"TMAX_Indiana\",\"TMAX_Indiana\",\"TMAX_Indiana\",\"TMAX_Indiana\",\"TMAX_Indiana\",\"TMAX_Indiana\",\"TMAX_Indiana\",\"TMAX_Indiana\",\"TMAX_Indiana\",\"TMAX_Indiana\",\"TMAX_Indiana\",\"TMAX_Indiana\",\"TMAX_Indiana\",\"TMAX_Indiana\",\"TMAX_Indiana\",\"TMAX_Indiana\",\"TMAX_Indiana\",\"TMAX_Indiana\",\"TMAX_Indiana\",\"TMAX_Indiana\",\"TMAX_Indiana\",\"TMAX_Indiana\",\"TMAX_Indiana\",\"TMAX_Indiana\",\"TMAX_Indiana\",\"TMAX_Indiana\",\"TMAX_Indiana\",\"TMAX_Indiana\",\"TMAX_Indiana\",\"TMAX_Indiana\",\"TMAX_Indiana\",\"TMAX_Indiana\",\"TMAX_Indiana\",\"TMAX_Indiana\",\"TMAX_Indiana\",\"TMAX_Indiana\",\"TMAX_Indiana\",\"TMAX_Indiana\",\"TMAX_Indiana\",\"TMAX_Indiana\",\"TMAX_Indiana\",\"TMAX_Indiana\",\"TMAX_Indiana\",\"TMAX_Indiana\",\"TMAX_Indiana\",\"TMAX_Indiana\",\"TMAX_Indiana\",\"TMAX_Indiana\",\"TMAX_Indiana\",\"TMAX_Indiana\",\"TMAX_Indiana\",\"TMAX_Indiana\",\"TMAX_Indiana\",\"TMAX_Indiana\",\"TMAX_Indiana\",\"TMAX_Indiana\",\"TMAX_Indiana\",\"TMAX_Indiana\",\"TMAX_Indiana\",\"TMAX_Indiana\",\"TMAX_Indiana\",\"TMAX_Indiana\",\"TMAX_Indiana\",\"TMAX_Indiana\",\"TMAX_Indiana\",\"TMAX_Indiana\",\"TMAX_Indiana\",\"TMAX_Indiana\",\"TMAX_Indiana\",\"TMAX_Indiana\",\"TMAX_Indiana\",\"TMAX_Indiana\",\"TMAX_Indiana\",\"TMAX_Indiana\",\"TMAX_Indiana\",\"TMAX_Indiana\",\"TMAX_Indiana\",\"TMAX_Indiana\",\"TMAX_Indiana\",\"TMAX_Indiana\",\"TMAX_Indiana\",\"TMAX_Indiana\",\"TMAX_Indiana\",\"TMAX_Indiana\",\"TMAX_Indiana\",\"TMAX_Indiana\",\"TMAX_Indiana\",\"TMAX_Indiana\",\"TMAX_Indiana\",\"TMAX_Indiana\",\"TMAX_Indiana\",\"TMAX_Indiana\",\"TMAX_Indiana\",\"TMAX_Indiana\",\"TMAX_Indiana\",\"TMAX_Indiana\",\"TMAX_Indiana\",\"TMAX_Indiana\",\"TMAX_Indiana\",\"TMAX_Indiana\",\"TMAX_Indiana\",\"TMAX_Indiana\",\"TMAX_Indiana\",\"TMAX_Indiana\",\"TMAX_Indiana\",\"TMAX_Indiana\",\"TMAX_Indiana\",\"TMAX_Indiana\",\"TMAX_Indiana\",\"TMAX_Indiana\",\"TMAX_Indiana\",\"TMAX_Indiana\",\"TMAX_Indiana\",\"TMAX_Indiana\",\"TMAX_Indiana\",\"TMAX_Indiana\",\"TMAX_Indiana\",\"TMAX_Indiana\",\"TMAX_Indiana\",\"TMAX_Indiana\",\"TMAX_Indiana\",\"TMAX_Indiana\",\"TMAX_Indiana\",\"TMAX_Indiana\",\"TMAX_Indiana\",\"TMAX_Indiana\",\"TMAX_Indiana\",\"TMAX_Indiana\",\"TMAX_Indiana\",\"TMAX_Indiana\",\"TMAX_Indiana\",\"TMAX_Indiana\",\"TMAX_Indiana\",\"TMAX_Indiana\",\"TMAX_Indiana\",\"TMAX_Indiana\",\"TMAX_Indiana\",\"TMAX_Indiana\",\"TMAX_Indiana\",\"TMAX_Indiana\",\"TMAX_Indiana\",\"TMAX_Indiana\",\"TMAX_Indiana\",\"TMAX_Indiana\",\"TMAX_Indiana\",\"TMAX_Indiana\",\"TMAX_Indiana\",\"TMAX_Indiana\",\"TMAX_Indiana\",\"TMAX_Indiana\",\"TMAX_Indiana\",\"TMAX_Indiana\",\"TMAX_Indiana\",\"TMAX_Indiana\",\"TMAX_Indiana\",\"TMAX_Indiana\",\"TMAX_Indiana\",\"TMAX_Indiana\",\"TMAX_Indiana\",\"TMAX_Indiana\",\"TMAX_Indiana\",\"TMAX_Indiana\",\"TMAX_Indiana\",\"TMAX_Indiana\",\"TMAX_Indiana\",\"TMAX_Indiana\",\"TMAX_Indiana\",\"TMAX_Indiana\",\"TMAX_Indiana\",\"TMAX_Indiana\",\"TMAX_Indiana\",\"TMAX_Indiana\",\"TMAX_Indiana\",\"TMAX_Indiana\",\"TMAX_Indiana\",\"TMAX_Indiana\",\"TMAX_Indiana\",\"TMAX_Indiana\",\"TMAX_Indiana\",\"TMAX_Indiana\",\"TMAX_Indiana\",\"TMAX_Indiana\",\"TMAX_Indiana\",\"TMAX_Indiana\",\"TMAX_Indiana\",\"TMAX_Indiana\",\"TMAX_Indiana\",\"TMAX_Indiana\",\"TMAX_Indiana\",\"TMAX_Indiana\",\"TMAX_Indiana\",\"TMAX_Indiana\",\"TMAX_Indiana\",\"TMAX_Indiana\",\"TMAX_Indiana\",\"TMAX_Indiana\",\"TMAX_Indiana\",\"TMAX_Indiana\",\"TMAX_Indiana\",\"TMAX_Indiana\",\"TMAX_Indiana\",\"TMAX_Indiana\",\"TMAX_Indiana\",\"TMAX_Indiana\",\"TMAX_Indiana\",\"TMAX_Indiana\",\"TMAX_Indiana\",\"TMAX_Indiana\",\"TMAX_Indiana\",\"TMAX_Indiana\",\"TMAX_Indiana\",\"TMAX_Indiana\",\"TMAX_Indiana\",\"TMAX_Indiana\",\"TMAX_Indiana\",\"TMAX_Indiana\"],\"date\":{\"__ndarray__\":\"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\",\"dtype\":\"float64\",\"shape\":[365]},\"value\":{\"__ndarray__\":\"AAAAAAAA5L8yMzMzMzMbwJqZmZmZGR3AzczMzMxMGcCamZmZmRkawJqZmZmZ2RTAzczMzMzME8BmZmZmZqYTwDMzMzMzcxbAZ2ZmZmZmF8BmZmZmZiYTwM7MzMzMzAjAAAAAAAAAyL8zMzMzM7MPQGhmZmZmJhhAAAAAAADAEUDNzMzMzMwMQGZmZmZm5gJAzczMzMzM8D8zMzMzMzMAQAAAAAAAAPo/ZmZmZmZmB0DNzMzMzEwXQDMzMzMzkyNAMzMzMzMzIUAnMzMzMzOzP5qZmZmZmQnANDMzMzMz9L82MzMzMzMbwMrMzMzMzBjAZWZmZmbmB8DQzMzMzMzMP83MzMzMTAFAmpmZmZmZ+j/4iq/4iq/YPzQzMzMzM/Y/AAAAAAAA5r8zMzMzM7MGwM3MzMzMTAjAZmZmZmbmAsCamZmZmZkBwDMzMzMzM/+/MTMzMzMz9b/NzMzMzMz5vzEzMzMzM/a/zczMzMzM8r8zMzMzMzMGwAAAAAAAAPS/zczMzMzM8D8zMzMzMzMGQMvMzMzMzBRA1EEd1EEdGECamZmZmdkXQAAAAAAAAARANTMzMzMz2z+amZmZmZn6vzMzMzMzM7M/zczMzMzM7j/NzMzMzMz8PzMzMzMzMwxAzczMzMxMDUBmZmZmZuYIQDMzMzMzsxNAZ2ZmZmYmGkAAAAAAACAgQJqZmZmZGSVAmpmZmZkZKUABAAAAACAvQGZmZmZm1jFAAAAAAAAwM0DUQR3UQR0wQJqZmZmZ+ShAmJmZmZnZHkA2MzMzM7MaQJqZmZmZOSVAMzMzMzOzL0CamZmZmUkxQGZmZmZmljJAAAAAAACgMUCamZmZmVksQJqZmZmZ2SdAAAAAAAAgJEAAAAAAAEAvQGZmZmZmBixAAAAAAADAJkA0MzMzMxMhQDMzMzMzkylAMzMzMzPzJUBKkiRJkiQrQEId1EEd1DNANjMzMzPzN0AsvuIrvmI7QJqZmZmZGThAZmZmZmZmNUBmZmZmZrY4QAEAAAAAgDtAzszMzMw8OkDNzMzMzCwzQM3MzMzMrCpApE/6pE96MEC1YAu2YIs2QGZmZmZmZjZAvhZswRZsNkBmZmZmZmY4QGZmZmZmZjtAeHd3d3d3OkBERERERMQyQFL6pE/6pC1AzczMzMxMMEBgC7ZgCzYyQOmTPumTPjRA393d3d3dNUDt7u7u7u40QEmf9EmfdDNAZmZmZmZmMkDCFmzBFmwwQEVERERERC5AAAAAAAAAL0AAAAAAAAA0QFZVVVVVVThAUvqkT/okOEDjOI7jOA42QDmO4ziOYzdAERERERGROEDrkz7pkz46QOuTPumTPjlA2YIt2IKtOECe9Emf9Ek1QNeCLdiCLStAAAAAAABALkAcx3Ecx/EzQKRP+qRP+jRAZmZmZmZmNkDrkz7pk745QOmTPumTPjVA2YIt2IKtM0BtwRZswRYxQJqZmZmZmS5Ax3Ecx3EcMEAs2IIt2AI0QHQcx3EcRzZAgy3Ygi1YN0CIiIiIiIg7QDmO4ziO4z1ACLZgC7bgPUDrkz7pkz4+QOuTPumTvj5AV7AFW7AFPkAAAAAAAIA9QM3MzMzMzD5A+aRP+qRPPkAYbMEWbME8QGZmZmZmZjxAOY7jOI5jPEDokz7pk748QCEiIiIioj1AmpmZmZkZO0AhIiIiIiI4QERERERERDhANjMzMzMzOUCIiIiIiAg8QCQiIiIioj1A7u7u7u5uP0D4SZ/0SZ8+QC7Ygi3YAj1Ax3Ecx3EcPkB70id90qc8QGYLtmALNjxA65M+6ZM+PkC+FmzBFmw/QMdxHMdxnD5A1YIt2IKtPkDkOI7jOI49QMdxHMdxHD9AxBZswRZsPkAzMzMzMzM8QBhswRZswT5AzczMzMwMQEB70id90qc+QDmO4ziOYztAu7u7u7s7OkBS+qRP+qQ4QAi2YAu24DlAVFVVVVXVPEC7u7u7u7s/QD/pkz7pE0BA3d3d3d1dQEAMtmALtqBAQAAAAAAA6EBAd3d3d3f3PkAhIiIiIqI9QMQWbMEW7D1AERERERERPkAs2IIt2II9QO7u7u7ubj1ANTMzMzMzQEDCFmzBFixAQMdxHMdxnD9Ax3Ecx3EcP0CamZmZmWk+QAAAAAAAAD5AISIiIiKiPUDokz7pkz4/QFD6pE/6JEBAHMdxHMfxQEBERERERARAQCd90id9Uj1ARUREREREPUDokz7pkz4/QK4FW7AF2z5AmpmZmZnpO0CUPumTPuk6QM3MzMzM3DpALtiCLdiCPUCxBVuwBds/QC3Ygi3YQkBA5DiO4zgOQEBswRZswZY9QF6wBVuwhTxALtiCLdiCPUBvHMdxHMc/QImIiIiIyEBAJ33SJ33SQEBERERERERAQLAFW7AFW0BAzMzMzMyMQEB4d3d3d/c/QOQ4juM4jj9AUvqkT/okPUARERERERE9QO7u7u7u7j1AsAVbsAXbP0BS+qRP+qQ/QE+f9Emf9DtA+qRP+qRPPUAjIiIiIqI7QJQ+6ZM+aTtApk/6pE/6OkB0HMdxHMc5QEHpkz7pEz1A393d3d3dP0D8pE/6pI9AQN3d3d3dHUBAsgVbsAUbQEDNzMzMzEw/QDmO4ziOYzxABluwBVswOEBERERERMQ2QKmqqqqqKjtAFWzBFmxBPkBS+qRP+iQ9QJ/0SZ/0yThAZmZmZmZmN0DZgi3Ygq04QBEREREREThAm5mZmZnpO0A2MzMzM7M9QBIRERERkTxANjMzMzOzPEDNzMzMzEw6QO7u7u7u7jlAKX3SJ31SPEBhC7ZgC7Y7QLAFW7AFWz5AzszMzMxMP0D5pE/6pM89QKRP+qRPOkBAvhZswRbsOkDHcRzHcRw1QLy7u7u7OzRAdBzHcRzHMkB0HMdxHMc1QOQ4juM4DjlAfdInfdInOEDv7u7u7u4zQN/d3d3d3S1A9Emf9EmfLECwBVuwBdswQCl90id9UjRA7u7u7u7uN0BlZmZmZuY4QIMt2IIt2DtAZmZmZma2PUD4SZ/0SR8+QDmO4ziOYzxA2YIt2IItOUCDLdiCLdg2QAZbsAVbsDJAZQu2YAu2MkDCFmzBFmw1QKqqqqqqqjVAZmZmZmbmMUCe9Emf9MkxQFywBVuwBTNAkz7pkz5pMEDrkz7pk74zQGZmZmZm5jVAAAAAAAAAN0CiT/qkT3o2QDmO4ziOYzZA+6RP+qTPM0Drkz7pkz4mQJ/0SZ/0SStAxnEcx3EcMEDXgi3Ygi0oQCl90id90idAHMdxHMdxJ0Dv7u7u7u4pQK8FW7AFWyRA7e7u7u7uHECg9Emf9EkiQLy7u7u7OzBA9Emf9EkfNUDSJ33SJ301QMIWbMEWbDVAXrAFW7CFNkDTJ33SJ/00QHIcx3EcxzBAjOM4juM4JUAREREREREiQNiCLdiCLSFAlT7pkz7pI0DYgi3Ygi0gQDUzMzMzMx9Am5mZmZmZJkBB6ZM+6RMyQC3Ygi3YAjNApE/6pE/6FEDSJ33SJ30lQM3MzMzMzCFA6ZM+6ZM+CUAs2IIt2IIRQLZgC7ZgCyJAMzMzMzMzKUBmZmZmZmYgQOuTPumTPuk/3t3d3d3d9T/pkz7pkz7pPyIiIiIiIuK/vLu7u7u7A8CJiIiIiIgMwMdxHMdxHAfAjOM4juM4AsDNzMzMzMwEQB7HcRzHcRhAGGzBFmzBFEA86ZM+6ZMGwHMcx3EcxxfAkOM4juM4FsAzMzMzMzMPwNeCLdiCLQzAAQAAAAAADMDySZ/0SZ8EwO7u7u7u7va/HmzBFmzBpr+8u7u7u7vbPw0REREREbE/lD7pkz7p4z9csAVbsAXbv8vMzMzMzPy/J33SJ33SA8DMzMzMzMz0v/RJn/RJn/Q/OY7jOI7jGECamZmZmZkmQA==\",\"dtype\":\"float64\",\"shape\":[365]}},\"selected\":{\"id\":\"16736\"},\"selection_policy\":{\"id\":\"16784\"}},\"id\":\"16735\",\"type\":\"ColumnDataSource\"},{\"attributes\":{\"months\":[0,4,8]},\"id\":\"16729\",\"type\":\"MonthsTicker\"},{\"attributes\":{\"align\":null,\"below\":[{\"id\":\"15271\"}],\"center\":[{\"id\":\"15274\"},{\"id\":\"15278\"}],\"left\":[{\"id\":\"15275\"}],\"margin\":null,\"min_border_bottom\":10,\"min_border_left\":10,\"min_border_right\":10,\"min_border_top\":10,\"plot_height\":300,\"plot_width\":500,\"renderers\":[{\"id\":\"15302\"},{\"id\":\"15330\"},{\"id\":\"15513\"},{\"id\":\"15544\"}],\"right\":[{\"id\":\"15322\"}],\"sizing_mode\":\"fixed\",\"title\":{\"id\":\"15263\"},\"toolbar\":{\"id\":\"15285\"},\"x_range\":{\"id\":\"14551\"},\"x_scale\":{\"id\":\"15267\"},\"y_range\":{\"id\":\"14552\"},\"y_scale\":{\"id\":\"15269\"}},\"id\":\"15262\",\"subtype\":\"Figure\",\"type\":\"Plot\"},{\"attributes\":{\"days\":[1,2,3,4,5,6,7,8,9,10,11,12,13,14,15,16,17,18,19,20,21,22,23,24,25,26,27,28,29,30,31]},\"id\":\"14607\",\"type\":\"DaysTicker\"},{\"attributes\":{\"label\":{\"value\":\"max_cold\"},\"renderers\":[{\"id\":\"14839\"}]},\"id\":\"14865\",\"type\":\"LegendItem\"},{\"attributes\":{},\"id\":\"16708\",\"type\":\"Selection\"},{\"attributes\":{\"data\":{\"Variable\":[\"max_cold\",\"max_cold\",\"max_cold\",\"max_cold\",\"max_cold\",\"max_cold\",\"max_cold\",\"max_cold\",\"max_cold\",\"max_cold\",\"max_cold\",\"max_cold\",\"max_cold\",\"max_cold\",\"max_cold\",\"max_cold\",\"max_cold\",\"max_cold\",\"max_cold\",\"max_cold\",\"max_cold\",\"max_cold\",\"max_cold\",\"max_cold\",\"max_cold\",\"max_cold\",\"max_cold\",\"max_cold\",\"max_cold\",\"max_cold\",\"max_cold\",\"max_cold\",\"max_cold\",\"max_cold\",\"max_cold\",\"max_cold\",\"max_cold\",\"max_cold\",\"max_cold\",\"max_cold\",\"max_cold\",\"max_cold\",\"max_cold\",\"max_cold\",\"max_cold\",\"max_cold\",\"max_cold\",\"max_cold\",\"max_cold\",\"max_cold\",\"max_cold\",\"max_cold\",\"max_cold\",\"max_cold\",\"max_cold\",\"max_cold\",\"max_cold\",\"max_cold\",\"max_cold\",\"max_cold\",\"max_cold\",\"max_cold\",\"max_cold\",\"max_cold\",\"max_cold\",\"max_cold\",\"max_cold\",\"max_cold\",\"max_cold\",\"max_cold\",\"max_cold\",\"max_cold\",\"max_cold\",\"max_cold\",\"max_cold\",\"max_cold\",\"max_cold\",\"max_cold\",\"max_cold\",\"max_cold\",\"max_cold\",\"max_cold\",\"max_cold\",\"max_cold\",\"max_cold\",\"max_cold\",\"max_cold\",\"max_cold\",\"max_cold\",\"max_cold\",\"max_cold\",\"max_cold\",\"max_cold\",\"max_cold\",\"max_cold\",\"max_cold\",\"max_cold\",\"max_cold\",\"max_cold\",\"max_cold\",\"max_cold\",\"max_cold\",\"max_cold\",\"max_cold\",\"max_cold\",\"max_cold\",\"max_cold\",\"max_cold\",\"max_cold\",\"max_cold\",\"max_cold\",\"max_cold\",\"max_cold\",\"max_cold\",\"max_cold\",\"max_cold\",\"max_cold\",\"max_cold\",\"max_cold\",\"max_cold\",\"max_cold\",\"max_cold\",\"max_cold\",\"max_cold\",\"max_cold\",\"max_cold\",\"max_cold\",\"max_cold\",\"max_cold\",\"max_cold\",\"max_cold\",\"max_cold\",\"max_cold\",\"max_cold\",\"max_cold\",\"max_cold\",\"max_cold\",\"max_cold\",\"max_cold\",\"max_cold\",\"max_cold\",\"max_cold\",\"max_cold\",\"max_cold\",\"max_cold\",\"max_cold\",\"max_cold\",\"max_cold\",\"max_cold\",\"max_cold\",\"max_cold\",\"max_cold\",\"max_cold\",\"max_cold\",\"max_cold\",\"max_cold\",\"max_cold\",\"max_cold\",\"max_cold\",\"max_cold\",\"max_cold\",\"max_cold\",\"max_cold\",\"max_cold\",\"max_cold\",\"max_cold\",\"max_cold\",\"max_cold\",\"max_cold\",\"max_cold\",\"max_cold\",\"max_cold\",\"max_cold\",\"max_cold\",\"max_cold\",\"max_cold\",\"max_cold\",\"max_cold\",\"max_cold\",\"max_cold\",\"max_cold\",\"max_cold\",\"max_cold\",\"max_cold\",\"max_cold\",\"max_cold\",\"max_cold\",\"max_cold\",\"max_cold\",\"max_cold\",\"max_cold\",\"max_cold\",\"max_cold\",\"max_cold\",\"max_cold\",\"max_cold\",\"max_cold\",\"max_cold\",\"max_cold\",\"max_cold\",\"max_cold\",\"max_cold\",\"max_cold\",\"max_cold\",\"max_cold\",\"max_cold\",\"max_cold\",\"max_cold\",\"max_cold\",\"max_cold\",\"max_cold\",\"max_cold\",\"max_cold\",\"max_cold\",\"max_cold\",\"max_cold\",\"max_cold\",\"max_cold\",\"max_cold\",\"max_cold\",\"max_cold\",\"max_cold\",\"max_cold\",\"max_cold\",\"max_cold\",\"max_cold\",\"max_cold\",\"max_cold\",\"max_cold\",\"max_cold\",\"max_cold\",\"max_cold\",\"max_cold\",\"max_cold\",\"max_cold\",\"max_cold\",\"max_cold\",\"max_cold\",\"max_cold\",\"max_cold\",\"max_cold\",\"max_cold\",\"max_cold\",\"max_cold\",\"max_cold\",\"max_cold\",\"max_cold\",\"max_cold\",\"max_cold\",\"max_cold\",\"max_cold\",\"max_cold\",\"max_cold\",\"max_cold\",\"max_cold\",\"max_cold\",\"max_cold\",\"max_cold\",\"max_cold\",\"max_cold\",\"max_cold\",\"max_cold\",\"max_cold\",\"max_cold\",\"max_cold\",\"max_cold\",\"max_cold\",\"max_cold\",\"max_cold\",\"max_cold\",\"max_cold\",\"max_cold\",\"max_cold\",\"max_cold\",\"max_cold\",\"max_cold\",\"max_cold\",\"max_cold\",\"max_cold\",\"max_cold\",\"max_cold\",\"max_cold\",\"max_cold\",\"max_cold\",\"max_cold\",\"max_cold\",\"max_cold\",\"max_cold\",\"max_cold\",\"max_cold\",\"max_cold\",\"max_cold\",\"max_cold\",\"max_cold\",\"max_cold\",\"max_cold\",\"max_cold\",\"max_cold\",\"max_cold\",\"max_cold\",\"max_cold\",\"max_cold\",\"max_cold\",\"max_cold\",\"max_cold\",\"max_cold\",\"max_cold\",\"max_cold\",\"max_cold\",\"max_cold\",\"max_cold\",\"max_cold\",\"max_cold\",\"max_cold\",\"max_cold\",\"max_cold\",\"max_cold\",\"max_cold\",\"max_cold\",\"max_cold\",\"max_cold\",\"max_cold\",\"max_cold\",\"max_cold\",\"max_cold\",\"max_cold\",\"max_cold\",\"max_cold\",\"max_cold\",\"max_cold\",\"max_cold\",\"max_cold\",\"max_cold\",\"max_cold\",\"max_cold\",\"max_cold\",\"max_cold\",\"max_cold\",\"max_cold\",\"max_cold\",\"max_cold\",\"max_cold\",\"max_cold\",\"max_cold\",\"max_cold\",\"max_cold\",\"max_cold\",\"max_cold\",\"max_cold\",\"max_cold\",\"max_cold\",\"max_cold\",\"max_cold\",\"max_cold\",\"max_cold\",\"max_cold\",\"max_cold\",\"max_cold\",\"max_cold\",\"max_cold\",\"max_cold\",\"max_cold\",\"max_cold\",\"max_cold\",\"max_cold\"],\"date\":{\"__ndarray__\":\"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\",\"dtype\":\"float64\",\"shape\":[365]},\"value\":[0,0,0,0,0,0,0,0,0,0,0,0,0,0,0,0,0,0,0,0,0,0,0,0,0,0,0,0,0,0,0,0,0,0,0,0,0,0,0,0,0,0,0,0,0,0,0,0,0,0,0,0,0,0,0,0,0,0,0,0,0,0,0,0,0,0,0,0,0,0,0,0,0,0,0,0,0,0,0,0,0,0,0,0,0,0,0,0,0,0,0,0,0,0,0,0,0,0,0,0,0,0,0,0,0,0,0,0,0,0,0,0,0,0,0,0,0,0,0,0,0,0,0,0,0,0,0,0,0,0,0,0,0,0,0,0,0,0,0,0,0,0,0,0,0,0,0,0,0,0,0,0,0,0,0,0,0,0,0,0,0,0,0,0,0,0,0,0,0,0,0,0,0,0,0,0,0,0,0,0,0,0,0,0,0,0,0,0,0,0,0,0,0,0,0,0,0,0,0,0,0,0,0,0,0,0,0,0,0,0,0,0,0,0,0,0,0,0,0,0,0,0,0,0,0,0,0,0,0,0,0,0,0,0,0,0,0,0,0,0,0,0,0,0,0,0,0,0,0,0,0,0,0,0,0,0,0,0,0,0,0,0,0,0,0,0,0,0,0,0,0,0,0,0,0,0,0,0,0,0,0,0,0,0,0,0,0,0,0,0,0,0,0,0,0,0,0,0,0,0,0,0,0,0,0,0,0,0,0,0,0,0,0,0,0,0,0,0,0,0,0,0,0,0,0,0,0,0,0,0,0,0,0,0,0,0,0,0,0,0,0,0,0,0,0,0,0,0,0,0,0,0,0,0,0,0,0,0,0,0,0,0,0,0,0]},\"selected\":{\"id\":\"16245\"},\"selection_policy\":{\"id\":\"16301\"}},\"id\":\"16244\",\"type\":\"ColumnDataSource\"},{\"attributes\":{\"months\":[0,1,2,3,4,5,6,7,8,9,10,11]},\"id\":\"14611\",\"type\":\"MonthsTicker\"},{\"attributes\":{\"click_policy\":\"mute\",\"items\":[{\"id\":\"16734\"},{\"id\":\"16763\"},{\"id\":\"16948\"},{\"id\":\"16981\"}],\"location\":[0,0]},\"id\":\"16733\",\"type\":\"Legend\"},{\"attributes\":{\"base\":60,\"mantissas\":[1,2,5,10,15,20,30],\"max_interval\":1800000.0,\"min_interval\":1000.0,\"num_minor_ticks\":0},\"id\":\"15310\",\"type\":\"AdaptiveTicker\"},{\"attributes\":{\"align\":null,\"below\":[{\"id\":\"17388\"}],\"center\":[{\"id\":\"17391\"},{\"id\":\"17395\"}],\"left\":[{\"id\":\"17392\"}],\"margin\":null,\"min_border_bottom\":10,\"min_border_left\":10,\"min_border_right\":10,\"min_border_top\":10,\"plot_height\":300,\"plot_width\":500,\"renderers\":[{\"id\":\"17419\"},{\"id\":\"17447\"},{\"id\":\"17630\"},{\"id\":\"17661\"}],\"right\":[{\"id\":\"17439\"}],\"sizing_mode\":\"fixed\",\"title\":{\"id\":\"17380\"},\"toolbar\":{\"id\":\"17402\"},\"x_range\":{\"id\":\"14551\"},\"x_scale\":{\"id\":\"17384\"},\"y_range\":{\"id\":\"14552\"},\"y_scale\":{\"id\":\"17386\"}},\"id\":\"17379\",\"subtype\":\"Figure\",\"type\":\"Plot\"},{\"attributes\":{},\"id\":\"17414\",\"type\":\"Selection\"},{\"attributes\":{\"label\":{\"value\":\"TMAX_Ohio\"},\"renderers\":[{\"id\":\"17447\"}]},\"id\":\"17469\",\"type\":\"LegendItem\"},{\"attributes\":{\"data_source\":{\"id\":\"17441\"},\"glyph\":{\"id\":\"17444\"},\"hover_glyph\":null,\"muted_glyph\":{\"id\":\"17446\"},\"nonselection_glyph\":{\"id\":\"17445\"},\"selection_glyph\":null,\"view\":{\"id\":\"17448\"}},\"id\":\"17447\",\"type\":\"GlyphRenderer\"},{\"attributes\":{\"line_alpha\":0.1,\"line_color\":\"green\",\"line_width\":2,\"x\":{\"field\":\"date\"},\"y\":{\"field\":\"value\"}},\"id\":\"15542\",\"type\":\"Line\"},{\"attributes\":{\"fill_color\":{\"value\":\"#ff7e0e\"},\"line_color\":{\"value\":\"#ff7e0e\"},\"size\":{\"units\":\"screen\",\"value\":5.477225575051661},\"x\":{\"field\":\"date\"},\"y\":{\"field\":\"value\"}},\"id\":\"16738\",\"type\":\"Scatter\"},{\"attributes\":{\"days\":[1,4,7,10,13,16,19,22,25,28]},\"id\":\"16724\",\"type\":\"DaysTicker\"},{\"attributes\":{\"source\":{\"id\":\"17441\"}},\"id\":\"17448\",\"type\":\"CDSView\"},{\"attributes\":{},\"id\":\"16736\",\"type\":\"Selection\"},{\"attributes\":{\"months\":[0,2,4,6,8,10]},\"id\":\"14612\",\"type\":\"MonthsTicker\"},{\"attributes\":{\"fill_color\":{\"value\":\"#1f77b3\"},\"line_color\":{\"value\":\"#1f77b3\"},\"size\":{\"units\":\"screen\",\"value\":5.477225575051661},\"x\":{\"field\":\"date\"},\"y\":{\"field\":\"value\"}},\"id\":\"16710\",\"type\":\"Scatter\"},{\"attributes\":{\"fill_alpha\":{\"value\":0.1},\"fill_color\":{\"value\":\"#1f77b3\"},\"line_alpha\":{\"value\":0.1},\"line_color\":{\"value\":\"#1f77b3\"},\"size\":{\"units\":\"screen\",\"value\":5.477225575051661},\"x\":{\"field\":\"date\"},\"y\":{\"field\":\"value\"}},\"id\":\"17417\",\"type\":\"Scatter\"},{\"attributes\":{\"bottom_units\":\"screen\",\"fill_alpha\":0.5,\"fill_color\":\"lightgrey\",\"left_units\":\"screen\",\"level\":\"overlay\",\"line_alpha\":1.0,\"line_color\":\"black\",\"line_dash\":[4,4],\"line_width\":2,\"render_mode\":\"css\",\"right_units\":\"screen\",\"top_units\":\"screen\"},\"id\":\"16695\",\"type\":\"BoxAnnotation\"},{\"attributes\":{\"data_source\":{\"id\":\"16949\"},\"glyph\":{\"id\":\"16952\"},\"hover_glyph\":null,\"muted_glyph\":{\"id\":\"16954\"},\"nonselection_glyph\":{\"id\":\"16953\"},\"selection_glyph\":null,\"view\":{\"id\":\"16956\"}},\"id\":\"16955\",\"type\":\"GlyphRenderer\"},{\"attributes\":{\"line_alpha\":0.2,\"line_color\":\"green\",\"line_width\":2,\"x\":{\"field\":\"date\"},\"y\":{\"field\":\"value\"}},\"id\":\"14807\",\"type\":\"Line\"},{\"attributes\":{\"axis_label\":\"Temperature (C)\",\"bounds\":\"auto\",\"formatter\":{\"id\":\"16001\"},\"major_label_orientation\":\"horizontal\",\"ticker\":{\"id\":\"15982\"}},\"id\":\"15981\",\"type\":\"LinearAxis\"},{\"attributes\":{\"data_source\":{\"id\":\"16707\"},\"glyph\":{\"id\":\"16710\"},\"hover_glyph\":null,\"muted_glyph\":{\"id\":\"16712\"},\"nonselection_glyph\":{\"id\":\"16711\"},\"selection_glyph\":null,\"view\":{\"id\":\"16714\"}},\"id\":\"16713\",\"type\":\"GlyphRenderer\"},{\"attributes\":{\"months\":[0,4,8]},\"id\":\"14613\",\"type\":\"MonthsTicker\"},{\"attributes\":{\"months\":[0,6]},\"id\":\"15319\",\"type\":\"MonthsTicker\"},{\"attributes\":{\"fill_alpha\":{\"value\":0.1},\"fill_color\":{\"value\":\"#1f77b3\"},\"line_alpha\":{\"value\":0.1},\"line_color\":{\"value\":\"#1f77b3\"},\"size\":{\"units\":\"screen\",\"value\":5.477225575051661},\"x\":{\"field\":\"date\"},\"y\":{\"field\":\"value\"}},\"id\":\"16711\",\"type\":\"Scatter\"},{\"attributes\":{\"data_source\":{\"id\":\"15324\"},\"glyph\":{\"id\":\"15327\"},\"hover_glyph\":null,\"muted_glyph\":{\"id\":\"15329\"},\"nonselection_glyph\":{\"id\":\"15328\"},\"selection_glyph\":null,\"view\":{\"id\":\"15331\"}},\"id\":\"15330\",\"type\":\"GlyphRenderer\"},{\"attributes\":{\"line_color\":\"green\",\"line_width\":2,\"x\":{\"field\":\"date\"},\"y\":{\"field\":\"value\"}},\"id\":\"16216\",\"type\":\"Line\"},{\"attributes\":{\"active_drag\":\"auto\",\"active_inspect\":\"auto\",\"active_multi\":null,\"active_scroll\":\"auto\",\"active_tap\":\"auto\",\"tools\":[{\"id\":\"17375\"},{\"id\":\"17396\"},{\"id\":\"17397\"},{\"id\":\"17398\"},{\"id\":\"17399\"},{\"id\":\"17400\"}]},\"id\":\"17402\",\"type\":\"Toolbar\"},{\"attributes\":{\"source\":{\"id\":\"15296\"}},\"id\":\"15303\",\"type\":\"CDSView\"},{\"attributes\":{\"source\":{\"id\":\"15324\"}},\"id\":\"15331\",\"type\":\"CDSView\"},{\"attributes\":{\"data_source\":{\"id\":\"17624\"},\"glyph\":{\"id\":\"17627\"},\"hover_glyph\":null,\"muted_glyph\":{\"id\":\"17629\"},\"nonselection_glyph\":{\"id\":\"17628\"},\"selection_glyph\":null,\"view\":{\"id\":\"17631\"}},\"id\":\"17630\",\"type\":\"GlyphRenderer\"},{\"attributes\":{\"mantissas\":[1,2,5],\"max_interval\":500.0,\"num_minor_ticks\":0},\"id\":\"17426\",\"type\":\"AdaptiveTicker\"},{\"attributes\":{\"label\":{\"value\":\"TMIN_Illinois\"},\"renderers\":[{\"id\":\"14597\"}]},\"id\":\"14618\",\"type\":\"LegendItem\"},{\"attributes\":{\"source\":{\"id\":\"16213\"}},\"id\":\"16220\",\"type\":\"CDSView\"},{\"attributes\":{},\"id\":\"15999\",\"type\":\"DatetimeTickFormatter\"},{\"attributes\":{\"axis_label\":\"Date\",\"bounds\":\"auto\",\"formatter\":{\"id\":\"15293\"},\"major_label_orientation\":\"horizontal\",\"ticker\":{\"id\":\"15272\"}},\"id\":\"15271\",\"type\":\"DatetimeAxis\"},{\"attributes\":{},\"id\":\"17396\",\"type\":\"SaveTool\"},{\"attributes\":{\"label\":{\"value\":\"max_heat\"},\"renderers\":[{\"id\":\"16924\"}]},\"id\":\"16948\",\"type\":\"LegendItem\"},{\"attributes\":{\"line_color\":\"green\",\"line_width\":2,\"x\":{\"field\":\"date\"},\"y\":{\"field\":\"value\"}},\"id\":\"17627\",\"type\":\"Line\"},{\"attributes\":{},\"id\":\"16692\",\"type\":\"WheelZoomTool\"},{\"attributes\":{\"base\":24,\"mantissas\":[1,2,4,6,8,12],\"max_interval\":43200000.0,\"min_interval\":3600000.0,\"num_minor_ticks\":0},\"id\":\"14606\",\"type\":\"AdaptiveTicker\"},{\"attributes\":{\"days\":[1,15]},\"id\":\"17432\",\"type\":\"DaysTicker\"},{\"attributes\":{\"line_alpha\":0.1,\"line_color\":\"green\",\"line_width\":2,\"x\":{\"field\":\"date\"},\"y\":{\"field\":\"value\"}},\"id\":\"17628\",\"type\":\"Line\"},{\"attributes\":{},\"id\":\"17400\",\"type\":\"ResetTool\"},{\"attributes\":{\"line_alpha\":0.2,\"line_color\":\"green\",\"line_width\":2,\"x\":{\"field\":\"date\"},\"y\":{\"field\":\"value\"}},\"id\":\"16923\",\"type\":\"Line\"},{\"attributes\":{\"days\":[1,4,7,10,13,16,19,22,25,28]},\"id\":\"17430\",\"type\":\"DaysTicker\"},{\"attributes\":{\"fill_alpha\":{\"value\":0.1},\"fill_color\":{\"value\":\"#1f77b3\"},\"line_alpha\":{\"value\":0.1},\"line_color\":{\"value\":\"#1f77b3\"},\"size\":{\"units\":\"screen\",\"value\":5.477225575051661},\"x\":{\"field\":\"date\"},\"y\":{\"field\":\"value\"}},\"id\":\"14595\",\"type\":\"Scatter\"},{\"attributes\":{\"data\":{\"Variable\":[\"max_heat\",\"max_heat\",\"max_heat\",\"max_heat\",\"max_heat\",\"max_heat\",\"max_heat\",\"max_heat\",\"max_heat\",\"max_heat\",\"max_heat\",\"max_heat\",\"max_heat\",\"max_heat\",\"max_heat\",\"max_heat\",\"max_heat\",\"max_heat\",\"max_heat\",\"max_heat\",\"max_heat\",\"max_heat\",\"max_heat\",\"max_heat\",\"max_heat\",\"max_heat\",\"max_heat\",\"max_heat\",\"max_heat\",\"max_heat\",\"max_heat\",\"max_heat\",\"max_heat\",\"max_heat\",\"max_heat\",\"max_heat\",\"max_heat\",\"max_heat\",\"max_heat\",\"max_heat\",\"max_heat\",\"max_heat\",\"max_heat\",\"max_heat\",\"max_heat\",\"max_heat\",\"max_heat\",\"max_heat\",\"max_heat\",\"max_heat\",\"max_heat\",\"max_heat\",\"max_heat\",\"max_heat\",\"max_heat\",\"max_heat\",\"max_heat\",\"max_heat\",\"max_heat\",\"max_heat\",\"max_heat\",\"max_heat\",\"max_heat\",\"max_heat\",\"max_heat\",\"max_heat\",\"max_heat\",\"max_heat\",\"max_heat\",\"max_heat\",\"max_heat\",\"max_heat\",\"max_heat\",\"max_heat\",\"max_heat\",\"max_heat\",\"max_heat\",\"max_heat\",\"max_heat\",\"max_heat\",\"max_heat\",\"max_heat\",\"max_heat\",\"max_heat\",\"max_heat\",\"max_heat\",\"max_heat\",\"max_heat\",\"max_heat\",\"max_heat\",\"max_heat\",\"max_heat\",\"max_heat\",\"max_heat\",\"max_heat\",\"max_heat\",\"max_heat\",\"max_heat\",\"max_heat\",\"max_heat\",\"max_heat\",\"max_heat\",\"max_heat\",\"max_heat\",\"max_heat\",\"max_heat\",\"max_heat\",\"max_heat\",\"max_heat\",\"max_heat\",\"max_heat\",\"max_heat\",\"max_heat\",\"max_heat\",\"max_heat\",\"max_heat\",\"max_heat\",\"max_heat\",\"max_heat\",\"max_heat\",\"max_heat\",\"max_heat\",\"max_heat\",\"max_heat\",\"max_heat\",\"max_heat\",\"max_heat\",\"max_heat\",\"max_heat\",\"max_heat\",\"max_heat\",\"max_heat\",\"max_heat\",\"max_heat\",\"max_heat\",\"max_heat\",\"max_heat\",\"max_heat\",\"max_heat\",\"max_heat\",\"max_heat\",\"max_heat\",\"max_heat\",\"max_heat\",\"max_heat\",\"max_heat\",\"max_heat\",\"max_heat\",\"max_heat\",\"max_heat\",\"max_heat\",\"max_heat\",\"max_heat\",\"max_heat\",\"max_heat\",\"max_heat\",\"max_heat\",\"max_heat\",\"max_heat\",\"max_heat\",\"max_heat\",\"max_heat\",\"max_heat\",\"max_heat\",\"max_heat\",\"max_heat\",\"max_heat\",\"max_heat\",\"max_heat\",\"max_heat\",\"max_heat\",\"max_heat\",\"max_heat\",\"max_heat\",\"max_heat\",\"max_heat\",\"max_heat\",\"max_heat\",\"max_heat\",\"max_heat\",\"max_heat\",\"max_heat\",\"max_heat\",\"max_heat\",\"max_heat\",\"max_heat\",\"max_heat\",\"max_heat\",\"max_heat\",\"max_heat\",\"max_heat\",\"max_heat\",\"max_heat\",\"max_heat\",\"max_heat\",\"max_heat\",\"max_heat\",\"max_heat\",\"max_heat\",\"max_heat\",\"max_heat\",\"max_heat\",\"max_heat\",\"max_heat\",\"max_heat\",\"max_heat\",\"max_heat\",\"max_heat\",\"max_heat\",\"max_heat\",\"max_heat\",\"max_heat\",\"max_heat\",\"max_heat\",\"max_heat\",\"max_heat\",\"max_heat\",\"max_heat\",\"max_heat\",\"max_heat\",\"max_heat\",\"max_heat\",\"max_heat\",\"max_heat\",\"max_heat\",\"max_heat\",\"max_heat\",\"max_heat\",\"max_heat\",\"max_heat\",\"max_heat\",\"max_heat\",\"max_heat\",\"max_heat\",\"max_heat\",\"max_heat\",\"max_heat\",\"max_heat\",\"max_heat\",\"max_heat\",\"max_heat\",\"max_heat\",\"max_heat\",\"max_heat\",\"max_heat\",\"max_heat\",\"max_heat\",\"max_heat\",\"max_heat\",\"max_heat\",\"max_heat\",\"max_heat\",\"max_heat\",\"max_heat\",\"max_heat\",\"max_heat\",\"max_heat\",\"max_heat\",\"max_heat\",\"max_heat\",\"max_heat\",\"max_heat\",\"max_heat\",\"max_heat\",\"max_heat\",\"max_heat\",\"max_heat\",\"max_heat\",\"max_heat\",\"max_heat\",\"max_heat\",\"max_heat\",\"max_heat\",\"max_heat\",\"max_heat\",\"max_heat\",\"max_heat\",\"max_heat\",\"max_heat\",\"max_heat\",\"max_heat\",\"max_heat\",\"max_heat\",\"max_heat\",\"max_heat\",\"max_heat\",\"max_heat\",\"max_heat\",\"max_heat\",\"max_heat\",\"max_heat\",\"max_heat\",\"max_heat\",\"max_heat\",\"max_heat\",\"max_heat\",\"max_heat\",\"max_heat\",\"max_heat\",\"max_heat\",\"max_heat\",\"max_heat\",\"max_heat\",\"max_heat\",\"max_heat\",\"max_heat\",\"max_heat\",\"max_heat\",\"max_heat\",\"max_heat\",\"max_heat\",\"max_heat\",\"max_heat\",\"max_heat\",\"max_heat\",\"max_heat\",\"max_heat\",\"max_heat\",\"max_heat\",\"max_heat\",\"max_heat\",\"max_heat\",\"max_heat\",\"max_heat\",\"max_heat\",\"max_heat\",\"max_heat\",\"max_heat\",\"max_heat\",\"max_heat\",\"max_heat\",\"max_heat\",\"max_heat\",\"max_heat\",\"max_heat\",\"max_heat\",\"max_heat\",\"max_heat\",\"max_heat\",\"max_heat\",\"max_heat\",\"max_heat\",\"max_heat\",\"max_heat\",\"max_heat\",\"max_heat\",\"max_heat\",\"max_heat\",\"max_heat\",\"max_heat\",\"max_heat\",\"max_heat\",\"max_heat\",\"max_heat\",\"max_heat\",\"max_heat\",\"max_heat\",\"max_heat\",\"max_heat\",\"max_heat\",\"max_heat\",\"max_heat\",\"max_heat\",\"max_heat\",\"max_heat\"],\"date\":{\"__ndarray__\":\"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\",\"dtype\":\"float64\",\"shape\":[365]},\"value\":[43,43,43,43,43,43,43,43,43,43,43,43,43,43,43,43,43,43,43,43,43,43,43,43,43,43,43,43,43,43,43,43,43,43,43,43,43,43,43,43,43,43,43,43,43,43,43,43,43,43,43,43,43,43,43,43,43,43,43,43,43,43,43,43,43,43,43,43,43,43,43,43,43,43,43,43,43,43,43,43,43,43,43,43,43,43,43,43,43,43,43,43,43,43,43,43,43,43,43,43,43,43,43,43,43,43,43,43,43,43,43,43,43,43,43,43,43,43,43,43,43,43,43,43,43,43,43,43,43,43,43,43,43,43,43,43,43,43,43,43,43,43,43,43,43,43,43,43,43,43,43,43,43,43,43,43,43,43,43,43,43,43,43,43,43,43,43,43,43,43,43,43,43,43,43,43,43,43,43,43,43,43,43,43,43,43,43,43,43,43,43,43,43,43,43,43,43,43,43,43,43,43,43,43,43,43,43,43,43,43,43,43,43,43,43,43,43,43,43,43,43,43,43,43,43,43,43,43,43,43,43,43,43,43,43,43,43,43,43,43,43,43,43,43,43,43,43,43,43,43,43,43,43,43,43,43,43,43,43,43,43,43,43,43,43,43,43,43,43,43,43,43,43,43,43,43,43,43,43,43,43,43,43,43,43,43,43,43,43,43,43,43,43,43,43,43,43,43,43,43,43,43,43,43,43,43,43,43,43,43,43,43,43,43,43,43,43,43,43,43,43,43,43,43,43,43,43,43,43,43,43,43,43,43,43,43,43,43,43,43,43,43,43,43,43,43,43,43,43,43,43,43,43,43,43,43,43,43,43,43,43,43,43,43,43]},\"selected\":{\"id\":\"16214\"},\"selection_policy\":{\"id\":\"16274\"}},\"id\":\"16213\",\"type\":\"ColumnDataSource\"},{\"attributes\":{\"data\":{\"Variable\":[\"max_heat\",\"max_heat\",\"max_heat\",\"max_heat\",\"max_heat\",\"max_heat\",\"max_heat\",\"max_heat\",\"max_heat\",\"max_heat\",\"max_heat\",\"max_heat\",\"max_heat\",\"max_heat\",\"max_heat\",\"max_heat\",\"max_heat\",\"max_heat\",\"max_heat\",\"max_heat\",\"max_heat\",\"max_heat\",\"max_heat\",\"max_heat\",\"max_heat\",\"max_heat\",\"max_heat\",\"max_heat\",\"max_heat\",\"max_heat\",\"max_heat\",\"max_heat\",\"max_heat\",\"max_heat\",\"max_heat\",\"max_heat\",\"max_heat\",\"max_heat\",\"max_heat\",\"max_heat\",\"max_heat\",\"max_heat\",\"max_heat\",\"max_heat\",\"max_heat\",\"max_heat\",\"max_heat\",\"max_heat\",\"max_heat\",\"max_heat\",\"max_heat\",\"max_heat\",\"max_heat\",\"max_heat\",\"max_heat\",\"max_heat\",\"max_heat\",\"max_heat\",\"max_heat\",\"max_heat\",\"max_heat\",\"max_heat\",\"max_heat\",\"max_heat\",\"max_heat\",\"max_heat\",\"max_heat\",\"max_heat\",\"max_heat\",\"max_heat\",\"max_heat\",\"max_heat\",\"max_heat\",\"max_heat\",\"max_heat\",\"max_heat\",\"max_heat\",\"max_heat\",\"max_heat\",\"max_heat\",\"max_heat\",\"max_heat\",\"max_heat\",\"max_heat\",\"max_heat\",\"max_heat\",\"max_heat\",\"max_heat\",\"max_heat\",\"max_heat\",\"max_heat\",\"max_heat\",\"max_heat\",\"max_heat\",\"max_heat\",\"max_heat\",\"max_heat\",\"max_heat\",\"max_heat\",\"max_heat\",\"max_heat\",\"max_heat\",\"max_heat\",\"max_heat\",\"max_heat\",\"max_heat\",\"max_heat\",\"max_heat\",\"max_heat\",\"max_heat\",\"max_heat\",\"max_heat\",\"max_heat\",\"max_heat\",\"max_heat\",\"max_heat\",\"max_heat\",\"max_heat\",\"max_heat\",\"max_heat\",\"max_heat\",\"max_heat\",\"max_heat\",\"max_heat\",\"max_heat\",\"max_heat\",\"max_heat\",\"max_heat\",\"max_heat\",\"max_heat\",\"max_heat\",\"max_heat\",\"max_heat\",\"max_heat\",\"max_heat\",\"max_heat\",\"max_heat\",\"max_heat\",\"max_heat\",\"max_heat\",\"max_heat\",\"max_heat\",\"max_heat\",\"max_heat\",\"max_heat\",\"max_heat\",\"max_heat\",\"max_heat\",\"max_heat\",\"max_heat\",\"max_heat\",\"max_heat\",\"max_heat\",\"max_heat\",\"max_heat\",\"max_heat\",\"max_heat\",\"max_heat\",\"max_heat\",\"max_heat\",\"max_heat\",\"max_heat\",\"max_heat\",\"max_heat\",\"max_heat\",\"max_heat\",\"max_heat\",\"max_heat\",\"max_heat\",\"max_heat\",\"max_heat\",\"max_heat\",\"max_heat\",\"max_heat\",\"max_heat\",\"max_heat\",\"max_heat\",\"max_heat\",\"max_heat\",\"max_heat\",\"max_heat\",\"max_heat\",\"max_heat\",\"max_heat\",\"max_heat\",\"max_heat\",\"max_heat\",\"max_heat\",\"max_heat\",\"max_heat\",\"max_heat\",\"max_heat\",\"max_heat\",\"max_heat\",\"max_heat\",\"max_heat\",\"max_heat\",\"max_heat\",\"max_heat\",\"max_heat\",\"max_heat\",\"max_heat\",\"max_heat\",\"max_heat\",\"max_heat\",\"max_heat\",\"max_heat\",\"max_heat\",\"max_heat\",\"max_heat\",\"max_heat\",\"max_heat\",\"max_heat\",\"max_heat\",\"max_heat\",\"max_heat\",\"max_heat\",\"max_heat\",\"max_heat\",\"max_heat\",\"max_heat\",\"max_heat\",\"max_heat\",\"max_heat\",\"max_heat\",\"max_heat\",\"max_heat\",\"max_heat\",\"max_heat\",\"max_heat\",\"max_heat\",\"max_heat\",\"max_heat\",\"max_heat\",\"max_heat\",\"max_heat\",\"max_heat\",\"max_heat\",\"max_heat\",\"max_heat\",\"max_heat\",\"max_heat\",\"max_heat\",\"max_heat\",\"max_heat\",\"max_heat\",\"max_heat\",\"max_heat\",\"max_heat\",\"max_heat\",\"max_heat\",\"max_heat\",\"max_heat\",\"max_heat\",\"max_heat\",\"max_heat\",\"max_heat\",\"max_heat\",\"max_heat\",\"max_heat\",\"max_heat\",\"max_heat\",\"max_heat\",\"max_heat\",\"max_heat\",\"max_heat\",\"max_heat\",\"max_heat\",\"max_heat\",\"max_heat\",\"max_heat\",\"max_heat\",\"max_heat\",\"max_heat\",\"max_heat\",\"max_heat\",\"max_heat\",\"max_heat\",\"max_heat\",\"max_heat\",\"max_heat\",\"max_heat\",\"max_heat\",\"max_heat\",\"max_heat\",\"max_heat\",\"max_heat\",\"max_heat\",\"max_heat\",\"max_heat\",\"max_heat\",\"max_heat\",\"max_heat\",\"max_heat\",\"max_heat\",\"max_heat\",\"max_heat\",\"max_heat\",\"max_heat\",\"max_heat\",\"max_heat\",\"max_heat\",\"max_heat\",\"max_heat\",\"max_heat\",\"max_heat\",\"max_heat\",\"max_heat\",\"max_heat\",\"max_heat\",\"max_heat\",\"max_heat\",\"max_heat\",\"max_heat\",\"max_heat\",\"max_heat\",\"max_heat\",\"max_heat\",\"max_heat\",\"max_heat\",\"max_heat\",\"max_heat\",\"max_heat\",\"max_heat\",\"max_heat\",\"max_heat\",\"max_heat\",\"max_heat\",\"max_heat\",\"max_heat\",\"max_heat\",\"max_heat\",\"max_heat\",\"max_heat\",\"max_heat\",\"max_heat\",\"max_heat\",\"max_heat\",\"max_heat\",\"max_heat\",\"max_heat\",\"max_heat\",\"max_heat\",\"max_heat\",\"max_heat\",\"max_heat\",\"max_heat\",\"max_heat\",\"max_heat\",\"max_heat\",\"max_heat\",\"max_heat\",\"max_heat\",\"max_heat\",\"max_heat\",\"max_heat\",\"max_heat\",\"max_heat\",\"max_heat\",\"max_heat\",\"max_heat\",\"max_heat\",\"max_heat\",\"max_heat\",\"max_heat\"],\"date\":{\"__ndarray__\":\"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\",\"dtype\":\"float64\",\"shape\":[365]},\"value\":[43,43,43,43,43,43,43,43,43,43,43,43,43,43,43,43,43,43,43,43,43,43,43,43,43,43,43,43,43,43,43,43,43,43,43,43,43,43,43,43,43,43,43,43,43,43,43,43,43,43,43,43,43,43,43,43,43,43,43,43,43,43,43,43,43,43,43,43,43,43,43,43,43,43,43,43,43,43,43,43,43,43,43,43,43,43,43,43,43,43,43,43,43,43,43,43,43,43,43,43,43,43,43,43,43,43,43,43,43,43,43,43,43,43,43,43,43,43,43,43,43,43,43,43,43,43,43,43,43,43,43,43,43,43,43,43,43,43,43,43,43,43,43,43,43,43,43,43,43,43,43,43,43,43,43,43,43,43,43,43,43,43,43,43,43,43,43,43,43,43,43,43,43,43,43,43,43,43,43,43,43,43,43,43,43,43,43,43,43,43,43,43,43,43,43,43,43,43,43,43,43,43,43,43,43,43,43,43,43,43,43,43,43,43,43,43,43,43,43,43,43,43,43,43,43,43,43,43,43,43,43,43,43,43,43,43,43,43,43,43,43,43,43,43,43,43,43,43,43,43,43,43,43,43,43,43,43,43,43,43,43,43,43,43,43,43,43,43,43,43,43,43,43,43,43,43,43,43,43,43,43,43,43,43,43,43,43,43,43,43,43,43,43,43,43,43,43,43,43,43,43,43,43,43,43,43,43,43,43,43,43,43,43,43,43,43,43,43,43,43,43,43,43,43,43,43,43,43,43,43,43,43,43,43,43,43,43,43,43,43,43,43,43,43,43,43,43,43,43,43,43,43,43,43,43,43,43,43,43,43,43,43,43,43,43]},\"selected\":{\"id\":\"16919\"},\"selection_policy\":{\"id\":\"16979\"}},\"id\":\"16918\",\"type\":\"ColumnDataSource\"},{\"attributes\":{\"days\":[1,2,3,4,5,6,7,8,9,10,11,12,13,14,15,16,17,18,19,20,21,22,23,24,25,26,27,28,29,30,31]},\"id\":\"17429\",\"type\":\"DaysTicker\"},{\"attributes\":{\"line_color\":\"green\",\"line_width\":2,\"x\":{\"field\":\"date\"},\"y\":{\"field\":\"value\"}},\"id\":\"16952\",\"type\":\"Line\"},{\"attributes\":{\"line_alpha\":0.2,\"line_color\":\"green\",\"line_width\":2,\"x\":{\"field\":\"date\"},\"y\":{\"field\":\"value\"}},\"id\":\"17629\",\"type\":\"Line\"},{\"attributes\":{},\"id\":\"14571\",\"type\":\"BasicTicker\"},{\"attributes\":{\"label\":{\"value\":\"TMIN_Iowa\"},\"renderers\":[{\"id\":\"15302\"}]},\"id\":\"15323\",\"type\":\"LegendItem\"},{\"attributes\":{\"days\":[1,8,15,22]},\"id\":\"17431\",\"type\":\"DaysTicker\"},{\"attributes\":{\"data\":{\"Variable\":[\"TMIN_Iowa\",\"TMIN_Iowa\",\"TMIN_Iowa\",\"TMIN_Iowa\",\"TMIN_Iowa\",\"TMIN_Iowa\",\"TMIN_Iowa\",\"TMIN_Iowa\",\"TMIN_Iowa\",\"TMIN_Iowa\",\"TMIN_Iowa\",\"TMIN_Iowa\",\"TMIN_Iowa\",\"TMIN_Iowa\",\"TMIN_Iowa\",\"TMIN_Iowa\",\"TMIN_Iowa\",\"TMIN_Iowa\",\"TMIN_Iowa\",\"TMIN_Iowa\",\"TMIN_Iowa\",\"TMIN_Iowa\",\"TMIN_Iowa\",\"TMIN_Iowa\",\"TMIN_Iowa\",\"TMIN_Iowa\",\"TMIN_Iowa\",\"TMIN_Iowa\",\"TMIN_Iowa\",\"TMIN_Iowa\",\"TMIN_Iowa\",\"TMIN_Iowa\",\"TMIN_Iowa\",\"TMIN_Iowa\",\"TMIN_Iowa\",\"TMIN_Iowa\",\"TMIN_Iowa\",\"TMIN_Iowa\",\"TMIN_Iowa\",\"TMIN_Iowa\",\"TMIN_Iowa\",\"TMIN_Iowa\",\"TMIN_Iowa\",\"TMIN_Iowa\",\"TMIN_Iowa\",\"TMIN_Iowa\",\"TMIN_Iowa\",\"TMIN_Iowa\",\"TMIN_Iowa\",\"TMIN_Iowa\",\"TMIN_Iowa\",\"TMIN_Iowa\",\"TMIN_Iowa\",\"TMIN_Iowa\",\"TMIN_Iowa\",\"TMIN_Iowa\",\"TMIN_Iowa\",\"TMIN_Iowa\",\"TMIN_Iowa\",\"TMIN_Iowa\",\"TMIN_Iowa\",\"TMIN_Iowa\",\"TMIN_Iowa\",\"TMIN_Iowa\",\"TMIN_Iowa\",\"TMIN_Iowa\",\"TMIN_Iowa\",\"TMIN_Iowa\",\"TMIN_Iowa\",\"TMIN_Iowa\",\"TMIN_Iowa\",\"TMIN_Iowa\",\"TMIN_Iowa\",\"TMIN_Iowa\",\"TMIN_Iowa\",\"TMIN_Iowa\",\"TMIN_Iowa\",\"TMIN_Iowa\",\"TMIN_Iowa\",\"TMIN_Iowa\",\"TMIN_Iowa\",\"TMIN_Iowa\",\"TMIN_Iowa\",\"TMIN_Iowa\",\"TMIN_Iowa\",\"TMIN_Iowa\",\"TMIN_Iowa\",\"TMIN_Iowa\",\"TMIN_Iowa\",\"TMIN_Iowa\",\"TMIN_Iowa\",\"TMIN_Iowa\",\"TMIN_Iowa\",\"TMIN_Iowa\",\"TMIN_Iowa\",\"TMIN_Iowa\",\"TMIN_Iowa\",\"TMIN_Iowa\",\"TMIN_Iowa\",\"TMIN_Iowa\",\"TMIN_Iowa\",\"TMIN_Iowa\",\"TMIN_Iowa\",\"TMIN_Iowa\",\"TMIN_Iowa\",\"TMIN_Iowa\",\"TMIN_Iowa\",\"TMIN_Iowa\",\"TMIN_Iowa\",\"TMIN_Iowa\",\"TMIN_Iowa\",\"TMIN_Iowa\",\"TMIN_Iowa\",\"TMIN_Iowa\",\"TMIN_Iowa\",\"TMIN_Iowa\",\"TMIN_Iowa\",\"TMIN_Iowa\",\"TMIN_Iowa\",\"TMIN_Iowa\",\"TMIN_Iowa\",\"TMIN_Iowa\",\"TMIN_Iowa\",\"TMIN_Iowa\",\"TMIN_Iowa\",\"TMIN_Iowa\",\"TMIN_Iowa\",\"TMIN_Iowa\",\"TMIN_Iowa\",\"TMIN_Iowa\",\"TMIN_Iowa\",\"TMIN_Iowa\",\"TMIN_Iowa\",\"TMIN_Iowa\",\"TMIN_Iowa\",\"TMIN_Iowa\",\"TMIN_Iowa\",\"TMIN_Iowa\",\"TMIN_Iowa\",\"TMIN_Iowa\",\"TMIN_Iowa\",\"TMIN_Iowa\",\"TMIN_Iowa\",\"TMIN_Iowa\",\"TMIN_Iowa\",\"TMIN_Iowa\",\"TMIN_Iowa\",\"TMIN_Iowa\",\"TMIN_Iowa\",\"TMIN_Iowa\",\"TMIN_Iowa\",\"TMIN_Iowa\",\"TMIN_Iowa\",\"TMIN_Iowa\",\"TMIN_Iowa\",\"TMIN_Iowa\",\"TMIN_Iowa\",\"TMIN_Iowa\",\"TMIN_Iowa\",\"TMIN_Iowa\",\"TMIN_Iowa\",\"TMIN_Iowa\",\"TMIN_Iowa\",\"TMIN_Iowa\",\"TMIN_Iowa\",\"TMIN_Iowa\",\"TMIN_Iowa\",\"TMIN_Iowa\",\"TMIN_Iowa\",\"TMIN_Iowa\",\"TMIN_Iowa\",\"TMIN_Iowa\",\"TMIN_Iowa\",\"TMIN_Iowa\",\"TMIN_Iowa\",\"TMIN_Iowa\",\"TMIN_Iowa\",\"TMIN_Iowa\",\"TMIN_Iowa\",\"TMIN_Iowa\",\"TMIN_Iowa\",\"TMIN_Iowa\",\"TMIN_Iowa\",\"TMIN_Iowa\",\"TMIN_Iowa\",\"TMIN_Iowa\",\"TMIN_Iowa\",\"TMIN_Iowa\",\"TMIN_Iowa\",\"TMIN_Iowa\",\"TMIN_Iowa\",\"TMIN_Iowa\",\"TMIN_Iowa\",\"TMIN_Iowa\",\"TMIN_Iowa\",\"TMIN_Iowa\",\"TMIN_Iowa\",\"TMIN_Iowa\",\"TMIN_Iowa\",\"TMIN_Iowa\",\"TMIN_Iowa\",\"TMIN_Iowa\",\"TMIN_Iowa\",\"TMIN_Iowa\",\"TMIN_Iowa\",\"TMIN_Iowa\",\"TMIN_Iowa\",\"TMIN_Iowa\",\"TMIN_Iowa\",\"TMIN_Iowa\",\"TMIN_Iowa\",\"TMIN_Iowa\",\"TMIN_Iowa\",\"TMIN_Iowa\",\"TMIN_Iowa\",\"TMIN_Iowa\",\"TMIN_Iowa\",\"TMIN_Iowa\",\"TMIN_Iowa\",\"TMIN_Iowa\",\"TMIN_Iowa\",\"TMIN_Iowa\",\"TMIN_Iowa\",\"TMIN_Iowa\",\"TMIN_Iowa\",\"TMIN_Iowa\",\"TMIN_Iowa\",\"TMIN_Iowa\",\"TMIN_Iowa\",\"TMIN_Iowa\",\"TMIN_Iowa\",\"TMIN_Iowa\",\"TMIN_Iowa\",\"TMIN_Iowa\",\"TMIN_Iowa\",\"TMIN_Iowa\",\"TMIN_Iowa\",\"TMIN_Iowa\",\"TMIN_Iowa\",\"TMIN_Iowa\",\"TMIN_Iowa\",\"TMIN_Iowa\",\"TMIN_Iowa\",\"TMIN_Iowa\",\"TMIN_Iowa\",\"TMIN_Iowa\",\"TMIN_Iowa\",\"TMIN_Iowa\",\"TMIN_Iowa\",\"TMIN_Iowa\",\"TMIN_Iowa\",\"TMIN_Iowa\",\"TMIN_Iowa\",\"TMIN_Iowa\",\"TMIN_Iowa\",\"TMIN_Iowa\",\"TMIN_Iowa\",\"TMIN_Iowa\",\"TMIN_Iowa\",\"TMIN_Iowa\",\"TMIN_Iowa\",\"TMIN_Iowa\",\"TMIN_Iowa\",\"TMIN_Iowa\",\"TMIN_Iowa\",\"TMIN_Iowa\",\"TMIN_Iowa\",\"TMIN_Iowa\",\"TMIN_Iowa\",\"TMIN_Iowa\",\"TMIN_Iowa\",\"TMIN_Iowa\",\"TMIN_Iowa\",\"TMIN_Iowa\",\"TMIN_Iowa\",\"TMIN_Iowa\",\"TMIN_Iowa\",\"TMIN_Iowa\",\"TMIN_Iowa\",\"TMIN_Iowa\",\"TMIN_Iowa\",\"TMIN_Iowa\",\"TMIN_Iowa\",\"TMIN_Iowa\",\"TMIN_Iowa\",\"TMIN_Iowa\",\"TMIN_Iowa\",\"TMIN_Iowa\",\"TMIN_Iowa\",\"TMIN_Iowa\",\"TMIN_Iowa\",\"TMIN_Iowa\",\"TMIN_Iowa\",\"TMIN_Iowa\",\"TMIN_Iowa\",\"TMIN_Iowa\",\"TMIN_Iowa\",\"TMIN_Iowa\",\"TMIN_Iowa\",\"TMIN_Iowa\",\"TMIN_Iowa\",\"TMIN_Iowa\",\"TMIN_Iowa\",\"TMIN_Iowa\",\"TMIN_Iowa\",\"TMIN_Iowa\",\"TMIN_Iowa\",\"TMIN_Iowa\",\"TMIN_Iowa\",\"TMIN_Iowa\",\"TMIN_Iowa\",\"TMIN_Iowa\",\"TMIN_Iowa\",\"TMIN_Iowa\",\"TMIN_Iowa\",\"TMIN_Iowa\",\"TMIN_Iowa\",\"TMIN_Iowa\",\"TMIN_Iowa\",\"TMIN_Iowa\",\"TMIN_Iowa\",\"TMIN_Iowa\",\"TMIN_Iowa\",\"TMIN_Iowa\",\"TMIN_Iowa\",\"TMIN_Iowa\",\"TMIN_Iowa\",\"TMIN_Iowa\",\"TMIN_Iowa\",\"TMIN_Iowa\",\"TMIN_Iowa\",\"TMIN_Iowa\",\"TMIN_Iowa\",\"TMIN_Iowa\",\"TMIN_Iowa\",\"TMIN_Iowa\",\"TMIN_Iowa\",\"TMIN_Iowa\",\"TMIN_Iowa\",\"TMIN_Iowa\",\"TMIN_Iowa\",\"TMIN_Iowa\",\"TMIN_Iowa\",\"TMIN_Iowa\",\"TMIN_Iowa\",\"TMIN_Iowa\",\"TMIN_Iowa\",\"TMIN_Iowa\",\"TMIN_Iowa\",\"TMIN_Iowa\",\"TMIN_Iowa\",\"TMIN_Iowa\",\"TMIN_Iowa\",\"TMIN_Iowa\",\"TMIN_Iowa\",\"TMIN_Iowa\",\"TMIN_Iowa\",\"TMIN_Iowa\",\"TMIN_Iowa\",\"TMIN_Iowa\",\"TMIN_Iowa\",\"TMIN_Iowa\",\"TMIN_Iowa\",\"TMIN_Iowa\",\"TMIN_Iowa\"],\"date\":{\"__ndarray__\":\"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\",\"dtype\":\"float64\",\"shape\":[365]},\"value\":{\"__ndarray__\":\"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\",\"dtype\":\"float64\",\"shape\":[365]}},\"selected\":{\"id\":\"15297\"},\"selection_policy\":{\"id\":\"15350\"}},\"id\":\"15296\",\"type\":\"ColumnDataSource\"},{\"attributes\":{\"line_color\":\"green\",\"line_width\":2,\"x\":{\"field\":\"date\"},\"y\":{\"field\":\"value\"}},\"id\":\"14836\",\"type\":\"Line\"},{\"attributes\":{\"source\":{\"id\":\"17624\"}},\"id\":\"17631\",\"type\":\"CDSView\"},{\"attributes\":{},\"id\":\"15267\",\"type\":\"LinearScale\"},{\"attributes\":{},\"id\":\"17398\",\"type\":\"WheelZoomTool\"},{\"attributes\":{\"months\":[0,1,2,3,4,5,6,7,8,9,10,11]},\"id\":\"16022\",\"type\":\"MonthsTicker\"},{\"attributes\":{},\"id\":\"17685\",\"type\":\"UnionRenderers\"},{\"attributes\":{\"line_alpha\":0.1,\"line_color\":\"green\",\"line_width\":2,\"x\":{\"field\":\"date\"},\"y\":{\"field\":\"value\"}},\"id\":\"14806\",\"type\":\"Line\"},{\"attributes\":{\"align\":null,\"below\":[{\"id\":\"16682\"}],\"center\":[{\"id\":\"16685\"},{\"id\":\"16689\"}],\"left\":[{\"id\":\"16686\"}],\"margin\":null,\"min_border_bottom\":10,\"min_border_left\":10,\"min_border_right\":10,\"min_border_top\":10,\"plot_height\":300,\"plot_width\":500,\"renderers\":[{\"id\":\"16713\"},{\"id\":\"16741\"},{\"id\":\"16924\"},{\"id\":\"16955\"}],\"right\":[{\"id\":\"16733\"}],\"sizing_mode\":\"fixed\",\"title\":{\"id\":\"16674\"},\"toolbar\":{\"id\":\"16696\"},\"x_range\":{\"id\":\"14551\"},\"x_scale\":{\"id\":\"16678\"},\"y_range\":{\"id\":\"14552\"},\"y_scale\":{\"id\":\"16680\"}},\"id\":\"16673\",\"subtype\":\"Figure\",\"type\":\"Plot\"},{\"attributes\":{},\"id\":\"16919\",\"type\":\"Selection\"},{\"attributes\":{\"data_source\":{\"id\":\"16918\"},\"glyph\":{\"id\":\"16921\"},\"hover_glyph\":null,\"muted_glyph\":{\"id\":\"16923\"},\"nonselection_glyph\":{\"id\":\"16922\"},\"selection_glyph\":null,\"view\":{\"id\":\"16925\"}},\"id\":\"16924\",\"type\":\"GlyphRenderer\"},{\"attributes\":{\"line_alpha\":0.2,\"line_color\":\"green\",\"line_width\":2,\"x\":{\"field\":\"date\"},\"y\":{\"field\":\"value\"}},\"id\":\"16218\",\"type\":\"Line\"},{\"attributes\":{},\"id\":\"16694\",\"type\":\"ResetTool\"},{\"attributes\":{\"base\":60,\"mantissas\":[1,2,5,10,15,20,30],\"max_interval\":1800000.0,\"min_interval\":1000.0,\"num_minor_ticks\":0},\"id\":\"14605\",\"type\":\"AdaptiveTicker\"},{\"attributes\":{},\"id\":\"16691\",\"type\":\"PanTool\"},{\"attributes\":{},\"id\":\"17412\",\"type\":\"BasicTickFormatter\"},{\"attributes\":{\"data_source\":{\"id\":\"14591\"},\"glyph\":{\"id\":\"14594\"},\"hover_glyph\":null,\"muted_glyph\":{\"id\":\"14596\"},\"nonselection_glyph\":{\"id\":\"14595\"},\"selection_glyph\":null,\"view\":{\"id\":\"14598\"}},\"id\":\"14597\",\"type\":\"GlyphRenderer\"},{\"attributes\":{},\"id\":\"16731\",\"type\":\"YearsTicker\"},{\"attributes\":{\"data_source\":{\"id\":\"16213\"},\"glyph\":{\"id\":\"16216\"},\"hover_glyph\":null,\"muted_glyph\":{\"id\":\"16218\"},\"nonselection_glyph\":{\"id\":\"16217\"},\"selection_glyph\":null,\"view\":{\"id\":\"16220\"}},\"id\":\"16219\",\"type\":\"GlyphRenderer\"},{\"attributes\":{\"axis\":{\"id\":\"15981\"},\"dimension\":1,\"grid_line_color\":null,\"ticker\":null},\"id\":\"15984\",\"type\":\"Grid\"},{\"attributes\":{\"line_color\":\"green\",\"line_width\":2,\"x\":{\"field\":\"date\"},\"y\":{\"field\":\"value\"}},\"id\":\"16247\",\"type\":\"Line\"},{\"attributes\":{\"num_minor_ticks\":5,\"tickers\":[{\"id\":\"14604\"},{\"id\":\"14605\"},{\"id\":\"14606\"},{\"id\":\"14607\"},{\"id\":\"14608\"},{\"id\":\"14609\"},{\"id\":\"14610\"},{\"id\":\"14611\"},{\"id\":\"14612\"},{\"id\":\"14613\"},{\"id\":\"14614\"},{\"id\":\"14615\"}]},\"id\":\"14567\",\"type\":\"DatetimeTicker\"},{\"attributes\":{\"line_alpha\":0.1,\"line_color\":\"green\",\"line_width\":2,\"x\":{\"field\":\"date\"},\"y\":{\"field\":\"value\"}},\"id\":\"16922\",\"type\":\"Line\"},{\"attributes\":{},\"id\":\"16031\",\"type\":\"Selection\"},{\"attributes\":{\"bottom_units\":\"screen\",\"fill_alpha\":0.5,\"fill_color\":\"lightgrey\",\"left_units\":\"screen\",\"level\":\"overlay\",\"line_alpha\":1.0,\"line_color\":\"black\",\"line_dash\":[4,4],\"line_width\":2,\"render_mode\":\"css\",\"right_units\":\"screen\",\"top_units\":\"screen\"},\"id\":\"17401\",\"type\":\"BoxAnnotation\"},{\"attributes\":{},\"id\":\"15269\",\"type\":\"LinearScale\"},{\"attributes\":{\"line_alpha\":0.1,\"line_color\":\"green\",\"line_width\":2,\"x\":{\"field\":\"date\"},\"y\":{\"field\":\"value\"}},\"id\":\"16953\",\"type\":\"Line\"},{\"attributes\":{\"line_color\":\"green\",\"line_width\":2,\"x\":{\"field\":\"date\"},\"y\":{\"field\":\"value\"}},\"id\":\"16921\",\"type\":\"Line\"},{\"attributes\":{},\"id\":\"14615\",\"type\":\"YearsTicker\"},{\"attributes\":{\"label\":{\"value\":\"max_heat\"},\"renderers\":[{\"id\":\"16219\"}]},\"id\":\"16243\",\"type\":\"LegendItem\"},{\"attributes\":{},\"id\":\"17410\",\"type\":\"DatetimeTickFormatter\"},{\"attributes\":{\"months\":[0,1,2,3,4,5,6,7,8,9,10,11]},\"id\":\"15316\",\"type\":\"MonthsTicker\"},{\"attributes\":{},\"id\":\"16950\",\"type\":\"Selection\"},{\"attributes\":{\"axis_label\":\"Temperature (C)\",\"bounds\":\"auto\",\"formatter\":{\"id\":\"14590\"},\"major_label_orientation\":\"horizontal\",\"ticker\":{\"id\":\"14571\"}},\"id\":\"14570\",\"type\":\"LinearAxis\"},{\"attributes\":{\"axis_label\":\"Date\",\"bounds\":\"auto\",\"formatter\":{\"id\":\"15999\"},\"major_label_orientation\":\"horizontal\",\"ticker\":{\"id\":\"15978\"}},\"id\":\"15977\",\"type\":\"DatetimeAxis\"},{\"attributes\":{\"click_policy\":\"mute\",\"items\":[{\"id\":\"14618\"},{\"id\":\"14647\"},{\"id\":\"14832\"},{\"id\":\"14865\"}],\"location\":[0,0]},\"id\":\"14617\",\"type\":\"Legend\"},{\"attributes\":{\"line_alpha\":0.1,\"line_color\":\"green\",\"line_width\":2,\"x\":{\"field\":\"date\"},\"y\":{\"field\":\"value\"}},\"id\":\"16217\",\"type\":\"Line\"},{\"attributes\":{\"months\":[0,6]},\"id\":\"16730\",\"type\":\"MonthsTicker\"},{\"attributes\":{\"source\":{\"id\":\"14591\"}},\"id\":\"14598\",\"type\":\"CDSView\"},{\"attributes\":{\"callback\":null,\"formatters\":{\"@{date}\":\"datetime\"},\"renderers\":[{\"id\":\"14597\"},{\"id\":\"14625\"},{\"id\":\"14808\"},{\"id\":\"14839\"}],\"tags\":[\"hv_created\"],\"tooltips\":[[\"Variable\",\"@{Variable}\"],[\"date\",\"@{date}{%F %T}\"],[\"value\",\"@{value}\"]]},\"id\":\"14553\",\"type\":\"HoverTool\"},{\"attributes\":{\"source\":{\"id\":\"16949\"}},\"id\":\"16956\",\"type\":\"CDSView\"},{\"attributes\":{\"axis_label\":\"Date\",\"bounds\":\"auto\",\"formatter\":{\"id\":\"14588\"},\"major_label_orientation\":\"horizontal\",\"ticker\":{\"id\":\"14567\"}},\"id\":\"14566\",\"type\":\"DatetimeAxis\"},{\"attributes\":{\"fill_alpha\":{\"value\":0.1},\"fill_color\":{\"value\":\"#ff7e0e\"},\"line_alpha\":{\"value\":0.1},\"line_color\":{\"value\":\"#ff7e0e\"},\"size\":{\"units\":\"screen\",\"value\":5.477225575051661},\"x\":{\"field\":\"date\"},\"y\":{\"field\":\"value\"}},\"id\":\"15328\",\"type\":\"Scatter\"},{\"attributes\":{\"line_alpha\":0.2,\"line_color\":\"green\",\"line_width\":2,\"x\":{\"field\":\"date\"},\"y\":{\"field\":\"value\"}},\"id\":\"14838\",\"type\":\"Line\"},{\"attributes\":{\"data\":{\"Variable\":[\"TMIN_Illinois\",\"TMIN_Illinois\",\"TMIN_Illinois\",\"TMIN_Illinois\",\"TMIN_Illinois\",\"TMIN_Illinois\",\"TMIN_Illinois\",\"TMIN_Illinois\",\"TMIN_Illinois\",\"TMIN_Illinois\",\"TMIN_Illinois\",\"TMIN_Illinois\",\"TMIN_Illinois\",\"TMIN_Illinois\",\"TMIN_Illinois\",\"TMIN_Illinois\",\"TMIN_Illinois\",\"TMIN_Illinois\",\"TMIN_Illinois\",\"TMIN_Illinois\",\"TMIN_Illinois\",\"TMIN_Illinois\",\"TMIN_Illinois\",\"TMIN_Illinois\",\"TMIN_Illinois\",\"TMIN_Illinois\",\"TMIN_Illinois\",\"TMIN_Illinois\",\"TMIN_Illinois\",\"TMIN_Illinois\",\"TMIN_Illinois\",\"TMIN_Illinois\",\"TMIN_Illinois\",\"TMIN_Illinois\",\"TMIN_Illinois\",\"TMIN_Illinois\",\"TMIN_Illinois\",\"TMIN_Illinois\",\"TMIN_Illinois\",\"TMIN_Illinois\",\"TMIN_Illinois\",\"TMIN_Illinois\",\"TMIN_Illinois\",\"TMIN_Illinois\",\"TMIN_Illinois\",\"TMIN_Illinois\",\"TMIN_Illinois\",\"TMIN_Illinois\",\"TMIN_Illinois\",\"TMIN_Illinois\",\"TMIN_Illinois\",\"TMIN_Illinois\",\"TMIN_Illinois\",\"TMIN_Illinois\",\"TMIN_Illinois\",\"TMIN_Illinois\",\"TMIN_Illinois\",\"TMIN_Illinois\",\"TMIN_Illinois\",\"TMIN_Illinois\",\"TMIN_Illinois\",\"TMIN_Illinois\",\"TMIN_Illinois\",\"TMIN_Illinois\",\"TMIN_Illinois\",\"TMIN_Illinois\",\"TMIN_Illinois\",\"TMIN_Illinois\",\"TMIN_Illinois\",\"TMIN_Illinois\",\"TMIN_Illinois\",\"TMIN_Illinois\",\"TMIN_Illinois\",\"TMIN_Illinois\",\"TMIN_Illinois\",\"TMIN_Illinois\",\"TMIN_Illinois\",\"TMIN_Illinois\",\"TMIN_Illinois\",\"TMIN_Illinois\",\"TMIN_Illinois\",\"TMIN_Illinois\",\"TMIN_Illinois\",\"TMIN_Illinois\",\"TMIN_Illinois\",\"TMIN_Illinois\",\"TMIN_Illinois\",\"TMIN_Illinois\",\"TMIN_Illinois\",\"TMIN_Illinois\",\"TMIN_Illinois\",\"TMIN_Illinois\",\"TMIN_Illinois\",\"TMIN_Illinois\",\"TMIN_Illinois\",\"TMIN_Illinois\",\"TMIN_Illinois\",\"TMIN_Illinois\",\"TMIN_Illinois\",\"TMIN_Illinois\",\"TMIN_Illinois\",\"TMIN_Illinois\",\"TMIN_Illinois\",\"TMIN_Illinois\",\"TMIN_Illinois\",\"TMIN_Illinois\",\"TMIN_Illinois\",\"TMIN_Illinois\",\"TMIN_Illinois\",\"TMIN_Illinois\",\"TMIN_Illinois\",\"TMIN_Illinois\",\"TMIN_Illinois\",\"TMIN_Illinois\",\"TMIN_Illinois\",\"TMIN_Illinois\",\"TMIN_Illinois\",\"TMIN_Illinois\",\"TMIN_Illinois\",\"TMIN_Illinois\",\"TMIN_Illinois\",\"TMIN_Illinois\",\"TMIN_Illinois\",\"TMIN_Illinois\",\"TMIN_Illinois\",\"TMIN_Illinois\",\"TMIN_Illinois\",\"TMIN_Illinois\",\"TMIN_Illinois\",\"TMIN_Illinois\",\"TMIN_Illinois\",\"TMIN_Illinois\",\"TMIN_Illinois\",\"TMIN_Illinois\",\"TMIN_Illinois\",\"TMIN_Illinois\",\"TMIN_Illinois\",\"TMIN_Illinois\",\"TMIN_Illinois\",\"TMIN_Illinois\",\"TMIN_Illinois\",\"TMIN_Illinois\",\"TMIN_Illinois\",\"TMIN_Illinois\",\"TMIN_Illinois\",\"TMIN_Illinois\",\"TMIN_Illinois\",\"TMIN_Illinois\",\"TMIN_Illinois\",\"TMIN_Illinois\",\"TMIN_Illinois\",\"TMIN_Illinois\",\"TMIN_Illinois\",\"TMIN_Illinois\",\"TMIN_Illinois\",\"TMIN_Illinois\",\"TMIN_Illinois\",\"TMIN_Illinois\",\"TMIN_Illinois\",\"TMIN_Illinois\",\"TMIN_Illinois\",\"TMIN_Illinois\",\"TMIN_Illinois\",\"TMIN_Illinois\",\"TMIN_Illinois\",\"TMIN_Illinois\",\"TMIN_Illinois\",\"TMIN_Illinois\",\"TMIN_Illinois\",\"TMIN_Illinois\",\"TMIN_Illinois\",\"TMIN_Illinois\",\"TMIN_Illinois\",\"TMIN_Illinois\",\"TMIN_Illinois\",\"TMIN_Illinois\",\"TMIN_Illinois\",\"TMIN_Illinois\",\"TMIN_Illinois\",\"TMIN_Illinois\",\"TMIN_Illinois\",\"TMIN_Illinois\",\"TMIN_Illinois\",\"TMIN_Illinois\",\"TMIN_Illinois\",\"TMIN_Illinois\",\"TMIN_Illinois\",\"TMIN_Illinois\",\"TMIN_Illinois\",\"TMIN_Illinois\",\"TMIN_Illinois\",\"TMIN_Illinois\",\"TMIN_Illinois\",\"TMIN_Illinois\",\"TMIN_Illinois\",\"TMIN_Illinois\",\"TMIN_Illinois\",\"TMIN_Illinois\",\"TMIN_Illinois\",\"TMIN_Illinois\",\"TMIN_Illinois\",\"TMIN_Illinois\",\"TMIN_Illinois\",\"TMIN_Illinois\",\"TMIN_Illinois\",\"TMIN_Illinois\",\"TMIN_Illinois\",\"TMIN_Illinois\",\"TMIN_Illinois\",\"TMIN_Illinois\",\"TMIN_Illinois\",\"TMIN_Illinois\",\"TMIN_Illinois\",\"TMIN_Illinois\",\"TMIN_Illinois\",\"TMIN_Illinois\",\"TMIN_Illinois\",\"TMIN_Illinois\",\"TMIN_Illinois\",\"TMIN_Illinois\",\"TMIN_Illinois\",\"TMIN_Illinois\",\"TMIN_Illinois\",\"TMIN_Illinois\",\"TMIN_Illinois\",\"TMIN_Illinois\",\"TMIN_Illinois\",\"TMIN_Illinois\",\"TMIN_Illinois\",\"TMIN_Illinois\",\"TMIN_Illinois\",\"TMIN_Illinois\",\"TMIN_Illinois\",\"TMIN_Illinois\",\"TMIN_Illinois\",\"TMIN_Illinois\",\"TMIN_Illinois\",\"TMIN_Illinois\",\"TMIN_Illinois\",\"TMIN_Illinois\",\"TMIN_Illinois\",\"TMIN_Illinois\",\"TMIN_Illinois\",\"TMIN_Illinois\",\"TMIN_Illinois\",\"TMIN_Illinois\",\"TMIN_Illinois\",\"TMIN_Illinois\",\"TMIN_Illinois\",\"TMIN_Illinois\",\"TMIN_Illinois\",\"TMIN_Illinois\",\"TMIN_Illinois\",\"TMIN_Illinois\",\"TMIN_Illinois\",\"TMIN_Illinois\",\"TMIN_Illinois\",\"TMIN_Illinois\",\"TMIN_Illinois\",\"TMIN_Illinois\",\"TMIN_Illinois\",\"TMIN_Illinois\",\"TMIN_Illinois\",\"TMIN_Illinois\",\"TMIN_Illinois\",\"TMIN_Illinois\",\"TMIN_Illinois\",\"TMIN_Illinois\",\"TMIN_Illinois\",\"TMIN_Illinois\",\"TMIN_Illinois\",\"TMIN_Illinois\",\"TMIN_Illinois\",\"TMIN_Illinois\",\"TMIN_Illinois\",\"TMIN_Illinois\",\"TMIN_Illinois\",\"TMIN_Illinois\",\"TMIN_Illinois\",\"TMIN_Illinois\",\"TMIN_Illinois\",\"TMIN_Illinois\",\"TMIN_Illinois\",\"TMIN_Illinois\",\"TMIN_Illinois\",\"TMIN_Illinois\",\"TMIN_Illinois\",\"TMIN_Illinois\",\"TMIN_Illinois\",\"TMIN_Illinois\",\"TMIN_Illinois\",\"TMIN_Illinois\",\"TMIN_Illinois\",\"TMIN_Illinois\",\"TMIN_Illinois\",\"TMIN_Illinois\",\"TMIN_Illinois\",\"TMIN_Illinois\",\"TMIN_Illinois\",\"TMIN_Illinois\",\"TMIN_Illinois\",\"TMIN_Illinois\",\"TMIN_Illinois\",\"TMIN_Illinois\",\"TMIN_Illinois\",\"TMIN_Illinois\",\"TMIN_Illinois\",\"TMIN_Illinois\",\"TMIN_Illinois\",\"TMIN_Illinois\",\"TMIN_Illinois\",\"TMIN_Illinois\",\"TMIN_Illinois\",\"TMIN_Illinois\",\"TMIN_Illinois\",\"TMIN_Illinois\",\"TMIN_Illinois\",\"TMIN_Illinois\",\"TMIN_Illinois\",\"TMIN_Illinois\",\"TMIN_Illinois\",\"TMIN_Illinois\",\"TMIN_Illinois\",\"TMIN_Illinois\",\"TMIN_Illinois\",\"TMIN_Illinois\",\"TMIN_Illinois\",\"TMIN_Illinois\",\"TMIN_Illinois\",\"TMIN_Illinois\",\"TMIN_Illinois\",\"TMIN_Illinois\",\"TMIN_Illinois\",\"TMIN_Illinois\",\"TMIN_Illinois\",\"TMIN_Illinois\",\"TMIN_Illinois\",\"TMIN_Illinois\",\"TMIN_Illinois\",\"TMIN_Illinois\",\"TMIN_Illinois\",\"TMIN_Illinois\",\"TMIN_Illinois\",\"TMIN_Illinois\",\"TMIN_Illinois\",\"TMIN_Illinois\",\"TMIN_Illinois\",\"TMIN_Illinois\",\"TMIN_Illinois\",\"TMIN_Illinois\",\"TMIN_Illinois\",\"TMIN_Illinois\",\"TMIN_Illinois\",\"TMIN_Illinois\",\"TMIN_Illinois\",\"TMIN_Illinois\",\"TMIN_Illinois\",\"TMIN_Illinois\",\"TMIN_Illinois\",\"TMIN_Illinois\",\"TMIN_Illinois\",\"TMIN_Illinois\",\"TMIN_Illinois\",\"TMIN_Illinois\",\"TMIN_Illinois\"],\"date\":{\"__ndarray__\":\"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\",\"dtype\":\"float64\",\"shape\":[365]},\"value\":{\"__ndarray__\":\"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\",\"dtype\":\"float64\",\"shape\":[365]}},\"selected\":{\"id\":\"14592\"},\"selection_policy\":{\"id\":\"14645\"}},\"id\":\"14591\",\"type\":\"ColumnDataSource\"},{\"attributes\":{\"fill_alpha\":{\"value\":0.2},\"fill_color\":{\"value\":\"#1f77b3\"},\"line_alpha\":{\"value\":0.2},\"line_color\":{\"value\":\"#1f77b3\"},\"size\":{\"units\":\"screen\",\"value\":5.477225575051661},\"x\":{\"field\":\"date\"},\"y\":{\"field\":\"value\"}},\"id\":\"15301\",\"type\":\"Scatter\"},{\"attributes\":{},\"id\":\"14592\",\"type\":\"Selection\"},{\"attributes\":{\"callback\":null,\"formatters\":{\"@{date}\":\"datetime\"},\"renderers\":[{\"id\":\"16713\"},{\"id\":\"16741\"},{\"id\":\"16924\"},{\"id\":\"16955\"}],\"tags\":[\"hv_created\"],\"tooltips\":[[\"Variable\",\"@{Variable}\"],[\"date\",\"@{date}{%F %T}\"],[\"value\",\"@{value}\"]]},\"id\":\"16669\",\"type\":\"HoverTool\"},{\"attributes\":{},\"id\":\"17397\",\"type\":\"PanTool\"},{\"attributes\":{},\"id\":\"14803\",\"type\":\"Selection\"},{\"attributes\":{\"months\":[0,6]},\"id\":\"14614\",\"type\":\"MonthsTicker\"},{\"attributes\":{\"data_source\":{\"id\":\"15296\"},\"glyph\":{\"id\":\"15299\"},\"hover_glyph\":null,\"muted_glyph\":{\"id\":\"15301\"},\"nonselection_glyph\":{\"id\":\"15300\"},\"selection_glyph\":null,\"view\":{\"id\":\"15303\"}},\"id\":\"15302\",\"type\":\"GlyphRenderer\"},{\"attributes\":{\"label\":{\"value\":\"max_cold\"},\"renderers\":[{\"id\":\"16250\"}]},\"id\":\"16276\",\"type\":\"LegendItem\"},{\"attributes\":{\"fill_alpha\":{\"value\":0.2},\"fill_color\":{\"value\":\"#ff7e0e\"},\"line_alpha\":{\"value\":0.2},\"line_color\":{\"value\":\"#ff7e0e\"},\"size\":{\"units\":\"screen\",\"value\":5.477225575051661},\"x\":{\"field\":\"date\"},\"y\":{\"field\":\"value\"}},\"id\":\"16740\",\"type\":\"Scatter\"},{\"attributes\":{\"data_source\":{\"id\":\"16735\"},\"glyph\":{\"id\":\"16738\"},\"hover_glyph\":null,\"muted_glyph\":{\"id\":\"16740\"},\"nonselection_glyph\":{\"id\":\"16739\"},\"selection_glyph\":null,\"view\":{\"id\":\"16742\"}},\"id\":\"16741\",\"type\":\"GlyphRenderer\"},{\"attributes\":{\"fill_alpha\":{\"value\":0.2},\"fill_color\":{\"value\":\"#1f77b3\"},\"line_alpha\":{\"value\":0.2},\"line_color\":{\"value\":\"#1f77b3\"},\"size\":{\"units\":\"screen\",\"value\":5.477225575051661},\"x\":{\"field\":\"date\"},\"y\":{\"field\":\"value\"}},\"id\":\"14596\",\"type\":\"Scatter\"},{\"attributes\":{},\"id\":\"16690\",\"type\":\"SaveTool\"},{\"attributes\":{\"line_alpha\":0.1,\"line_color\":\"green\",\"line_width\":2,\"x\":{\"field\":\"date\"},\"y\":{\"field\":\"value\"}},\"id\":\"14837\",\"type\":\"Line\"},{\"attributes\":{\"active_drag\":\"auto\",\"active_inspect\":\"auto\",\"active_multi\":null,\"active_scroll\":\"auto\",\"active_tap\":\"auto\",\"tools\":[{\"id\":\"16669\"},{\"id\":\"16690\"},{\"id\":\"16691\"},{\"id\":\"16692\"},{\"id\":\"16693\"},{\"id\":\"16694\"}]},\"id\":\"16696\",\"type\":\"Toolbar\"},{\"attributes\":{\"axis\":{\"id\":\"15977\"},\"grid_line_color\":null,\"ticker\":null},\"id\":\"15980\",\"type\":\"Grid\"},{\"attributes\":{},\"id\":\"17467\",\"type\":\"UnionRenderers\"},{\"attributes\":{\"mantissas\":[1,2,5],\"max_interval\":500.0,\"num_minor_ticks\":0},\"id\":\"14604\",\"type\":\"AdaptiveTicker\"},{\"attributes\":{\"fill_color\":{\"value\":\"#1f77b3\"},\"line_color\":{\"value\":\"#1f77b3\"},\"size\":{\"units\":\"screen\",\"value\":5.477225575051661},\"x\":{\"field\":\"date\"},\"y\":{\"field\":\"value\"}},\"id\":\"14594\",\"type\":\"Scatter\"},{\"attributes\":{\"overlay\":{\"id\":\"16695\"}},\"id\":\"16693\",\"type\":\"BoxZoomTool\"},{\"attributes\":{\"text\":\"Viable Growing Zone to Monthly Temperatures\",\"text_color\":{\"value\":\"black\"},\"text_font_size\":{\"value\":\"12pt\"}},\"id\":\"15263\",\"type\":\"Title\"},{\"attributes\":{\"data\":{\"Variable\":[\"max_cold\",\"max_cold\",\"max_cold\",\"max_cold\",\"max_cold\",\"max_cold\",\"max_cold\",\"max_cold\",\"max_cold\",\"max_cold\",\"max_cold\",\"max_cold\",\"max_cold\",\"max_cold\",\"max_cold\",\"max_cold\",\"max_cold\",\"max_cold\",\"max_cold\",\"max_cold\",\"max_cold\",\"max_cold\",\"max_cold\",\"max_cold\",\"max_cold\",\"max_cold\",\"max_cold\",\"max_cold\",\"max_cold\",\"max_cold\",\"max_cold\",\"max_cold\",\"max_cold\",\"max_cold\",\"max_cold\",\"max_cold\",\"max_cold\",\"max_cold\",\"max_cold\",\"max_cold\",\"max_cold\",\"max_cold\",\"max_cold\",\"max_cold\",\"max_cold\",\"max_cold\",\"max_cold\",\"max_cold\",\"max_cold\",\"max_cold\",\"max_cold\",\"max_cold\",\"max_cold\",\"max_cold\",\"max_cold\",\"max_cold\",\"max_cold\",\"max_cold\",\"max_cold\",\"max_cold\",\"max_cold\",\"max_cold\",\"max_cold\",\"max_cold\",\"max_cold\",\"max_cold\",\"max_cold\",\"max_cold\",\"max_cold\",\"max_cold\",\"max_cold\",\"max_cold\",\"max_cold\",\"max_cold\",\"max_cold\",\"max_cold\",\"max_cold\",\"max_cold\",\"max_cold\",\"max_cold\",\"max_cold\",\"max_cold\",\"max_cold\",\"max_cold\",\"max_cold\",\"max_cold\",\"max_cold\",\"max_cold\",\"max_cold\",\"max_cold\",\"max_cold\",\"max_cold\",\"max_cold\",\"max_cold\",\"max_cold\",\"max_cold\",\"max_cold\",\"max_cold\",\"max_cold\",\"max_cold\",\"max_cold\",\"max_cold\",\"max_cold\",\"max_cold\",\"max_cold\",\"max_cold\",\"max_cold\",\"max_cold\",\"max_cold\",\"max_cold\",\"max_cold\",\"max_cold\",\"max_cold\",\"max_cold\",\"max_cold\",\"max_cold\",\"max_cold\",\"max_cold\",\"max_cold\",\"max_cold\",\"max_cold\",\"max_cold\",\"max_cold\",\"max_cold\",\"max_cold\",\"max_cold\",\"max_cold\",\"max_cold\",\"max_cold\",\"max_cold\",\"max_cold\",\"max_cold\",\"max_cold\",\"max_cold\",\"max_cold\",\"max_cold\",\"max_cold\",\"max_cold\",\"max_cold\",\"max_cold\",\"max_cold\",\"max_cold\",\"max_cold\",\"max_cold\",\"max_cold\",\"max_cold\",\"max_cold\",\"max_cold\",\"max_cold\",\"max_cold\",\"max_cold\",\"max_cold\",\"max_cold\",\"max_cold\",\"max_cold\",\"max_cold\",\"max_cold\",\"max_cold\",\"max_cold\",\"max_cold\",\"max_cold\",\"max_cold\",\"max_cold\",\"max_cold\",\"max_cold\",\"max_cold\",\"max_cold\",\"max_cold\",\"max_cold\",\"max_cold\",\"max_cold\",\"max_cold\",\"max_cold\",\"max_cold\",\"max_cold\",\"max_cold\",\"max_cold\",\"max_cold\",\"max_cold\",\"max_cold\",\"max_cold\",\"max_cold\",\"max_cold\",\"max_cold\",\"max_cold\",\"max_cold\",\"max_cold\",\"max_cold\",\"max_cold\",\"max_cold\",\"max_cold\",\"max_cold\",\"max_cold\",\"max_cold\",\"max_cold\",\"max_cold\",\"max_cold\",\"max_cold\",\"max_cold\",\"max_cold\",\"max_cold\",\"max_cold\",\"max_cold\",\"max_cold\",\"max_cold\",\"max_cold\",\"max_cold\",\"max_cold\",\"max_cold\",\"max_cold\",\"max_cold\",\"max_cold\",\"max_cold\",\"max_cold\",\"max_cold\",\"max_cold\",\"max_cold\",\"max_cold\",\"max_cold\",\"max_cold\",\"max_cold\",\"max_cold\",\"max_cold\",\"max_cold\",\"max_cold\",\"max_cold\",\"max_cold\",\"max_cold\",\"max_cold\",\"max_cold\",\"max_cold\",\"max_cold\",\"max_cold\",\"max_cold\",\"max_cold\",\"max_cold\",\"max_cold\",\"max_cold\",\"max_cold\",\"max_cold\",\"max_cold\",\"max_cold\",\"max_cold\",\"max_cold\",\"max_cold\",\"max_cold\",\"max_cold\",\"max_cold\",\"max_cold\",\"max_cold\",\"max_cold\",\"max_cold\",\"max_cold\",\"max_cold\",\"max_cold\",\"max_cold\",\"max_cold\",\"max_cold\",\"max_cold\",\"max_cold\",\"max_cold\",\"max_cold\",\"max_cold\",\"max_cold\",\"max_cold\",\"max_cold\",\"max_cold\",\"max_cold\",\"max_cold\",\"max_cold\",\"max_cold\",\"max_cold\",\"max_cold\",\"max_cold\",\"max_cold\",\"max_cold\",\"max_cold\",\"max_cold\",\"max_cold\",\"max_cold\",\"max_cold\",\"max_cold\",\"max_cold\",\"max_cold\",\"max_cold\",\"max_cold\",\"max_cold\",\"max_cold\",\"max_cold\",\"max_cold\",\"max_cold\",\"max_cold\",\"max_cold\",\"max_cold\",\"max_cold\",\"max_cold\",\"max_cold\",\"max_cold\",\"max_cold\",\"max_cold\",\"max_cold\",\"max_cold\",\"max_cold\",\"max_cold\",\"max_cold\",\"max_cold\",\"max_cold\",\"max_cold\",\"max_cold\",\"max_cold\",\"max_cold\",\"max_cold\",\"max_cold\",\"max_cold\",\"max_cold\",\"max_cold\",\"max_cold\",\"max_cold\",\"max_cold\",\"max_cold\",\"max_cold\",\"max_cold\",\"max_cold\",\"max_cold\",\"max_cold\",\"max_cold\",\"max_cold\",\"max_cold\",\"max_cold\",\"max_cold\",\"max_cold\",\"max_cold\",\"max_cold\",\"max_cold\",\"max_cold\",\"max_cold\",\"max_cold\",\"max_cold\",\"max_cold\",\"max_cold\",\"max_cold\",\"max_cold\",\"max_cold\",\"max_cold\",\"max_cold\",\"max_cold\",\"max_cold\",\"max_cold\",\"max_cold\",\"max_cold\",\"max_cold\",\"max_cold\",\"max_cold\",\"max_cold\",\"max_cold\",\"max_cold\",\"max_cold\",\"max_cold\",\"max_cold\",\"max_cold\",\"max_cold\",\"max_cold\",\"max_cold\",\"max_cold\",\"max_cold\"],\"date\":{\"__ndarray__\":\"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\",\"dtype\":\"float64\",\"shape\":[365]},\"value\":[0,0,0,0,0,0,0,0,0,0,0,0,0,0,0,0,0,0,0,0,0,0,0,0,0,0,0,0,0,0,0,0,0,0,0,0,0,0,0,0,0,0,0,0,0,0,0,0,0,0,0,0,0,0,0,0,0,0,0,0,0,0,0,0,0,0,0,0,0,0,0,0,0,0,0,0,0,0,0,0,0,0,0,0,0,0,0,0,0,0,0,0,0,0,0,0,0,0,0,0,0,0,0,0,0,0,0,0,0,0,0,0,0,0,0,0,0,0,0,0,0,0,0,0,0,0,0,0,0,0,0,0,0,0,0,0,0,0,0,0,0,0,0,0,0,0,0,0,0,0,0,0,0,0,0,0,0,0,0,0,0,0,0,0,0,0,0,0,0,0,0,0,0,0,0,0,0,0,0,0,0,0,0,0,0,0,0,0,0,0,0,0,0,0,0,0,0,0,0,0,0,0,0,0,0,0,0,0,0,0,0,0,0,0,0,0,0,0,0,0,0,0,0,0,0,0,0,0,0,0,0,0,0,0,0,0,0,0,0,0,0,0,0,0,0,0,0,0,0,0,0,0,0,0,0,0,0,0,0,0,0,0,0,0,0,0,0,0,0,0,0,0,0,0,0,0,0,0,0,0,0,0,0,0,0,0,0,0,0,0,0,0,0,0,0,0,0,0,0,0,0,0,0,0,0,0,0,0,0,0,0,0,0,0,0,0,0,0,0,0,0,0,0,0,0,0,0,0,0,0,0,0,0,0,0,0,0,0,0,0,0,0,0,0,0,0,0,0,0,0,0,0,0,0,0,0,0,0,0,0,0,0,0,0,0]},\"selected\":{\"id\":\"16950\"},\"selection_policy\":{\"id\":\"17006\"}},\"id\":\"16949\",\"type\":\"ColumnDataSource\"},{\"attributes\":{\"line_alpha\":0.2,\"line_color\":\"green\",\"line_width\":2,\"x\":{\"field\":\"date\"},\"y\":{\"field\":\"value\"}},\"id\":\"16954\",\"type\":\"Line\"},{\"attributes\":{\"label\":{\"value\":\"max_heat\"},\"renderers\":[{\"id\":\"17630\"}]},\"id\":\"17654\",\"type\":\"LegendItem\"},{\"attributes\":{\"fill_alpha\":{\"value\":0.1},\"fill_color\":{\"value\":\"#1f77b3\"},\"line_alpha\":{\"value\":0.1},\"line_color\":{\"value\":\"#1f77b3\"},\"size\":{\"units\":\"screen\",\"value\":5.477225575051661},\"x\":{\"field\":\"date\"},\"y\":{\"field\":\"value\"}},\"id\":\"15300\",\"type\":\"Scatter\"},{\"attributes\":{\"fill_color\":{\"value\":\"#ff7e0e\"},\"line_color\":{\"value\":\"#ff7e0e\"},\"size\":{\"units\":\"screen\",\"value\":5.477225575051661},\"x\":{\"field\":\"date\"},\"y\":{\"field\":\"value\"}},\"id\":\"15327\",\"type\":\"Scatter\"},{\"attributes\":{},\"id\":\"15320\",\"type\":\"YearsTicker\"},{\"attributes\":{},\"id\":\"16214\",\"type\":\"Selection\"},{\"attributes\":{\"source\":{\"id\":\"16735\"}},\"id\":\"16742\",\"type\":\"CDSView\"},{\"attributes\":{\"overlay\":{\"id\":\"17401\"}},\"id\":\"17399\",\"type\":\"BoxZoomTool\"},{\"attributes\":{},\"id\":\"16979\",\"type\":\"UnionRenderers\"},{\"attributes\":{\"text\":\"Viable Growing Zone to Monthly Temperatures\",\"text_color\":{\"value\":\"black\"},\"text_font_size\":{\"value\":\"12pt\"}},\"id\":\"14558\",\"type\":\"Title\"},{\"attributes\":{},\"id\":\"17006\",\"type\":\"UnionRenderers\"},{\"attributes\":{\"num_minor_ticks\":5,\"tickers\":[{\"id\":\"16015\"},{\"id\":\"16016\"},{\"id\":\"16017\"},{\"id\":\"16018\"},{\"id\":\"16019\"},{\"id\":\"16020\"},{\"id\":\"16021\"},{\"id\":\"16022\"},{\"id\":\"16023\"},{\"id\":\"16024\"},{\"id\":\"16025\"},{\"id\":\"16026\"}]},\"id\":\"15978\",\"type\":\"DatetimeTicker\"},{\"attributes\":{\"months\":[0,4,8]},\"id\":\"15318\",\"type\":\"MonthsTicker\"},{\"attributes\":{\"text\":\"Viable Growing Zone to Monthly Temperatures\",\"text_color\":{\"value\":\"black\"},\"text_font_size\":{\"value\":\"12pt\"}},\"id\":\"17380\",\"type\":\"Title\"},{\"attributes\":{},\"id\":\"16026\",\"type\":\"YearsTicker\"}],\"root_ids\":[\"14549\",\"18468\"]},\"title\":\"Bokeh Application\",\"version\":\"2.0.2\"}};\n",
       "  var render_items = [{\"docid\":\"ab7ef226-bce9-4a4f-a1c5-2d2d04a4ca52\",\"root_ids\":[\"14549\"],\"roots\":{\"14549\":\"c8a5da28-7b82-4d95-93be-8bed8a467930\"}}];\n",
       "  root.Bokeh.embed.embed_items_notebook(docs_json, render_items);\n",
       "  }\n",
       "if (root.Bokeh !== undefined) {\n",
       "    embed_document(root);\n",
       "  } else {\n",
       "    var attempts = 0;\n",
       "    var timer = setInterval(function(root) {\n",
       "      if (root.Bokeh !== undefined) {\n",
       "        clearInterval(timer);\n",
       "        embed_document(root);\n",
       "      } else if (document.readyState == \"complete\") {\n",
       "        attempts++;\n",
       "        if (attempts > 100) {\n",
       "          clearInterval(timer);\n",
       "          console.log(\"Bokeh: ERROR: Unable to run BokehJS code because BokehJS library is missing\");\n",
       "        }\n",
       "      }\n",
       "    }, 10, root)\n",
       "  }\n",
       "})(window);</script>"
      ],
      "text/plain": [
       "Column\n",
       "    [0] Row\n",
       "        [0] HoloViews(Overlay)\n",
       "        [1] HoloViews(Overlay)\n",
       "    [1] Row\n",
       "        [0] HoloViews(Overlay)\n",
       "        [1] HoloViews(Overlay)\n",
       "    [2] Row\n",
       "        [0] HoloViews(Overlay)"
      ]
     },
     "execution_count": 91,
     "metadata": {
      "application/vnd.holoviews_exec.v0+json": {
       "id": "14549"
      }
     },
     "output_type": "execute_result"
    }
   ],
   "source": [
    "#lethal_temp(temp_graph,'Illinois',2010)\n",
    "\n",
    "pn.Column(\n",
    "    pn.Row(lethal_temp(temp_graph,'Illinois', 2010),lethal_temp(temp_graph,'Iowa', 2010)),\n",
    "    pn.Row(lethal_temp(temp_graph,'Nebraska', 2010),lethal_temp(temp_graph,'Indiana', 2010)),\n",
    "    pn.Row(lethal_temp(temp_graph,'Ohio', 2010))\n",
    ")"
   ]
  },
  {
   "cell_type": "code",
   "execution_count": null,
   "metadata": {},
   "outputs": [],
   "source": []
  }
 ],
 "metadata": {
  "kernelspec": {
   "display_name": "Python 3",
   "language": "python",
   "name": "python3"
  },
  "language_info": {
   "codemirror_mode": {
    "name": "ipython",
    "version": 3
   },
   "file_extension": ".py",
   "mimetype": "text/x-python",
   "name": "python",
   "nbconvert_exporter": "python",
   "pygments_lexer": "ipython3",
   "version": "3.7.7"
  }
 },
 "nbformat": 4,
 "nbformat_minor": 4
}
