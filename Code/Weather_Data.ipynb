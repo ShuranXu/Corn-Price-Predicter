{
 "cells": [
  {
   "cell_type": "markdown",
   "metadata": {},
   "source": [
    "# Accessing NOAA's National Centers for Environmental Information (NCEI) Climate Data Online\n",
    "\n",
    "Climate Data Online provides developers access to historical climate and weather data. The API is broken into seven distinct endpoints branching off the main url `https://www.ncdc.noaa.gov/cdo-web/webservices/v2`. The following workbook will access the four below:\n",
    "\n",
    "### Datasets\n",
    "All of the CDO data are in datasets. The containing dataset must be known before attempting to access its data. Documentation on each of the datasets can be found on the following webpage: https://www.ncdc.noaa.gov/cdo-web/datasets\n",
    "\n",
    "endpoint: `datasets`\n",
    "\n",
    "### Locations\n",
    "Locations can be a specific latitude/longitude point such as a station, or a label representing a bounding area such as a city.\n",
    "endpoint: `locations`\n",
    "\n",
    "### Stations\n",
    "Stations are where the data comes from (for most datasets) and can be considered the smallest granual of location data. If the desired station is known, all of its data can quickly be viewed\n",
    "endpoint: `stations`\n",
    "\n",
    "### Data\n",
    "The data endpoint is used for actually fetching the data.\n",
    "endpoint: `data`\n",
    "-----"
   ]
  },
  {
   "cell_type": "markdown",
   "metadata": {},
   "source": [
    "**Notes**\n",
    "\n",
    "* Documentation for NOAA [Link](https://www.ncdc.noaa.gov/cdo-web/webservices/v2)\n",
    "* Corn-Producing States [Link](https://beef2live.com/story-states-produce-corn-0-107129)\n",
    "* Daily Summaries Documentation [Link](https://www1.ncdc.noaa.gov/pub/data/cdo/documentation/GHCND_documentation.pdf)\n",
    "\n",
    "\n",
    "**Date range: January 1, 2000 to December 31, 2019** "
   ]
  },
  {
   "cell_type": "code",
   "execution_count": 123,
   "metadata": {},
   "outputs": [],
   "source": [
    "import plotly.express as px\n",
    "import requests\n",
    "import pandas as pd\n",
    "import time\n",
    "import calendar\n",
    "from datetime import datetime, timedelta\n",
    "from dotenv import load_dotenv\n",
    "import os\n"
   ]
  },
  {
   "cell_type": "code",
   "execution_count": 124,
   "metadata": {},
   "outputs": [],
   "source": [
    "load_dotenv('keys.env')\n",
    "token = os.getenv(\"token\")"
   ]
  },
  {
   "cell_type": "markdown",
   "metadata": {},
   "source": [
    "-------\n",
    "\n",
    "The NOAA website has over 38,000 weather stations across the United States with varying levels of availability of data. As such, it is difficult to identify singular weather stations to extract. Moreover, due to the set up of the API, the data extraction needed to be done in three steps: \n",
    "\n",
    "1. Identification of the states of interest and their associated FIPS codes\n",
    "2. Identification of individual weather stations with daily weather data\n",
    "3. Extraction of weather data\n",
    "\n",
    "## Step 1: Pulling a Listing of States and Associated FIPS Codes\n",
    "\n",
    "Each State and County in the United States will have an associated Federal Information Processing System (FIPS) Code. FIPS codes will be either two to five characters in length and are used to uniquely identify geographic areas. \n",
    "\n",
    "There are over 3000 counties and county-equivalents (e.g. independent cities, parishes, boroughs) in the United States.\n",
    "\n",
    "Resource: [https://transition.fcc.gov/](https://transition.fcc.gov/oet/info/maps/census/fips/fips.txt#:~:text=FIPS%20codes%20are%20numbers%20which,to%20which%20the%20county%20belongs)\n",
    "\n",
    "\n",
    "\n",
    "\n",
    "\n"
   ]
  },
  {
   "cell_type": "code",
   "execution_count": 126,
   "metadata": {},
   "outputs": [
    {
     "data": {
      "text/plain": [
       "<Response [200]>"
      ]
     },
     "execution_count": 126,
     "metadata": {},
     "output_type": "execute_result"
    }
   ],
   "source": [
    "# Specifies state-level data in the query\n",
    "locationtype = 'locationcategoryid=ST'\n",
    "\n",
    "# API defaults to returning 24 results. To retrieve all states, limit increased to 52\n",
    "limit = '&limit=52'\n",
    "\n",
    "# Send token to website and request listing of state and FIPS Codes\n",
    "url = f'https://www.ncdc.noaa.gov/cdo-web/api/v2/locations?{locationtype}{limit}'\n",
    "headers = { 'token': token}\n",
    "response = requests.get(url,headers=headers)\n",
    "\n",
    "# Response 200 means request returned succesfully\n",
    "response"
   ]
  },
  {
   "cell_type": "code",
   "execution_count": 39,
   "metadata": {},
   "outputs": [
    {
     "data": {
      "text/html": [
       "<div>\n",
       "<style scoped>\n",
       "    .dataframe tbody tr th:only-of-type {\n",
       "        vertical-align: middle;\n",
       "    }\n",
       "\n",
       "    .dataframe tbody tr th {\n",
       "        vertical-align: top;\n",
       "    }\n",
       "\n",
       "    .dataframe thead th {\n",
       "        text-align: right;\n",
       "    }\n",
       "</style>\n",
       "<table border=\"1\" class=\"dataframe\">\n",
       "  <thead>\n",
       "    <tr style=\"text-align: right;\">\n",
       "      <th></th>\n",
       "      <th>mindate</th>\n",
       "      <th>maxdate</th>\n",
       "      <th>name</th>\n",
       "      <th>datacoverage</th>\n",
       "      <th>id</th>\n",
       "    </tr>\n",
       "  </thead>\n",
       "  <tbody>\n",
       "    <tr>\n",
       "      <th>0</th>\n",
       "      <td>1888-02-01</td>\n",
       "      <td>2020-11-22</td>\n",
       "      <td>Alabama</td>\n",
       "      <td>1</td>\n",
       "      <td>FIPS:01</td>\n",
       "    </tr>\n",
       "    <tr>\n",
       "      <th>1</th>\n",
       "      <td>1893-09-01</td>\n",
       "      <td>2020-11-22</td>\n",
       "      <td>Alaska</td>\n",
       "      <td>1</td>\n",
       "      <td>FIPS:02</td>\n",
       "    </tr>\n",
       "    <tr>\n",
       "      <th>2</th>\n",
       "      <td>1867-08-01</td>\n",
       "      <td>2020-11-22</td>\n",
       "      <td>Arizona</td>\n",
       "      <td>1</td>\n",
       "      <td>FIPS:04</td>\n",
       "    </tr>\n",
       "    <tr>\n",
       "      <th>3</th>\n",
       "      <td>1871-07-01</td>\n",
       "      <td>2020-11-22</td>\n",
       "      <td>Arkansas</td>\n",
       "      <td>1</td>\n",
       "      <td>FIPS:05</td>\n",
       "    </tr>\n",
       "    <tr>\n",
       "      <th>4</th>\n",
       "      <td>1850-10-01</td>\n",
       "      <td>2020-11-22</td>\n",
       "      <td>California</td>\n",
       "      <td>1</td>\n",
       "      <td>FIPS:06</td>\n",
       "    </tr>\n",
       "  </tbody>\n",
       "</table>\n",
       "</div>"
      ],
      "text/plain": [
       "      mindate     maxdate        name  datacoverage       id\n",
       "0  1888-02-01  2020-11-22     Alabama             1  FIPS:01\n",
       "1  1893-09-01  2020-11-22      Alaska             1  FIPS:02\n",
       "2  1867-08-01  2020-11-22     Arizona             1  FIPS:04\n",
       "3  1871-07-01  2020-11-22    Arkansas             1  FIPS:05\n",
       "4  1850-10-01  2020-11-22  California             1  FIPS:06"
      ]
     },
     "execution_count": 39,
     "metadata": {},
     "output_type": "execute_result"
    }
   ],
   "source": [
    "# Transform response into dataframe\n",
    "results = response.json()\n",
    "state_list = pd.DataFrame.from_dict(results['results'], orient='columns')\n",
    "state_list.head()"
   ]
  },
  {
   "cell_type": "code",
   "execution_count": 40,
   "metadata": {},
   "outputs": [],
   "source": [
    "# export listing of states and FIPS to csv\n",
    "state_list.to_csv('../Resources/State_List.csv')"
   ]
  },
  {
   "cell_type": "code",
   "execution_count": 41,
   "metadata": {},
   "outputs": [],
   "source": [
    "def get_stateFIPS(state):\n",
    "    '''\n",
    "    Returns FIPS code from csv file\n",
    "    '''\n",
    "    df = pd.read_csv('../Resources/State_List.csv')\n",
    "    return df[df['name'] == state]['id'].iloc[0]"
   ]
  },
  {
   "cell_type": "markdown",
   "metadata": {},
   "source": [
    "------\n",
    "## Step 2: Identifying Individual Weather Stations with Daily Weather Data\n",
    "\n",
    "With the returned FIPS codes, we can now pull ID codes for individual weather stations in each state.\n",
    "\n",
    "Approximately 54% of corn crops in the United States are grown in five states: Illinois, Indiana, Nebraska, Ohio, and Iowa. To get an even sampling of weather data across these states, we will pull the first 10 weather stations retrieved in each state.\n",
    "\n",
    "[Documentation on weather codes for GHCND Datasets](https://www1.ncdc.noaa.gov/pub/data/cdo/documentation/GHCND_documentation.pdf)\n",
    "\n",
    "[Corn State Rankings](https://beef2live.com/story-states-produce-corn-0-107129)"
   ]
  },
  {
   "cell_type": "code",
   "execution_count": 42,
   "metadata": {},
   "outputs": [],
   "source": [
    "corn_states = ['Illinois', 'Indiana', 'Nebraska','Ohio','Iowa']"
   ]
  },
  {
   "cell_type": "code",
   "execution_count": 127,
   "metadata": {},
   "outputs": [
    {
     "name": "stdout",
     "output_type": "stream",
     "text": [
      "complete ***********************************************************************************************************\r"
     ]
    }
   ],
   "source": [
    "for state in corn_states:\n",
    "    # Query to retrieve information on max temperature (TMAX), min temperature (TMIN), and Precipitation (PRCP)\n",
    "    datatype = '&datatypeid=TMAX&datatypeid=TMIN&datatypeid=PRCP'\n",
    "    state_name = state\n",
    "    FIPS = get_stateFIPS(state)\n",
    "    limit = '&limit=10' # limit retrieval to first 10 weather stations\n",
    "    location = f'&locationid={FIPS}'\n",
    "    \n",
    "    # Datefield in the query specifies the station needs to have 20 years of data in this range\n",
    "    # Note: this datefield filter isn't great and you'll frequently see weather stations outside of this range\n",
    "    datefield = f'&startdate=2000-01-01&enddate=2020-01-01'\n",
    "    \n",
    "    # Send token to website and request listing of weather stations\n",
    "    url = f'https://www.ncdc.noaa.gov/cdo-web/api/v2/stations?datasetid=GHCND&{location}{datatype}{datefield}{limit}'\n",
    "    headers = { 'token': token}\n",
    "    response = requests.get(url,headers=headers)\n",
    "    \n",
    "    # transforming the data into a dataframe\n",
    "    data = response.json()['results']\n",
    "    df = pd.DataFrame.from_dict(data, orient='columns')\n",
    "    df['State'] = state_name\n",
    "    df['Location_ID'] = FIPS\n",
    "    df = df.rename(columns={'id':'Station_ID','name':'City_Name'})\n",
    "    \n",
    "    # Appending weather stations for all 5 states to one csv\n",
    "    with open(f'../Resources/station_dataset.csv', 'a') as f:\n",
    "        df.to_csv(f, header=False,index=False)\n",
    "        \n",
    "    #API allows 5 requests per second\n",
    "    time.sleep(1)\n",
    "    \n",
    "    print('Wrote:',state_name,'*'*100,end='\\r')\n",
    "print('complete','*'*100,end='\\r')"
   ]
  },
  {
   "cell_type": "code",
   "execution_count": 43,
   "metadata": {},
   "outputs": [
    {
     "data": {
      "text/html": [
       "<div>\n",
       "<style scoped>\n",
       "    .dataframe tbody tr th:only-of-type {\n",
       "        vertical-align: middle;\n",
       "    }\n",
       "\n",
       "    .dataframe tbody tr th {\n",
       "        vertical-align: top;\n",
       "    }\n",
       "\n",
       "    .dataframe thead th {\n",
       "        text-align: right;\n",
       "    }\n",
       "</style>\n",
       "<table border=\"1\" class=\"dataframe\">\n",
       "  <thead>\n",
       "    <tr style=\"text-align: right;\">\n",
       "      <th></th>\n",
       "      <th>elevation</th>\n",
       "      <th>mindate</th>\n",
       "      <th>maxdate</th>\n",
       "      <th>latitude</th>\n",
       "      <th>name</th>\n",
       "      <th>datacoverage</th>\n",
       "      <th>id</th>\n",
       "      <th>elevationUnit</th>\n",
       "      <th>longitude</th>\n",
       "      <th>State</th>\n",
       "      <th>Location_ID</th>\n",
       "    </tr>\n",
       "  </thead>\n",
       "  <tbody>\n",
       "    <tr>\n",
       "      <th>0</th>\n",
       "      <td>161.5</td>\n",
       "      <td>1893-12-01</td>\n",
       "      <td>2006-04-30</td>\n",
       "      <td>38.37770</td>\n",
       "      <td>ALBION, IL US</td>\n",
       "      <td>0.7538</td>\n",
       "      <td>GHCND:USC00110055</td>\n",
       "      <td>METERS</td>\n",
       "      <td>-88.05690</td>\n",
       "      <td>Illinois</td>\n",
       "      <td>FIPS:17</td>\n",
       "    </tr>\n",
       "    <tr>\n",
       "      <th>1</th>\n",
       "      <td>222.5</td>\n",
       "      <td>1901-01-01</td>\n",
       "      <td>2020-11-20</td>\n",
       "      <td>41.19770</td>\n",
       "      <td>ALEDO, IL US</td>\n",
       "      <td>0.9923</td>\n",
       "      <td>GHCND:USC00110072</td>\n",
       "      <td>METERS</td>\n",
       "      <td>-90.74470</td>\n",
       "      <td>Illinois</td>\n",
       "      <td>FIPS:17</td>\n",
       "    </tr>\n",
       "    <tr>\n",
       "      <th>2</th>\n",
       "      <td>123.4</td>\n",
       "      <td>1892-12-02</td>\n",
       "      <td>2020-11-20</td>\n",
       "      <td>38.86702</td>\n",
       "      <td>ALTON MELVIN PRICE LOCK AND DAM, IL US</td>\n",
       "      <td>0.5784</td>\n",
       "      <td>GHCND:USC00110137</td>\n",
       "      <td>METERS</td>\n",
       "      <td>-90.14886</td>\n",
       "      <td>Illinois</td>\n",
       "      <td>FIPS:17</td>\n",
       "    </tr>\n",
       "    <tr>\n",
       "      <th>3</th>\n",
       "      <td>233.2</td>\n",
       "      <td>2005-02-01</td>\n",
       "      <td>2020-11-20</td>\n",
       "      <td>41.12040</td>\n",
       "      <td>ALTONA, IL US</td>\n",
       "      <td>0.8515</td>\n",
       "      <td>GHCND:USC00110140</td>\n",
       "      <td>METERS</td>\n",
       "      <td>-90.16410</td>\n",
       "      <td>Illinois</td>\n",
       "      <td>FIPS:17</td>\n",
       "    </tr>\n",
       "    <tr>\n",
       "      <th>4</th>\n",
       "      <td>195.1</td>\n",
       "      <td>1895-05-05</td>\n",
       "      <td>2013-11-30</td>\n",
       "      <td>37.48130</td>\n",
       "      <td>ANNA 2 NNE, IL US</td>\n",
       "      <td>0.9854</td>\n",
       "      <td>GHCND:USC00110187</td>\n",
       "      <td>METERS</td>\n",
       "      <td>-89.23440</td>\n",
       "      <td>Illinois</td>\n",
       "      <td>FIPS:17</td>\n",
       "    </tr>\n",
       "  </tbody>\n",
       "</table>\n",
       "</div>"
      ],
      "text/plain": [
       "   elevation     mindate     maxdate  latitude  \\\n",
       "0      161.5  1893-12-01  2006-04-30  38.37770   \n",
       "1      222.5  1901-01-01  2020-11-20  41.19770   \n",
       "2      123.4  1892-12-02  2020-11-20  38.86702   \n",
       "3      233.2  2005-02-01  2020-11-20  41.12040   \n",
       "4      195.1  1895-05-05  2013-11-30  37.48130   \n",
       "\n",
       "                                     name  datacoverage                 id  \\\n",
       "0                           ALBION, IL US        0.7538  GHCND:USC00110055   \n",
       "1                            ALEDO, IL US        0.9923  GHCND:USC00110072   \n",
       "2  ALTON MELVIN PRICE LOCK AND DAM, IL US        0.5784  GHCND:USC00110137   \n",
       "3                           ALTONA, IL US        0.8515  GHCND:USC00110140   \n",
       "4                       ANNA 2 NNE, IL US        0.9854  GHCND:USC00110187   \n",
       "\n",
       "  elevationUnit  longitude     State Location_ID  \n",
       "0        METERS  -88.05690  Illinois     FIPS:17  \n",
       "1        METERS  -90.74470  Illinois     FIPS:17  \n",
       "2        METERS  -90.14886  Illinois     FIPS:17  \n",
       "3        METERS  -90.16410  Illinois     FIPS:17  \n",
       "4        METERS  -89.23440  Illinois     FIPS:17  "
      ]
     },
     "execution_count": 43,
     "metadata": {},
     "output_type": "execute_result"
    }
   ],
   "source": [
    "# Retrieving weather station list for further use\n",
    "state_df = pd.read_csv('../Resources/station_dataset.csv',\n",
    "                       parse_dates=True,\n",
    "                       infer_datetime_format=True,\n",
    "                       names=['elevation','mindate','maxdate',\n",
    "                              'latitude','name','datacoverage',\n",
    "                              'id','elevationUnit','longitude',\n",
    "                              'State','Location_ID'])\n",
    "state_df.head()"
   ]
  },
  {
   "cell_type": "markdown",
   "metadata": {},
   "source": [
    "## Location and Coverage of Selected Weather Stations\n",
    "The graph below shows the location and relative data coverage of the selected weather stations in Illinois, Indiana, Nebraska, Ohio, and Iowa."
   ]
  },
  {
   "cell_type": "code",
   "execution_count": 122,
   "metadata": {},
   "outputs": [
    {
     "data": {
      "application/vnd.plotly.v1+json": {
       "config": {
        "plotlyServerURL": "https://plot.ly"
       },
       "data": [
        {
         "hovertemplate": "State=Illinois<br>datacoverage=%{marker.size}<br>latitude=%{lat}<br>longitude=%{lon}<extra></extra>",
         "lat": [
          38.3777,
          41.1977,
          38.867020000000004,
          41.1204,
          37.4813,
          42.4811,
          39.9275,
          41.78038,
          40.6632,
          42.1153,
          38.3777,
          41.1977,
          38.867020000000004,
          41.1204,
          37.4813,
          42.4811,
          39.9275,
          41.78038,
          40.6632,
          42.1153,
          38.3777,
          41.1977,
          38.867020000000004,
          41.1204,
          37.4813,
          42.4811,
          39.9275,
          41.78038,
          40.6632,
          42.1153,
          38.3777,
          41.1977,
          38.867020000000004,
          41.1204,
          37.4813,
          42.4811,
          39.9275,
          41.78038,
          40.6632,
          42.1153,
          38.3777,
          41.1977,
          38.867020000000004,
          41.1204,
          37.4813,
          42.4811,
          39.9275,
          41.78038,
          40.6632,
          42.1153
         ],
         "legendgroup": "Illinois",
         "lon": [
          -88.0569,
          -90.7447,
          -90.14886,
          -90.1641,
          -89.2344,
          -88.0994,
          -89.7964,
          -88.30925,
          -90.4447,
          -88.1639,
          -88.0569,
          -90.7447,
          -90.14886,
          -90.1641,
          -89.2344,
          -88.0994,
          -89.7964,
          -88.30925,
          -90.4447,
          -88.1639,
          -88.0569,
          -90.7447,
          -90.14886,
          -90.1641,
          -89.2344,
          -88.0994,
          -89.7964,
          -88.30925,
          -90.4447,
          -88.1639,
          -88.0569,
          -90.7447,
          -90.14886,
          -90.1641,
          -89.2344,
          -88.0994,
          -89.7964,
          -88.30925,
          -90.4447,
          -88.1639,
          -88.0569,
          -90.7447,
          -90.14886,
          -90.1641,
          -89.2344,
          -88.0994,
          -89.7964,
          -88.30925,
          -90.4447,
          -88.1639
         ],
         "marker": {
          "color": "#636efa",
          "size": [
           0.7538,
           0.9923,
           0.5784,
           0.8515,
           0.9854,
           0.7922,
           0.821,
           0.9693,
           0.9502,
           0.9153,
           0.7538,
           0.9923,
           0.5784,
           0.8515,
           0.9854,
           0.7922,
           0.821,
           0.9693,
           0.9503,
           0.9153,
           0.7538,
           0.9923,
           0.5784,
           0.8515,
           0.9854,
           0.7922,
           0.821,
           0.9693,
           0.9503,
           0.9153,
           0.7538,
           0.9923,
           0.5784,
           0.8515,
           0.9854,
           0.7922,
           0.821,
           0.9693,
           0.9502,
           0.9153,
           0.7538,
           0.9923,
           0.5784,
           0.8515,
           0.9854,
           0.7922,
           0.821,
           0.9693,
           0.9502,
           0.9153
          ],
          "sizemode": "area",
          "sizeref": 0.004441777777777778
         },
         "mode": "markers",
         "name": "Illinois",
         "showlegend": true,
         "subplot": "mapbox",
         "type": "scattermapbox"
        },
        {
         "hovertemplate": "State=Indiana<br>datacoverage=%{marker.size}<br>latitude=%{lat}<br>longitude=%{lon}<extra></extra>",
         "lat": [
          40.1117,
          41.6639,
          40.2838,
          38.8396,
          40.6683,
          39.1742,
          40.8143,
          38.0302,
          40.535,
          39.5108,
          40.1117,
          41.6639,
          40.2838,
          38.8396,
          40.6683,
          39.1742,
          40.8143,
          38.0302,
          40.535,
          39.5108,
          40.1117,
          41.6639,
          40.2838,
          38.8396,
          40.6683,
          39.1742,
          40.8143,
          38.0302,
          40.535,
          39.5108,
          40.1117,
          41.6639,
          40.2838,
          38.8396,
          40.6683,
          39.1742,
          40.8143,
          38.0302,
          40.535,
          39.5108,
          40.1117,
          41.6639,
          40.2838,
          38.8396,
          40.6683,
          39.1742,
          40.8143,
          38.0302,
          40.535,
          39.5108
         ],
         "legendgroup": "Indiana",
         "lon": [
          -85.7163,
          -85.0183,
          -87.1963,
          -86.5216,
          -84.93,
          -86.5214,
          -85.1546,
          -87.2736,
          -87.4531,
          -87.1241,
          -85.7163,
          -85.0183,
          -87.1963,
          -86.5216,
          -84.93,
          -86.5214,
          -85.1546,
          -87.2736,
          -87.4531,
          -87.1241,
          -85.7163,
          -85.0183,
          -87.1963,
          -86.5216,
          -84.93,
          -86.5214,
          -85.1546,
          -87.2736,
          -87.4531,
          -87.1241,
          -85.7163,
          -85.0183,
          -87.1963,
          -86.5216,
          -84.93,
          -86.5214,
          -85.1546,
          -87.2736,
          -87.4531,
          -87.1241,
          -85.7163,
          -85.0183,
          -87.1963,
          -86.5216,
          -84.93,
          -86.5214,
          -85.1546,
          -87.2736,
          -87.4531,
          -87.1241
         ],
         "marker": {
          "color": "#EF553B",
          "size": [
           0.9836,
           0.8583,
           0.9915,
           0.9574,
           0.9829,
           0.9728,
           0.9737,
           0.4987,
           0.9871,
           0.3455,
           0.9836,
           0.8583,
           0.9915,
           0.9574,
           0.9829,
           0.9728,
           0.9737,
           0.4987,
           0.9871,
           0.3455,
           0.9836,
           0.8583,
           0.9915,
           0.9574,
           0.9829,
           0.9728,
           0.9737,
           0.4987,
           0.9871,
           0.3455,
           0.9836,
           0.8583,
           0.9915,
           0.9574,
           0.9829,
           0.9727,
           0.9737,
           0.4987,
           0.9871,
           0.3455,
           0.9836,
           0.8583,
           0.9915,
           0.9574,
           0.9829,
           0.9727,
           0.9737,
           0.4987,
           0.9871,
           0.3455
          ],
          "sizemode": "area",
          "sizeref": 0.004441777777777778
         },
         "mode": "markers",
         "name": "Indiana",
         "showlegend": true,
         "subplot": "mapbox",
         "type": "scattermapbox"
        },
        {
         "hovertemplate": "State=Nebraska<br>datacoverage=%{marker.size}<br>latitude=%{lat}<br>longitude=%{lon}<extra></extra>",
         "lat": [
          42.4244,
          42.508,
          42.5522,
          41.6854,
          42.1103,
          42.10472,
          42.153890000000004,
          41.9338,
          41.61079,
          41.432159999999996,
          42.4244,
          42.508,
          42.5522,
          41.6854,
          42.1103,
          42.10472,
          42.153890000000004,
          41.9338,
          41.61079,
          41.432159999999996,
          42.4244,
          42.508,
          42.5522,
          41.6854,
          42.1103,
          42.10472,
          42.153890000000004,
          41.9338,
          41.61079,
          41.432159999999996,
          42.4244,
          42.508,
          42.5522,
          41.6854,
          42.1103,
          42.10472,
          42.153890000000004,
          41.9338,
          41.61079,
          41.432159999999996,
          42.4244,
          42.508,
          42.5522,
          41.6854,
          42.1103,
          42.10472,
          42.153890000000004,
          41.9338,
          41.61079,
          41.432159999999996
         ],
         "legendgroup": "Nebraska",
         "lon": [
          -103.7347,
          -103.8108,
          -99.8555,
          -98.0083,
          -102.8967,
          -102.88667,
          -103.20833,
          -103.0186,
          -99.90442,
          -100.27193,
          -103.7347,
          -103.8108,
          -99.8555,
          -98.0083,
          -102.8967,
          -102.88667,
          -103.20833,
          -103.0186,
          -99.90442,
          -100.27193,
          -103.7347,
          -103.8108,
          -99.8555,
          -98.0083,
          -102.8967,
          -102.88667,
          -103.20833,
          -103.0186,
          -99.90442,
          -100.27193,
          -103.7347,
          -103.8108,
          -99.8555,
          -98.0083,
          -102.8967,
          -102.88667,
          -103.20833,
          -103.0186,
          -99.90442,
          -100.27193,
          -103.7347,
          -103.8108,
          -99.8555,
          -98.0083,
          -102.8967,
          -102.88667,
          -103.20833,
          -103.0186,
          -99.90442,
          -100.27193
         ],
         "marker": {
          "color": "#00cc96",
          "size": [
           0.6496,
           0.11599999999999999,
           0.9748,
           0.9018,
           0.9041,
           0.7273,
           0.7462,
           0.9732,
           0.9568,
           0.878,
           0.6496,
           0.11599999999999999,
           0.9748,
           0.9018,
           0.9041,
           0.7273,
           0.7462,
           0.9732,
           0.9568,
           0.878,
           0.6496,
           0.11599999999999999,
           0.9748,
           0.9018,
           0.9041,
           0.7273,
           0.7462,
           0.9732,
           0.9568,
           0.878,
           0.6496,
           0.11599999999999999,
           0.9748,
           0.9018,
           0.9041,
           0.7273,
           0.7462,
           0.9732,
           0.9568,
           0.878,
           0.6496,
           0.11599999999999999,
           0.9748,
           0.9018,
           0.9041,
           0.7273,
           0.7462,
           0.9732,
           0.9568,
           0.878
          ],
          "sizemode": "area",
          "sizeref": 0.004441777777777778
         },
         "mode": "markers",
         "name": "Nebraska",
         "showlegend": true,
         "subplot": "mapbox",
         "type": "scattermapbox"
        },
        {
         "hovertemplate": "State=Ohio<br>datacoverage=%{marker.size}<br>latitude=%{lat}<br>longitude=%{lon}<extra></extra>",
         "lat": [
          39.3224,
          39.9916,
          40.3535,
          39.547470000000004,
          41.3831,
          41.4619,
          40.8126,
          40.268609999999995,
          39.7161,
          40.0111,
          41.08028,
          40.83333,
          39.3224,
          39.9916,
          40.3535,
          39.547470000000004,
          41.3831,
          41.4619,
          40.8126,
          40.268609999999995,
          41.08028,
          40.83333,
          39.3224,
          39.9916,
          40.3535,
          39.547470000000004,
          41.3831,
          41.4619,
          40.8126,
          40.268609999999995,
          41.08028,
          40.83333,
          39.3224,
          39.9916,
          40.3535,
          39.547470000000004,
          41.3831,
          41.4619,
          40.8126,
          40.268609999999995,
          41.08028,
          40.83333,
          39.3224,
          39.9916,
          40.3535,
          39.547470000000004,
          41.3831,
          41.4619,
          40.8126,
          40.268609999999995
         ],
         "legendgroup": "Ohio",
         "lon": [
          -82.0995,
          -81.185,
          -83.7754,
          -81.62835,
          -83.6111,
          -84.5272,
          -82.9698,
          -80.99806,
          -81.4642,
          -81.5794,
          -81.51694,
          -82.35,
          -82.0995,
          -81.185,
          -83.7754,
          -81.62835,
          -83.6111,
          -84.5272,
          -82.9698,
          -80.99806,
          -81.51694,
          -82.35,
          -82.0995,
          -81.185,
          -83.7754,
          -81.62835,
          -83.6111,
          -84.5272,
          -82.9698,
          -80.99806,
          -81.51694,
          -82.35,
          -82.0995,
          -81.185,
          -83.7754,
          -81.62835,
          -83.6111,
          -84.5272,
          -82.9698,
          -80.99806,
          -81.51694,
          -82.35,
          -82.0995,
          -81.185,
          -83.7754,
          -81.62835,
          -83.6111,
          -84.5272,
          -82.9698,
          -80.99806
         ],
         "marker": {
          "color": "#ab63fa",
          "size": [
           0.9574,
           0.9355,
           0.9685,
           0.4749,
           0.9906,
           0.9929,
           0.9791,
           0.9023,
           0.871,
           0.8219,
           0.8861,
           0.9259999999999999,
           0.9574,
           0.9355,
           0.9685,
           0.4749,
           0.9906,
           0.9929,
           0.9791,
           0.9023,
           0.8861,
           0.9259999999999999,
           0.9574,
           0.9355,
           0.9685,
           0.4749,
           0.9906,
           0.9929,
           0.9791,
           0.9023,
           0.8861,
           0.9259999999999999,
           0.9574,
           0.9355,
           0.9685,
           0.4749,
           0.9906,
           0.9929,
           0.9791,
           0.9023,
           0.8861,
           0.9259999999999999,
           0.9574,
           0.9355,
           0.9685,
           0.4749,
           0.9906,
           0.9929,
           0.9791,
           0.9023
          ],
          "sizemode": "area",
          "sizeref": 0.004441777777777778
         },
         "mode": "markers",
         "name": "Ohio",
         "showlegend": true,
         "subplot": "mapbox",
         "type": "scattermapbox"
        },
        {
         "hovertemplate": "State=Iowa<br>datacoverage=%{marker.size}<br>latitude=%{lat}<br>longitude=%{lon}<extra></extra>",
         "lat": [
          40.8821,
          41.518,
          41.0655,
          43.06626,
          40.703920000000004,
          42.7536,
          42.0208,
          41.9519,
          42.1117,
          42.0773,
          40.8821,
          41.4255,
          41.518,
          41.0655,
          43.06626,
          40.703920000000004,
          42.7536,
          42.0208,
          41.9519,
          42.1117,
          40.8821,
          41.4255,
          41.518,
          41.0655,
          43.06626,
          40.703920000000004,
          42.7536,
          42.0208,
          41.9519,
          42.1117,
          40.8821,
          41.4255,
          41.518,
          41.0655,
          43.06626,
          40.703920000000004,
          42.7536,
          42.0208,
          41.9519,
          42.1117,
          40.8821,
          41.4255,
          41.518,
          41.0655,
          43.06626,
          40.703920000000004,
          42.7536,
          42.0208,
          41.9519,
          42.1117
         ],
         "legendgroup": "Iowa",
         "lon": [
          -91.0234,
          -90.5647,
          -92.7866,
          -94.22216,
          -93.37026999999999,
          -92.8022,
          -93.7741,
          -93.5655,
          -91.2933,
          -91.3027,
          -91.0234,
          -91.0094,
          -90.5647,
          -92.7866,
          -94.22216,
          -93.37026999999999,
          -92.8022,
          -93.7741,
          -93.5655,
          -91.2933,
          -91.0234,
          -91.0094,
          -90.5647,
          -92.7866,
          -94.22216,
          -93.37026999999999,
          -92.8022,
          -93.7741,
          -93.5655,
          -91.2933,
          -91.0234,
          -91.0094,
          -90.5647,
          -92.7866,
          -94.22216,
          -93.37026999999999,
          -92.8022,
          -93.7741,
          -93.5655,
          -91.2933,
          -91.0234,
          -91.0094,
          -90.5647,
          -92.7866,
          -94.22216,
          -93.37026999999999,
          -92.8022,
          -93.7741,
          -93.5655,
          -91.2933
         ],
         "marker": {
          "color": "#FFA15A",
          "size": [
           0.9639,
           0.3063,
           0.9556,
           0.98,
           0.3352,
           0.9733,
           0.9978,
           0.9957,
           0.9723,
           0.9994,
           0.9639,
           0.9757,
           0.3063,
           0.9556,
           0.98,
           0.3352,
           0.9733,
           0.9978,
           0.9957,
           0.9723,
           0.9639,
           0.9757,
           0.3063,
           0.9556,
           0.98,
           0.3352,
           0.9733,
           0.9978,
           0.9957,
           0.9723,
           0.9639,
           0.9757,
           0.3063,
           0.9556,
           0.98,
           0.3353,
           0.9732,
           0.9978,
           0.9956,
           0.9723,
           0.9639,
           0.9757,
           0.3063,
           0.9556,
           0.98,
           0.3353,
           0.9732,
           0.9978,
           0.9956,
           0.9723
          ],
          "sizemode": "area",
          "sizeref": 0.004441777777777778
         },
         "mode": "markers",
         "name": "Iowa",
         "showlegend": true,
         "subplot": "mapbox",
         "type": "scattermapbox"
        }
       ],
       "layout": {
        "autosize": true,
        "legend": {
         "itemsizing": "constant",
         "title": {
          "text": "State"
         },
         "tracegroupgap": 0
        },
        "mapbox": {
         "bearing": 0,
         "center": {
          "lat": 38.921779269570266,
          "lon": -100.21360847623743
         },
         "domain": {
          "x": [
           0,
           1
          ],
          "y": [
           0,
           1
          ]
         },
         "pitch": 0,
         "style": "carto-positron",
         "zoom": 6.79520200301954
        },
        "template": {
         "data": {
          "bar": [
           {
            "error_x": {
             "color": "#2a3f5f"
            },
            "error_y": {
             "color": "#2a3f5f"
            },
            "marker": {
             "line": {
              "color": "#E5ECF6",
              "width": 0.5
             }
            },
            "type": "bar"
           }
          ],
          "barpolar": [
           {
            "marker": {
             "line": {
              "color": "#E5ECF6",
              "width": 0.5
             }
            },
            "type": "barpolar"
           }
          ],
          "carpet": [
           {
            "aaxis": {
             "endlinecolor": "#2a3f5f",
             "gridcolor": "white",
             "linecolor": "white",
             "minorgridcolor": "white",
             "startlinecolor": "#2a3f5f"
            },
            "baxis": {
             "endlinecolor": "#2a3f5f",
             "gridcolor": "white",
             "linecolor": "white",
             "minorgridcolor": "white",
             "startlinecolor": "#2a3f5f"
            },
            "type": "carpet"
           }
          ],
          "choropleth": [
           {
            "colorbar": {
             "outlinewidth": 0,
             "ticks": ""
            },
            "type": "choropleth"
           }
          ],
          "contour": [
           {
            "colorbar": {
             "outlinewidth": 0,
             "ticks": ""
            },
            "colorscale": [
             [
              0,
              "#0d0887"
             ],
             [
              0.1111111111111111,
              "#46039f"
             ],
             [
              0.2222222222222222,
              "#7201a8"
             ],
             [
              0.3333333333333333,
              "#9c179e"
             ],
             [
              0.4444444444444444,
              "#bd3786"
             ],
             [
              0.5555555555555556,
              "#d8576b"
             ],
             [
              0.6666666666666666,
              "#ed7953"
             ],
             [
              0.7777777777777778,
              "#fb9f3a"
             ],
             [
              0.8888888888888888,
              "#fdca26"
             ],
             [
              1,
              "#f0f921"
             ]
            ],
            "type": "contour"
           }
          ],
          "contourcarpet": [
           {
            "colorbar": {
             "outlinewidth": 0,
             "ticks": ""
            },
            "type": "contourcarpet"
           }
          ],
          "heatmap": [
           {
            "colorbar": {
             "outlinewidth": 0,
             "ticks": ""
            },
            "colorscale": [
             [
              0,
              "#0d0887"
             ],
             [
              0.1111111111111111,
              "#46039f"
             ],
             [
              0.2222222222222222,
              "#7201a8"
             ],
             [
              0.3333333333333333,
              "#9c179e"
             ],
             [
              0.4444444444444444,
              "#bd3786"
             ],
             [
              0.5555555555555556,
              "#d8576b"
             ],
             [
              0.6666666666666666,
              "#ed7953"
             ],
             [
              0.7777777777777778,
              "#fb9f3a"
             ],
             [
              0.8888888888888888,
              "#fdca26"
             ],
             [
              1,
              "#f0f921"
             ]
            ],
            "type": "heatmap"
           }
          ],
          "heatmapgl": [
           {
            "colorbar": {
             "outlinewidth": 0,
             "ticks": ""
            },
            "colorscale": [
             [
              0,
              "#0d0887"
             ],
             [
              0.1111111111111111,
              "#46039f"
             ],
             [
              0.2222222222222222,
              "#7201a8"
             ],
             [
              0.3333333333333333,
              "#9c179e"
             ],
             [
              0.4444444444444444,
              "#bd3786"
             ],
             [
              0.5555555555555556,
              "#d8576b"
             ],
             [
              0.6666666666666666,
              "#ed7953"
             ],
             [
              0.7777777777777778,
              "#fb9f3a"
             ],
             [
              0.8888888888888888,
              "#fdca26"
             ],
             [
              1,
              "#f0f921"
             ]
            ],
            "type": "heatmapgl"
           }
          ],
          "histogram": [
           {
            "marker": {
             "colorbar": {
              "outlinewidth": 0,
              "ticks": ""
             }
            },
            "type": "histogram"
           }
          ],
          "histogram2d": [
           {
            "colorbar": {
             "outlinewidth": 0,
             "ticks": ""
            },
            "colorscale": [
             [
              0,
              "#0d0887"
             ],
             [
              0.1111111111111111,
              "#46039f"
             ],
             [
              0.2222222222222222,
              "#7201a8"
             ],
             [
              0.3333333333333333,
              "#9c179e"
             ],
             [
              0.4444444444444444,
              "#bd3786"
             ],
             [
              0.5555555555555556,
              "#d8576b"
             ],
             [
              0.6666666666666666,
              "#ed7953"
             ],
             [
              0.7777777777777778,
              "#fb9f3a"
             ],
             [
              0.8888888888888888,
              "#fdca26"
             ],
             [
              1,
              "#f0f921"
             ]
            ],
            "type": "histogram2d"
           }
          ],
          "histogram2dcontour": [
           {
            "colorbar": {
             "outlinewidth": 0,
             "ticks": ""
            },
            "colorscale": [
             [
              0,
              "#0d0887"
             ],
             [
              0.1111111111111111,
              "#46039f"
             ],
             [
              0.2222222222222222,
              "#7201a8"
             ],
             [
              0.3333333333333333,
              "#9c179e"
             ],
             [
              0.4444444444444444,
              "#bd3786"
             ],
             [
              0.5555555555555556,
              "#d8576b"
             ],
             [
              0.6666666666666666,
              "#ed7953"
             ],
             [
              0.7777777777777778,
              "#fb9f3a"
             ],
             [
              0.8888888888888888,
              "#fdca26"
             ],
             [
              1,
              "#f0f921"
             ]
            ],
            "type": "histogram2dcontour"
           }
          ],
          "mesh3d": [
           {
            "colorbar": {
             "outlinewidth": 0,
             "ticks": ""
            },
            "type": "mesh3d"
           }
          ],
          "parcoords": [
           {
            "line": {
             "colorbar": {
              "outlinewidth": 0,
              "ticks": ""
             }
            },
            "type": "parcoords"
           }
          ],
          "pie": [
           {
            "automargin": true,
            "type": "pie"
           }
          ],
          "scatter": [
           {
            "marker": {
             "colorbar": {
              "outlinewidth": 0,
              "ticks": ""
             }
            },
            "type": "scatter"
           }
          ],
          "scatter3d": [
           {
            "line": {
             "colorbar": {
              "outlinewidth": 0,
              "ticks": ""
             }
            },
            "marker": {
             "colorbar": {
              "outlinewidth": 0,
              "ticks": ""
             }
            },
            "type": "scatter3d"
           }
          ],
          "scattercarpet": [
           {
            "marker": {
             "colorbar": {
              "outlinewidth": 0,
              "ticks": ""
             }
            },
            "type": "scattercarpet"
           }
          ],
          "scattergeo": [
           {
            "marker": {
             "colorbar": {
              "outlinewidth": 0,
              "ticks": ""
             }
            },
            "type": "scattergeo"
           }
          ],
          "scattergl": [
           {
            "marker": {
             "colorbar": {
              "outlinewidth": 0,
              "ticks": ""
             }
            },
            "type": "scattergl"
           }
          ],
          "scattermapbox": [
           {
            "marker": {
             "colorbar": {
              "outlinewidth": 0,
              "ticks": ""
             }
            },
            "type": "scattermapbox"
           }
          ],
          "scatterpolar": [
           {
            "marker": {
             "colorbar": {
              "outlinewidth": 0,
              "ticks": ""
             }
            },
            "type": "scatterpolar"
           }
          ],
          "scatterpolargl": [
           {
            "marker": {
             "colorbar": {
              "outlinewidth": 0,
              "ticks": ""
             }
            },
            "type": "scatterpolargl"
           }
          ],
          "scatterternary": [
           {
            "marker": {
             "colorbar": {
              "outlinewidth": 0,
              "ticks": ""
             }
            },
            "type": "scatterternary"
           }
          ],
          "surface": [
           {
            "colorbar": {
             "outlinewidth": 0,
             "ticks": ""
            },
            "colorscale": [
             [
              0,
              "#0d0887"
             ],
             [
              0.1111111111111111,
              "#46039f"
             ],
             [
              0.2222222222222222,
              "#7201a8"
             ],
             [
              0.3333333333333333,
              "#9c179e"
             ],
             [
              0.4444444444444444,
              "#bd3786"
             ],
             [
              0.5555555555555556,
              "#d8576b"
             ],
             [
              0.6666666666666666,
              "#ed7953"
             ],
             [
              0.7777777777777778,
              "#fb9f3a"
             ],
             [
              0.8888888888888888,
              "#fdca26"
             ],
             [
              1,
              "#f0f921"
             ]
            ],
            "type": "surface"
           }
          ],
          "table": [
           {
            "cells": {
             "fill": {
              "color": "#EBF0F8"
             },
             "line": {
              "color": "white"
             }
            },
            "header": {
             "fill": {
              "color": "#C8D4E3"
             },
             "line": {
              "color": "white"
             }
            },
            "type": "table"
           }
          ]
         },
         "layout": {
          "annotationdefaults": {
           "arrowcolor": "#2a3f5f",
           "arrowhead": 0,
           "arrowwidth": 1
          },
          "coloraxis": {
           "colorbar": {
            "outlinewidth": 0,
            "ticks": ""
           }
          },
          "colorscale": {
           "diverging": [
            [
             0,
             "#8e0152"
            ],
            [
             0.1,
             "#c51b7d"
            ],
            [
             0.2,
             "#de77ae"
            ],
            [
             0.3,
             "#f1b6da"
            ],
            [
             0.4,
             "#fde0ef"
            ],
            [
             0.5,
             "#f7f7f7"
            ],
            [
             0.6,
             "#e6f5d0"
            ],
            [
             0.7,
             "#b8e186"
            ],
            [
             0.8,
             "#7fbc41"
            ],
            [
             0.9,
             "#4d9221"
            ],
            [
             1,
             "#276419"
            ]
           ],
           "sequential": [
            [
             0,
             "#0d0887"
            ],
            [
             0.1111111111111111,
             "#46039f"
            ],
            [
             0.2222222222222222,
             "#7201a8"
            ],
            [
             0.3333333333333333,
             "#9c179e"
            ],
            [
             0.4444444444444444,
             "#bd3786"
            ],
            [
             0.5555555555555556,
             "#d8576b"
            ],
            [
             0.6666666666666666,
             "#ed7953"
            ],
            [
             0.7777777777777778,
             "#fb9f3a"
            ],
            [
             0.8888888888888888,
             "#fdca26"
            ],
            [
             1,
             "#f0f921"
            ]
           ],
           "sequentialminus": [
            [
             0,
             "#0d0887"
            ],
            [
             0.1111111111111111,
             "#46039f"
            ],
            [
             0.2222222222222222,
             "#7201a8"
            ],
            [
             0.3333333333333333,
             "#9c179e"
            ],
            [
             0.4444444444444444,
             "#bd3786"
            ],
            [
             0.5555555555555556,
             "#d8576b"
            ],
            [
             0.6666666666666666,
             "#ed7953"
            ],
            [
             0.7777777777777778,
             "#fb9f3a"
            ],
            [
             0.8888888888888888,
             "#fdca26"
            ],
            [
             1,
             "#f0f921"
            ]
           ]
          },
          "colorway": [
           "#636efa",
           "#EF553B",
           "#00cc96",
           "#ab63fa",
           "#FFA15A",
           "#19d3f3",
           "#FF6692",
           "#B6E880",
           "#FF97FF",
           "#FECB52"
          ],
          "font": {
           "color": "#2a3f5f"
          },
          "geo": {
           "bgcolor": "white",
           "lakecolor": "white",
           "landcolor": "#E5ECF6",
           "showlakes": true,
           "showland": true,
           "subunitcolor": "white"
          },
          "hoverlabel": {
           "align": "left"
          },
          "hovermode": "closest",
          "mapbox": {
           "style": "light"
          },
          "paper_bgcolor": "white",
          "plot_bgcolor": "#E5ECF6",
          "polar": {
           "angularaxis": {
            "gridcolor": "white",
            "linecolor": "white",
            "ticks": ""
           },
           "bgcolor": "#E5ECF6",
           "radialaxis": {
            "gridcolor": "white",
            "linecolor": "white",
            "ticks": ""
           }
          },
          "scene": {
           "xaxis": {
            "backgroundcolor": "#E5ECF6",
            "gridcolor": "white",
            "gridwidth": 2,
            "linecolor": "white",
            "showbackground": true,
            "ticks": "",
            "zerolinecolor": "white"
           },
           "yaxis": {
            "backgroundcolor": "#E5ECF6",
            "gridcolor": "white",
            "gridwidth": 2,
            "linecolor": "white",
            "showbackground": true,
            "ticks": "",
            "zerolinecolor": "white"
           },
           "zaxis": {
            "backgroundcolor": "#E5ECF6",
            "gridcolor": "white",
            "gridwidth": 2,
            "linecolor": "white",
            "showbackground": true,
            "ticks": "",
            "zerolinecolor": "white"
           }
          },
          "shapedefaults": {
           "line": {
            "color": "#2a3f5f"
           }
          },
          "ternary": {
           "aaxis": {
            "gridcolor": "white",
            "linecolor": "white",
            "ticks": ""
           },
           "baxis": {
            "gridcolor": "white",
            "linecolor": "white",
            "ticks": ""
           },
           "bgcolor": "#E5ECF6",
           "caxis": {
            "gridcolor": "white",
            "linecolor": "white",
            "ticks": ""
           }
          },
          "title": {
           "x": 0.05
          },
          "xaxis": {
           "automargin": true,
           "gridcolor": "white",
           "linecolor": "white",
           "ticks": "",
           "title": {
            "standoff": 15
           },
           "zerolinecolor": "white",
           "zerolinewidth": 2
          },
          "yaxis": {
           "automargin": true,
           "gridcolor": "white",
           "linecolor": "white",
           "ticks": "",
           "title": {
            "standoff": 15
           },
           "zerolinecolor": "white",
           "zerolinewidth": 2
          }
         }
        },
        "title": {
         "text": "Distribution of Weather Stations"
        }
       }
      },
      "image/png": "[encoded data removed]",
      "text/html": [
       "<div>\n",
       "        \n",
       "        \n",
       "            <div id=\"8b36caf9-5608-4919-b702-c5935765bf4c\" class=\"plotly-graph-div\" style=\"height:525px; width:100%;\"></div>\n",
       "            <script type=\"text/javascript\">\n",
       "                require([\"plotly\"], function(Plotly) {\n",
       "                    window.PLOTLYENV=window.PLOTLYENV || {};\n",
       "                    \n",
       "                if (document.getElementById(\"8b36caf9-5608-4919-b702-c5935765bf4c\")) {\n",
       "                    Plotly.newPlot(\n",
       "                        '8b36caf9-5608-4919-b702-c5935765bf4c',\n",
       "                        [{\"hovertemplate\": \"State=Illinois<br>datacoverage=%{marker.size}<br>latitude=%{lat}<br>longitude=%{lon}<extra></extra>\", \"lat\": [38.3777, 41.1977, 38.867020000000004, 41.1204, 37.4813, 42.4811, 39.9275, 41.78038, 40.6632, 42.1153, 38.3777, 41.1977, 38.867020000000004, 41.1204, 37.4813, 42.4811, 39.9275, 41.78038, 40.6632, 42.1153, 38.3777, 41.1977, 38.867020000000004, 41.1204, 37.4813, 42.4811, 39.9275, 41.78038, 40.6632, 42.1153, 38.3777, 41.1977, 38.867020000000004, 41.1204, 37.4813, 42.4811, 39.9275, 41.78038, 40.6632, 42.1153, 38.3777, 41.1977, 38.867020000000004, 41.1204, 37.4813, 42.4811, 39.9275, 41.78038, 40.6632, 42.1153], \"legendgroup\": \"Illinois\", \"lon\": [-88.0569, -90.7447, -90.14886, -90.1641, -89.2344, -88.0994, -89.7964, -88.30925, -90.4447, -88.1639, -88.0569, -90.7447, -90.14886, -90.1641, -89.2344, -88.0994, -89.7964, -88.30925, -90.4447, -88.1639, -88.0569, -90.7447, -90.14886, -90.1641, -89.2344, -88.0994, -89.7964, -88.30925, -90.4447, -88.1639, -88.0569, -90.7447, -90.14886, -90.1641, -89.2344, -88.0994, -89.7964, -88.30925, -90.4447, -88.1639, -88.0569, -90.7447, -90.14886, -90.1641, -89.2344, -88.0994, -89.7964, -88.30925, -90.4447, -88.1639], \"marker\": {\"color\": \"#636efa\", \"size\": [0.7538, 0.9923, 0.5784, 0.8515, 0.9854, 0.7922, 0.821, 0.9693, 0.9502, 0.9153, 0.7538, 0.9923, 0.5784, 0.8515, 0.9854, 0.7922, 0.821, 0.9693, 0.9503, 0.9153, 0.7538, 0.9923, 0.5784, 0.8515, 0.9854, 0.7922, 0.821, 0.9693, 0.9503, 0.9153, 0.7538, 0.9923, 0.5784, 0.8515, 0.9854, 0.7922, 0.821, 0.9693, 0.9502, 0.9153, 0.7538, 0.9923, 0.5784, 0.8515, 0.9854, 0.7922, 0.821, 0.9693, 0.9502, 0.9153], \"sizemode\": \"area\", \"sizeref\": 0.004441777777777778}, \"mode\": \"markers\", \"name\": \"Illinois\", \"showlegend\": true, \"subplot\": \"mapbox\", \"type\": \"scattermapbox\"}, {\"hovertemplate\": \"State=Indiana<br>datacoverage=%{marker.size}<br>latitude=%{lat}<br>longitude=%{lon}<extra></extra>\", \"lat\": [40.1117, 41.6639, 40.2838, 38.8396, 40.6683, 39.1742, 40.8143, 38.0302, 40.535, 39.5108, 40.1117, 41.6639, 40.2838, 38.8396, 40.6683, 39.1742, 40.8143, 38.0302, 40.535, 39.5108, 40.1117, 41.6639, 40.2838, 38.8396, 40.6683, 39.1742, 40.8143, 38.0302, 40.535, 39.5108, 40.1117, 41.6639, 40.2838, 38.8396, 40.6683, 39.1742, 40.8143, 38.0302, 40.535, 39.5108, 40.1117, 41.6639, 40.2838, 38.8396, 40.6683, 39.1742, 40.8143, 38.0302, 40.535, 39.5108], \"legendgroup\": \"Indiana\", \"lon\": [-85.7163, -85.0183, -87.1963, -86.5216, -84.93, -86.5214, -85.1546, -87.2736, -87.4531, -87.1241, -85.7163, -85.0183, -87.1963, -86.5216, -84.93, -86.5214, -85.1546, -87.2736, -87.4531, -87.1241, -85.7163, -85.0183, -87.1963, -86.5216, -84.93, -86.5214, -85.1546, -87.2736, -87.4531, -87.1241, -85.7163, -85.0183, -87.1963, -86.5216, -84.93, -86.5214, -85.1546, -87.2736, -87.4531, -87.1241, -85.7163, -85.0183, -87.1963, -86.5216, -84.93, -86.5214, -85.1546, -87.2736, -87.4531, -87.1241], \"marker\": {\"color\": \"#EF553B\", \"size\": [0.9836, 0.8583, 0.9915, 0.9574, 0.9829, 0.9728, 0.9737, 0.4987, 0.9871, 0.3455, 0.9836, 0.8583, 0.9915, 0.9574, 0.9829, 0.9728, 0.9737, 0.4987, 0.9871, 0.3455, 0.9836, 0.8583, 0.9915, 0.9574, 0.9829, 0.9728, 0.9737, 0.4987, 0.9871, 0.3455, 0.9836, 0.8583, 0.9915, 0.9574, 0.9829, 0.9727, 0.9737, 0.4987, 0.9871, 0.3455, 0.9836, 0.8583, 0.9915, 0.9574, 0.9829, 0.9727, 0.9737, 0.4987, 0.9871, 0.3455], \"sizemode\": \"area\", \"sizeref\": 0.004441777777777778}, \"mode\": \"markers\", \"name\": \"Indiana\", \"showlegend\": true, \"subplot\": \"mapbox\", \"type\": \"scattermapbox\"}, {\"hovertemplate\": \"State=Nebraska<br>datacoverage=%{marker.size}<br>latitude=%{lat}<br>longitude=%{lon}<extra></extra>\", \"lat\": [42.4244, 42.508, 42.5522, 41.6854, 42.1103, 42.10472, 42.153890000000004, 41.9338, 41.61079, 41.432159999999996, 42.4244, 42.508, 42.5522, 41.6854, 42.1103, 42.10472, 42.153890000000004, 41.9338, 41.61079, 41.432159999999996, 42.4244, 42.508, 42.5522, 41.6854, 42.1103, 42.10472, 42.153890000000004, 41.9338, 41.61079, 41.432159999999996, 42.4244, 42.508, 42.5522, 41.6854, 42.1103, 42.10472, 42.153890000000004, 41.9338, 41.61079, 41.432159999999996, 42.4244, 42.508, 42.5522, 41.6854, 42.1103, 42.10472, 42.153890000000004, 41.9338, 41.61079, 41.432159999999996], \"legendgroup\": \"Nebraska\", \"lon\": [-103.7347, -103.8108, -99.8555, -98.0083, -102.8967, -102.88667, -103.20833, -103.0186, -99.90442, -100.27193, -103.7347, -103.8108, -99.8555, -98.0083, -102.8967, -102.88667, -103.20833, -103.0186, -99.90442, -100.27193, -103.7347, -103.8108, -99.8555, -98.0083, -102.8967, -102.88667, -103.20833, -103.0186, -99.90442, -100.27193, -103.7347, -103.8108, -99.8555, -98.0083, -102.8967, -102.88667, -103.20833, -103.0186, -99.90442, -100.27193, -103.7347, -103.8108, -99.8555, -98.0083, -102.8967, -102.88667, -103.20833, -103.0186, -99.90442, -100.27193], \"marker\": {\"color\": \"#00cc96\", \"size\": [0.6496, 0.11599999999999999, 0.9748, 0.9018, 0.9041, 0.7273, 0.7462, 0.9732, 0.9568, 0.878, 0.6496, 0.11599999999999999, 0.9748, 0.9018, 0.9041, 0.7273, 0.7462, 0.9732, 0.9568, 0.878, 0.6496, 0.11599999999999999, 0.9748, 0.9018, 0.9041, 0.7273, 0.7462, 0.9732, 0.9568, 0.878, 0.6496, 0.11599999999999999, 0.9748, 0.9018, 0.9041, 0.7273, 0.7462, 0.9732, 0.9568, 0.878, 0.6496, 0.11599999999999999, 0.9748, 0.9018, 0.9041, 0.7273, 0.7462, 0.9732, 0.9568, 0.878], \"sizemode\": \"area\", \"sizeref\": 0.004441777777777778}, \"mode\": \"markers\", \"name\": \"Nebraska\", \"showlegend\": true, \"subplot\": \"mapbox\", \"type\": \"scattermapbox\"}, {\"hovertemplate\": \"State=Ohio<br>datacoverage=%{marker.size}<br>latitude=%{lat}<br>longitude=%{lon}<extra></extra>\", \"lat\": [39.3224, 39.9916, 40.3535, 39.547470000000004, 41.3831, 41.4619, 40.8126, 40.268609999999995, 39.7161, 40.0111, 41.08028, 40.83333, 39.3224, 39.9916, 40.3535, 39.547470000000004, 41.3831, 41.4619, 40.8126, 40.268609999999995, 41.08028, 40.83333, 39.3224, 39.9916, 40.3535, 39.547470000000004, 41.3831, 41.4619, 40.8126, 40.268609999999995, 41.08028, 40.83333, 39.3224, 39.9916, 40.3535, 39.547470000000004, 41.3831, 41.4619, 40.8126, 40.268609999999995, 41.08028, 40.83333, 39.3224, 39.9916, 40.3535, 39.547470000000004, 41.3831, 41.4619, 40.8126, 40.268609999999995], \"legendgroup\": \"Ohio\", \"lon\": [-82.0995, -81.185, -83.7754, -81.62835, -83.6111, -84.5272, -82.9698, -80.99806, -81.4642, -81.5794, -81.51694, -82.35, -82.0995, -81.185, -83.7754, -81.62835, -83.6111, -84.5272, -82.9698, -80.99806, -81.51694, -82.35, -82.0995, -81.185, -83.7754, -81.62835, -83.6111, -84.5272, -82.9698, -80.99806, -81.51694, -82.35, -82.0995, -81.185, -83.7754, -81.62835, -83.6111, -84.5272, -82.9698, -80.99806, -81.51694, -82.35, -82.0995, -81.185, -83.7754, -81.62835, -83.6111, -84.5272, -82.9698, -80.99806], \"marker\": {\"color\": \"#ab63fa\", \"size\": [0.9574, 0.9355, 0.9685, 0.4749, 0.9906, 0.9929, 0.9791, 0.9023, 0.871, 0.8219, 0.8861, 0.9259999999999999, 0.9574, 0.9355, 0.9685, 0.4749, 0.9906, 0.9929, 0.9791, 0.9023, 0.8861, 0.9259999999999999, 0.9574, 0.9355, 0.9685, 0.4749, 0.9906, 0.9929, 0.9791, 0.9023, 0.8861, 0.9259999999999999, 0.9574, 0.9355, 0.9685, 0.4749, 0.9906, 0.9929, 0.9791, 0.9023, 0.8861, 0.9259999999999999, 0.9574, 0.9355, 0.9685, 0.4749, 0.9906, 0.9929, 0.9791, 0.9023], \"sizemode\": \"area\", \"sizeref\": 0.004441777777777778}, \"mode\": \"markers\", \"name\": \"Ohio\", \"showlegend\": true, \"subplot\": \"mapbox\", \"type\": \"scattermapbox\"}, {\"hovertemplate\": \"State=Iowa<br>datacoverage=%{marker.size}<br>latitude=%{lat}<br>longitude=%{lon}<extra></extra>\", \"lat\": [40.8821, 41.518, 41.0655, 43.06626, 40.703920000000004, 42.7536, 42.0208, 41.9519, 42.1117, 42.0773, 40.8821, 41.4255, 41.518, 41.0655, 43.06626, 40.703920000000004, 42.7536, 42.0208, 41.9519, 42.1117, 40.8821, 41.4255, 41.518, 41.0655, 43.06626, 40.703920000000004, 42.7536, 42.0208, 41.9519, 42.1117, 40.8821, 41.4255, 41.518, 41.0655, 43.06626, 40.703920000000004, 42.7536, 42.0208, 41.9519, 42.1117, 40.8821, 41.4255, 41.518, 41.0655, 43.06626, 40.703920000000004, 42.7536, 42.0208, 41.9519, 42.1117], \"legendgroup\": \"Iowa\", \"lon\": [-91.0234, -90.5647, -92.7866, -94.22216, -93.37026999999999, -92.8022, -93.7741, -93.5655, -91.2933, -91.3027, -91.0234, -91.0094, -90.5647, -92.7866, -94.22216, -93.37026999999999, -92.8022, -93.7741, -93.5655, -91.2933, -91.0234, -91.0094, -90.5647, -92.7866, -94.22216, -93.37026999999999, -92.8022, -93.7741, -93.5655, -91.2933, -91.0234, -91.0094, -90.5647, -92.7866, -94.22216, -93.37026999999999, -92.8022, -93.7741, -93.5655, -91.2933, -91.0234, -91.0094, -90.5647, -92.7866, -94.22216, -93.37026999999999, -92.8022, -93.7741, -93.5655, -91.2933], \"marker\": {\"color\": \"#FFA15A\", \"size\": [0.9639, 0.3063, 0.9556, 0.98, 0.3352, 0.9733, 0.9978, 0.9957, 0.9723, 0.9994, 0.9639, 0.9757, 0.3063, 0.9556, 0.98, 0.3352, 0.9733, 0.9978, 0.9957, 0.9723, 0.9639, 0.9757, 0.3063, 0.9556, 0.98, 0.3352, 0.9733, 0.9978, 0.9957, 0.9723, 0.9639, 0.9757, 0.3063, 0.9556, 0.98, 0.3353, 0.9732, 0.9978, 0.9956, 0.9723, 0.9639, 0.9757, 0.3063, 0.9556, 0.98, 0.3353, 0.9732, 0.9978, 0.9956, 0.9723], \"sizemode\": \"area\", \"sizeref\": 0.004441777777777778}, \"mode\": \"markers\", \"name\": \"Iowa\", \"showlegend\": true, \"subplot\": \"mapbox\", \"type\": \"scattermapbox\"}],\n",
       "                        {\"legend\": {\"itemsizing\": \"constant\", \"title\": {\"text\": \"State\"}, \"tracegroupgap\": 0}, \"mapbox\": {\"center\": {\"lat\": 40.928124159999975, \"lon\": -90.45269663999994}, \"domain\": {\"x\": [0.0, 1.0], \"y\": [0.0, 1.0]}, \"style\": \"carto-positron\", \"zoom\": 4}, \"template\": {\"data\": {\"bar\": [{\"error_x\": {\"color\": \"#2a3f5f\"}, \"error_y\": {\"color\": \"#2a3f5f\"}, \"marker\": {\"line\": {\"color\": \"#E5ECF6\", \"width\": 0.5}}, \"type\": \"bar\"}], \"barpolar\": [{\"marker\": {\"line\": {\"color\": \"#E5ECF6\", \"width\": 0.5}}, \"type\": \"barpolar\"}], \"carpet\": [{\"aaxis\": {\"endlinecolor\": \"#2a3f5f\", \"gridcolor\": \"white\", \"linecolor\": \"white\", \"minorgridcolor\": \"white\", \"startlinecolor\": \"#2a3f5f\"}, \"baxis\": {\"endlinecolor\": \"#2a3f5f\", \"gridcolor\": \"white\", \"linecolor\": \"white\", \"minorgridcolor\": \"white\", \"startlinecolor\": \"#2a3f5f\"}, \"type\": \"carpet\"}], \"choropleth\": [{\"colorbar\": {\"outlinewidth\": 0, \"ticks\": \"\"}, \"type\": \"choropleth\"}], \"contour\": [{\"colorbar\": {\"outlinewidth\": 0, \"ticks\": \"\"}, \"colorscale\": [[0.0, \"#0d0887\"], [0.1111111111111111, \"#46039f\"], [0.2222222222222222, \"#7201a8\"], [0.3333333333333333, \"#9c179e\"], [0.4444444444444444, \"#bd3786\"], [0.5555555555555556, \"#d8576b\"], [0.6666666666666666, \"#ed7953\"], [0.7777777777777778, \"#fb9f3a\"], [0.8888888888888888, \"#fdca26\"], [1.0, \"#f0f921\"]], \"type\": \"contour\"}], \"contourcarpet\": [{\"colorbar\": {\"outlinewidth\": 0, \"ticks\": \"\"}, \"type\": \"contourcarpet\"}], \"heatmap\": [{\"colorbar\": {\"outlinewidth\": 0, \"ticks\": \"\"}, \"colorscale\": [[0.0, \"#0d0887\"], [0.1111111111111111, \"#46039f\"], [0.2222222222222222, \"#7201a8\"], [0.3333333333333333, \"#9c179e\"], [0.4444444444444444, \"#bd3786\"], [0.5555555555555556, \"#d8576b\"], [0.6666666666666666, \"#ed7953\"], [0.7777777777777778, \"#fb9f3a\"], [0.8888888888888888, \"#fdca26\"], [1.0, \"#f0f921\"]], \"type\": \"heatmap\"}], \"heatmapgl\": [{\"colorbar\": {\"outlinewidth\": 0, \"ticks\": \"\"}, \"colorscale\": [[0.0, \"#0d0887\"], [0.1111111111111111, \"#46039f\"], [0.2222222222222222, \"#7201a8\"], [0.3333333333333333, \"#9c179e\"], [0.4444444444444444, \"#bd3786\"], [0.5555555555555556, \"#d8576b\"], [0.6666666666666666, \"#ed7953\"], [0.7777777777777778, \"#fb9f3a\"], [0.8888888888888888, \"#fdca26\"], [1.0, \"#f0f921\"]], \"type\": \"heatmapgl\"}], \"histogram\": [{\"marker\": {\"colorbar\": {\"outlinewidth\": 0, \"ticks\": \"\"}}, \"type\": \"histogram\"}], \"histogram2d\": [{\"colorbar\": {\"outlinewidth\": 0, \"ticks\": \"\"}, \"colorscale\": [[0.0, \"#0d0887\"], [0.1111111111111111, \"#46039f\"], [0.2222222222222222, \"#7201a8\"], [0.3333333333333333, \"#9c179e\"], [0.4444444444444444, \"#bd3786\"], [0.5555555555555556, \"#d8576b\"], [0.6666666666666666, \"#ed7953\"], [0.7777777777777778, \"#fb9f3a\"], [0.8888888888888888, \"#fdca26\"], [1.0, \"#f0f921\"]], \"type\": \"histogram2d\"}], \"histogram2dcontour\": [{\"colorbar\": {\"outlinewidth\": 0, \"ticks\": \"\"}, \"colorscale\": [[0.0, \"#0d0887\"], [0.1111111111111111, \"#46039f\"], [0.2222222222222222, \"#7201a8\"], [0.3333333333333333, \"#9c179e\"], [0.4444444444444444, \"#bd3786\"], [0.5555555555555556, \"#d8576b\"], [0.6666666666666666, \"#ed7953\"], [0.7777777777777778, \"#fb9f3a\"], [0.8888888888888888, \"#fdca26\"], [1.0, \"#f0f921\"]], \"type\": \"histogram2dcontour\"}], \"mesh3d\": [{\"colorbar\": {\"outlinewidth\": 0, \"ticks\": \"\"}, \"type\": \"mesh3d\"}], \"parcoords\": [{\"line\": {\"colorbar\": {\"outlinewidth\": 0, \"ticks\": \"\"}}, \"type\": \"parcoords\"}], \"pie\": [{\"automargin\": true, \"type\": \"pie\"}], \"scatter\": [{\"marker\": {\"colorbar\": {\"outlinewidth\": 0, \"ticks\": \"\"}}, \"type\": \"scatter\"}], \"scatter3d\": [{\"line\": {\"colorbar\": {\"outlinewidth\": 0, \"ticks\": \"\"}}, \"marker\": {\"colorbar\": {\"outlinewidth\": 0, \"ticks\": \"\"}}, \"type\": \"scatter3d\"}], \"scattercarpet\": [{\"marker\": {\"colorbar\": {\"outlinewidth\": 0, \"ticks\": \"\"}}, \"type\": \"scattercarpet\"}], \"scattergeo\": [{\"marker\": {\"colorbar\": {\"outlinewidth\": 0, \"ticks\": \"\"}}, \"type\": \"scattergeo\"}], \"scattergl\": [{\"marker\": {\"colorbar\": {\"outlinewidth\": 0, \"ticks\": \"\"}}, \"type\": \"scattergl\"}], \"scattermapbox\": [{\"marker\": {\"colorbar\": {\"outlinewidth\": 0, \"ticks\": \"\"}}, \"type\": \"scattermapbox\"}], \"scatterpolar\": [{\"marker\": {\"colorbar\": {\"outlinewidth\": 0, \"ticks\": \"\"}}, \"type\": \"scatterpolar\"}], \"scatterpolargl\": [{\"marker\": {\"colorbar\": {\"outlinewidth\": 0, \"ticks\": \"\"}}, \"type\": \"scatterpolargl\"}], \"scatterternary\": [{\"marker\": {\"colorbar\": {\"outlinewidth\": 0, \"ticks\": \"\"}}, \"type\": \"scatterternary\"}], \"surface\": [{\"colorbar\": {\"outlinewidth\": 0, \"ticks\": \"\"}, \"colorscale\": [[0.0, \"#0d0887\"], [0.1111111111111111, \"#46039f\"], [0.2222222222222222, \"#7201a8\"], [0.3333333333333333, \"#9c179e\"], [0.4444444444444444, \"#bd3786\"], [0.5555555555555556, \"#d8576b\"], [0.6666666666666666, \"#ed7953\"], [0.7777777777777778, \"#fb9f3a\"], [0.8888888888888888, \"#fdca26\"], [1.0, \"#f0f921\"]], \"type\": \"surface\"}], \"table\": [{\"cells\": {\"fill\": {\"color\": \"#EBF0F8\"}, \"line\": {\"color\": \"white\"}}, \"header\": {\"fill\": {\"color\": \"#C8D4E3\"}, \"line\": {\"color\": \"white\"}}, \"type\": \"table\"}]}, \"layout\": {\"annotationdefaults\": {\"arrowcolor\": \"#2a3f5f\", \"arrowhead\": 0, \"arrowwidth\": 1}, \"coloraxis\": {\"colorbar\": {\"outlinewidth\": 0, \"ticks\": \"\"}}, \"colorscale\": {\"diverging\": [[0, \"#8e0152\"], [0.1, \"#c51b7d\"], [0.2, \"#de77ae\"], [0.3, \"#f1b6da\"], [0.4, \"#fde0ef\"], [0.5, \"#f7f7f7\"], [0.6, \"#e6f5d0\"], [0.7, \"#b8e186\"], [0.8, \"#7fbc41\"], [0.9, \"#4d9221\"], [1, \"#276419\"]], \"sequential\": [[0.0, \"#0d0887\"], [0.1111111111111111, \"#46039f\"], [0.2222222222222222, \"#7201a8\"], [0.3333333333333333, \"#9c179e\"], [0.4444444444444444, \"#bd3786\"], [0.5555555555555556, \"#d8576b\"], [0.6666666666666666, \"#ed7953\"], [0.7777777777777778, \"#fb9f3a\"], [0.8888888888888888, \"#fdca26\"], [1.0, \"#f0f921\"]], \"sequentialminus\": [[0.0, \"#0d0887\"], [0.1111111111111111, \"#46039f\"], [0.2222222222222222, \"#7201a8\"], [0.3333333333333333, \"#9c179e\"], [0.4444444444444444, \"#bd3786\"], [0.5555555555555556, \"#d8576b\"], [0.6666666666666666, \"#ed7953\"], [0.7777777777777778, \"#fb9f3a\"], [0.8888888888888888, \"#fdca26\"], [1.0, \"#f0f921\"]]}, \"colorway\": [\"#636efa\", \"#EF553B\", \"#00cc96\", \"#ab63fa\", \"#FFA15A\", \"#19d3f3\", \"#FF6692\", \"#B6E880\", \"#FF97FF\", \"#FECB52\"], \"font\": {\"color\": \"#2a3f5f\"}, \"geo\": {\"bgcolor\": \"white\", \"lakecolor\": \"white\", \"landcolor\": \"#E5ECF6\", \"showlakes\": true, \"showland\": true, \"subunitcolor\": \"white\"}, \"hoverlabel\": {\"align\": \"left\"}, \"hovermode\": \"closest\", \"mapbox\": {\"style\": \"light\"}, \"paper_bgcolor\": \"white\", \"plot_bgcolor\": \"#E5ECF6\", \"polar\": {\"angularaxis\": {\"gridcolor\": \"white\", \"linecolor\": \"white\", \"ticks\": \"\"}, \"bgcolor\": \"#E5ECF6\", \"radialaxis\": {\"gridcolor\": \"white\", \"linecolor\": \"white\", \"ticks\": \"\"}}, \"scene\": {\"xaxis\": {\"backgroundcolor\": \"#E5ECF6\", \"gridcolor\": \"white\", \"gridwidth\": 2, \"linecolor\": \"white\", \"showbackground\": true, \"ticks\": \"\", \"zerolinecolor\": \"white\"}, \"yaxis\": {\"backgroundcolor\": \"#E5ECF6\", \"gridcolor\": \"white\", \"gridwidth\": 2, \"linecolor\": \"white\", \"showbackground\": true, \"ticks\": \"\", \"zerolinecolor\": \"white\"}, \"zaxis\": {\"backgroundcolor\": \"#E5ECF6\", \"gridcolor\": \"white\", \"gridwidth\": 2, \"linecolor\": \"white\", \"showbackground\": true, \"ticks\": \"\", \"zerolinecolor\": \"white\"}}, \"shapedefaults\": {\"line\": {\"color\": \"#2a3f5f\"}}, \"ternary\": {\"aaxis\": {\"gridcolor\": \"white\", \"linecolor\": \"white\", \"ticks\": \"\"}, \"baxis\": {\"gridcolor\": \"white\", \"linecolor\": \"white\", \"ticks\": \"\"}, \"bgcolor\": \"#E5ECF6\", \"caxis\": {\"gridcolor\": \"white\", \"linecolor\": \"white\", \"ticks\": \"\"}}, \"title\": {\"x\": 0.05}, \"xaxis\": {\"automargin\": true, \"gridcolor\": \"white\", \"linecolor\": \"white\", \"ticks\": \"\", \"title\": {\"standoff\": 15}, \"zerolinecolor\": \"white\", \"zerolinewidth\": 2}, \"yaxis\": {\"automargin\": true, \"gridcolor\": \"white\", \"linecolor\": \"white\", \"ticks\": \"\", \"title\": {\"standoff\": 15}, \"zerolinecolor\": \"white\", \"zerolinewidth\": 2}}}, \"title\": {\"text\": \"Distribution of Weather Stations\"}},\n",
       "                        {\"responsive\": true}\n",
       "                    ).then(function(){\n",
       "                            \n",
       "var gd = document.getElementById('8b36caf9-5608-4919-b702-c5935765bf4c');\n",
       "var x = new MutationObserver(function (mutations, observer) {{\n",
       "        var display = window.getComputedStyle(gd).display;\n",
       "        if (!display || display === 'none') {{\n",
       "            console.log([gd, 'removed!']);\n",
       "            Plotly.purge(gd);\n",
       "            observer.disconnect();\n",
       "        }}\n",
       "}});\n",
       "\n",
       "// Listen for the removal of the full notebook cells\n",
       "var notebookContainer = gd.closest('#notebook-container');\n",
       "if (notebookContainer) {{\n",
       "    x.observe(notebookContainer, {childList: true});\n",
       "}}\n",
       "\n",
       "// Listen for the clearing of the current output cell\n",
       "var outputEl = gd.closest('.output');\n",
       "if (outputEl) {{\n",
       "    x.observe(outputEl, {childList: true});\n",
       "}}\n",
       "\n",
       "                        })\n",
       "                };\n",
       "                });\n",
       "            </script>\n",
       "        </div>"
      ]
     },
     "metadata": {},
     "output_type": "display_data"
    }
   ],
   "source": [
    "fig = px.scatter_mapbox(state_df, lat=\"latitude\", lon=\"longitude\", color=\"State\", size=\"datacoverage\",\n",
    "                  color_continuous_scale=px.colors.cyclical.IceFire, size_max=15, zoom=4,\n",
    "                  mapbox_style=\"carto-positron\", title='Distribution of Weather Stations')\n",
    "fig.show()"
   ]
  },
  {
   "cell_type": "markdown",
   "metadata": {},
   "source": [
    "-------\n",
    "## Step 3: Extracting Weather Data\n",
    "Now that we have the individual weather stations, we can now extract data from those weather stations for 20 years."
   ]
  },
  {
   "cell_type": "code",
   "execution_count": 48,
   "metadata": {},
   "outputs": [],
   "source": [
    "years = [i for i in range(2000,2020)]\n",
    "corn_states = ['Illinois', 'Indiana', 'Nebraska','Ohio','Iowa']"
   ]
  },
  {
   "cell_type": "markdown",
   "metadata": {},
   "source": [
    "The following for loop with pull 20 years of data for each of the five states. The loop will individually save the data by state and year (ex. Iowa2001.csv)"
   ]
  },
  {
   "cell_type": "code",
   "execution_count": 60,
   "metadata": {},
   "outputs": [],
   "source": [
    "for state in corn_states:\n",
    "    \n",
    "    # Query to retrieve information on max temperature (TMAX), min temperature (TMIN), and Precipitation (PRCP)\n",
    "    datatype = '&datatypeid=TMAX&datatypeid=TMIN&datatypeid=PRCP'\n",
    "    units = '&units=METRIC' #changes the data to Celsuis and Millimeters \n",
    "    offset = '&offset=1&limit=1000' # Max number of points you can retrieve is 1,000\n",
    "    \n",
    "    # Retrieving individual weather station codes\n",
    "    station_code = list(state_df[state_df['State'] == state]['id'].values)\n",
    "    \n",
    "    station_id = ''\n",
    "    \n",
    "    # joining all the station_ids for a state together in a string for the query\n",
    "    for station in station_code:\n",
    "        station_id += f'&stationid={station}'\n",
    "\n",
    "    for year in years:\n",
    "\n",
    "        counter = 1 # keeping track of the months\n",
    "        \n",
    "        # modifying the month query to obey format YYYY-MM-DD\n",
    "        for month in range(1,13):\n",
    "            if month < 10:\n",
    "                date = f'{year}-0{month}-'\n",
    "            else:\n",
    "                date = f'{year}-{month}-'\n",
    "\n",
    "            last_day = calendar.monthrange(year, month)[1]\n",
    "            \n",
    "            # Pulling data on a monthly basis to not exceed the 1,000 limit\n",
    "            datefield = f'&startdate={date}01&enddate={date}{last_day}'\n",
    "            \n",
    "            # Send token to website and request\n",
    "            url = f'https://www.ncdc.noaa.gov/cdo-web/api/v2/data?datasetid=GHCND{datatype}{units}{station_id}{datefield}{offset}'\n",
    "            headers = { 'token': token}\n",
    "            response = requests.get(url,headers=headers)\n",
    "\n",
    "\n",
    "            response.json()\n",
    "            \n",
    "            # Printing a results report to know where the loop is in the process.\n",
    "            print('Month Results: ',response.json()['metadata'],'Year: ',year,'Month:',counter,'State:',state,end='\\r')\n",
    "\n",
    "            data = response.json()['results']\n",
    "            df = pd.DataFrame.from_dict(data, orient='columns')\n",
    "            \n",
    "            # Appending all the monthly results to a csv file by state and year.\n",
    "            with open(f'../Resources/weather_data/State_Annual_Data/{state}{year}.csv', 'a') as f:\n",
    "                df.to_csv(f, header=False,index=False)\n",
    "                \n",
    "            counter += 1\n",
    "            time.sleep(1)\n"
   ]
  },
  {
   "cell_type": "code",
   "execution_count": 23,
   "metadata": {},
   "outputs": [
    {
     "data": {
      "text/plain": [
       "<Response [200]>"
      ]
     },
     "execution_count": 23,
     "metadata": {},
     "output_type": "execute_result"
    }
   ],
   "source": [
    "# If the program fails, check the response.\n",
    "response"
   ]
  },
  {
   "cell_type": "markdown",
   "metadata": {},
   "source": [
    "-------\n",
    "## Data Cleaning\n",
    "The API has outputted data into csv files, which needs to be cleaned. Stations often had multiple datapoints per day, and some states did not have 10 weather stations. To approach this problem, we've decided to average the daily data for each station to produce one datapoint per state.\n",
    "\n",
    "As well, each state's 20 years of data exists in 20 separate csv files, which must be combined."
   ]
  },
  {
   "cell_type": "code",
   "execution_count": 25,
   "metadata": {},
   "outputs": [],
   "source": [
    "def clean_data(filename):\n",
    "    '''\n",
    "    Function removes duplicates, cleans data, and averages results by state and date.\n",
    "    '''\n",
    "    df = pd.read_csv(filename,names=['date','weather_type','id','drop','values'],parse_dates=True,infer_datetime_format=True)\n",
    "    \n",
    "    df = df.drop_duplicates()\n",
    "    \n",
    "    df = pd.DataFrame(df.groupby(['date','weather_type']).mean()['values'])\n",
    "    df = df.reset_index()\n",
    "\n",
    "    df = df.pivot_table(index=['date'], \n",
    "                     columns='weather_type', \n",
    "                     values='values')\n",
    "    \n",
    "    df = df.reset_index()\n",
    "    df[\"date\"] = pd.to_datetime(df[\"date\"])\n",
    "    df['date'] = df[\"date\"].dt.strftime(\"%Y-%m-%d\")\n",
    "    \n",
    "    return df"
   ]
  },
  {
   "cell_type": "code",
   "execution_count": null,
   "metadata": {},
   "outputs": [],
   "source": [
    "years = [i for i in range(2000,2020)]\n",
    "corn_states = ['Illinois', 'Indiana', 'Nebraska','Ohio','Iowa']"
   ]
  },
  {
   "cell_type": "code",
   "execution_count": 381,
   "metadata": {},
   "outputs": [],
   "source": [
    "# Combines all the years for one state into one csv file\n",
    "\n",
    "# Initialize empty dataframe\n",
    "all_years = pd.DataFrame(columns=['weather_type','date','PRCP','TMAX','TMIN'])\n",
    "\n",
    "for state in corn_states:\n",
    "    for year in years:\n",
    "        \n",
    "        # clean data for individual state/year file.\n",
    "        df = clean_data(f'../Resources/weather_data/State_Annual_Data/{state}{year}.csv')\n",
    "        \n",
    "        # append clean data to dataframe\n",
    "        all_years = pd.concat([all_years,df], axis=0,ignore_index=True)\n",
    "    \n",
    "    # write the combined 20 years of data for the state to one csv\n",
    "    all_years.to_csv(f'../Resources/weather_data/State_20yr_Data/{state}_20yrs.csv')\n",
    "    \n",
    "    # creates a clean df before cleaning the next state\n",
    "    all_years = pd.DataFrame(columns=['weather_type','date','PRCP','TMAX','TMIN'])\n"
   ]
  },
  {
   "cell_type": "code",
   "execution_count": 382,
   "metadata": {},
   "outputs": [],
   "source": [
    "# Cleans columns in combined files\n",
    "for state in corn_states:\n",
    "    df = pd.read_csv(f'../Resources/weather_data/State_20yr_Data/{state}_20yrs.csv')\n",
    "    df = df.drop(columns=['Unnamed: 0', 'weather_type'])\n",
    "    df.to_csv(f'../Resources/weather_data/State_20yr_Data/{state}_20yrs.csv')"
   ]
  },
  {
   "cell_type": "markdown",
   "metadata": {},
   "source": [
    "----------\n",
    "## Transforming Data for Analysis\n",
    "### 1. Combining State Weather Data into One File\n",
    "The data is now clean in 20 year datasets in separate csv files. We will next combine the data into one dataframe/file."
   ]
  },
  {
   "cell_type": "code",
   "execution_count": 1,
   "metadata": {},
   "outputs": [],
   "source": [
    "corn_states = ['Illinois', 'Indiana', 'Iowa', 'Nebraska','Ohio']"
   ]
  },
  {
   "cell_type": "code",
   "execution_count": 32,
   "metadata": {},
   "outputs": [],
   "source": [
    "# Initialize empty dataframe\n",
    "all_years = pd.DataFrame(columns=['date','PRCP','TMAX','TMIN'])\n",
    "all_years = all_years.set_index('date')\n",
    "\n",
    "for state in corn_states:\n",
    "    df = pd.read_csv(f'../Resources/weather_data/State_20yr_Data/{state}_20yrs.csv',\n",
    "                     index_col='date',\n",
    "                     infer_datetime_format=True,\n",
    "                     parse_dates=True)\n",
    "    \n",
    "    df = df.drop(columns=['Unnamed: 0'])\n",
    "    \n",
    "    # Naming the columns according to weather type and state\n",
    "    df = df.rename(columns={'PRCP':f'PRCP_{state}','TMAX':f'TMAX_{state}','TMIN':f'TMIN_{state}'})\n",
    "    \n",
    "    all_years = pd.concat([all_years,df], axis=1, join='outer')\n",
    "\n",
    "\n",
    "all_years = all_years.drop(columns=['PRCP','TMAX','TMIN'])"
   ]
  },
  {
   "cell_type": "code",
   "execution_count": 33,
   "metadata": {},
   "outputs": [
    {
     "data": {
      "text/html": [
       "<div>\n",
       "<style scoped>\n",
       "    .dataframe tbody tr th:only-of-type {\n",
       "        vertical-align: middle;\n",
       "    }\n",
       "\n",
       "    .dataframe tbody tr th {\n",
       "        vertical-align: top;\n",
       "    }\n",
       "\n",
       "    .dataframe thead th {\n",
       "        text-align: right;\n",
       "    }\n",
       "</style>\n",
       "<table border=\"1\" class=\"dataframe\">\n",
       "  <thead>\n",
       "    <tr style=\"text-align: right;\">\n",
       "      <th></th>\n",
       "      <th>PRCP_Illinois</th>\n",
       "      <th>TMAX_Illinois</th>\n",
       "      <th>TMIN_Illinois</th>\n",
       "      <th>PRCP_Indiana</th>\n",
       "      <th>TMAX_Indiana</th>\n",
       "      <th>TMIN_Indiana</th>\n",
       "      <th>PRCP_Nebraska</th>\n",
       "      <th>TMAX_Nebraska</th>\n",
       "      <th>TMIN_Nebraska</th>\n",
       "      <th>PRCP_Ohio</th>\n",
       "      <th>TMAX_Ohio</th>\n",
       "      <th>TMIN_Ohio</th>\n",
       "      <th>PRCP_Iowa</th>\n",
       "      <th>TMAX_Iowa</th>\n",
       "      <th>TMIN_Iowa</th>\n",
       "    </tr>\n",
       "    <tr>\n",
       "      <th>date</th>\n",
       "      <th></th>\n",
       "      <th></th>\n",
       "      <th></th>\n",
       "      <th></th>\n",
       "      <th></th>\n",
       "      <th></th>\n",
       "      <th></th>\n",
       "      <th></th>\n",
       "      <th></th>\n",
       "      <th></th>\n",
       "      <th></th>\n",
       "      <th></th>\n",
       "      <th></th>\n",
       "      <th></th>\n",
       "      <th></th>\n",
       "    </tr>\n",
       "  </thead>\n",
       "  <tbody>\n",
       "    <tr>\n",
       "      <th>2000-01-01 00:00:00</th>\n",
       "      <td>0.000000</td>\n",
       "      <td>7.78</td>\n",
       "      <td>-2.340000e+00</td>\n",
       "      <td>0.00</td>\n",
       "      <td>10.6375</td>\n",
       "      <td>-3.4125</td>\n",
       "      <td>0.0000</td>\n",
       "      <td>9.757143</td>\n",
       "      <td>-5.785714</td>\n",
       "      <td>0.000000</td>\n",
       "      <td>9.1000</td>\n",
       "      <td>-5.700000</td>\n",
       "      <td>0.000000</td>\n",
       "      <td>6.94</td>\n",
       "      <td>-4.16</td>\n",
       "    </tr>\n",
       "    <tr>\n",
       "      <th>2000-01-02 00:00:00</th>\n",
       "      <td>0.166667</td>\n",
       "      <td>12.44</td>\n",
       "      <td>8.800000e-01</td>\n",
       "      <td>0.31</td>\n",
       "      <td>15.2125</td>\n",
       "      <td>1.3250</td>\n",
       "      <td>0.0375</td>\n",
       "      <td>6.312500</td>\n",
       "      <td>-7.425000</td>\n",
       "      <td>0.000000</td>\n",
       "      <td>13.6125</td>\n",
       "      <td>-0.287500</td>\n",
       "      <td>0.254545</td>\n",
       "      <td>5.50</td>\n",
       "      <td>-0.66</td>\n",
       "    </tr>\n",
       "    <tr>\n",
       "      <th>2000-01-03 00:00:00</th>\n",
       "      <td>0.000000</td>\n",
       "      <td>13.44</td>\n",
       "      <td>8.881784e-17</td>\n",
       "      <td>23.47</td>\n",
       "      <td>15.8375</td>\n",
       "      <td>5.7625</td>\n",
       "      <td>0.2875</td>\n",
       "      <td>0.975000</td>\n",
       "      <td>-10.062500</td>\n",
       "      <td>6.387500</td>\n",
       "      <td>17.0875</td>\n",
       "      <td>6.812500</td>\n",
       "      <td>0.254545</td>\n",
       "      <td>4.43</td>\n",
       "      <td>-1.72</td>\n",
       "    </tr>\n",
       "    <tr>\n",
       "      <th>2000-01-04 00:00:00</th>\n",
       "      <td>5.533333</td>\n",
       "      <td>3.00</td>\n",
       "      <td>-5.000000e+00</td>\n",
       "      <td>19.61</td>\n",
       "      <td>13.0000</td>\n",
       "      <td>-0.5625</td>\n",
       "      <td>0.1250</td>\n",
       "      <td>-2.000000</td>\n",
       "      <td>-19.100000</td>\n",
       "      <td>33.162500</td>\n",
       "      <td>14.2875</td>\n",
       "      <td>4.662500</td>\n",
       "      <td>3.140000</td>\n",
       "      <td>-1.16</td>\n",
       "      <td>-10.92</td>\n",
       "    </tr>\n",
       "    <tr>\n",
       "      <th>2000-01-05 00:00:00</th>\n",
       "      <td>0.000000</td>\n",
       "      <td>-1.10</td>\n",
       "      <td>-1.256000e+01</td>\n",
       "      <td>0.34</td>\n",
       "      <td>0.2875</td>\n",
       "      <td>-5.5000</td>\n",
       "      <td>0.0750</td>\n",
       "      <td>3.837500</td>\n",
       "      <td>-11.187500</td>\n",
       "      <td>1.157143</td>\n",
       "      <td>6.1250</td>\n",
       "      <td>-3.571429</td>\n",
       "      <td>0.000000</td>\n",
       "      <td>-4.38</td>\n",
       "      <td>-14.89</td>\n",
       "    </tr>\n",
       "  </tbody>\n",
       "</table>\n",
       "</div>"
      ],
      "text/plain": [
       "                     PRCP_Illinois  TMAX_Illinois  TMIN_Illinois  \\\n",
       "date                                                               \n",
       "2000-01-01 00:00:00       0.000000           7.78  -2.340000e+00   \n",
       "2000-01-02 00:00:00       0.166667          12.44   8.800000e-01   \n",
       "2000-01-03 00:00:00       0.000000          13.44   8.881784e-17   \n",
       "2000-01-04 00:00:00       5.533333           3.00  -5.000000e+00   \n",
       "2000-01-05 00:00:00       0.000000          -1.10  -1.256000e+01   \n",
       "\n",
       "                     PRCP_Indiana  TMAX_Indiana  TMIN_Indiana  PRCP_Nebraska  \\\n",
       "date                                                                           \n",
       "2000-01-01 00:00:00          0.00       10.6375       -3.4125         0.0000   \n",
       "2000-01-02 00:00:00          0.31       15.2125        1.3250         0.0375   \n",
       "2000-01-03 00:00:00         23.47       15.8375        5.7625         0.2875   \n",
       "2000-01-04 00:00:00         19.61       13.0000       -0.5625         0.1250   \n",
       "2000-01-05 00:00:00          0.34        0.2875       -5.5000         0.0750   \n",
       "\n",
       "                     TMAX_Nebraska  TMIN_Nebraska  PRCP_Ohio  TMAX_Ohio  \\\n",
       "date                                                                      \n",
       "2000-01-01 00:00:00       9.757143      -5.785714   0.000000     9.1000   \n",
       "2000-01-02 00:00:00       6.312500      -7.425000   0.000000    13.6125   \n",
       "2000-01-03 00:00:00       0.975000     -10.062500   6.387500    17.0875   \n",
       "2000-01-04 00:00:00      -2.000000     -19.100000  33.162500    14.2875   \n",
       "2000-01-05 00:00:00       3.837500     -11.187500   1.157143     6.1250   \n",
       "\n",
       "                     TMIN_Ohio  PRCP_Iowa  TMAX_Iowa  TMIN_Iowa  \n",
       "date                                                             \n",
       "2000-01-01 00:00:00  -5.700000   0.000000       6.94      -4.16  \n",
       "2000-01-02 00:00:00  -0.287500   0.254545       5.50      -0.66  \n",
       "2000-01-03 00:00:00   6.812500   0.254545       4.43      -1.72  \n",
       "2000-01-04 00:00:00   4.662500   3.140000      -1.16     -10.92  \n",
       "2000-01-05 00:00:00  -3.571429   0.000000      -4.38     -14.89  "
      ]
     },
     "execution_count": 33,
     "metadata": {},
     "output_type": "execute_result"
    }
   ],
   "source": [
    "all_years.head()"
   ]
  },
  {
   "cell_type": "code",
   "execution_count": 34,
   "metadata": {},
   "outputs": [],
   "source": [
    "# Outputting the combined data to a csv file to be used in analysis.\n",
    "all_years.to_csv('../Resources/corn_belt_weather.csv')"
   ]
  },
  {
   "cell_type": "markdown",
   "metadata": {},
   "source": [
    "### 2. Outputting dataset with extreme weather flags\n",
    "Corn can't survive below 0 degrees or above 34 degrees. We will give the data a flag if it goes above or below this threshold"
   ]
  },
  {
   "cell_type": "code",
   "execution_count": 36,
   "metadata": {},
   "outputs": [],
   "source": [
    "all_years_w_ext = all_years.copy()"
   ]
  },
  {
   "cell_type": "code",
   "execution_count": 35,
   "metadata": {},
   "outputs": [],
   "source": [
    "corn_states = ['Illinois', 'Indiana', 'Iowa', 'Nebraska','Ohio']"
   ]
  },
  {
   "cell_type": "code",
   "execution_count": 37,
   "metadata": {},
   "outputs": [],
   "source": [
    "for state in corn_states:\n",
    "    extreme_heat = []\n",
    "    extreme_cold = []\n",
    "    \n",
    "    for i in range(len(all_years_w_ext)):\n",
    "        # If min or max temp goes above 43, flag\n",
    "        if all_years_w_ext.loc[all_years_w_ext.index[i],f'TMAX_{state}'] > 43 or all_years_w_ext.loc[all_years_w_ext.index[i],f'TMIN_{state}'] > 43:\n",
    "            extreme_heat.append(1)\n",
    "        else:\n",
    "            extreme_heat.append(0) \n",
    "\n",
    "        # If min or max temp goes below 0,flag\n",
    "        if all_years_w_ext.loc[all_years_w_ext.index[i],f'TMAX_{state}'] < 0 or all_years_w_ext.loc[all_years_w_ext.index[i],f'TMIN_{state}'] < 0:\n",
    "            extreme_cold.append(1)\n",
    "        else:\n",
    "            extreme_cold.append(0)\n",
    "            \n",
    "    # append new columns to dataset\n",
    "    all_years_w_ext[f'extreme_heat_{state}'] = extreme_heat\n",
    "    all_years_w_ext[f'extreme_cold_{state}'] = extreme_cold  "
   ]
  },
  {
   "cell_type": "code",
   "execution_count": 38,
   "metadata": {},
   "outputs": [
    {
     "data": {
      "text/html": [
       "<div>\n",
       "<style scoped>\n",
       "    .dataframe tbody tr th:only-of-type {\n",
       "        vertical-align: middle;\n",
       "    }\n",
       "\n",
       "    .dataframe tbody tr th {\n",
       "        vertical-align: top;\n",
       "    }\n",
       "\n",
       "    .dataframe thead th {\n",
       "        text-align: right;\n",
       "    }\n",
       "</style>\n",
       "<table border=\"1\" class=\"dataframe\">\n",
       "  <thead>\n",
       "    <tr style=\"text-align: right;\">\n",
       "      <th></th>\n",
       "      <th>PRCP_Illinois</th>\n",
       "      <th>TMAX_Illinois</th>\n",
       "      <th>TMIN_Illinois</th>\n",
       "      <th>PRCP_Indiana</th>\n",
       "      <th>TMAX_Indiana</th>\n",
       "      <th>TMIN_Indiana</th>\n",
       "      <th>PRCP_Nebraska</th>\n",
       "      <th>TMAX_Nebraska</th>\n",
       "      <th>TMIN_Nebraska</th>\n",
       "      <th>PRCP_Ohio</th>\n",
       "      <th>...</th>\n",
       "      <th>extreme_heat_Illinois</th>\n",
       "      <th>extreme_cold_Illinois</th>\n",
       "      <th>extreme_heat_Indiana</th>\n",
       "      <th>extreme_cold_Indiana</th>\n",
       "      <th>extreme_heat_Iowa</th>\n",
       "      <th>extreme_cold_Iowa</th>\n",
       "      <th>extreme_heat_Nebraska</th>\n",
       "      <th>extreme_cold_Nebraska</th>\n",
       "      <th>extreme_heat_Ohio</th>\n",
       "      <th>extreme_cold_Ohio</th>\n",
       "    </tr>\n",
       "    <tr>\n",
       "      <th>date</th>\n",
       "      <th></th>\n",
       "      <th></th>\n",
       "      <th></th>\n",
       "      <th></th>\n",
       "      <th></th>\n",
       "      <th></th>\n",
       "      <th></th>\n",
       "      <th></th>\n",
       "      <th></th>\n",
       "      <th></th>\n",
       "      <th></th>\n",
       "      <th></th>\n",
       "      <th></th>\n",
       "      <th></th>\n",
       "      <th></th>\n",
       "      <th></th>\n",
       "      <th></th>\n",
       "      <th></th>\n",
       "      <th></th>\n",
       "      <th></th>\n",
       "      <th></th>\n",
       "    </tr>\n",
       "  </thead>\n",
       "  <tbody>\n",
       "    <tr>\n",
       "      <th>2000-01-01 00:00:00</th>\n",
       "      <td>0.000000</td>\n",
       "      <td>7.78</td>\n",
       "      <td>-2.340000e+00</td>\n",
       "      <td>0.00</td>\n",
       "      <td>10.6375</td>\n",
       "      <td>-3.4125</td>\n",
       "      <td>0.0000</td>\n",
       "      <td>9.757143</td>\n",
       "      <td>-5.785714</td>\n",
       "      <td>0.000000</td>\n",
       "      <td>...</td>\n",
       "      <td>0</td>\n",
       "      <td>1</td>\n",
       "      <td>0</td>\n",
       "      <td>1</td>\n",
       "      <td>0</td>\n",
       "      <td>1</td>\n",
       "      <td>0</td>\n",
       "      <td>1</td>\n",
       "      <td>0</td>\n",
       "      <td>1</td>\n",
       "    </tr>\n",
       "    <tr>\n",
       "      <th>2000-01-02 00:00:00</th>\n",
       "      <td>0.166667</td>\n",
       "      <td>12.44</td>\n",
       "      <td>8.800000e-01</td>\n",
       "      <td>0.31</td>\n",
       "      <td>15.2125</td>\n",
       "      <td>1.3250</td>\n",
       "      <td>0.0375</td>\n",
       "      <td>6.312500</td>\n",
       "      <td>-7.425000</td>\n",
       "      <td>0.000000</td>\n",
       "      <td>...</td>\n",
       "      <td>0</td>\n",
       "      <td>0</td>\n",
       "      <td>0</td>\n",
       "      <td>0</td>\n",
       "      <td>0</td>\n",
       "      <td>1</td>\n",
       "      <td>0</td>\n",
       "      <td>1</td>\n",
       "      <td>0</td>\n",
       "      <td>1</td>\n",
       "    </tr>\n",
       "    <tr>\n",
       "      <th>2000-01-03 00:00:00</th>\n",
       "      <td>0.000000</td>\n",
       "      <td>13.44</td>\n",
       "      <td>8.881784e-17</td>\n",
       "      <td>23.47</td>\n",
       "      <td>15.8375</td>\n",
       "      <td>5.7625</td>\n",
       "      <td>0.2875</td>\n",
       "      <td>0.975000</td>\n",
       "      <td>-10.062500</td>\n",
       "      <td>6.387500</td>\n",
       "      <td>...</td>\n",
       "      <td>0</td>\n",
       "      <td>0</td>\n",
       "      <td>0</td>\n",
       "      <td>0</td>\n",
       "      <td>0</td>\n",
       "      <td>1</td>\n",
       "      <td>0</td>\n",
       "      <td>1</td>\n",
       "      <td>0</td>\n",
       "      <td>0</td>\n",
       "    </tr>\n",
       "    <tr>\n",
       "      <th>2000-01-04 00:00:00</th>\n",
       "      <td>5.533333</td>\n",
       "      <td>3.00</td>\n",
       "      <td>-5.000000e+00</td>\n",
       "      <td>19.61</td>\n",
       "      <td>13.0000</td>\n",
       "      <td>-0.5625</td>\n",
       "      <td>0.1250</td>\n",
       "      <td>-2.000000</td>\n",
       "      <td>-19.100000</td>\n",
       "      <td>33.162500</td>\n",
       "      <td>...</td>\n",
       "      <td>0</td>\n",
       "      <td>1</td>\n",
       "      <td>0</td>\n",
       "      <td>1</td>\n",
       "      <td>0</td>\n",
       "      <td>1</td>\n",
       "      <td>0</td>\n",
       "      <td>1</td>\n",
       "      <td>0</td>\n",
       "      <td>0</td>\n",
       "    </tr>\n",
       "    <tr>\n",
       "      <th>2000-01-05 00:00:00</th>\n",
       "      <td>0.000000</td>\n",
       "      <td>-1.10</td>\n",
       "      <td>-1.256000e+01</td>\n",
       "      <td>0.34</td>\n",
       "      <td>0.2875</td>\n",
       "      <td>-5.5000</td>\n",
       "      <td>0.0750</td>\n",
       "      <td>3.837500</td>\n",
       "      <td>-11.187500</td>\n",
       "      <td>1.157143</td>\n",
       "      <td>...</td>\n",
       "      <td>0</td>\n",
       "      <td>1</td>\n",
       "      <td>0</td>\n",
       "      <td>1</td>\n",
       "      <td>0</td>\n",
       "      <td>1</td>\n",
       "      <td>0</td>\n",
       "      <td>1</td>\n",
       "      <td>0</td>\n",
       "      <td>1</td>\n",
       "    </tr>\n",
       "  </tbody>\n",
       "</table>\n",
       "<p>5 rows × 25 columns</p>\n",
       "</div>"
      ],
      "text/plain": [
       "                     PRCP_Illinois  TMAX_Illinois  TMIN_Illinois  \\\n",
       "date                                                               \n",
       "2000-01-01 00:00:00       0.000000           7.78  -2.340000e+00   \n",
       "2000-01-02 00:00:00       0.166667          12.44   8.800000e-01   \n",
       "2000-01-03 00:00:00       0.000000          13.44   8.881784e-17   \n",
       "2000-01-04 00:00:00       5.533333           3.00  -5.000000e+00   \n",
       "2000-01-05 00:00:00       0.000000          -1.10  -1.256000e+01   \n",
       "\n",
       "                     PRCP_Indiana  TMAX_Indiana  TMIN_Indiana  PRCP_Nebraska  \\\n",
       "date                                                                           \n",
       "2000-01-01 00:00:00          0.00       10.6375       -3.4125         0.0000   \n",
       "2000-01-02 00:00:00          0.31       15.2125        1.3250         0.0375   \n",
       "2000-01-03 00:00:00         23.47       15.8375        5.7625         0.2875   \n",
       "2000-01-04 00:00:00         19.61       13.0000       -0.5625         0.1250   \n",
       "2000-01-05 00:00:00          0.34        0.2875       -5.5000         0.0750   \n",
       "\n",
       "                     TMAX_Nebraska  TMIN_Nebraska  PRCP_Ohio  ...  \\\n",
       "date                                                          ...   \n",
       "2000-01-01 00:00:00       9.757143      -5.785714   0.000000  ...   \n",
       "2000-01-02 00:00:00       6.312500      -7.425000   0.000000  ...   \n",
       "2000-01-03 00:00:00       0.975000     -10.062500   6.387500  ...   \n",
       "2000-01-04 00:00:00      -2.000000     -19.100000  33.162500  ...   \n",
       "2000-01-05 00:00:00       3.837500     -11.187500   1.157143  ...   \n",
       "\n",
       "                     extreme_heat_Illinois  extreme_cold_Illinois  \\\n",
       "date                                                                \n",
       "2000-01-01 00:00:00                      0                      1   \n",
       "2000-01-02 00:00:00                      0                      0   \n",
       "2000-01-03 00:00:00                      0                      0   \n",
       "2000-01-04 00:00:00                      0                      1   \n",
       "2000-01-05 00:00:00                      0                      1   \n",
       "\n",
       "                     extreme_heat_Indiana  extreme_cold_Indiana  \\\n",
       "date                                                              \n",
       "2000-01-01 00:00:00                     0                     1   \n",
       "2000-01-02 00:00:00                     0                     0   \n",
       "2000-01-03 00:00:00                     0                     0   \n",
       "2000-01-04 00:00:00                     0                     1   \n",
       "2000-01-05 00:00:00                     0                     1   \n",
       "\n",
       "                     extreme_heat_Iowa  extreme_cold_Iowa  \\\n",
       "date                                                        \n",
       "2000-01-01 00:00:00                  0                  1   \n",
       "2000-01-02 00:00:00                  0                  1   \n",
       "2000-01-03 00:00:00                  0                  1   \n",
       "2000-01-04 00:00:00                  0                  1   \n",
       "2000-01-05 00:00:00                  0                  1   \n",
       "\n",
       "                     extreme_heat_Nebraska  extreme_cold_Nebraska  \\\n",
       "date                                                                \n",
       "2000-01-01 00:00:00                      0                      1   \n",
       "2000-01-02 00:00:00                      0                      1   \n",
       "2000-01-03 00:00:00                      0                      1   \n",
       "2000-01-04 00:00:00                      0                      1   \n",
       "2000-01-05 00:00:00                      0                      1   \n",
       "\n",
       "                     extreme_heat_Ohio  extreme_cold_Ohio  \n",
       "date                                                       \n",
       "2000-01-01 00:00:00                  0                  1  \n",
       "2000-01-02 00:00:00                  0                  1  \n",
       "2000-01-03 00:00:00                  0                  0  \n",
       "2000-01-04 00:00:00                  0                  0  \n",
       "2000-01-05 00:00:00                  0                  1  \n",
       "\n",
       "[5 rows x 25 columns]"
      ]
     },
     "execution_count": 38,
     "metadata": {},
     "output_type": "execute_result"
    }
   ],
   "source": [
    "all_years_w_ext.head()"
   ]
  },
  {
   "cell_type": "code",
   "execution_count": null,
   "metadata": {},
   "outputs": [],
   "source": [
    "all_years_w_ext.to_csv('../Resources/corn_belt_w_extremes.csv')"
   ]
  },
  {
   "cell_type": "markdown",
   "metadata": {},
   "source": [
    "### 3. Adding Year, Month, and Season Columns"
   ]
  },
  {
   "cell_type": "code",
   "execution_count": 66,
   "metadata": {},
   "outputs": [],
   "source": [
    "def add_season(df):\n",
    "    Season = []\n",
    "    \n",
    "    df.index = pd.to_datetime(df.index)\n",
    "    \n",
    "    for i in range(len(df)):\n",
    "        if df.index.month[i] in [12,1,2]:\n",
    "            Season.append('Winter')\n",
    "        elif df.index.month[i] in [3,4,5]: # March to May\n",
    "            Season.append('Spring')\n",
    "        elif df.index.month[i] in [6,7,8]: \n",
    "            Season.append('Summer')\n",
    "        else:\n",
    "            Season.append('Fall')\n",
    "            \n",
    "    \n",
    "    df['Season'] = Season\n",
    "    df['Year'] = df.index.year\n",
    "    df['Month'] = df.index.month\n",
    "    \n",
    "    return df"
   ]
  },
  {
   "cell_type": "code",
   "execution_count": 67,
   "metadata": {},
   "outputs": [],
   "source": [
    "season_df = add_season(corn_df)"
   ]
  },
  {
   "cell_type": "code",
   "execution_count": 68,
   "metadata": {},
   "outputs": [
    {
     "data": {
      "text/plain": [
       "Index(['PRCP_Illinois', 'TMAX_Illinois', 'TMIN_Illinois', 'PRCP_Indiana',\n",
       "       'TMAX_Indiana', 'TMIN_Indiana', 'PRCP_Nebraska', 'TMAX_Nebraska',\n",
       "       'TMIN_Nebraska', 'PRCP_Ohio', 'TMAX_Ohio', 'TMIN_Ohio', 'PRCP_Iowa',\n",
       "       'TMAX_Iowa', 'TMIN_Iowa', 'Season', 'Year', 'Month'],\n",
       "      dtype='object')"
      ]
     },
     "execution_count": 68,
     "metadata": {},
     "output_type": "execute_result"
    }
   ],
   "source": [
    "season_df.columns"
   ]
  },
  {
   "cell_type": "markdown",
   "metadata": {},
   "source": [
    "------\n",
    "## Analysis of Weather Data\n",
    "Run the final line of code below to launch the dashboard and explore the data. The dashboard compares temperature extremes and precipitation."
   ]
  },
  {
   "cell_type": "code",
   "execution_count": 137,
   "metadata": {},
   "outputs": [
    {
     "name": "stdout",
     "output_type": "stream",
     "text": [
      "/opt/anaconda3/envs/pyvizenv/lib/python3.7/site-packages/xarray/core/merge.py:10: FutureWarning: The Panel class is removed from pandas. Accessing it from the top-level namespace will also be removed in the next version\n",
      "  PANDAS_TYPES = (pd.Series, pd.DataFrame, pd.Panel)\n",
      "Launching server at http://localhost:61628\n",
      "^C\n"
     ]
    }
   ],
   "source": [
    "!python Weather_Dashboard_Final.py"
   ]
  }
 ],
 "metadata": {
  "kernelspec": {
   "display_name": "Python 3",
   "language": "python",
   "name": "python3"
  },
  "language_info": {
   "codemirror_mode": {
    "name": "ipython",
    "version": 3
   },
   "file_extension": ".py",
   "mimetype": "text/x-python",
   "name": "python",
   "nbconvert_exporter": "python",
   "pygments_lexer": "ipython3",
   "version": "3.7.7"
  }
 },
 "nbformat": 4,
 "nbformat_minor": 4
}
