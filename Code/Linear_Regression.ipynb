{
 "cells": [
  {
   "cell_type": "markdown",
   "metadata": {},
   "source": [
    "# Linear Regression for Corn Price Prediction"
   ]
  },
  {
   "cell_type": "code",
   "execution_count": 5,
   "metadata": {},
   "outputs": [],
   "source": [
    "# Project 3      \n",
    "#importing libraries \n",
    "\n",
    "import pandas as pd\n",
    "import numpy as np\n",
    "from pathlib import Path\n",
    "from sklearn.linear_model import LinearRegression\n",
    "%matplotlib inline"
   ]
  },
  {
   "cell_type": "code",
   "execution_count": 7,
   "metadata": {},
   "outputs": [
    {
     "data": {
      "text/html": [
       "<div>\n",
       "<style scoped>\n",
       "    .dataframe tbody tr th:only-of-type {\n",
       "        vertical-align: middle;\n",
       "    }\n",
       "\n",
       "    .dataframe tbody tr th {\n",
       "        vertical-align: top;\n",
       "    }\n",
       "\n",
       "    .dataframe thead th {\n",
       "        text-align: right;\n",
       "    }\n",
       "</style>\n",
       "<table border=\"1\" class=\"dataframe\">\n",
       "  <thead>\n",
       "    <tr style=\"text-align: right;\">\n",
       "      <th></th>\n",
       "      <th>Corn_Price</th>\n",
       "      <th>USD_Index</th>\n",
       "      <th>Ethanol_future</th>\n",
       "      <th>avg_prcp</th>\n",
       "      <th>avg_max</th>\n",
       "      <th>avg_min</th>\n",
       "    </tr>\n",
       "    <tr>\n",
       "      <th>Date</th>\n",
       "      <th></th>\n",
       "      <th></th>\n",
       "      <th></th>\n",
       "      <th></th>\n",
       "      <th></th>\n",
       "      <th></th>\n",
       "    </tr>\n",
       "  </thead>\n",
       "  <tbody>\n",
       "    <tr>\n",
       "      <th>2005-03-28</th>\n",
       "      <td>2.1275</td>\n",
       "      <td>84.620003</td>\n",
       "      <td>1.230</td>\n",
       "      <td>4.255071</td>\n",
       "      <td>13.934571</td>\n",
       "      <td>1.244611</td>\n",
       "    </tr>\n",
       "    <tr>\n",
       "      <th>2005-04-01</th>\n",
       "      <td>2.1275</td>\n",
       "      <td>84.430000</td>\n",
       "      <td>1.215</td>\n",
       "      <td>1.049500</td>\n",
       "      <td>14.970773</td>\n",
       "      <td>1.630545</td>\n",
       "    </tr>\n",
       "    <tr>\n",
       "      <th>2005-04-04</th>\n",
       "      <td>2.0975</td>\n",
       "      <td>84.779999</td>\n",
       "      <td>1.200</td>\n",
       "      <td>0.045000</td>\n",
       "      <td>20.892500</td>\n",
       "      <td>3.626727</td>\n",
       "    </tr>\n",
       "    <tr>\n",
       "      <th>2005-04-05</th>\n",
       "      <td>2.0550</td>\n",
       "      <td>84.660004</td>\n",
       "      <td>1.205</td>\n",
       "      <td>0.000000</td>\n",
       "      <td>23.738318</td>\n",
       "      <td>6.805500</td>\n",
       "    </tr>\n",
       "    <tr>\n",
       "      <th>2005-04-06</th>\n",
       "      <td>2.0725</td>\n",
       "      <td>84.680000</td>\n",
       "      <td>1.200</td>\n",
       "      <td>0.668500</td>\n",
       "      <td>22.645818</td>\n",
       "      <td>9.060227</td>\n",
       "    </tr>\n",
       "  </tbody>\n",
       "</table>\n",
       "</div>"
      ],
      "text/plain": [
       "            Corn_Price  USD_Index  Ethanol_future  avg_prcp    avg_max  \\\n",
       "Date                                                                     \n",
       "2005-03-28      2.1275  84.620003           1.230  4.255071  13.934571   \n",
       "2005-04-01      2.1275  84.430000           1.215  1.049500  14.970773   \n",
       "2005-04-04      2.0975  84.779999           1.200  0.045000  20.892500   \n",
       "2005-04-05      2.0550  84.660004           1.205  0.000000  23.738318   \n",
       "2005-04-06      2.0725  84.680000           1.200  0.668500  22.645818   \n",
       "\n",
       "             avg_min  \n",
       "Date                  \n",
       "2005-03-28  1.244611  \n",
       "2005-04-01  1.630545  \n",
       "2005-04-04  3.626727  \n",
       "2005-04-05  6.805500  \n",
       "2005-04-06  9.060227  "
      ]
     },
     "execution_count": 7,
     "metadata": {},
     "output_type": "execute_result"
    }
   ],
   "source": [
    "# Read in corn actual price and sort by date\n",
    "corn_act_prices_df = pd.read_csv(Path(\"../Resources/combined_portfolios_df.csv\"), index_col=\"Date\", infer_datetime_format=True, parse_dates=True).sort_index()\n",
    "# Drop some colmns\n",
    "corn_act_prices_df =corn_act_prices_df.drop(['Corn_future', 'Natural_Gas_future'], axis=1)\n",
    "corn_act_prices_df.head()"
   ]
  }
 ],
 "metadata": {
  "kernelspec": {
   "display_name": "Python 3.7.6 64-bit ('base': conda)",
   "language": "python",
   "name": "python37664bitbaseconda25421fca980e4e2d863b8c020a87bca2"
  },
  "language_info": {
   "codemirror_mode": {
    "name": "ipython",
    "version": 3
   },
   "file_extension": ".py",
   "mimetype": "text/x-python",
   "name": "python",
   "nbconvert_exporter": "python",
   "pygments_lexer": "ipython3",
   "version": "3.7.6"
  }
 },
 "nbformat": 4,
 "nbformat_minor": 4
}
